{
 "cells": [
  {
   "cell_type": "markdown",
   "source": [
    "# Nested cross validation"
   ],
   "metadata": {}
  },
  {
   "cell_type": "markdown",
   "source": [
    "## Setting up"
   ],
   "metadata": {}
  },
  {
   "cell_type": "code",
   "execution_count": 1,
   "source": [
    "import pandas as pd\r\n",
    "import numpy as np\r\n",
    "from sklearn.datasets import load_breast_cancer\r\n",
    "from sklearn.model_selection import train_test_split\r\n",
    "from sklearn.preprocessing import StandardScaler\r\n",
    "from sklearn.pipeline import Pipeline\r\n",
    "from sklearn.svm import SVC\r\n",
    "\r\n",
    "# Load data\r\n",
    "dataObj = load_breast_cancer()\r\n",
    "X = dataObj.data\r\n",
    "y = dataObj.target\r\n",
    "\r\n",
    "# Splitting data\r\n",
    "X_train, X_test, y_train, y_test = train_test_split(X, y, \r\n",
    "    stratify=y,\r\n",
    "    test_size=0.20,\r\n",
    "    random_state=1)\r\n",
    "\r\n",
    "# Model\r\n",
    "pipe_svc = Pipeline([('scl', StandardScaler()),\r\n",
    "            ('clf', SVC(random_state=1))])"
   ],
   "outputs": [],
   "metadata": {}
  },
  {
   "cell_type": "code",
   "execution_count": 2,
   "source": [
    "param_range = [0.0001, 0.001, 0.01, 0.1, 1.0, 10.0, 100.0, 1000.0]\r\n",
    "\r\n",
    "set1 = {'clf__C': param_range,\r\n",
    "        'clf__kernel': ['linear']}\r\n",
    "\r\n",
    "set2 = {'clf__C': param_range,\r\n",
    "        'clf__gamma': param_range,\r\n",
    "        'clf__kernel': ['rbf']}\r\n",
    "\r\n",
    "param_grid = [set1, set2]"
   ],
   "outputs": [],
   "metadata": {}
  },
  {
   "cell_type": "markdown",
   "source": [
    "## 5x2 nested stratified k-fold cross-validation"
   ],
   "metadata": {}
  },
  {
   "cell_type": "code",
   "execution_count": 3,
   "source": [
    "from sklearn.model_selection import GridSearchCV\r\n",
    "\r\n",
    "# Construct grid search estimator\r\n",
    "gs = GridSearchCV(estimator=pipe_svc,\r\n",
    "                  param_grid=param_grid,\r\n",
    "                  scoring='accuracy',\r\n",
    "                  cv=2)"
   ],
   "outputs": [],
   "metadata": {}
  },
  {
   "cell_type": "code",
   "execution_count": 4,
   "source": [
    "from sklearn.model_selection import cross_val_score\r\n",
    "\r\n",
    "# Putting grid search into straintify k-fold cross validator\r\n",
    "scores = cross_val_score(gs, X_train, y_train, scoring='accuracy', cv=5)\r\n",
    "\r\n",
    "print(\"\\nCrossed-validation accuracy\")  \r\n",
    "print(f\"Mean:{np.mean(scores):6.3f}\")\r\n",
    "print(f\"Std:{np.std(scores):6.3f}\")"
   ],
   "outputs": [
    {
     "output_type": "stream",
     "name": "stdout",
     "text": [
      "\n",
      "Crossed-validation accuracy\n",
      "Mean: 0.971\n",
      "Std: 0.011\n"
     ]
    }
   ],
   "metadata": {}
  },
  {
   "cell_type": "code",
   "execution_count": 5,
   "source": [
    "scores"
   ],
   "outputs": [
    {
     "output_type": "execute_result",
     "data": {
      "text/plain": [
       "array([0.95604396, 0.96703297, 0.98901099, 0.96703297, 0.97802198])"
      ]
     },
     "metadata": {},
     "execution_count": 5
    }
   ],
   "metadata": {}
  },
  {
   "cell_type": "code",
   "execution_count": 6,
   "source": [
    "gs"
   ],
   "outputs": [
    {
     "output_type": "execute_result",
     "data": {
      "text/plain": [
       "GridSearchCV(cv=2,\n",
       "             estimator=Pipeline(steps=[('scl', StandardScaler()),\n",
       "                                       ('clf', SVC(random_state=1))]),\n",
       "             param_grid=[{'clf__C': [0.0001, 0.001, 0.01, 0.1, 1.0, 10.0, 100.0,\n",
       "                                     1000.0],\n",
       "                          'clf__kernel': ['linear']},\n",
       "                         {'clf__C': [0.0001, 0.001, 0.01, 0.1, 1.0, 10.0, 100.0,\n",
       "                                     1000.0],\n",
       "                          'clf__gamma': [0.0001, 0.001, 0.01, 0.1, 1.0, 10.0,\n",
       "                                         100.0, 1000.0],\n",
       "                          'clf__kernel': ['rbf']}],\n",
       "             scoring='accuracy')"
      ]
     },
     "metadata": {},
     "execution_count": 6
    }
   ],
   "metadata": {}
  },
  {
   "cell_type": "code",
   "execution_count": 7,
   "source": [
    "gs.best_score_"
   ],
   "outputs": [
    {
     "output_type": "error",
     "ename": "AttributeError",
     "evalue": "'GridSearchCV' object has no attribute 'best_score_'",
     "traceback": [
      "\u001b[1;31m---------------------------------------------------------------------------\u001b[0m",
      "\u001b[1;31mAttributeError\u001b[0m                            Traceback (most recent call last)",
      "\u001b[1;32m<ipython-input-7-e0bbbc8d643f>\u001b[0m in \u001b[0;36m<module>\u001b[1;34m\u001b[0m\n\u001b[1;32m----> 1\u001b[1;33m \u001b[0mgs\u001b[0m\u001b[1;33m.\u001b[0m\u001b[0mbest_score_\u001b[0m\u001b[1;33m\u001b[0m\u001b[1;33m\u001b[0m\u001b[0m\n\u001b[0m",
      "\u001b[1;31mAttributeError\u001b[0m: 'GridSearchCV' object has no attribute 'best_score_'"
     ]
    }
   ],
   "metadata": {}
  },
  {
   "cell_type": "code",
   "execution_count": null,
   "source": [
    "gs.best_score_"
   ],
   "outputs": [
    {
     "output_type": "error",
     "ename": "AttributeError",
     "evalue": "'GridSearchCV' object has no attribute 'best_score_'",
     "traceback": [
      "\u001b[1;31m---------------------------------------------------------------------------\u001b[0m",
      "\u001b[1;31mAttributeError\u001b[0m                            Traceback (most recent call last)",
      "\u001b[1;32m<ipython-input-15-e0bbbc8d643f>\u001b[0m in \u001b[0;36m<module>\u001b[1;34m\u001b[0m\n\u001b[1;32m----> 1\u001b[1;33m \u001b[0mgs\u001b[0m\u001b[1;33m.\u001b[0m\u001b[0mbest_score_\u001b[0m\u001b[1;33m\u001b[0m\u001b[1;33m\u001b[0m\u001b[0m\n\u001b[0m",
      "\u001b[1;31mAttributeError\u001b[0m: 'GridSearchCV' object has no attribute 'best_score_'"
     ]
    }
   ],
   "metadata": {}
  },
  {
   "cell_type": "code",
   "execution_count": null,
   "source": [],
   "outputs": [],
   "metadata": {}
  }
 ],
 "metadata": {
  "kernelspec": {
   "name": "python3",
   "display_name": "Python 3.8.8 64-bit ('base': conda)"
  },
  "language_info": {
   "codemirror_mode": {
    "name": "ipython",
    "version": 3
   },
   "file_extension": ".py",
   "mimetype": "text/x-python",
   "name": "python",
   "nbconvert_exporter": "python",
   "pygments_lexer": "ipython3",
   "version": "3.8.8"
  },
  "interpreter": {
   "hash": "be725e0de8fb3f5fda9b0118bdf797fa9814e28e467c1cce77c5b9910d8a1786"
  }
 },
 "nbformat": 4,
 "nbformat_minor": 2
}