{
 "cells": [
  {
   "cell_type": "markdown",
   "source": [
    "# Nested cross validation"
   ],
   "metadata": {}
  },
  {
   "cell_type": "markdown",
   "source": [
    "## Setting up"
   ],
   "metadata": {}
  },
  {
   "cell_type": "code",
   "execution_count": 8,
   "source": [
    "import pandas as pd\r\n",
    "import numpy as np\r\n",
    "from sklearn.datasets import load_breast_cancer\r\n",
    "from sklearn.model_selection import train_test_split\r\n",
    "from sklearn.preprocessing import StandardScaler\r\n",
    "from sklearn.pipeline import Pipeline\r\n",
    "from sklearn.svm import SVC\r\n",
    "\r\n",
    "# Load data\r\n",
    "dataObj = load_breast_cancer()\r\n",
    "X = dataObj.data\r\n",
    "y = dataObj.target\r\n",
    "\r\n",
    "# Splitting data\r\n",
    "X_train, X_test, y_train, y_test = train_test_split(X, y, \r\n",
    "    stratify=y,\r\n",
    "    test_size=0.30,\r\n",
    "    random_state=1)\r\n",
    "\r\n",
    "# Model\r\n",
    "pipe_svc = Pipeline([('scl', StandardScaler()),\r\n",
    "            ('clf', SVC(random_state=1))])"
   ],
   "outputs": [],
   "metadata": {}
  },
  {
   "cell_type": "code",
   "execution_count": 9,
   "source": [
    "param_range = [0.0001, 0.001, 0.01, 0.1, 1.0, 10.0, 100.0, 1000.0]\r\n",
    "\r\n",
    "set1 = {'clf__C': param_range,\r\n",
    "        'clf__kernel': ['linear']}\r\n",
    "\r\n",
    "set2 = {'clf__C': param_range,\r\n",
    "        'clf__gamma': param_range,\r\n",
    "        'clf__kernel': ['rbf']}\r\n",
    "\r\n",
    "param_grid = [set1, set2]"
   ],
   "outputs": [],
   "metadata": {}
  },
  {
   "cell_type": "markdown",
   "source": [
    "## 10x3 nested stratified k-fold cross-validation"
   ],
   "metadata": {}
  },
  {
   "cell_type": "code",
   "execution_count": 10,
   "source": [
    "from sklearn.model_selection import GridSearchCV\r\n",
    "\r\n",
    "# Construct grid search estimator\r\n",
    "gs = GridSearchCV(estimator=pipe_svc,\r\n",
    "                  param_grid=param_grid,\r\n",
    "                  scoring='accuracy',\r\n",
    "                  cv=3)"
   ],
   "outputs": [],
   "metadata": {}
  },
  {
   "cell_type": "code",
   "execution_count": 11,
   "source": [
    "from sklearn.model_selection import cross_val_score\r\n",
    "\r\n",
    "# Putting grid search into stratify k-fold cross validator\r\n",
    "scores = cross_val_score(gs, X_train, y_train, scoring='accuracy', cv=5)\r\n",
    "\r\n",
    "print(\"\\nCrossed-validation accuracy\")  \r\n",
    "print(f\"Mean:{np.mean(scores):6.3f}\")\r\n",
    "print(f\"Std:{np.std(scores):6.3f}\")"
   ],
   "outputs": [
    {
     "output_type": "stream",
     "name": "stdout",
     "text": [
      "\n",
      "Crossed-validation accuracy\n",
      "Mean: 0.980\n",
      "Std: 0.019\n"
     ]
    }
   ],
   "metadata": {}
  },
  {
   "cell_type": "code",
   "execution_count": 12,
   "source": [
    "gs.fit(X_train, y_train)"
   ],
   "outputs": [
    {
     "output_type": "execute_result",
     "data": {
      "text/plain": [
       "GridSearchCV(cv=3,\n",
       "             estimator=Pipeline(steps=[('scl', StandardScaler()),\n",
       "                                       ('clf', SVC(random_state=1))]),\n",
       "             param_grid=[{'clf__C': [0.0001, 0.001, 0.01, 0.1, 1.0, 10.0, 100.0,\n",
       "                                     1000.0],\n",
       "                          'clf__kernel': ['linear']},\n",
       "                         {'clf__C': [0.0001, 0.001, 0.01, 0.1, 1.0, 10.0, 100.0,\n",
       "                                     1000.0],\n",
       "                          'clf__gamma': [0.0001, 0.001, 0.01, 0.1, 1.0, 10.0,\n",
       "                                         100.0, 1000.0],\n",
       "                          'clf__kernel': ['rbf']}],\n",
       "             scoring='accuracy')"
      ]
     },
     "metadata": {},
     "execution_count": 12
    }
   ],
   "metadata": {}
  },
  {
   "cell_type": "code",
   "execution_count": 13,
   "source": [
    "gs.best_params_"
   ],
   "outputs": [
    {
     "output_type": "execute_result",
     "data": {
      "text/plain": [
       "{'clf__C': 10.0, 'clf__gamma': 0.01, 'clf__kernel': 'rbf'}"
      ]
     },
     "metadata": {},
     "execution_count": 13
    }
   ],
   "metadata": {}
  },
  {
   "cell_type": "code",
   "execution_count": 14,
   "source": [
    "y_pred = gs.predict(X_test)\r\n",
    "testing_accuracy = gs.score(X_test,y_test)\r\n",
    "print(f\"Testing accuracy: {testing_accuracy:6.3f}\")"
   ],
   "outputs": [
    {
     "output_type": "stream",
     "name": "stdout",
     "text": [
      "Testing accuracy:  0.977\n"
     ]
    }
   ],
   "metadata": {}
  },
  {
   "cell_type": "code",
   "execution_count": null,
   "source": [],
   "outputs": [],
   "metadata": {}
  }
 ],
 "metadata": {
  "kernelspec": {
   "name": "python3",
   "display_name": "Python 3.8.8 64-bit ('base': conda)"
  },
  "language_info": {
   "codemirror_mode": {
    "name": "ipython",
    "version": 3
   },
   "file_extension": ".py",
   "mimetype": "text/x-python",
   "name": "python",
   "nbconvert_exporter": "python",
   "pygments_lexer": "ipython3",
   "version": "3.8.8"
  },
  "interpreter": {
   "hash": "be725e0de8fb3f5fda9b0118bdf797fa9814e28e467c1cce77c5b9910d8a1786"
  }
 },
 "nbformat": 4,
 "nbformat_minor": 2
}