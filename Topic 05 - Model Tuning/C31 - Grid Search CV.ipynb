{
 "cells": [
  {
   "cell_type": "markdown",
   "source": [
    "# Grid search CV"
   ],
   "metadata": {}
  },
  {
   "cell_type": "markdown",
   "source": [
    "- Note that if I set `test_size=0.20` as in the text book I will get test accuracy higher than validation accuracy. I also encountered the same behavior when using CNC data.\r\n",
    "- This might ring an alarm (i.e. too few test data as pointed out in https://stats.stackexchange.com/a/59632).\r\n",
    "- However, keep in mind that when using the test data, `gs.fit()` already fit to the entire training set so the amount of data that is used to train the final model is different from the amount of data used to train during grid search. "
   ],
   "metadata": {}
  },
  {
   "cell_type": "markdown",
   "source": [
    "## Setting up"
   ],
   "metadata": {}
  },
  {
   "cell_type": "code",
   "execution_count": 14,
   "source": [
    "import pandas as pd\r\n",
    "import numpy as np\r\n",
    "from sklearn.datasets import load_breast_cancer\r\n",
    "from sklearn.model_selection import train_test_split\r\n",
    "from sklearn.preprocessing import StandardScaler\r\n",
    "from sklearn.pipeline import Pipeline\r\n",
    "\r\n",
    "# Load data\r\n",
    "dataObj = load_breast_cancer()\r\n",
    "X = dataObj.data\r\n",
    "y = dataObj.target\r\n",
    "\r\n",
    "# Splitting data\r\n",
    "X_train, X_test, y_train, y_test = train_test_split(X, y, \r\n",
    "    stratify=y,\r\n",
    "    test_size=0.30,\r\n",
    "    random_state=1)"
   ],
   "outputs": [],
   "metadata": {}
  },
  {
   "cell_type": "code",
   "execution_count": 15,
   "source": [
    "from sklearn.svm import SVC\r\n",
    "\r\n",
    "pipe_svc = Pipeline([('scl', StandardScaler()),\r\n",
    "            ('clf', SVC(random_state=1))])"
   ],
   "outputs": [],
   "metadata": {}
  },
  {
   "cell_type": "code",
   "execution_count": 16,
   "source": [
    "# Get parameter names\r\n",
    "for k, v in pipe_svc.get_params().items():\r\n",
    "    print(f\"{k:35.35s}: {str(v):35.35s}...\")"
   ],
   "outputs": [
    {
     "output_type": "stream",
     "name": "stdout",
     "text": [
      "memory                             : None                               ...\n",
      "steps                              : [('scl', StandardScaler()), ('clf',...\n",
      "verbose                            : False                              ...\n",
      "scl                                : StandardScaler()                   ...\n",
      "clf                                : SVC(random_state=1)                ...\n",
      "scl__copy                          : True                               ...\n",
      "scl__with_mean                     : True                               ...\n",
      "scl__with_std                      : True                               ...\n",
      "clf__C                             : 1.0                                ...\n",
      "clf__break_ties                    : False                              ...\n",
      "clf__cache_size                    : 200                                ...\n",
      "clf__class_weight                  : None                               ...\n",
      "clf__coef0                         : 0.0                                ...\n",
      "clf__decision_function_shape       : ovr                                ...\n",
      "clf__degree                        : 3                                  ...\n",
      "clf__gamma                         : scale                              ...\n",
      "clf__kernel                        : rbf                                ...\n",
      "clf__max_iter                      : -1                                 ...\n",
      "clf__probability                   : False                              ...\n",
      "clf__random_state                  : 1                                  ...\n",
      "clf__shrinking                     : True                               ...\n",
      "clf__tol                           : 0.001                              ...\n",
      "clf__verbose                       : False                              ...\n"
     ]
    }
   ],
   "metadata": {}
  },
  {
   "cell_type": "code",
   "execution_count": 17,
   "source": [
    "param_range = [0.0001, 0.001, 0.01, 0.1, 1.0, 10.0, 100.0, 1000.0]\r\n",
    "\r\n",
    "set1 = {'clf__C': param_range,\r\n",
    "        'clf__kernel': ['linear']}\r\n",
    "\r\n",
    "set2 = {'clf__C': param_range,\r\n",
    "        'clf__gamma': param_range,\r\n",
    "        'clf__kernel': ['rbf']}\r\n",
    "\r\n",
    "param_grid = [set1, set2]"
   ],
   "outputs": [],
   "metadata": {}
  },
  {
   "cell_type": "code",
   "execution_count": 18,
   "source": [
    "from sklearn.model_selection import GridSearchCV\r\n",
    "\r\n",
    "gs = GridSearchCV(estimator=pipe_svc, \r\n",
    "                  param_grid=param_grid, \r\n",
    "                  scoring='accuracy', \r\n",
    "                  cv=5,\r\n",
    "                  n_jobs=-1)"
   ],
   "outputs": [],
   "metadata": {}
  },
  {
   "cell_type": "code",
   "execution_count": 19,
   "source": [
    "gs.fit(X_train,y_train)"
   ],
   "outputs": [
    {
     "output_type": "execute_result",
     "data": {
      "text/plain": [
       "GridSearchCV(cv=5,\n",
       "             estimator=Pipeline(steps=[('scl', StandardScaler()),\n",
       "                                       ('clf', SVC(random_state=1))]),\n",
       "             n_jobs=-1,\n",
       "             param_grid=[{'clf__C': [0.0001, 0.001, 0.01, 0.1, 1.0, 10.0, 100.0,\n",
       "                                     1000.0],\n",
       "                          'clf__kernel': ['linear']},\n",
       "                         {'clf__C': [0.0001, 0.001, 0.01, 0.1, 1.0, 10.0, 100.0,\n",
       "                                     1000.0],\n",
       "                          'clf__gamma': [0.0001, 0.001, 0.01, 0.1, 1.0, 10.0,\n",
       "                                         100.0, 1000.0],\n",
       "                          'clf__kernel': ['rbf']}],\n",
       "             scoring='accuracy')"
      ]
     },
     "metadata": {},
     "execution_count": 19
    }
   ],
   "metadata": {}
  },
  {
   "cell_type": "code",
   "execution_count": 20,
   "source": [
    "# Get parameter names\r\n",
    "for k, v in gs.get_params().items():\r\n",
    "    print(f\"{k:35.35s}: {str(v):35.35}...\")"
   ],
   "outputs": [
    {
     "output_type": "stream",
     "name": "stdout",
     "text": [
      "cv                                 : 5                                  ...\n",
      "error_score                        : nan                                ...\n",
      "estimator__memory                  : None                               ...\n",
      "estimator__steps                   : [('scl', StandardScaler()), ('clf',...\n",
      "estimator__verbose                 : False                              ...\n",
      "estimator__scl                     : StandardScaler()                   ...\n",
      "estimator__clf                     : SVC(random_state=1)                ...\n",
      "estimator__scl__copy               : True                               ...\n",
      "estimator__scl__with_mean          : True                               ...\n",
      "estimator__scl__with_std           : True                               ...\n",
      "estimator__clf__C                  : 1.0                                ...\n",
      "estimator__clf__break_ties         : False                              ...\n",
      "estimator__clf__cache_size         : 200                                ...\n",
      "estimator__clf__class_weight       : None                               ...\n",
      "estimator__clf__coef0              : 0.0                                ...\n",
      "estimator__clf__decision_function_s: ovr                                ...\n",
      "estimator__clf__degree             : 3                                  ...\n",
      "estimator__clf__gamma              : scale                              ...\n",
      "estimator__clf__kernel             : rbf                                ...\n",
      "estimator__clf__max_iter           : -1                                 ...\n",
      "estimator__clf__probability        : False                              ...\n",
      "estimator__clf__random_state       : 1                                  ...\n",
      "estimator__clf__shrinking          : True                               ...\n",
      "estimator__clf__tol                : 0.001                              ...\n",
      "estimator__clf__verbose            : False                              ...\n",
      "estimator                          : Pipeline(steps=[('scl', StandardSca...\n",
      "n_jobs                             : -1                                 ...\n",
      "param_grid                         : [{'clf__C': [0.0001, 0.001, 0.01, 0...\n",
      "pre_dispatch                       : 2*n_jobs                           ...\n",
      "refit                              : True                               ...\n",
      "return_train_score                 : False                              ...\n",
      "scoring                            : accuracy                           ...\n",
      "verbose                            : 0                                  ...\n"
     ]
    }
   ],
   "metadata": {}
  },
  {
   "cell_type": "code",
   "execution_count": 21,
   "source": [
    "df = pd.DataFrame(gs.cv_results_)\r\n",
    "print(df.shape)\r\n",
    "display(df.head())"
   ],
   "outputs": [
    {
     "output_type": "stream",
     "name": "stdout",
     "text": [
      "(72, 16)\n"
     ]
    },
    {
     "output_type": "display_data",
     "data": {
      "text/html": [
       "<div>\n",
       "<style scoped>\n",
       "    .dataframe tbody tr th:only-of-type {\n",
       "        vertical-align: middle;\n",
       "    }\n",
       "\n",
       "    .dataframe tbody tr th {\n",
       "        vertical-align: top;\n",
       "    }\n",
       "\n",
       "    .dataframe thead th {\n",
       "        text-align: right;\n",
       "    }\n",
       "</style>\n",
       "<table border=\"1\" class=\"dataframe\">\n",
       "  <thead>\n",
       "    <tr style=\"text-align: right;\">\n",
       "      <th></th>\n",
       "      <th>mean_fit_time</th>\n",
       "      <th>std_fit_time</th>\n",
       "      <th>mean_score_time</th>\n",
       "      <th>std_score_time</th>\n",
       "      <th>param_clf__C</th>\n",
       "      <th>param_clf__kernel</th>\n",
       "      <th>param_clf__gamma</th>\n",
       "      <th>params</th>\n",
       "      <th>split0_test_score</th>\n",
       "      <th>split1_test_score</th>\n",
       "      <th>split2_test_score</th>\n",
       "      <th>split3_test_score</th>\n",
       "      <th>split4_test_score</th>\n",
       "      <th>mean_test_score</th>\n",
       "      <th>std_test_score</th>\n",
       "      <th>rank_test_score</th>\n",
       "    </tr>\n",
       "  </thead>\n",
       "  <tbody>\n",
       "    <tr>\n",
       "      <th>0</th>\n",
       "      <td>0.005000</td>\n",
       "      <td>1.168008e-07</td>\n",
       "      <td>0.0014</td>\n",
       "      <td>4.900571e-04</td>\n",
       "      <td>0.0001</td>\n",
       "      <td>linear</td>\n",
       "      <td>NaN</td>\n",
       "      <td>{'clf__C': 0.0001, 'clf__kernel': 'linear'}</td>\n",
       "      <td>0.6250</td>\n",
       "      <td>0.6250</td>\n",
       "      <td>0.6375</td>\n",
       "      <td>0.632911</td>\n",
       "      <td>0.632911</td>\n",
       "      <td>0.630665</td>\n",
       "      <td>0.004919</td>\n",
       "      <td>30</td>\n",
       "    </tr>\n",
       "    <tr>\n",
       "      <th>1</th>\n",
       "      <td>0.004399</td>\n",
       "      <td>4.898235e-04</td>\n",
       "      <td>0.0010</td>\n",
       "      <td>3.234067e-07</td>\n",
       "      <td>0.001</td>\n",
       "      <td>linear</td>\n",
       "      <td>NaN</td>\n",
       "      <td>{'clf__C': 0.001, 'clf__kernel': 'linear'}</td>\n",
       "      <td>0.9250</td>\n",
       "      <td>0.9500</td>\n",
       "      <td>0.9125</td>\n",
       "      <td>0.949367</td>\n",
       "      <td>0.911392</td>\n",
       "      <td>0.929652</td>\n",
       "      <td>0.017041</td>\n",
       "      <td>23</td>\n",
       "    </tr>\n",
       "    <tr>\n",
       "      <th>2</th>\n",
       "      <td>0.003200</td>\n",
       "      <td>3.999710e-04</td>\n",
       "      <td>0.0006</td>\n",
       "      <td>4.899793e-04</td>\n",
       "      <td>0.01</td>\n",
       "      <td>linear</td>\n",
       "      <td>NaN</td>\n",
       "      <td>{'clf__C': 0.01, 'clf__kernel': 'linear'}</td>\n",
       "      <td>0.9750</td>\n",
       "      <td>0.9875</td>\n",
       "      <td>0.9375</td>\n",
       "      <td>0.974684</td>\n",
       "      <td>0.962025</td>\n",
       "      <td>0.967342</td>\n",
       "      <td>0.016957</td>\n",
       "      <td>9</td>\n",
       "    </tr>\n",
       "    <tr>\n",
       "      <th>3</th>\n",
       "      <td>0.002401</td>\n",
       "      <td>4.892979e-04</td>\n",
       "      <td>0.0004</td>\n",
       "      <td>4.900961e-04</td>\n",
       "      <td>0.1</td>\n",
       "      <td>linear</td>\n",
       "      <td>NaN</td>\n",
       "      <td>{'clf__C': 0.1, 'clf__kernel': 'linear'}</td>\n",
       "      <td>0.9750</td>\n",
       "      <td>1.0000</td>\n",
       "      <td>0.9625</td>\n",
       "      <td>0.974684</td>\n",
       "      <td>1.000000</td>\n",
       "      <td>0.982437</td>\n",
       "      <td>0.015032</td>\n",
       "      <td>1</td>\n",
       "    </tr>\n",
       "    <tr>\n",
       "      <th>4</th>\n",
       "      <td>0.002199</td>\n",
       "      <td>4.001857e-04</td>\n",
       "      <td>0.0006</td>\n",
       "      <td>4.901350e-04</td>\n",
       "      <td>1.0</td>\n",
       "      <td>linear</td>\n",
       "      <td>NaN</td>\n",
       "      <td>{'clf__C': 1.0, 'clf__kernel': 'linear'}</td>\n",
       "      <td>0.9625</td>\n",
       "      <td>0.9875</td>\n",
       "      <td>0.9500</td>\n",
       "      <td>0.974684</td>\n",
       "      <td>0.987342</td>\n",
       "      <td>0.972405</td>\n",
       "      <td>0.014534</td>\n",
       "      <td>8</td>\n",
       "    </tr>\n",
       "  </tbody>\n",
       "</table>\n",
       "</div>"
      ],
      "text/plain": [
       "   mean_fit_time  std_fit_time  mean_score_time  std_score_time param_clf__C  \\\n",
       "0       0.005000  1.168008e-07           0.0014    4.900571e-04       0.0001   \n",
       "1       0.004399  4.898235e-04           0.0010    3.234067e-07        0.001   \n",
       "2       0.003200  3.999710e-04           0.0006    4.899793e-04         0.01   \n",
       "3       0.002401  4.892979e-04           0.0004    4.900961e-04          0.1   \n",
       "4       0.002199  4.001857e-04           0.0006    4.901350e-04          1.0   \n",
       "\n",
       "  param_clf__kernel param_clf__gamma  \\\n",
       "0            linear              NaN   \n",
       "1            linear              NaN   \n",
       "2            linear              NaN   \n",
       "3            linear              NaN   \n",
       "4            linear              NaN   \n",
       "\n",
       "                                        params  split0_test_score  \\\n",
       "0  {'clf__C': 0.0001, 'clf__kernel': 'linear'}             0.6250   \n",
       "1   {'clf__C': 0.001, 'clf__kernel': 'linear'}             0.9250   \n",
       "2    {'clf__C': 0.01, 'clf__kernel': 'linear'}             0.9750   \n",
       "3     {'clf__C': 0.1, 'clf__kernel': 'linear'}             0.9750   \n",
       "4     {'clf__C': 1.0, 'clf__kernel': 'linear'}             0.9625   \n",
       "\n",
       "   split1_test_score  split2_test_score  split3_test_score  split4_test_score  \\\n",
       "0             0.6250             0.6375           0.632911           0.632911   \n",
       "1             0.9500             0.9125           0.949367           0.911392   \n",
       "2             0.9875             0.9375           0.974684           0.962025   \n",
       "3             1.0000             0.9625           0.974684           1.000000   \n",
       "4             0.9875             0.9500           0.974684           0.987342   \n",
       "\n",
       "   mean_test_score  std_test_score  rank_test_score  \n",
       "0         0.630665        0.004919               30  \n",
       "1         0.929652        0.017041               23  \n",
       "2         0.967342        0.016957                9  \n",
       "3         0.982437        0.015032                1  \n",
       "4         0.972405        0.014534                8  "
      ]
     },
     "metadata": {}
    }
   ],
   "metadata": {}
  },
  {
   "cell_type": "code",
   "execution_count": 22,
   "source": [
    "df = df.sort_values(by=['rank_test_score'])\r\n",
    "display(df.head())"
   ],
   "outputs": [
    {
     "output_type": "display_data",
     "data": {
      "text/html": [
       "<div>\n",
       "<style scoped>\n",
       "    .dataframe tbody tr th:only-of-type {\n",
       "        vertical-align: middle;\n",
       "    }\n",
       "\n",
       "    .dataframe tbody tr th {\n",
       "        vertical-align: top;\n",
       "    }\n",
       "\n",
       "    .dataframe thead th {\n",
       "        text-align: right;\n",
       "    }\n",
       "</style>\n",
       "<table border=\"1\" class=\"dataframe\">\n",
       "  <thead>\n",
       "    <tr style=\"text-align: right;\">\n",
       "      <th></th>\n",
       "      <th>mean_fit_time</th>\n",
       "      <th>std_fit_time</th>\n",
       "      <th>mean_score_time</th>\n",
       "      <th>std_score_time</th>\n",
       "      <th>param_clf__C</th>\n",
       "      <th>param_clf__kernel</th>\n",
       "      <th>param_clf__gamma</th>\n",
       "      <th>params</th>\n",
       "      <th>split0_test_score</th>\n",
       "      <th>split1_test_score</th>\n",
       "      <th>split2_test_score</th>\n",
       "      <th>split3_test_score</th>\n",
       "      <th>split4_test_score</th>\n",
       "      <th>mean_test_score</th>\n",
       "      <th>std_test_score</th>\n",
       "      <th>rank_test_score</th>\n",
       "    </tr>\n",
       "  </thead>\n",
       "  <tbody>\n",
       "    <tr>\n",
       "      <th>3</th>\n",
       "      <td>0.002401</td>\n",
       "      <td>4.892979e-04</td>\n",
       "      <td>0.0004</td>\n",
       "      <td>0.00049</td>\n",
       "      <td>0.1</td>\n",
       "      <td>linear</td>\n",
       "      <td>NaN</td>\n",
       "      <td>{'clf__C': 0.1, 'clf__kernel': 'linear'}</td>\n",
       "      <td>0.9750</td>\n",
       "      <td>1.0</td>\n",
       "      <td>0.9625</td>\n",
       "      <td>0.974684</td>\n",
       "      <td>1.000000</td>\n",
       "      <td>0.982437</td>\n",
       "      <td>0.015032</td>\n",
       "      <td>1</td>\n",
       "    </tr>\n",
       "    <tr>\n",
       "      <th>57</th>\n",
       "      <td>0.003001</td>\n",
       "      <td>2.132481e-07</td>\n",
       "      <td>0.0004</td>\n",
       "      <td>0.00049</td>\n",
       "      <td>100.0</td>\n",
       "      <td>rbf</td>\n",
       "      <td>0.001</td>\n",
       "      <td>{'clf__C': 100.0, 'clf__gamma': 0.001, 'clf__k...</td>\n",
       "      <td>0.9750</td>\n",
       "      <td>1.0</td>\n",
       "      <td>0.9750</td>\n",
       "      <td>0.974684</td>\n",
       "      <td>0.987342</td>\n",
       "      <td>0.982405</td>\n",
       "      <td>0.010032</td>\n",
       "      <td>2</td>\n",
       "    </tr>\n",
       "    <tr>\n",
       "      <th>56</th>\n",
       "      <td>0.003000</td>\n",
       "      <td>5.560829e-07</td>\n",
       "      <td>0.0012</td>\n",
       "      <td>0.00040</td>\n",
       "      <td>100.0</td>\n",
       "      <td>rbf</td>\n",
       "      <td>0.0001</td>\n",
       "      <td>{'clf__C': 100.0, 'clf__gamma': 0.0001, 'clf__...</td>\n",
       "      <td>0.9625</td>\n",
       "      <td>1.0</td>\n",
       "      <td>0.9500</td>\n",
       "      <td>0.974684</td>\n",
       "      <td>1.000000</td>\n",
       "      <td>0.977437</td>\n",
       "      <td>0.020008</td>\n",
       "      <td>3</td>\n",
       "    </tr>\n",
       "    <tr>\n",
       "      <th>50</th>\n",
       "      <td>0.003201</td>\n",
       "      <td>3.998518e-04</td>\n",
       "      <td>0.0008</td>\n",
       "      <td>0.00040</td>\n",
       "      <td>10.0</td>\n",
       "      <td>rbf</td>\n",
       "      <td>0.01</td>\n",
       "      <td>{'clf__C': 10.0, 'clf__gamma': 0.01, 'clf__ker...</td>\n",
       "      <td>0.9500</td>\n",
       "      <td>1.0</td>\n",
       "      <td>0.9750</td>\n",
       "      <td>0.974684</td>\n",
       "      <td>0.987342</td>\n",
       "      <td>0.977405</td>\n",
       "      <td>0.016574</td>\n",
       "      <td>4</td>\n",
       "    </tr>\n",
       "    <tr>\n",
       "      <th>64</th>\n",
       "      <td>0.003001</td>\n",
       "      <td>4.909339e-07</td>\n",
       "      <td>0.0006</td>\n",
       "      <td>0.00049</td>\n",
       "      <td>1000.0</td>\n",
       "      <td>rbf</td>\n",
       "      <td>0.0001</td>\n",
       "      <td>{'clf__C': 1000.0, 'clf__gamma': 0.0001, 'clf_...</td>\n",
       "      <td>0.9500</td>\n",
       "      <td>1.0</td>\n",
       "      <td>0.9750</td>\n",
       "      <td>0.974684</td>\n",
       "      <td>0.987342</td>\n",
       "      <td>0.977405</td>\n",
       "      <td>0.016574</td>\n",
       "      <td>4</td>\n",
       "    </tr>\n",
       "  </tbody>\n",
       "</table>\n",
       "</div>"
      ],
      "text/plain": [
       "    mean_fit_time  std_fit_time  mean_score_time  std_score_time param_clf__C  \\\n",
       "3        0.002401  4.892979e-04           0.0004         0.00049          0.1   \n",
       "57       0.003001  2.132481e-07           0.0004         0.00049        100.0   \n",
       "56       0.003000  5.560829e-07           0.0012         0.00040        100.0   \n",
       "50       0.003201  3.998518e-04           0.0008         0.00040         10.0   \n",
       "64       0.003001  4.909339e-07           0.0006         0.00049       1000.0   \n",
       "\n",
       "   param_clf__kernel param_clf__gamma  \\\n",
       "3             linear              NaN   \n",
       "57               rbf            0.001   \n",
       "56               rbf           0.0001   \n",
       "50               rbf             0.01   \n",
       "64               rbf           0.0001   \n",
       "\n",
       "                                               params  split0_test_score  \\\n",
       "3            {'clf__C': 0.1, 'clf__kernel': 'linear'}             0.9750   \n",
       "57  {'clf__C': 100.0, 'clf__gamma': 0.001, 'clf__k...             0.9750   \n",
       "56  {'clf__C': 100.0, 'clf__gamma': 0.0001, 'clf__...             0.9625   \n",
       "50  {'clf__C': 10.0, 'clf__gamma': 0.01, 'clf__ker...             0.9500   \n",
       "64  {'clf__C': 1000.0, 'clf__gamma': 0.0001, 'clf_...             0.9500   \n",
       "\n",
       "    split1_test_score  split2_test_score  split3_test_score  \\\n",
       "3                 1.0             0.9625           0.974684   \n",
       "57                1.0             0.9750           0.974684   \n",
       "56                1.0             0.9500           0.974684   \n",
       "50                1.0             0.9750           0.974684   \n",
       "64                1.0             0.9750           0.974684   \n",
       "\n",
       "    split4_test_score  mean_test_score  std_test_score  rank_test_score  \n",
       "3            1.000000         0.982437        0.015032                1  \n",
       "57           0.987342         0.982405        0.010032                2  \n",
       "56           1.000000         0.977437        0.020008                3  \n",
       "50           0.987342         0.977405        0.016574                4  \n",
       "64           0.987342         0.977405        0.016574                4  "
      ]
     },
     "metadata": {}
    }
   ],
   "metadata": {}
  },
  {
   "cell_type": "code",
   "execution_count": 23,
   "source": [
    "print(gs.best_score_)\r\n",
    "print(gs.best_params_)"
   ],
   "outputs": [
    {
     "output_type": "stream",
     "name": "stdout",
     "text": [
      "0.9824367088607595\n",
      "{'clf__C': 0.1, 'clf__kernel': 'linear'}\n"
     ]
    }
   ],
   "metadata": {}
  },
  {
   "cell_type": "markdown",
   "source": [
    "- Note that grid search already refit the entire training data with the best parameters. You can check this from this setting.\r\n"
   ],
   "metadata": {}
  },
  {
   "cell_type": "code",
   "execution_count": 24,
   "source": [
    "gs.refit"
   ],
   "outputs": [
    {
     "output_type": "execute_result",
     "data": {
      "text/plain": [
       "True"
      ]
     },
     "metadata": {},
     "execution_count": 24
    }
   ],
   "metadata": {}
  },
  {
   "cell_type": "code",
   "execution_count": 25,
   "source": [
    "y_pred = gs.predict(X_test)\r\n",
    "testing_accuracy = gs.score(X_test,y_test)\r\n",
    "print(f\"Testing accuracy: {testing_accuracy:6.3f}\")"
   ],
   "outputs": [
    {
     "output_type": "stream",
     "name": "stdout",
     "text": [
      "Testing accuracy:  0.971\n"
     ]
    }
   ],
   "metadata": {}
  },
  {
   "cell_type": "code",
   "execution_count": 26,
   "source": [
    "# To do this manually\r\n",
    "clf = gs.best_estimator_\r\n",
    "clf.fit(X_train, y_train)\r\n",
    "testing_accuracy = clf.score(X_test,y_test)\r\n",
    "print(f\"Testing accuracy: {testing_accuracy:6.3f}\")"
   ],
   "outputs": [
    {
     "output_type": "stream",
     "name": "stdout",
     "text": [
      "Testing accuracy:  0.971\n"
     ]
    }
   ],
   "metadata": {}
  }
 ],
 "metadata": {
  "kernelspec": {
   "name": "python3",
   "display_name": "Python 3.8.8 64-bit ('base': conda)"
  },
  "language_info": {
   "codemirror_mode": {
    "name": "ipython",
    "version": 3
   },
   "file_extension": ".py",
   "mimetype": "text/x-python",
   "name": "python",
   "nbconvert_exporter": "python",
   "pygments_lexer": "ipython3",
   "version": "3.8.8"
  },
  "interpreter": {
   "hash": "be725e0de8fb3f5fda9b0118bdf797fa9814e28e467c1cce77c5b9910d8a1786"
  }
 },
 "nbformat": 4,
 "nbformat_minor": 2
}