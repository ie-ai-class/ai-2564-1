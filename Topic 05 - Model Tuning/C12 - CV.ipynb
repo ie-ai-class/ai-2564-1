{
 "cells": [
  {
   "cell_type": "markdown",
   "source": [
    "# K-fold cross-validation\n"
   ],
   "metadata": {}
  },
  {
   "cell_type": "markdown",
   "source": [
    "## Setting up"
   ],
   "metadata": {}
  },
  {
   "cell_type": "code",
   "execution_count": 1,
   "source": [
    "import pandas as pd\r\n",
    "import numpy as np\r\n",
    "from sklearn.model_selection import train_test_split\r\n",
    "from sklearn.preprocessing import StandardScaler\r\n",
    "from sklearn.decomposition import PCA\r\n",
    "from sklearn.linear_model import LogisticRegression\r\n",
    "from sklearn.pipeline import Pipeline\r\n",
    "\r\n",
    "# Breast cancer data\r\n",
    "from sklearn.datasets import load_breast_cancer\r\n",
    "\r\n",
    "# Load data\r\n",
    "dataObj = load_breast_cancer()\r\n",
    "X = dataObj.data\r\n",
    "y = dataObj.target\r\n",
    "\r\n",
    "# Splitting data\r\n",
    "X_train, X_test, y_train, y_test = train_test_split(X, y,\r\n",
    "    test_size=0.30,\r\n",
    "    stratify=y,\r\n",
    "    random_state=1)\r\n",
    "\r\n",
    "# Constructing a pipeline object\r\n",
    "pipe_lr = Pipeline([('scl', StandardScaler()),\r\n",
    "                    ('pca', PCA(n_components=2)),\r\n",
    "                    ('clf', LogisticRegression(random_state=1))])"
   ],
   "outputs": [],
   "metadata": {}
  },
  {
   "cell_type": "markdown",
   "source": [
    "## K-Fold cross-validation"
   ],
   "metadata": {}
  },
  {
   "cell_type": "code",
   "execution_count": 2,
   "source": [
    "from sklearn.model_selection import KFold\r\n",
    "kf = KFold(n_splits=10)\r\n",
    "print(kf)"
   ],
   "outputs": [
    {
     "output_type": "stream",
     "name": "stdout",
     "text": [
      "KFold(n_splits=10, random_state=None, shuffle=False)\n"
     ]
    }
   ],
   "metadata": {}
  },
  {
   "cell_type": "code",
   "execution_count": 3,
   "source": [
    "genSplit = kf.split(X_train,y_train)\r\n",
    "print(genSplit)"
   ],
   "outputs": [
    {
     "output_type": "stream",
     "name": "stdout",
     "text": [
      "<generator object _BaseKFold.split at 0x7fdb0ad02c10>\n"
     ]
    }
   ],
   "metadata": {}
  },
  {
   "cell_type": "code",
   "execution_count": 4,
   "source": [
    "#Note that generator needs to be created since it is exhausted after used.\r\n",
    "genSplit = kf.split(X_train,y_train)\r\n",
    "\r\n",
    "for idxTrain, idxVal in genSplit:\r\n",
    "    print(idxTrain[0:10],\"...\", idxVal[0:10], \"...\") "
   ],
   "outputs": [
    {
     "output_type": "stream",
     "name": "stdout",
     "text": [
      "[40 41 42 43 44 45 46 47 48 49] ... [0 1 2 3 4 5 6 7 8 9] ...\n",
      "[0 1 2 3 4 5 6 7 8 9] ... [40 41 42 43 44 45 46 47 48 49] ...\n",
      "[0 1 2 3 4 5 6 7 8 9] ... [80 81 82 83 84 85 86 87 88 89] ...\n",
      "[0 1 2 3 4 5 6 7 8 9] ... [120 121 122 123 124 125 126 127 128 129] ...\n",
      "[0 1 2 3 4 5 6 7 8 9] ... [160 161 162 163 164 165 166 167 168 169] ...\n",
      "[0 1 2 3 4 5 6 7 8 9] ... [200 201 202 203 204 205 206 207 208 209] ...\n",
      "[0 1 2 3 4 5 6 7 8 9] ... [240 241 242 243 244 245 246 247 248 249] ...\n",
      "[0 1 2 3 4 5 6 7 8 9] ... [280 281 282 283 284 285 286 287 288 289] ...\n",
      "[0 1 2 3 4 5 6 7 8 9] ... [320 321 322 323 324 325 326 327 328 329] ...\n",
      "[0 1 2 3 4 5 6 7 8 9] ... [359 360 361 362 363 364 365 366 367 368] ...\n"
     ]
    }
   ],
   "metadata": {}
  },
  {
   "cell_type": "code",
   "execution_count": 5,
   "source": [
    "genSplit = kf.split(X_train,y_train)\r\n",
    "\r\n",
    "for idxTrain, idxVal in genSplit:\r\n",
    "    print(idxTrain.shape, idxVal.shape, np.bincount(y_train[idxTrain])) "
   ],
   "outputs": [
    {
     "output_type": "stream",
     "name": "stdout",
     "text": [
      "(358,) (40,) [129 229]\n",
      "(358,) (40,) [137 221]\n",
      "(358,) (40,) [133 225]\n",
      "(358,) (40,) [129 229]\n",
      "(358,) (40,) [135 223]\n",
      "(358,) (40,) [133 225]\n",
      "(358,) (40,) [133 225]\n",
      "(358,) (40,) [135 223]\n",
      "(359,) (39,) [135 224]\n",
      "(359,) (39,) [133 226]\n"
     ]
    }
   ],
   "metadata": {}
  },
  {
   "cell_type": "code",
   "execution_count": 6,
   "source": [
    "genSplit = kf.split(X_train,y_train)\r\n",
    "\r\n",
    "trainScores = []\r\n",
    "valScores = []\r\n",
    "for count, (idxTrain, idxVal) in enumerate(genSplit):\r\n",
    "    # Training\r\n",
    "    pipe_lr.fit(X_train[idxTrain], y_train[idxTrain])\r\n",
    "    # Traning score\r\n",
    "    trainScore = pipe_lr.score(X_train[idxTrain], y_train[idxTrain])\r\n",
    "    trainScores.append(trainScore)\r\n",
    "    # Validation score\r\n",
    "    valScore = pipe_lr.score(X_train[idxVal], y_train[idxVal])\r\n",
    "    valScores.append(valScore)\r\n",
    "    # Printing\r\n",
    "    print(f\"Fold:{count+1:2d}, Training accuracy:{trainScore:6.3f}, Validation accuracy:{valScore:6.3f}\")\r\n",
    "\r\n",
    "print(\"\\nTraining accuracy\")  \r\n",
    "print(f\"Mean:{np.mean(trainScores):6.3f}\")\r\n",
    "print(f\"Std:{np.std(trainScores):6.3f}\")\r\n",
    "\r\n",
    "print(\"\\nCrossed-validation accuracy\")  \r\n",
    "print(f\"Mean:{np.mean(valScores):6.3f}\")\r\n",
    "print(f\"Std:{np.std(valScores):6.3f}\")"
   ],
   "outputs": [
    {
     "output_type": "stream",
     "name": "stdout",
     "text": [
      "Fold: 1, Training accuracy: 0.969, Validation accuracy: 0.875\n",
      "Fold: 2, Training accuracy: 0.961, Validation accuracy: 0.975\n",
      "Fold: 3, Training accuracy: 0.958, Validation accuracy: 0.975\n",
      "Fold: 4, Training accuracy: 0.964, Validation accuracy: 0.950\n",
      "Fold: 5, Training accuracy: 0.964, Validation accuracy: 0.925\n",
      "Fold: 6, Training accuracy: 0.958, Validation accuracy: 0.900\n",
      "Fold: 7, Training accuracy: 0.955, Validation accuracy: 0.975\n",
      "Fold: 8, Training accuracy: 0.961, Validation accuracy: 0.975\n",
      "Fold: 9, Training accuracy: 0.955, Validation accuracy: 1.000\n",
      "Fold:10, Training accuracy: 0.958, Validation accuracy: 0.974\n",
      "\n",
      "Training accuracy\n",
      "Mean: 0.960\n",
      "Std: 0.004\n",
      "\n",
      "Crossed-validation accuracy\n",
      "Mean: 0.952\n",
      "Std: 0.038\n"
     ]
    }
   ],
   "metadata": {}
  },
  {
   "cell_type": "markdown",
   "source": [
    "## Stratified K-Folds cross-validation"
   ],
   "metadata": {}
  },
  {
   "cell_type": "code",
   "execution_count": 7,
   "source": [
    "from sklearn.model_selection import StratifiedKFold\r\n",
    "skf = StratifiedKFold(n_splits=10)\r\n",
    "print(skf)"
   ],
   "outputs": [
    {
     "output_type": "stream",
     "name": "stdout",
     "text": [
      "StratifiedKFold(n_splits=10, random_state=None, shuffle=False)\n"
     ]
    }
   ],
   "metadata": {}
  },
  {
   "cell_type": "code",
   "execution_count": 8,
   "source": [
    "genSplit = skf.split(X_train,y_train)\r\n",
    "\r\n",
    "for idxTrain, idxVal in genSplit:\r\n",
    "    print(idxTrain.shape, idxVal.shape, np.bincount(y_train[idxTrain])) "
   ],
   "outputs": [
    {
     "output_type": "stream",
     "name": "stdout",
     "text": [
      "(358,) (40,) [133 225]\n",
      "(358,) (40,) [133 225]\n",
      "(358,) (40,) [133 225]\n",
      "(358,) (40,) [133 225]\n",
      "(358,) (40,) [133 225]\n",
      "(358,) (40,) [133 225]\n",
      "(358,) (40,) [133 225]\n",
      "(358,) (40,) [133 225]\n",
      "(359,) (39,) [134 225]\n",
      "(359,) (39,) [134 225]\n"
     ]
    }
   ],
   "metadata": {}
  },
  {
   "cell_type": "code",
   "execution_count": 9,
   "source": [
    "genSplit = skf.split(X_train,y_train)\r\n",
    "\r\n",
    "trainScores = []\r\n",
    "valScores = []\r\n",
    "for count, (idxTrain, idxVal) in enumerate(genSplit):\r\n",
    "    # Training\r\n",
    "    pipe_lr.fit(X_train[idxTrain], y_train[idxTrain])\r\n",
    "    # Traning score\r\n",
    "    trainScore = pipe_lr.score(X_train[idxTrain], y_train[idxTrain])\r\n",
    "    trainScores.append(trainScore)\r\n",
    "    # Validation score\r\n",
    "    valScore = pipe_lr.score(X_train[idxVal], y_train[idxVal])\r\n",
    "    valScores.append(valScore)\r\n",
    "    # Printing\r\n",
    "    print(f\"Fold:{count+1:2d}, Training accuracy:{trainScore:6.3f}, Validation accuracy:{valScore:6.3f}\")\r\n",
    "\r\n",
    "print(\"\\nTraining accuracy\")  \r\n",
    "print(f\"Mean:{np.mean(trainScores):6.3f}\")\r\n",
    "print(f\"Std:{np.std(trainScores):6.3f}\")\r\n",
    "\r\n",
    "print(\"\\nCrossed-validation accuracy\")  \r\n",
    "print(f\"Mean:{np.mean(valScores):6.3f}\")\r\n",
    "print(f\"Std:{np.std(valScores):6.3f}\")"
   ],
   "outputs": [
    {
     "output_type": "stream",
     "name": "stdout",
     "text": [
      "Fold: 1, Training accuracy: 0.966, Validation accuracy: 0.925\n",
      "Fold: 2, Training accuracy: 0.961, Validation accuracy: 0.950\n",
      "Fold: 3, Training accuracy: 0.958, Validation accuracy: 0.975\n",
      "Fold: 4, Training accuracy: 0.966, Validation accuracy: 0.925\n",
      "Fold: 5, Training accuracy: 0.961, Validation accuracy: 0.950\n",
      "Fold: 6, Training accuracy: 0.964, Validation accuracy: 0.875\n",
      "Fold: 7, Training accuracy: 0.958, Validation accuracy: 0.975\n",
      "Fold: 8, Training accuracy: 0.961, Validation accuracy: 0.975\n",
      "Fold: 9, Training accuracy: 0.955, Validation accuracy: 1.000\n",
      "Fold:10, Training accuracy: 0.958, Validation accuracy: 0.974\n",
      "\n",
      "Training accuracy\n",
      "Mean: 0.961\n",
      "Std: 0.004\n",
      "\n",
      "Crossed-validation accuracy\n",
      "Mean: 0.952\n",
      "Std: 0.034\n"
     ]
    }
   ],
   "metadata": {}
  },
  {
   "cell_type": "markdown",
   "source": [
    "## Stratified k-fold cross-validation (SKL)"
   ],
   "metadata": {}
  },
  {
   "cell_type": "markdown",
   "source": [
    "- `cross_validate` allows for multiple score types."
   ],
   "metadata": {}
  },
  {
   "cell_type": "code",
   "execution_count": 10,
   "source": [
    "from sklearn.model_selection import cross_validate\r\n",
    "\r\n",
    "scores = cross_validate(estimator=pipe_lr,\r\n",
    "                         X=X_train,\r\n",
    "                         y=y_train,\r\n",
    "                         cv=10,\r\n",
    "                         scoring=['accuracy','f1'],\r\n",
    "                         n_jobs=-1)\r\n",
    "\r\n",
    "print(\"\\nCrossed-validation\")  \r\n",
    "for k, v in scores.items():\r\n",
    "    arrayPrint =   ', '.join([f'{el:3.2f}' for el in v])\r\n",
    "    print(f\"{k:15s}:\", arrayPrint)\r\n",
    "\r\n",
    "print(\"\\nCrossed-validation accuracy\")  \r\n",
    "print(f\"Mean:{np.mean(scores['test_accuracy']):6.3f}\")\r\n",
    "print(f\"Std:{np.std(scores['test_accuracy']):6.3f}\")\r\n"
   ],
   "outputs": [
    {
     "output_type": "stream",
     "name": "stdout",
     "text": [
      "\n",
      "Crossed-validation\n",
      "fit_time       : 0.08, 0.10, 0.07, 0.05, 0.12, 0.11, 0.05, 0.05, 0.03, 0.01\n",
      "score_time     : 0.00, 0.00, 0.00, 0.00, 0.00, 0.00, 0.00, 0.00, 0.00, 0.00\n",
      "test_accuracy  : 0.93, 0.95, 0.97, 0.93, 0.95, 0.88, 0.97, 0.97, 1.00, 0.97\n",
      "test_f1        : 0.94, 0.96, 0.98, 0.94, 0.96, 0.89, 0.98, 0.98, 1.00, 0.98\n",
      "\n",
      "Crossed-validation accuracy\n",
      "Mean: 0.952\n",
      "Std: 0.034\n"
     ]
    }
   ],
   "metadata": {}
  },
  {
   "cell_type": "markdown",
   "source": [
    "- `cross_val_score` produces results from one type of score."
   ],
   "metadata": {}
  },
  {
   "cell_type": "code",
   "execution_count": 11,
   "source": [
    "from sklearn.model_selection import cross_val_score\r\n",
    "scores = cross_val_score(estimator=pipe_lr,\r\n",
    "                         X=X_train,\r\n",
    "                         y=y_train,\r\n",
    "                         cv=10,\r\n",
    "                         n_jobs=1)\r\n",
    "\r\n",
    "\r\n",
    "arrayPrint =   ', '.join([f'{el:3.2f}' for el in scores])\r\n",
    "print(f\"Score:\", arrayPrint)\r\n",
    "\r\n",
    "print(\"\\nCrossed-validation accuracy\")  \r\n",
    "print(f\"Mean:{np.mean(scores):6.3f}\")\r\n",
    "print(f\"Std:{np.std(scores):6.3f}\")"
   ],
   "outputs": [
    {
     "output_type": "stream",
     "name": "stdout",
     "text": [
      "Score: 0.93, 0.95, 0.97, 0.93, 0.95, 0.88, 0.97, 0.97, 1.00, 0.97\n",
      "\n",
      "Crossed-validation accuracy\n",
      "Mean: 0.952\n",
      "Std: 0.034\n"
     ]
    }
   ],
   "metadata": {}
  }
 ],
 "metadata": {
  "kernelspec": {
   "name": "python3",
   "display_name": "Python 3.8.8 64-bit ('base': conda)"
  },
  "language_info": {
   "codemirror_mode": {
    "name": "ipython",
    "version": 3
   },
   "file_extension": ".py",
   "mimetype": "text/x-python",
   "name": "python",
   "nbconvert_exporter": "python",
   "pygments_lexer": "ipython3",
   "version": "3.8.8"
  },
  "interpreter": {
   "hash": "44cfd549216d83088fe60783a751b73ec1b18bc6a03494afd4c2d311310c0619"
  }
 },
 "nbformat": 4,
 "nbformat_minor": 2
}