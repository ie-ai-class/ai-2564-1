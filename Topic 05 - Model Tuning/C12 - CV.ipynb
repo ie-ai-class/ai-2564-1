{
 "cells": [
  {
   "cell_type": "markdown",
   "source": [
    "# K-fold cross-validation\n"
   ],
   "metadata": {}
  },
  {
   "cell_type": "markdown",
   "source": [
    "## Setting up"
   ],
   "metadata": {}
  },
  {
   "cell_type": "code",
   "execution_count": 1,
   "source": [
    "import pandas as pd\r\n",
    "import numpy as np\r\n",
    "from sklearn.model_selection import train_test_split\r\n",
    "from sklearn.preprocessing import StandardScaler\r\n",
    "from sklearn.decomposition import PCA\r\n",
    "from sklearn.linear_model import LogisticRegression\r\n",
    "from sklearn.pipeline import Pipeline\r\n",
    "\r\n",
    "# Breast cancer data\r\n",
    "from sklearn.datasets import load_breast_cancer\r\n",
    "\r\n",
    "# Load data\r\n",
    "dataObj = load_breast_cancer()\r\n",
    "X = dataObj.data\r\n",
    "y = dataObj.target\r\n",
    "\r\n",
    "# Splitting data\r\n",
    "X_train, X_test, y_train, y_test = train_test_split(X, y,\r\n",
    "    test_size=0.20,\r\n",
    "    stratify=y,\r\n",
    "    random_state=1)\r\n",
    "\r\n",
    "# Constructing a pipeline object\r\n",
    "pipe_lr = Pipeline([('scl', StandardScaler()),\r\n",
    "                    ('pca', PCA(n_components=2)),\r\n",
    "                    ('clf', LogisticRegression(random_state=1))])"
   ],
   "outputs": [],
   "metadata": {}
  },
  {
   "cell_type": "markdown",
   "source": [
    "## K-Fold cross-validation"
   ],
   "metadata": {}
  },
  {
   "cell_type": "code",
   "execution_count": 17,
   "source": [
    "from sklearn.model_selection import KFold\r\n",
    "kf = KFold(n_splits=10)\r\n",
    "print(kf)"
   ],
   "outputs": [
    {
     "output_type": "stream",
     "name": "stdout",
     "text": [
      "KFold(n_splits=10, random_state=None, shuffle=False)\n"
     ]
    }
   ],
   "metadata": {}
  },
  {
   "cell_type": "code",
   "execution_count": 18,
   "source": [
    "genSplit = kf.split(X_train,y_train)\r\n",
    "print(genSplit)"
   ],
   "outputs": [
    {
     "output_type": "stream",
     "name": "stdout",
     "text": [
      "<generator object _BaseKFold.split at 0x7f3a56902dd0>\n"
     ]
    }
   ],
   "metadata": {}
  },
  {
   "cell_type": "code",
   "execution_count": 19,
   "source": [
    "#Note that generator needs to be created since it is exhausted after used.\r\n",
    "genSplit = kf.split(X_train,y_train)\r\n",
    "\r\n",
    "for idxTrain, idxVal in genSplit:\r\n",
    "    print(idxTrain[0:10],\"...\", idxVal[0:10], \"...\") "
   ],
   "outputs": [
    {
     "output_type": "stream",
     "name": "stdout",
     "text": [
      "[46 47 48 49 50 51 52 53 54 55] ... [0 1 2 3 4 5 6 7 8 9] ...\n",
      "[0 1 2 3 4 5 6 7 8 9] ... [46 47 48 49 50 51 52 53 54 55] ...\n",
      "[0 1 2 3 4 5 6 7 8 9] ... [ 92  93  94  95  96  97  98  99 100 101] ...\n",
      "[0 1 2 3 4 5 6 7 8 9] ... [138 139 140 141 142 143 144 145 146 147] ...\n",
      "[0 1 2 3 4 5 6 7 8 9] ... [184 185 186 187 188 189 190 191 192 193] ...\n",
      "[0 1 2 3 4 5 6 7 8 9] ... [230 231 232 233 234 235 236 237 238 239] ...\n",
      "[0 1 2 3 4 5 6 7 8 9] ... [275 276 277 278 279 280 281 282 283 284] ...\n",
      "[0 1 2 3 4 5 6 7 8 9] ... [320 321 322 323 324 325 326 327 328 329] ...\n",
      "[0 1 2 3 4 5 6 7 8 9] ... [365 366 367 368 369 370 371 372 373 374] ...\n",
      "[0 1 2 3 4 5 6 7 8 9] ... [410 411 412 413 414 415 416 417 418 419] ...\n"
     ]
    }
   ],
   "metadata": {}
  },
  {
   "cell_type": "code",
   "execution_count": 20,
   "source": [
    "genSplit = kf.split(X_train,y_train)\r\n",
    "\r\n",
    "for idxTrain, idxVal in genSplit:\r\n",
    "    print(idxTrain.shape, idxVal.shape, np.bincount(y_train[idxTrain])) "
   ],
   "outputs": [
    {
     "output_type": "stream",
     "name": "stdout",
     "text": [
      "(409,) (46,) [151 258]\n",
      "(409,) (46,) [146 263]\n",
      "(409,) (46,) [153 256]\n",
      "(409,) (46,) [154 255]\n",
      "(409,) (46,) [155 254]\n",
      "(410,) (45,) [154 256]\n",
      "(410,) (45,) [155 255]\n",
      "(410,) (45,) [157 253]\n",
      "(410,) (45,) [153 257]\n",
      "(410,) (45,) [152 258]\n"
     ]
    }
   ],
   "metadata": {}
  },
  {
   "cell_type": "code",
   "execution_count": 21,
   "source": [
    "genSplit = kf.split(X_train,y_train)\r\n",
    "\r\n",
    "trainScores = []\r\n",
    "valScores = []\r\n",
    "for count, (idxTrain, idxVal) in enumerate(genSplit):\r\n",
    "    # Training\r\n",
    "    pipe_lr.fit(X_train[idxTrain], y_train[idxTrain])\r\n",
    "    # Traning score\r\n",
    "    trainScore = pipe_lr.score(X_train[idxTrain], y_train[idxTrain])\r\n",
    "    trainScores.append(trainScore)\r\n",
    "    # Validation score\r\n",
    "    valScore = pipe_lr.score(X_train[idxVal], y_train[idxVal])\r\n",
    "    valScores.append(valScore)\r\n",
    "    # Printing\r\n",
    "    print(f\"Fold:{count+1:2d}, Training accuracy:{trainScore:6.3f}, Validation accuracy:{valScore:6.3f}\")\r\n",
    "\r\n",
    "print(\"\\nTraining accuracy\")  \r\n",
    "print(f\"Mean:{np.mean(trainScores):6.3f}\")\r\n",
    "print(f\"Std:{np.std(trainScores):6.3f}\")\r\n",
    "\r\n",
    "print(\"\\nCrossed-validation accuracy\")  \r\n",
    "print(f\"Mean:{np.mean(valScores):6.3f}\")\r\n",
    "print(f\"Std:{np.std(valScores):6.3f}\")"
   ],
   "outputs": [
    {
     "output_type": "stream",
     "name": "stdout",
     "text": [
      "Fold: 1, Training accuracy: 0.951, Validation accuracy: 0.978\n",
      "Fold: 2, Training accuracy: 0.956, Validation accuracy: 0.935\n",
      "Fold: 3, Training accuracy: 0.954, Validation accuracy: 0.913\n",
      "Fold: 4, Training accuracy: 0.954, Validation accuracy: 0.957\n",
      "Fold: 5, Training accuracy: 0.949, Validation accuracy: 0.935\n",
      "Fold: 6, Training accuracy: 0.951, Validation accuracy: 0.911\n",
      "Fold: 7, Training accuracy: 0.949, Validation accuracy: 0.978\n",
      "Fold: 8, Training accuracy: 0.956, Validation accuracy: 0.956\n",
      "Fold: 9, Training accuracy: 0.954, Validation accuracy: 0.956\n",
      "Fold:10, Training accuracy: 0.951, Validation accuracy: 0.978\n",
      "\n",
      "Training accuracy\n",
      "Mean: 0.952\n",
      "Std: 0.002\n",
      "\n",
      "Crossed-validation accuracy\n",
      "Mean: 0.950\n",
      "Std: 0.024\n"
     ]
    }
   ],
   "metadata": {}
  },
  {
   "cell_type": "markdown",
   "source": [
    "## Stratified K-Folds cross-validation"
   ],
   "metadata": {}
  },
  {
   "cell_type": "code",
   "execution_count": 22,
   "source": [
    "from sklearn.model_selection import StratifiedKFold\r\n",
    "skf = StratifiedKFold(n_splits=10)\r\n",
    "print(skf)"
   ],
   "outputs": [
    {
     "output_type": "stream",
     "name": "stdout",
     "text": [
      "StratifiedKFold(n_splits=10, random_state=None, shuffle=False)\n"
     ]
    }
   ],
   "metadata": {}
  },
  {
   "cell_type": "code",
   "execution_count": 23,
   "source": [
    "genSplit = skf.split(X_train,y_train)\r\n",
    "\r\n",
    "for idxTrain, idxVal in genSplit:\r\n",
    "    print(idxTrain.shape, idxVal.shape, np.bincount(y_train[idxTrain])) "
   ],
   "outputs": [
    {
     "output_type": "stream",
     "name": "stdout",
     "text": [
      "(409,) (46,) [153 256]\n",
      "(409,) (46,) [153 256]\n",
      "(409,) (46,) [153 256]\n",
      "(409,) (46,) [153 256]\n",
      "(409,) (46,) [153 256]\n",
      "(410,) (45,) [153 257]\n",
      "(410,) (45,) [153 257]\n",
      "(410,) (45,) [153 257]\n",
      "(410,) (45,) [153 257]\n",
      "(410,) (45,) [153 257]\n"
     ]
    }
   ],
   "metadata": {}
  },
  {
   "cell_type": "code",
   "execution_count": 24,
   "source": [
    "genSplit = skf.split(X_train,y_train)\r\n",
    "\r\n",
    "trainScores = []\r\n",
    "valScores = []\r\n",
    "for count, (idxTrain, idxVal) in enumerate(genSplit):\r\n",
    "    # Training\r\n",
    "    pipe_lr.fit(X_train[idxTrain], y_train[idxTrain])\r\n",
    "    # Traning score\r\n",
    "    trainScore = pipe_lr.score(X_train[idxTrain], y_train[idxTrain])\r\n",
    "    trainScores.append(trainScore)\r\n",
    "    # Validation score\r\n",
    "    valScore = pipe_lr.score(X_train[idxVal], y_train[idxVal])\r\n",
    "    valScores.append(valScore)\r\n",
    "    # Printing\r\n",
    "    print(f\"Fold:{count+1:2d}, Training accuracy:{trainScore:6.3f}, Validation accuracy:{valScore:6.3f}\")\r\n",
    "\r\n",
    "print(\"\\nTraining accuracy\")  \r\n",
    "print(f\"Mean:{np.mean(trainScores):6.3f}\")\r\n",
    "print(f\"Std:{np.std(trainScores):6.3f}\")\r\n",
    "\r\n",
    "print(\"\\nCrossed-validation accuracy\")  \r\n",
    "print(f\"Mean:{np.mean(valScores):6.3f}\")\r\n",
    "print(f\"Std:{np.std(valScores):6.3f}\")"
   ],
   "outputs": [
    {
     "output_type": "stream",
     "name": "stdout",
     "text": [
      "Fold: 1, Training accuracy: 0.954, Validation accuracy: 0.978\n",
      "Fold: 2, Training accuracy: 0.956, Validation accuracy: 0.935\n",
      "Fold: 3, Training accuracy: 0.954, Validation accuracy: 0.957\n",
      "Fold: 4, Training accuracy: 0.954, Validation accuracy: 0.935\n",
      "Fold: 5, Training accuracy: 0.951, Validation accuracy: 0.913\n",
      "Fold: 6, Training accuracy: 0.946, Validation accuracy: 0.956\n",
      "Fold: 7, Training accuracy: 0.956, Validation accuracy: 0.933\n",
      "Fold: 8, Training accuracy: 0.954, Validation accuracy: 0.956\n",
      "Fold: 9, Training accuracy: 0.959, Validation accuracy: 0.933\n",
      "Fold:10, Training accuracy: 0.951, Validation accuracy: 0.978\n",
      "\n",
      "Training accuracy\n",
      "Mean: 0.953\n",
      "Std: 0.003\n",
      "\n",
      "Crossed-validation accuracy\n",
      "Mean: 0.947\n",
      "Std: 0.020\n"
     ]
    }
   ],
   "metadata": {}
  },
  {
   "cell_type": "markdown",
   "source": [
    "## Stratified k-fold cross-validation (SKL)"
   ],
   "metadata": {}
  },
  {
   "cell_type": "code",
   "execution_count": 56,
   "source": [
    "from sklearn.model_selection import cross_validate\r\n",
    "\r\n",
    "scores = cross_validate(estimator=pipe_lr,\r\n",
    "                         X=X_train,\r\n",
    "                         y=y_train,\r\n",
    "                         cv=10,\r\n",
    "                         scoring=['accuracy','f1'],\r\n",
    "                         n_jobs=-1)\r\n",
    "\r\n",
    "print(\"\\nCrossed-validation\")  \r\n",
    "for k, v in scores.items():\r\n",
    "    arrayPrint =   ', '.join([f'{el:3.2f}' for el in v])\r\n",
    "    print(f\"{k:15s}:\", arrayPrint)\r\n",
    "\r\n",
    "print(\"\\nCrossed-validation accuracy\")  \r\n",
    "print(f\"Mean:{np.mean(scores['test_accuracy']):6.3f}\")\r\n",
    "print(f\"Std:{np.std(scores['test_accuracy']):6.3f}\")\r\n"
   ],
   "outputs": [
    {
     "output_type": "stream",
     "name": "stdout",
     "text": [
      "\n",
      "Crossed-validation\n",
      "fit_time       : 0.01, 0.00, 0.00, 0.01, 0.01, 0.01, 0.00, 0.01, 0.01, 0.01\n",
      "score_time     : 0.00, 0.00, 0.00, 0.00, 0.00, 0.00, 0.00, 0.00, 0.00, 0.00\n",
      "test_accuracy  : 0.98, 0.93, 0.96, 0.93, 0.91, 0.96, 0.93, 0.96, 0.93, 0.98\n",
      "test_f1        : 0.98, 0.95, 0.97, 0.95, 0.93, 0.97, 0.95, 0.96, 0.95, 0.98\n",
      "\n",
      "Crossed-validation accuracy\n",
      "Mean: 0.947\n",
      "Std: 0.020\n"
     ]
    }
   ],
   "metadata": {}
  },
  {
   "cell_type": "code",
   "execution_count": 61,
   "source": [
    "from sklearn.model_selection import cross_val_score\r\n",
    "scores = cross_val_score(estimator=pipe_lr,\r\n",
    "                         X=X_train,\r\n",
    "                         y=y_train,\r\n",
    "                         cv=10,\r\n",
    "                         n_jobs=1)\r\n",
    "\r\n",
    "\r\n",
    "arrayPrint =   ', '.join([f'{el:3.2f}' for el in scores])\r\n",
    "print(f\"Score:\", arrayPrint)\r\n",
    "\r\n",
    "print(\"\\nCrossed-validation accuracy\")  \r\n",
    "print(f\"Mean:{np.mean(scores):6.3f}\")\r\n",
    "print(f\"Std:{np.std(scores):6.3f}\")"
   ],
   "outputs": [
    {
     "output_type": "stream",
     "name": "stdout",
     "text": [
      "Score: 0.98, 0.93, 0.96, 0.93, 0.91, 0.96, 0.93, 0.96, 0.93, 0.98\n",
      "\n",
      "Crossed-validation accuracy\n",
      "Mean: 0.947\n",
      "Std: 0.020\n"
     ]
    }
   ],
   "metadata": {}
  }
 ],
 "metadata": {
  "kernelspec": {
   "name": "python3",
   "display_name": "Python 3.8.8 64-bit ('base': conda)"
  },
  "language_info": {
   "codemirror_mode": {
    "name": "ipython",
    "version": 3
   },
   "file_extension": ".py",
   "mimetype": "text/x-python",
   "name": "python",
   "nbconvert_exporter": "python",
   "pygments_lexer": "ipython3",
   "version": "3.8.8"
  },
  "interpreter": {
   "hash": "be725e0de8fb3f5fda9b0118bdf797fa9814e28e467c1cce77c5b9910d8a1786"
  }
 },
 "nbformat": 4,
 "nbformat_minor": 2
}