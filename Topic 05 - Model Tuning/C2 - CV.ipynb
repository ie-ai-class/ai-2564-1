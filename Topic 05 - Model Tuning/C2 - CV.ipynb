{
 "cells": [
  {
   "cell_type": "markdown",
   "source": [
    "# K-fold cross-validation\n"
   ],
   "metadata": {}
  },
  {
   "cell_type": "markdown",
   "source": [
    "## Setting up"
   ],
   "metadata": {}
  },
  {
   "cell_type": "code",
   "execution_count": 1,
   "source": [
    "import pandas as pd\n",
    "import numpy as np\n",
    "from sklearn.model_selection import train_test_split\n",
    "from sklearn.preprocessing import StandardScaler\n",
    "from sklearn.decomposition import PCA\n",
    "from sklearn.linear_model import LogisticRegression\n",
    "from sklearn.pipeline import Pipeline\n",
    "\n",
    "# Breast cancer data\n",
    "from sklearn.datasets import load_breast_cancer\n",
    "\n",
    "# Load data\n",
    "dataObj = load_breast_cancer()\n",
    "X = dataObj.data\n",
    "y = dataObj.target\n",
    "\n",
    "# Splitting data\n",
    "X_train, X_test, y_train, y_test = train_test_split(X, y,\n",
    "    test_size=0.20,\n",
    "    stratify=y,\n",
    "    random_state=1)\n",
    "\n",
    "# Constructing a pipeline object\n",
    "pipe_lr = Pipeline([('scl', StandardScaler()),\n",
    "                    ('pca', PCA(n_components=2)),\n",
    "                    ('clf', LogisticRegression(random_state=1))])"
   ],
   "outputs": [],
   "metadata": {}
  },
  {
   "cell_type": "markdown",
   "source": [
    "## K-Fold cross-validation"
   ],
   "metadata": {}
  },
  {
   "cell_type": "code",
   "execution_count": 17,
   "source": [
    "from sklearn.model_selection import KFold\n",
    "kf = KFold(n_splits=10)\n",
    "print(kf)"
   ],
   "outputs": [
    {
     "output_type": "stream",
     "name": "stdout",
     "text": [
      "KFold(n_splits=10, random_state=None, shuffle=False)\n"
     ]
    }
   ],
   "metadata": {}
  },
  {
   "cell_type": "code",
   "execution_count": 18,
   "source": [
    "genSplit = kf.split(X_train,y_train)\n",
    "print(genSplit)"
   ],
   "outputs": [
    {
     "output_type": "stream",
     "name": "stdout",
     "text": [
      "<generator object _BaseKFold.split at 0x7f3a56902dd0>\n"
     ]
    }
   ],
   "metadata": {}
  },
  {
   "cell_type": "code",
   "execution_count": 19,
   "source": [
    "#Note that generator needs to be created since it is exhausted after used.\n",
    "genSplit = kf.split(X_train,y_train)\n",
    "\n",
    "for idxTrain, idxVal in genSplit:\n",
    "    print(idxTrain[0:10],\"...\", idxVal[0:10], \"...\") "
   ],
   "outputs": [
    {
     "output_type": "stream",
     "name": "stdout",
     "text": [
      "[46 47 48 49 50 51 52 53 54 55] ... [0 1 2 3 4 5 6 7 8 9] ...\n",
      "[0 1 2 3 4 5 6 7 8 9] ... [46 47 48 49 50 51 52 53 54 55] ...\n",
      "[0 1 2 3 4 5 6 7 8 9] ... [ 92  93  94  95  96  97  98  99 100 101] ...\n",
      "[0 1 2 3 4 5 6 7 8 9] ... [138 139 140 141 142 143 144 145 146 147] ...\n",
      "[0 1 2 3 4 5 6 7 8 9] ... [184 185 186 187 188 189 190 191 192 193] ...\n",
      "[0 1 2 3 4 5 6 7 8 9] ... [230 231 232 233 234 235 236 237 238 239] ...\n",
      "[0 1 2 3 4 5 6 7 8 9] ... [275 276 277 278 279 280 281 282 283 284] ...\n",
      "[0 1 2 3 4 5 6 7 8 9] ... [320 321 322 323 324 325 326 327 328 329] ...\n",
      "[0 1 2 3 4 5 6 7 8 9] ... [365 366 367 368 369 370 371 372 373 374] ...\n",
      "[0 1 2 3 4 5 6 7 8 9] ... [410 411 412 413 414 415 416 417 418 419] ...\n"
     ]
    }
   ],
   "metadata": {}
  },
  {
   "cell_type": "code",
   "execution_count": 20,
   "source": [
    "genSplit = kf.split(X_train,y_train)\n",
    "\n",
    "for idxTrain, idxVal in genSplit:\n",
    "    print(idxTrain.shape, idxVal.shape, np.bincount(y_train[idxTrain])) "
   ],
   "outputs": [
    {
     "output_type": "stream",
     "name": "stdout",
     "text": [
      "(409,) (46,) [151 258]\n",
      "(409,) (46,) [146 263]\n",
      "(409,) (46,) [153 256]\n",
      "(409,) (46,) [154 255]\n",
      "(409,) (46,) [155 254]\n",
      "(410,) (45,) [154 256]\n",
      "(410,) (45,) [155 255]\n",
      "(410,) (45,) [157 253]\n",
      "(410,) (45,) [153 257]\n",
      "(410,) (45,) [152 258]\n"
     ]
    }
   ],
   "metadata": {}
  },
  {
   "cell_type": "code",
   "execution_count": 21,
   "source": [
    "genSplit = kf.split(X_train,y_train)\n",
    "\n",
    "trainScores = []\n",
    "valScores = []\n",
    "for count, (idxTrain, idxVal) in enumerate(genSplit):\n",
    "    # Training\n",
    "    pipe_lr.fit(X_train[idxTrain], y_train[idxTrain])\n",
    "    # Traning score\n",
    "    trainScore = pipe_lr.score(X_train[idxTrain], y_train[idxTrain])\n",
    "    trainScores.append(trainScore)\n",
    "    # Validation score\n",
    "    valScore = pipe_lr.score(X_train[idxVal], y_train[idxVal])\n",
    "    valScores.append(valScore)\n",
    "    # Printing\n",
    "    print(f\"Fold:{count+1:2d}, Training accuracy:{trainScore:6.3f}, Validation accuracy:{valScore:6.3f}\")\n",
    "\n",
    "print(\"\\nTraining accuracy\")  \n",
    "print(f\"Mean:{np.mean(trainScores):6.3f}\")\n",
    "print(f\"Std:{np.std(trainScores):6.3f}\")\n",
    "\n",
    "print(\"\\nCrossed-validation accuracy\")  \n",
    "print(f\"Mean:{np.mean(valScores):6.3f}\")\n",
    "print(f\"Std:{np.std(valScores):6.3f}\")"
   ],
   "outputs": [
    {
     "output_type": "stream",
     "name": "stdout",
     "text": [
      "Fold: 1, Training accuracy: 0.951, Validation accuracy: 0.978\n",
      "Fold: 2, Training accuracy: 0.956, Validation accuracy: 0.935\n",
      "Fold: 3, Training accuracy: 0.954, Validation accuracy: 0.913\n",
      "Fold: 4, Training accuracy: 0.954, Validation accuracy: 0.957\n",
      "Fold: 5, Training accuracy: 0.949, Validation accuracy: 0.935\n",
      "Fold: 6, Training accuracy: 0.951, Validation accuracy: 0.911\n",
      "Fold: 7, Training accuracy: 0.949, Validation accuracy: 0.978\n",
      "Fold: 8, Training accuracy: 0.956, Validation accuracy: 0.956\n",
      "Fold: 9, Training accuracy: 0.954, Validation accuracy: 0.956\n",
      "Fold:10, Training accuracy: 0.951, Validation accuracy: 0.978\n",
      "\n",
      "Training accuracy\n",
      "Mean: 0.952\n",
      "Std: 0.002\n",
      "\n",
      "Crossed-validation accuracy\n",
      "Mean: 0.950\n",
      "Std: 0.024\n"
     ]
    }
   ],
   "metadata": {}
  },
  {
   "cell_type": "markdown",
   "source": [
    "## Stratified K-Folds cross-validation"
   ],
   "metadata": {}
  },
  {
   "cell_type": "code",
   "execution_count": 22,
   "source": [
    "from sklearn.model_selection import StratifiedKFold\n",
    "skf = StratifiedKFold(n_splits=10)\n",
    "print(skf)"
   ],
   "outputs": [
    {
     "output_type": "stream",
     "name": "stdout",
     "text": [
      "StratifiedKFold(n_splits=10, random_state=None, shuffle=False)\n"
     ]
    }
   ],
   "metadata": {}
  },
  {
   "cell_type": "code",
   "execution_count": 23,
   "source": [
    "genSplit = skf.split(X_train,y_train)\n",
    "\n",
    "for idxTrain, idxVal in genSplit:\n",
    "    print(idxTrain.shape, idxVal.shape, np.bincount(y_train[idxTrain])) "
   ],
   "outputs": [
    {
     "output_type": "stream",
     "name": "stdout",
     "text": [
      "(409,) (46,) [153 256]\n",
      "(409,) (46,) [153 256]\n",
      "(409,) (46,) [153 256]\n",
      "(409,) (46,) [153 256]\n",
      "(409,) (46,) [153 256]\n",
      "(410,) (45,) [153 257]\n",
      "(410,) (45,) [153 257]\n",
      "(410,) (45,) [153 257]\n",
      "(410,) (45,) [153 257]\n",
      "(410,) (45,) [153 257]\n"
     ]
    }
   ],
   "metadata": {}
  },
  {
   "cell_type": "code",
   "execution_count": 24,
   "source": [
    "genSplit = skf.split(X_train,y_train)\n",
    "\n",
    "trainScores = []\n",
    "valScores = []\n",
    "for count, (idxTrain, idxVal) in enumerate(genSplit):\n",
    "    # Training\n",
    "    pipe_lr.fit(X_train[idxTrain], y_train[idxTrain])\n",
    "    # Traning score\n",
    "    trainScore = pipe_lr.score(X_train[idxTrain], y_train[idxTrain])\n",
    "    trainScores.append(trainScore)\n",
    "    # Validation score\n",
    "    valScore = pipe_lr.score(X_train[idxVal], y_train[idxVal])\n",
    "    valScores.append(valScore)\n",
    "    # Printing\n",
    "    print(f\"Fold:{count+1:2d}, Training accuracy:{trainScore:6.3f}, Validation accuracy:{valScore:6.3f}\")\n",
    "\n",
    "print(\"\\nTraining accuracy\")  \n",
    "print(f\"Mean:{np.mean(trainScores):6.3f}\")\n",
    "print(f\"Std:{np.std(trainScores):6.3f}\")\n",
    "\n",
    "print(\"\\nCrossed-validation accuracy\")  \n",
    "print(f\"Mean:{np.mean(valScores):6.3f}\")\n",
    "print(f\"Std:{np.std(valScores):6.3f}\")"
   ],
   "outputs": [
    {
     "output_type": "stream",
     "name": "stdout",
     "text": [
      "Fold: 1, Training accuracy: 0.954, Validation accuracy: 0.978\n",
      "Fold: 2, Training accuracy: 0.956, Validation accuracy: 0.935\n",
      "Fold: 3, Training accuracy: 0.954, Validation accuracy: 0.957\n",
      "Fold: 4, Training accuracy: 0.954, Validation accuracy: 0.935\n",
      "Fold: 5, Training accuracy: 0.951, Validation accuracy: 0.913\n",
      "Fold: 6, Training accuracy: 0.946, Validation accuracy: 0.956\n",
      "Fold: 7, Training accuracy: 0.956, Validation accuracy: 0.933\n",
      "Fold: 8, Training accuracy: 0.954, Validation accuracy: 0.956\n",
      "Fold: 9, Training accuracy: 0.959, Validation accuracy: 0.933\n",
      "Fold:10, Training accuracy: 0.951, Validation accuracy: 0.978\n",
      "\n",
      "Training accuracy\n",
      "Mean: 0.953\n",
      "Std: 0.003\n",
      "\n",
      "Crossed-validation accuracy\n",
      "Mean: 0.947\n",
      "Std: 0.020\n"
     ]
    }
   ],
   "metadata": {}
  },
  {
   "cell_type": "markdown",
   "source": [
    "## Stratified k-fold cross-validation (SKL)"
   ],
   "metadata": {}
  },
  {
   "cell_type": "code",
   "execution_count": 56,
   "source": [
    "from sklearn.model_selection import cross_validate\n",
    "\n",
    "scores = cross_validate(estimator=pipe_lr,\n",
    "                         X=X_train,\n",
    "                         y=y_train,\n",
    "                         cv=10,\n",
    "                         scoring=['accuracy','f1'],\n",
    "                         n_jobs=-1)\n",
    "\n",
    "print(\"\\nCrossed-validation\")  \n",
    "for k, v in scores.items():\n",
    "    arrayPrint =   ', '.join([f'{el:3.2f}' for el in v])\n",
    "    print(f\"{k:15s}:\", arrayPrint)\n",
    "\n",
    "print(\"\\nCrossed-validation accuracy\")  \n",
    "print(f\"Mean:{np.mean(scores['test_accuracy']):6.3f}\")\n",
    "print(f\"Std:{np.std(scores['test_accuracy']):6.3f}\")\n"
   ],
   "outputs": [
    {
     "output_type": "stream",
     "name": "stdout",
     "text": [
      "\n",
      "Crossed-validation\n",
      "fit_time       : 0.01, 0.00, 0.00, 0.01, 0.01, 0.01, 0.00, 0.01, 0.01, 0.01\n",
      "score_time     : 0.00, 0.00, 0.00, 0.00, 0.00, 0.00, 0.00, 0.00, 0.00, 0.00\n",
      "test_accuracy  : 0.98, 0.93, 0.96, 0.93, 0.91, 0.96, 0.93, 0.96, 0.93, 0.98\n",
      "test_f1        : 0.98, 0.95, 0.97, 0.95, 0.93, 0.97, 0.95, 0.96, 0.95, 0.98\n",
      "\n",
      "Crossed-validation accuracy\n",
      "Mean: 0.947\n",
      "Std: 0.020\n"
     ]
    }
   ],
   "metadata": {}
  },
  {
   "cell_type": "code",
   "execution_count": 61,
   "source": [
    "from sklearn.model_selection import cross_val_score\n",
    "scores = cross_val_score(estimator=pipe_lr,\n",
    "                         X=X_train,\n",
    "                         y=y_train,\n",
    "                         cv=10,\n",
    "                         n_jobs=1)\n",
    "\n",
    "\n",
    "arrayPrint =   ', '.join([f'{el:3.2f}' for el in scores])\n",
    "print(f\"Score:\", arrayPrint)\n",
    "\n",
    "print(\"\\nCrossed-validation accuracy\")  \n",
    "print(f\"Mean:{np.mean(scores):6.3f}\")\n",
    "print(f\"Std:{np.std(scores):6.3f}\")"
   ],
   "outputs": [
    {
     "output_type": "stream",
     "name": "stdout",
     "text": [
      "Score: 0.98, 0.93, 0.96, 0.93, 0.91, 0.96, 0.93, 0.96, 0.93, 0.98\n",
      "\n",
      "Crossed-validation accuracy\n",
      "Mean: 0.947\n",
      "Std: 0.020\n"
     ]
    }
   ],
   "metadata": {}
  },
  {
   "cell_type": "code",
   "execution_count": 58,
   "source": [
    "scores"
   ],
   "outputs": [
    {
     "output_type": "execute_result",
     "data": {
      "text/plain": [
       "array([0.97826087, 0.93478261, 0.95652174, 0.93478261, 0.91304348,\n",
       "       0.95555556, 0.93333333, 0.95555556, 0.93333333, 0.97777778])"
      ]
     },
     "metadata": {},
     "execution_count": 58
    }
   ],
   "metadata": {}
  },
  {
   "cell_type": "code",
   "execution_count": null,
   "source": [],
   "outputs": [],
   "metadata": {}
  }
 ],
 "metadata": {
  "kernelspec": {
   "name": "python3",
   "display_name": "Python 3.8.8 64-bit ('base': conda)"
  },
  "language_info": {
   "codemirror_mode": {
    "name": "ipython",
    "version": 3
   },
   "file_extension": ".py",
   "mimetype": "text/x-python",
   "name": "python",
   "nbconvert_exporter": "python",
   "pygments_lexer": "ipython3",
   "version": "3.8.8"
  },
  "interpreter": {
   "hash": "44cfd549216d83088fe60783a751b73ec1b18bc6a03494afd4c2d311310c0619"
  }
 },
 "nbformat": 4,
 "nbformat_minor": 2
}