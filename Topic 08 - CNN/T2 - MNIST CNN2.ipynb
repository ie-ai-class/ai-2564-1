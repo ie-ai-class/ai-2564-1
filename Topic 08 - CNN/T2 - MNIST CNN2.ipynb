{
 "cells": [
  {
   "cell_type": "markdown",
   "source": [
    "# CNN Gender"
   ],
   "metadata": {}
  },
  {
   "cell_type": "markdown",
   "source": [
    "## Loading and preprocessing the data"
   ],
   "metadata": {}
  },
  {
   "cell_type": "code",
   "execution_count": 15,
   "source": [
    "import tensorflow as tf\n",
    "import matplotlib.pyplot as plt\n",
    "import numpy as np\n",
    "import itertools"
   ],
   "outputs": [],
   "metadata": {}
  },
  {
   "cell_type": "code",
   "execution_count": 2,
   "source": [
    "print(\"Num GPUs Available: \", len(tf.config.experimental.list_physical_devices('GPU')))"
   ],
   "outputs": [
    {
     "output_type": "stream",
     "name": "stdout",
     "text": [
      "Num GPUs Available:  0\n"
     ]
    },
    {
     "output_type": "stream",
     "name": "stderr",
     "text": [
      "2021-09-14 17:09:20.805294: I tensorflow/compiler/jit/xla_cpu_device.cc:41] Not creating XLA devices, tf_xla_enable_xla_devices not set\n"
     ]
    }
   ],
   "metadata": {}
  },
  {
   "cell_type": "code",
   "execution_count": 3,
   "source": [
    "mnist = tf.keras.datasets.mnist\n",
    "\n",
    "(X_train_, y_train), (X_test_, y_test) = mnist.load_data()\n",
    "X_train_, X_test_ = X_train_.astype(np.float32) / 255.0, X_test_.astype(np.float32)/ 255.0"
   ],
   "outputs": [],
   "metadata": {}
  },
  {
   "cell_type": "code",
   "execution_count": 4,
   "source": [
    "# Add another dimension\n",
    "X_train = X_train_[..., np.newaxis]\n",
    "X_test = X_test_[..., np.newaxis]\n",
    "print(X_train.shape)\n",
    "print(X_test.shape)"
   ],
   "outputs": [
    {
     "output_type": "stream",
     "name": "stdout",
     "text": [
      "(60000, 28, 28, 1)\n",
      "(10000, 28, 28, 1)\n"
     ]
    }
   ],
   "metadata": {}
  },
  {
   "cell_type": "code",
   "execution_count": 5,
   "source": [
    "# Reduce dimension size\n",
    "np.random.seed(0) \n",
    "\n",
    "REDUCE_DIM = 2000\n",
    "idx = np.random.permutation(REDUCE_DIM)\n",
    "\n",
    "X_train = X_train[idx]\n",
    "y_train = y_train[idx]\n",
    "X_test = X_test[idx]\n",
    "y_test = y_test[idx]\n",
    "\n",
    "print(X_train.shape)\n",
    "print(X_test.shape)\n",
    "print(y_train.shape)\n",
    "print(y_test.shape)"
   ],
   "outputs": [
    {
     "output_type": "stream",
     "name": "stdout",
     "text": [
      "(2000, 28, 28, 1)\n",
      "(2000, 28, 28, 1)\n",
      "(2000,)\n",
      "(2000,)\n"
     ]
    }
   ],
   "metadata": {}
  },
  {
   "cell_type": "code",
   "execution_count": 6,
   "source": [
    "tf.keras.backend.clear_session()\n",
    "\n",
    "model = tf.keras.Sequential()\n",
    "\n",
    "model.add(tf.keras.layers.Input(\n",
    "    shape=(28,28,1)))\n",
    "\n",
    "model.add(tf.keras.layers.Conv2D(\n",
    "    filters=32, kernel_size=(3, 3), padding='same', activation='relu'))\n",
    "\n",
    "model.add(tf.keras.layers.MaxPooling2D(\n",
    "    pool_size=(2, 2)))\n",
    "\n",
    "model.add(tf.keras.layers.Dropout(\n",
    "    rate=0.5))\n",
    "\n",
    "model.add(tf.keras.layers.Conv2D(\n",
    "    filters=64, kernel_size=(3, 3), padding='same', activation='relu'))\n",
    "\n",
    "model.add(tf.keras.layers.MaxPooling2D(\n",
    "    pool_size=(2, 2)))\n",
    "\n",
    "model.add(tf.keras.layers.Dropout(\n",
    "    rate=0.5))\n",
    "\n",
    "model.add(tf.keras.layers.Conv2D(\n",
    "    filters=128, kernel_size=(3, 3), padding='same', activation='relu'))\n",
    "\n",
    "model.add(tf.keras.layers.MaxPooling2D(\n",
    "    pool_size=(2, 2)))\n",
    "\n",
    "model.add(tf.keras.layers.Conv2D(\n",
    "    filters=256, kernel_size=(3, 3), padding='same', activation='relu'),\n",
    ")\n"
   ],
   "outputs": [
    {
     "output_type": "stream",
     "name": "stderr",
     "text": [
      "2021-09-14 17:09:21.281878: I tensorflow/core/platform/cpu_feature_guard.cc:142] This TensorFlow binary is optimized with oneAPI Deep Neural Network Library (oneDNN) to use the following CPU instructions in performance-critical operations:  SSE4.1 SSE4.2 AVX AVX2 FMA\n",
      "To enable them in other operations, rebuild TensorFlow with the appropriate compiler flags.\n",
      "2021-09-14 17:09:21.282817: I tensorflow/core/common_runtime/process_util.cc:146] Creating new thread pool with default inter op setting: 2. Tune using inter_op_parallelism_threads for best performance.\n"
     ]
    }
   ],
   "metadata": {}
  },
  {
   "cell_type": "code",
   "execution_count": 7,
   "source": [
    "model.add(tf.keras.layers.GlobalAveragePooling2D())"
   ],
   "outputs": [],
   "metadata": {}
  },
  {
   "cell_type": "code",
   "execution_count": 8,
   "source": [
    "model.add(tf.keras.layers.Dense(\n",
    "    units=1024, name='fc_1', \n",
    "    activation='relu'))\n",
    "\n",
    "model.add(tf.keras.layers.Dropout(\n",
    "    rate=0.5))\n",
    "    \n",
    "model.add(tf.keras.layers.Dense(\n",
    "    units=10, name='fc_2',\n",
    "    activation='softmax'))"
   ],
   "outputs": [],
   "metadata": {}
  },
  {
   "cell_type": "code",
   "execution_count": 9,
   "source": [
    "model.summary()"
   ],
   "outputs": [
    {
     "output_type": "stream",
     "name": "stdout",
     "text": [
      "Model: \"sequential\"\n",
      "_________________________________________________________________\n",
      "Layer (type)                 Output Shape              Param #   \n",
      "=================================================================\n",
      "conv2d (Conv2D)              (None, 28, 28, 32)        320       \n",
      "_________________________________________________________________\n",
      "max_pooling2d (MaxPooling2D) (None, 14, 14, 32)        0         \n",
      "_________________________________________________________________\n",
      "dropout (Dropout)            (None, 14, 14, 32)        0         \n",
      "_________________________________________________________________\n",
      "conv2d_1 (Conv2D)            (None, 14, 14, 64)        18496     \n",
      "_________________________________________________________________\n",
      "max_pooling2d_1 (MaxPooling2 (None, 7, 7, 64)          0         \n",
      "_________________________________________________________________\n",
      "dropout_1 (Dropout)          (None, 7, 7, 64)          0         \n",
      "_________________________________________________________________\n",
      "conv2d_2 (Conv2D)            (None, 7, 7, 128)         73856     \n",
      "_________________________________________________________________\n",
      "max_pooling2d_2 (MaxPooling2 (None, 3, 3, 128)         0         \n",
      "_________________________________________________________________\n",
      "conv2d_3 (Conv2D)            (None, 3, 3, 256)         295168    \n",
      "_________________________________________________________________\n",
      "global_average_pooling2d (Gl (None, 256)               0         \n",
      "_________________________________________________________________\n",
      "fc_1 (Dense)                 (None, 1024)              263168    \n",
      "_________________________________________________________________\n",
      "dropout_2 (Dropout)          (None, 1024)              0         \n",
      "_________________________________________________________________\n",
      "fc_2 (Dense)                 (None, 10)                10250     \n",
      "=================================================================\n",
      "Total params: 661,258\n",
      "Trainable params: 661,258\n",
      "Non-trainable params: 0\n",
      "_________________________________________________________________\n"
     ]
    }
   ],
   "metadata": {}
  },
  {
   "cell_type": "code",
   "execution_count": 10,
   "source": [
    "model.compile(optimizer=tf.keras.optimizers.Adam(),\n",
    "              loss=tf.keras.losses.SparseCategoricalCrossentropy(),\n",
    "              metrics=['accuracy']) # same as `tf.keras.metrics.SparseCategoricalAccuracy(name='accuracy')`\n"
   ],
   "outputs": [],
   "metadata": {}
  },
  {
   "cell_type": "code",
   "execution_count": 11,
   "source": [
    "history = model.fit(X_train, y_train, epochs=20, validation_split=0.1)"
   ],
   "outputs": [
    {
     "output_type": "stream",
     "name": "stderr",
     "text": [
      "2021-09-14 17:09:21.727150: I tensorflow/compiler/mlir/mlir_graph_optimization_pass.cc:116] None of the MLIR optimization passes are enabled (registered 2)\n",
      "2021-09-14 17:09:21.744743: I tensorflow/core/platform/profile_utils/cpu_utils.cc:112] CPU Frequency: 1999965000 Hz\n"
     ]
    },
    {
     "output_type": "stream",
     "name": "stdout",
     "text": [
      "Epoch 1/20\n",
      "57/57 [==============================] - 10s 150ms/step - loss: 2.3108 - accuracy: 0.1015 - val_loss: 2.2846 - val_accuracy: 0.1950\n",
      "Epoch 2/20\n",
      "57/57 [==============================] - 8s 145ms/step - loss: 2.0852 - accuracy: 0.2182 - val_loss: 1.2009 - val_accuracy: 0.5700\n",
      "Epoch 3/20\n",
      "57/57 [==============================] - 9s 151ms/step - loss: 1.0346 - accuracy: 0.6278 - val_loss: 0.4849 - val_accuracy: 0.8400\n",
      "Epoch 4/20\n",
      "57/57 [==============================] - 8s 131ms/step - loss: 0.6485 - accuracy: 0.8019 - val_loss: 0.3970 - val_accuracy: 0.8550\n",
      "Epoch 5/20\n",
      "57/57 [==============================] - 9s 154ms/step - loss: 0.4479 - accuracy: 0.8607 - val_loss: 0.3597 - val_accuracy: 0.8850\n",
      "Epoch 6/20\n",
      "57/57 [==============================] - 8s 140ms/step - loss: 0.3890 - accuracy: 0.8761 - val_loss: 0.2584 - val_accuracy: 0.9050\n",
      "Epoch 7/20\n",
      "57/57 [==============================] - 10s 167ms/step - loss: 0.2921 - accuracy: 0.9008 - val_loss: 0.1758 - val_accuracy: 0.9400\n",
      "Epoch 8/20\n",
      "57/57 [==============================] - 9s 164ms/step - loss: 0.2322 - accuracy: 0.9336 - val_loss: 0.2065 - val_accuracy: 0.9400\n",
      "Epoch 9/20\n",
      "57/57 [==============================] - 9s 155ms/step - loss: 0.1719 - accuracy: 0.9497 - val_loss: 0.2218 - val_accuracy: 0.9300\n",
      "Epoch 10/20\n",
      "57/57 [==============================] - 8s 144ms/step - loss: 0.1557 - accuracy: 0.9532 - val_loss: 0.1880 - val_accuracy: 0.9500\n",
      "Epoch 11/20\n",
      "57/57 [==============================] - 9s 152ms/step - loss: 0.1435 - accuracy: 0.9575 - val_loss: 0.2211 - val_accuracy: 0.9300\n",
      "Epoch 12/20\n",
      "57/57 [==============================] - 9s 151ms/step - loss: 0.1271 - accuracy: 0.9482 - val_loss: 0.2192 - val_accuracy: 0.9350\n",
      "Epoch 13/20\n",
      "57/57 [==============================] - 8s 135ms/step - loss: 0.1311 - accuracy: 0.9579 - val_loss: 0.1773 - val_accuracy: 0.9600\n",
      "Epoch 14/20\n",
      "57/57 [==============================] - 9s 164ms/step - loss: 0.1222 - accuracy: 0.9632 - val_loss: 0.2090 - val_accuracy: 0.9350\n",
      "Epoch 15/20\n",
      "57/57 [==============================] - 9s 154ms/step - loss: 0.1042 - accuracy: 0.9690 - val_loss: 0.2119 - val_accuracy: 0.9450\n",
      "Epoch 16/20\n",
      "57/57 [==============================] - 8s 145ms/step - loss: 0.0962 - accuracy: 0.9726 - val_loss: 0.2421 - val_accuracy: 0.9200\n",
      "Epoch 17/20\n",
      "57/57 [==============================] - 9s 152ms/step - loss: 0.1137 - accuracy: 0.9649 - val_loss: 0.2096 - val_accuracy: 0.9400\n",
      "Epoch 18/20\n",
      "57/57 [==============================] - 9s 156ms/step - loss: 0.0588 - accuracy: 0.9836 - val_loss: 0.2101 - val_accuracy: 0.9400\n",
      "Epoch 19/20\n",
      "57/57 [==============================] - 9s 156ms/step - loss: 0.0780 - accuracy: 0.9747 - val_loss: 0.1377 - val_accuracy: 0.9600\n",
      "Epoch 20/20\n",
      "57/57 [==============================] - 8s 149ms/step - loss: 0.0859 - accuracy: 0.9718 - val_loss: 0.1875 - val_accuracy: 0.9450\n"
     ]
    }
   ],
   "metadata": {}
  },
  {
   "cell_type": "code",
   "execution_count": 18,
   "source": [
    "test_results = model.evaluate(X_test, y_test)\n",
    "print('\\nTest Acc. {:.2f}%'.format(test_results[1]*100))"
   ],
   "outputs": [
    {
     "output_type": "stream",
     "name": "stdout",
     "text": [
      "63/63 [==============================] - 4s 61ms/step - loss: 0.2095 - accuracy: 0.9410\n",
      "\n",
      "Test Acc. 94.10%\n"
     ]
    }
   ],
   "metadata": {}
  },
  {
   "cell_type": "code",
   "execution_count": 12,
   "source": [
    "# Find misclassification\n",
    "y_pred_tf = model(X_test)\n",
    "y_pred_tf.numpy().shape\n",
    "\n",
    "y_pred = tf.math.argmax(y_pred_tf,axis=1).numpy()\n",
    "print(y_pred.shape)\n",
    "print(y_test.shape)\n",
    "\n",
    "loc = y_pred != y_test\n",
    "print(f'Missclassification = {loc.sum()}')"
   ],
   "outputs": [
    {
     "output_type": "stream",
     "name": "stdout",
     "text": [
      "(2000,)\n",
      "(2000,)\n",
      "Missclassification = 118\n"
     ]
    }
   ],
   "metadata": {}
  },
  {
   "cell_type": "code",
   "execution_count": 16,
   "source": [
    "fig, axes2D = plt.subplots(3,5, figsize=(12,8))\n",
    "axes = list(itertools.chain.from_iterable(axes2D)) # Flatten 2D list\n",
    "X_test_miss = X_test[loc]\n",
    "y_test_miss = y_test[loc]\n",
    "y_pred_miss = y_pred[loc]\n",
    "for idx, ax in enumerate(axes):\n",
    "    ax.imshow(X_test_miss[idx], cmap='gray')\n",
    "    ax.set_title(f'True={y_test_miss[idx]}, Pred={y_pred_miss[idx]}')\n",
    "fig.tight_layout()\n",
    "plt.show()"
   ],
   "outputs": [
    {
     "output_type": "display_data",
     "data": {
      "image/png": "[encoded data removed]",
      "text/plain": [
       "<Figure size 864x576 with 15 Axes>"
      ]
     },
     "metadata": {
      "needs_background": "light"
     }
    }
   ],
   "metadata": {}
  },
  {
   "cell_type": "code",
   "execution_count": null,
   "source": [],
   "outputs": [],
   "metadata": {}
  }
 ],
 "metadata": {
  "kernelspec": {
   "name": "python3",
   "display_name": "Python 3.8.11 64-bit ('tf': conda)"
  },
  "language_info": {
   "codemirror_mode": {
    "name": "ipython",
    "version": 3
   },
   "file_extension": ".py",
   "mimetype": "text/x-python",
   "name": "python",
   "nbconvert_exporter": "python",
   "pygments_lexer": "ipython3",
   "version": "3.8.11"
  },
  "interpreter": {
   "hash": "183983f8581d242f392f04aa55828dc2781ebbbbdf8bf6ac72073cf044539615"
  }
 },
 "nbformat": 4,
 "nbformat_minor": 4
}