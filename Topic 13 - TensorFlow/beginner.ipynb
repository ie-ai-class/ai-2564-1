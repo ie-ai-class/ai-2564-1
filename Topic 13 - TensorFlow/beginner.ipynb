{
 "cells": [
  {
   "cell_type": "code",
   "execution_count": 1,
   "source": [
    "import tensorflow as tf"
   ],
   "outputs": [],
   "metadata": {
    "execution": {
     "iopub.execute_input": "2021-06-16T19:21:02.775749Z",
     "iopub.status.busy": "2021-06-16T19:21:02.775178Z",
     "iopub.status.idle": "2021-06-16T19:21:04.172552Z",
     "shell.execute_reply": "2021-06-16T19:21:04.172947Z"
    },
    "id": "0trJmd6DjqBZ"
   }
  },
  {
   "cell_type": "code",
   "execution_count": 2,
   "source": [
    "\r\n",
    "a = tf.keras.datasets.mnist.load_data()\r\n",
    "\r\n",
    "print(type(a))"
   ],
   "outputs": [
    {
     "output_type": "stream",
     "name": "stdout",
     "text": [
      "<class 'tuple'>\n"
     ]
    }
   ],
   "metadata": {}
  },
  {
   "cell_type": "code",
   "execution_count": 3,
   "source": [
    "mnist = tf.keras.datasets.mnist\r\n",
    "\r\n",
    "(x_train, y_train), (x_test, y_test) = mnist.load_data()\r\n",
    "x_train, x_test = x_train / 255.0, x_test / 255.0"
   ],
   "outputs": [],
   "metadata": {
    "execution": {
     "iopub.execute_input": "2021-06-16T19:21:04.177134Z",
     "iopub.status.busy": "2021-06-16T19:21:04.176533Z",
     "iopub.status.idle": "2021-06-16T19:21:04.584244Z",
     "shell.execute_reply": "2021-06-16T19:21:04.584639Z"
    },
    "id": "7FP5258xjs-v"
   }
  },
  {
   "cell_type": "markdown",
   "source": [
    "Build the `tf.keras.Sequential` model by stacking layers. Choose an optimizer and loss function for training:"
   ],
   "metadata": {
    "id": "BPZ68wASog_I"
   }
  },
  {
   "cell_type": "code",
   "execution_count": 4,
   "source": [
    "model = tf.keras.models.Sequential([\r\n",
    "  tf.keras.layers.Flatten(input_shape=(28, 28)),\r\n",
    "  tf.keras.layers.Dense(128, activation='relu'),\r\n",
    "  tf.keras.layers.Dropout(0.2),\r\n",
    "  tf.keras.layers.Dense(10)\r\n",
    "])"
   ],
   "outputs": [],
   "metadata": {
    "execution": {
     "iopub.execute_input": "2021-06-16T19:21:04.589243Z",
     "iopub.status.busy": "2021-06-16T19:21:04.588688Z",
     "iopub.status.idle": "2021-06-16T19:21:06.138281Z",
     "shell.execute_reply": "2021-06-16T19:21:06.138649Z"
    },
    "id": "h3IKyzTCDNGo"
   }
  },
  {
   "cell_type": "markdown",
   "source": [
    "For each example the model returns a vector of \"[logits](https://developers.google.com/machine-learning/glossary#logits)\" or \"[log-odds](https://developers.google.com/machine-learning/glossary#log-odds)\" scores, one for each class."
   ],
   "metadata": {
    "id": "l2hiez2eIUz8"
   }
  },
  {
   "cell_type": "code",
   "execution_count": 5,
   "source": [
    "x_train[:1].shape\r\n",
    "\r\n",
    "model(x_train[:1])"
   ],
   "outputs": [
    {
     "output_type": "execute_result",
     "data": {
      "text/plain": [
       "<tf.Tensor: shape=(1, 10), dtype=float32, numpy=\n",
       "array([[ 0.4712839 , -0.21485287,  0.12630862,  0.2416442 , -0.22935921,\n",
       "        -0.09647187, -0.4055012 ,  0.21103227,  0.37569714, -0.94350904]],\n",
       "      dtype=float32)>"
      ]
     },
     "metadata": {},
     "execution_count": 5
    }
   ],
   "metadata": {}
  },
  {
   "cell_type": "code",
   "execution_count": 6,
   "source": [
    "predictions = model(x_train[:1]).numpy()\r\n",
    "predictions"
   ],
   "outputs": [
    {
     "output_type": "execute_result",
     "data": {
      "text/plain": [
       "array([[ 0.4712839 , -0.21485287,  0.12630862,  0.2416442 , -0.22935921,\n",
       "        -0.09647187, -0.4055012 ,  0.21103227,  0.37569714, -0.94350904]],\n",
       "      dtype=float32)"
      ]
     },
     "metadata": {},
     "execution_count": 6
    }
   ],
   "metadata": {
    "execution": {
     "iopub.execute_input": "2021-06-16T19:21:06.142866Z",
     "iopub.status.busy": "2021-06-16T19:21:06.142317Z",
     "iopub.status.idle": "2021-06-16T19:21:06.540256Z",
     "shell.execute_reply": "2021-06-16T19:21:06.540639Z"
    },
    "id": "OeOrNdnkEEcR"
   }
  },
  {
   "cell_type": "markdown",
   "source": [
    "The `tf.nn.softmax` function converts these logits to \"probabilities\" for each class: "
   ],
   "metadata": {
    "id": "tgjhDQGcIniO"
   }
  },
  {
   "cell_type": "code",
   "execution_count": 7,
   "source": [
    "tf.nn.softmax(predictions).numpy()"
   ],
   "outputs": [
    {
     "output_type": "execute_result",
     "data": {
      "text/plain": [
       "array([[0.1560445 , 0.07857113, 0.11051662, 0.12402728, 0.07743958,\n",
       "        0.08844541, 0.06493301, 0.12028808, 0.1418194 , 0.03791505]],\n",
       "      dtype=float32)"
      ]
     },
     "metadata": {},
     "execution_count": 7
    }
   ],
   "metadata": {
    "execution": {
     "iopub.execute_input": "2021-06-16T19:21:06.544545Z",
     "iopub.status.busy": "2021-06-16T19:21:06.543802Z",
     "iopub.status.idle": "2021-06-16T19:21:06.547232Z",
     "shell.execute_reply": "2021-06-16T19:21:06.547609Z"
    },
    "id": "zWSRnQ0WI5eq"
   }
  },
  {
   "cell_type": "markdown",
   "source": [
    "Note: It is possible to bake this `tf.nn.softmax` in as the activation function for the last layer of the network. While this can make the model output more directly interpretable, this approach is discouraged as it's impossible to\n",
    "provide an exact and numerically stable loss calculation for all models when using a softmax output. "
   ],
   "metadata": {
    "id": "he5u_okAYS4a"
   }
  },
  {
   "cell_type": "markdown",
   "source": [
    "The `losses.SparseCategoricalCrossentropy` loss takes a vector of logits and a `True` index and returns a scalar loss for each example."
   ],
   "metadata": {
    "id": "hQyugpgRIyrA"
   }
  },
  {
   "cell_type": "code",
   "execution_count": 8,
   "source": [
    "loss_fn = tf.keras.losses.SparseCategoricalCrossentropy(from_logits=True)"
   ],
   "outputs": [],
   "metadata": {
    "execution": {
     "iopub.execute_input": "2021-06-16T19:21:06.551473Z",
     "iopub.status.busy": "2021-06-16T19:21:06.550735Z",
     "iopub.status.idle": "2021-06-16T19:21:06.552701Z",
     "shell.execute_reply": "2021-06-16T19:21:06.553025Z"
    },
    "id": "RSkzdv8MD0tT"
   }
  },
  {
   "cell_type": "markdown",
   "source": [
    "This loss is equal to the negative log probability of the true class:\n",
    "It is zero if the model is sure of the correct class.\n",
    "\n",
    "This untrained model gives probabilities close to random (1/10 for each class), so the initial loss should be close to `-tf.math.log(1/10) ~= 2.3`."
   ],
   "metadata": {
    "id": "SfR4MsSDU880"
   }
  },
  {
   "cell_type": "code",
   "execution_count": 9,
   "source": [
    "print(y_train[:1])"
   ],
   "outputs": [
    {
     "output_type": "stream",
     "name": "stdout",
     "text": [
      "[5]\n"
     ]
    }
   ],
   "metadata": {}
  },
  {
   "cell_type": "code",
   "execution_count": 10,
   "source": [
    "loss_fn([5],predictions).numpy()"
   ],
   "outputs": [
    {
     "output_type": "execute_result",
     "data": {
      "text/plain": [
       "2.42537"
      ]
     },
     "metadata": {},
     "execution_count": 10
    }
   ],
   "metadata": {}
  },
  {
   "cell_type": "code",
   "execution_count": 11,
   "source": [
    "loss_fn(y_train[:1], predictions).numpy()"
   ],
   "outputs": [
    {
     "output_type": "execute_result",
     "data": {
      "text/plain": [
       "2.42537"
      ]
     },
     "metadata": {},
     "execution_count": 11
    }
   ],
   "metadata": {
    "execution": {
     "iopub.execute_input": "2021-06-16T19:21:06.557414Z",
     "iopub.status.busy": "2021-06-16T19:21:06.556549Z",
     "iopub.status.idle": "2021-06-16T19:21:06.562349Z",
     "shell.execute_reply": "2021-06-16T19:21:06.561935Z"
    },
    "id": "NJWqEVrrJ7ZB"
   }
  },
  {
   "cell_type": "code",
   "execution_count": 12,
   "source": [
    "model.compile(optimizer='adam',\r\n",
    "              loss=loss_fn,\r\n",
    "              metrics=['accuracy'])"
   ],
   "outputs": [],
   "metadata": {
    "execution": {
     "iopub.execute_input": "2021-06-16T19:21:06.569247Z",
     "iopub.status.busy": "2021-06-16T19:21:06.568392Z",
     "iopub.status.idle": "2021-06-16T19:21:06.573819Z",
     "shell.execute_reply": "2021-06-16T19:21:06.574146Z"
    },
    "id": "9foNKHzTD2Vo"
   }
  },
  {
   "cell_type": "markdown",
   "source": [
    "The `Model.fit` method adjusts the model parameters to minimize the loss: "
   ],
   "metadata": {
    "id": "ix4mEL65on-w"
   }
  },
  {
   "cell_type": "code",
   "execution_count": 13,
   "source": [
    "model.fit(x_train, y_train, epochs=5)"
   ],
   "outputs": [
    {
     "output_type": "stream",
     "name": "stdout",
     "text": [
      "Epoch 1/5\n",
      "1875/1875 [==============================] - 1s 646us/step - loss: 0.3002 - accuracy: 0.9127\n",
      "Epoch 2/5\n",
      "1875/1875 [==============================] - 1s 629us/step - loss: 0.1447 - accuracy: 0.9569\n",
      "Epoch 3/5\n",
      "1875/1875 [==============================] - 1s 619us/step - loss: 0.1088 - accuracy: 0.9667\n",
      "Epoch 4/5\n",
      "1875/1875 [==============================] - 1s 618us/step - loss: 0.0880 - accuracy: 0.9725\n",
      "Epoch 5/5\n",
      "1875/1875 [==============================] - 1s 626us/step - loss: 0.0781 - accuracy: 0.9758\n"
     ]
    },
    {
     "output_type": "execute_result",
     "data": {
      "text/plain": [
       "<tensorflow.python.keras.callbacks.History at 0x2023c88c400>"
      ]
     },
     "metadata": {},
     "execution_count": 13
    }
   ],
   "metadata": {
    "execution": {
     "iopub.execute_input": "2021-06-16T19:21:06.578052Z",
     "iopub.status.busy": "2021-06-16T19:21:06.577211Z",
     "iopub.status.idle": "2021-06-16T19:21:20.744057Z",
     "shell.execute_reply": "2021-06-16T19:21:20.744401Z"
    },
    "id": "y7suUbJXVLqP"
   }
  },
  {
   "cell_type": "markdown",
   "source": [
    "The `Model.evaluate` method checks the models performance, usually on a \"[Validation-set](https://developers.google.com/machine-learning/glossary#validation-set)\" or \"[Test-set](https://developers.google.com/machine-learning/glossary#test-set)\"."
   ],
   "metadata": {
    "id": "4mDAAPFqVVgn"
   }
  },
  {
   "cell_type": "code",
   "execution_count": 14,
   "source": [
    "model(x_test)"
   ],
   "outputs": [
    {
     "output_type": "execute_result",
     "data": {
      "text/plain": [
       "<tf.Tensor: shape=(10000, 10), dtype=float32, numpy=\n",
       "array([[ -3.5377545 ,  -9.128797  ,  -1.1373023 , ...,   9.562653  ,\n",
       "         -2.3072207 ,  -0.83659226],\n",
       "       [ -3.462874  ,   6.1743116 ,  11.86062   , ..., -12.093698  ,\n",
       "         -2.6168025 , -13.652267  ],\n",
       "       [ -6.1699834 ,   6.96991   ,  -2.258881  , ...,  -0.11411671,\n",
       "         -2.7526343 ,  -6.381999  ],\n",
       "       ...,\n",
       "       [-10.535635  ,  -7.950803  ,  -6.5133553 , ...,   2.04795   ,\n",
       "         -1.631945  ,   1.7945404 ],\n",
       "       [ -4.501548  ,  -8.232307  ,  -9.6067505 , ...,  -6.0931444 ,\n",
       "          2.57574   , -10.589997  ],\n",
       "       [ -1.7841358 , -13.32701   ,  -2.7202668 , ..., -11.1556835 ,\n",
       "         -9.02844   ,  -5.7942424 ]], dtype=float32)>"
      ]
     },
     "metadata": {},
     "execution_count": 14
    }
   ],
   "metadata": {}
  },
  {
   "cell_type": "code",
   "execution_count": 15,
   "source": [
    "model.evaluate(x_test,  y_test, verbose=2)"
   ],
   "outputs": [
    {
     "output_type": "stream",
     "name": "stdout",
     "text": [
      "313/313 - 0s - loss: 0.0761 - accuracy: 0.9763\n"
     ]
    },
    {
     "output_type": "execute_result",
     "data": {
      "text/plain": [
       "[0.07605002075433731, 0.9763000011444092]"
      ]
     },
     "metadata": {},
     "execution_count": 15
    }
   ],
   "metadata": {
    "execution": {
     "iopub.execute_input": "2021-06-16T19:21:20.748560Z",
     "iopub.status.busy": "2021-06-16T19:21:20.747995Z",
     "iopub.status.idle": "2021-06-16T19:21:21.231885Z",
     "shell.execute_reply": "2021-06-16T19:21:21.231429Z"
    },
    "id": "F7dTAzgHDUh7"
   }
  },
  {
   "cell_type": "markdown",
   "source": [
    "The image classifier is now trained to ~98% accuracy on this dataset. To learn more, read the [TensorFlow tutorials](https://www.tensorflow.org/tutorials/)."
   ],
   "metadata": {
    "id": "T4JfEh7kvx6m"
   }
  },
  {
   "cell_type": "markdown",
   "source": [
    "If you want your model to return a probability, you can wrap the trained model, and attach the softmax to it:"
   ],
   "metadata": {
    "id": "Aj8NrlzlJqDG"
   }
  },
  {
   "cell_type": "code",
   "execution_count": 16,
   "source": [
    "probability_model = tf.keras.Sequential([\r\n",
    "  model,\r\n",
    "  tf.keras.layers.Softmax()\r\n",
    "])"
   ],
   "outputs": [],
   "metadata": {
    "execution": {
     "iopub.execute_input": "2021-06-16T19:21:21.236775Z",
     "iopub.status.busy": "2021-06-16T19:21:21.236217Z",
     "iopub.status.idle": "2021-06-16T19:21:21.250501Z",
     "shell.execute_reply": "2021-06-16T19:21:21.250090Z"
    },
    "id": "rYb6DrEH0GMv"
   }
  },
  {
   "cell_type": "code",
   "execution_count": 17,
   "source": [
    "probability_model(x_test[:5])"
   ],
   "outputs": [
    {
     "output_type": "execute_result",
     "data": {
      "text/plain": [
       "<tf.Tensor: shape=(5, 10), dtype=float32, numpy=\n",
       "array([[2.0413797e-06, 7.6166735e-09, 2.2512677e-05, 1.4120942e-03,\n",
       "        1.0874242e-10, 2.8131979e-06, 1.4878032e-12, 9.9852318e-01,\n",
       "        6.9877633e-06, 3.0410540e-05],\n",
       "       [2.2060581e-07, 3.3805992e-03, 9.9660945e-01, 8.6141290e-06,\n",
       "        2.4483610e-15, 7.6700964e-08, 5.1250925e-07, 3.9382032e-11,\n",
       "        5.1411587e-07, 8.2874523e-12],\n",
       "       [1.9630102e-06, 9.9886274e-01, 9.8060184e-05, 6.8156965e-06,\n",
       "        9.6165364e-05, 3.0379280e-05, 5.0478766e-06, 8.3743647e-04,\n",
       "        5.9849135e-05, 1.5879805e-06],\n",
       "       [9.9998438e-01, 9.7663037e-11, 4.3243131e-07, 2.7453970e-07,\n",
       "        7.5769485e-10, 1.0758499e-06, 1.0919385e-05, 9.2224741e-07,\n",
       "        3.3491009e-08, 1.8518791e-06],\n",
       "       [1.1019477e-05, 9.9434683e-09, 5.7513244e-06, 3.2917444e-07,\n",
       "        9.9092591e-01, 3.5835771e-07, 4.4001827e-06, 1.4022206e-03,\n",
       "        1.4298467e-06, 7.6486836e-03]], dtype=float32)>"
      ]
     },
     "metadata": {},
     "execution_count": 17
    }
   ],
   "metadata": {
    "execution": {
     "iopub.execute_input": "2021-06-16T19:21:21.253843Z",
     "iopub.status.busy": "2021-06-16T19:21:21.253288Z",
     "iopub.status.idle": "2021-06-16T19:21:21.258292Z",
     "shell.execute_reply": "2021-06-16T19:21:21.258636Z"
    },
    "id": "cnqOZtUp1YR_"
   }
  },
  {
   "cell_type": "code",
   "execution_count": 20,
   "source": [
    "type(x_test)"
   ],
   "outputs": [
    {
     "output_type": "execute_result",
     "data": {
      "text/plain": [
       "numpy.ndarray"
      ]
     },
     "metadata": {},
     "execution_count": 20
    }
   ],
   "metadata": {}
  },
  {
   "cell_type": "code",
   "execution_count": null,
   "source": [],
   "outputs": [],
   "metadata": {}
  }
 ],
 "metadata": {
  "colab": {
   "collapsed_sections": [
    "rX8mhOLljYeM"
   ],
   "name": "beginner.ipynb",
   "toc_visible": true
  },
  "kernelspec": {
   "name": "python3",
   "display_name": "Python 3.8.0 64-bit ('tf': conda)"
  },
  "language_info": {
   "codemirror_mode": {
    "name": "ipython",
    "version": 3
   },
   "file_extension": ".py",
   "mimetype": "text/x-python",
   "name": "python",
   "nbconvert_exporter": "python",
   "pygments_lexer": "ipython3",
   "version": "3.8.0"
  },
  "interpreter": {
   "hash": "b4a387497f54fd22d04ab06f3cac2b317ccdf5aa3fbc31422dd91bb954740c85"
  }
 },
 "nbformat": 4,
 "nbformat_minor": 2
}