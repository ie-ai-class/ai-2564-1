{
 "metadata": {
  "language_info": {
   "codemirror_mode": {
    "name": "ipython",
    "version": 3
   },
   "file_extension": ".py",
   "mimetype": "text/x-python",
   "name": "python",
   "nbconvert_exporter": "python",
   "pygments_lexer": "ipython3",
   "version": "3.8.8"
  },
  "orig_nbformat": 2,
  "kernelspec": {
   "name": "python3",
   "display_name": "Python 3.8.8 64-bit ('base': conda)"
  },
  "interpreter": {
   "hash": "be725e0de8fb3f5fda9b0118bdf797fa9814e28e467c1cce77c5b9910d8a1786"
  }
 },
 "nbformat": 4,
 "nbformat_minor": 2,
 "cells": [
  {
   "cell_type": "markdown",
   "source": [
    "# Linear discriminant analysis (SKL)\r\n",
    "Supervised data compression"
   ],
   "metadata": {}
  },
  {
   "cell_type": "code",
   "execution_count": 70,
   "source": [
    "import pandas as pd\r\n",
    "import numpy as np\r\n",
    "from sklearn.model_selection import train_test_split\r\n",
    "from sklearn.preprocessing import StandardScaler\r\n",
    "from sklearn.datasets import load_wine\r\n",
    "import matplotlib.pyplot as plt\r\n",
    "\r\n",
    "#Load data\r\n",
    "dataObj = load_wine()\r\n",
    "X = dataObj.data\r\n",
    "y = dataObj.target\r\n",
    "\r\n",
    "# Create DataFrame with features\r\n",
    "dfX = pd.DataFrame(X)\r\n",
    "dfX.columns = dataObj.feature_names\r\n",
    "display(dfX.head())\r\n",
    "print(dfX.shape)\r\n",
    "\r\n",
    "# Standardize the original dataset (very important)\r\n",
    "sc = StandardScaler()\r\n",
    "X_std = sc.fit_transform(X)\r\n",
    "temp = pd.DataFrame(data=X_std, columns=dfX.columns)\r\n",
    "display(temp.head())"
   ],
   "outputs": [
    {
     "output_type": "display_data",
     "data": {
      "text/html": [
       "<div>\n",
       "<style scoped>\n",
       "    .dataframe tbody tr th:only-of-type {\n",
       "        vertical-align: middle;\n",
       "    }\n",
       "\n",
       "    .dataframe tbody tr th {\n",
       "        vertical-align: top;\n",
       "    }\n",
       "\n",
       "    .dataframe thead th {\n",
       "        text-align: right;\n",
       "    }\n",
       "</style>\n",
       "<table border=\"1\" class=\"dataframe\">\n",
       "  <thead>\n",
       "    <tr style=\"text-align: right;\">\n",
       "      <th></th>\n",
       "      <th>alcohol</th>\n",
       "      <th>malic_acid</th>\n",
       "      <th>ash</th>\n",
       "      <th>alcalinity_of_ash</th>\n",
       "      <th>magnesium</th>\n",
       "      <th>total_phenols</th>\n",
       "      <th>flavanoids</th>\n",
       "      <th>nonflavanoid_phenols</th>\n",
       "      <th>proanthocyanins</th>\n",
       "      <th>color_intensity</th>\n",
       "      <th>hue</th>\n",
       "      <th>od280/od315_of_diluted_wines</th>\n",
       "      <th>proline</th>\n",
       "    </tr>\n",
       "  </thead>\n",
       "  <tbody>\n",
       "    <tr>\n",
       "      <th>0</th>\n",
       "      <td>14.23</td>\n",
       "      <td>1.71</td>\n",
       "      <td>2.43</td>\n",
       "      <td>15.6</td>\n",
       "      <td>127.0</td>\n",
       "      <td>2.80</td>\n",
       "      <td>3.06</td>\n",
       "      <td>0.28</td>\n",
       "      <td>2.29</td>\n",
       "      <td>5.64</td>\n",
       "      <td>1.04</td>\n",
       "      <td>3.92</td>\n",
       "      <td>1065.0</td>\n",
       "    </tr>\n",
       "    <tr>\n",
       "      <th>1</th>\n",
       "      <td>13.20</td>\n",
       "      <td>1.78</td>\n",
       "      <td>2.14</td>\n",
       "      <td>11.2</td>\n",
       "      <td>100.0</td>\n",
       "      <td>2.65</td>\n",
       "      <td>2.76</td>\n",
       "      <td>0.26</td>\n",
       "      <td>1.28</td>\n",
       "      <td>4.38</td>\n",
       "      <td>1.05</td>\n",
       "      <td>3.40</td>\n",
       "      <td>1050.0</td>\n",
       "    </tr>\n",
       "    <tr>\n",
       "      <th>2</th>\n",
       "      <td>13.16</td>\n",
       "      <td>2.36</td>\n",
       "      <td>2.67</td>\n",
       "      <td>18.6</td>\n",
       "      <td>101.0</td>\n",
       "      <td>2.80</td>\n",
       "      <td>3.24</td>\n",
       "      <td>0.30</td>\n",
       "      <td>2.81</td>\n",
       "      <td>5.68</td>\n",
       "      <td>1.03</td>\n",
       "      <td>3.17</td>\n",
       "      <td>1185.0</td>\n",
       "    </tr>\n",
       "    <tr>\n",
       "      <th>3</th>\n",
       "      <td>14.37</td>\n",
       "      <td>1.95</td>\n",
       "      <td>2.50</td>\n",
       "      <td>16.8</td>\n",
       "      <td>113.0</td>\n",
       "      <td>3.85</td>\n",
       "      <td>3.49</td>\n",
       "      <td>0.24</td>\n",
       "      <td>2.18</td>\n",
       "      <td>7.80</td>\n",
       "      <td>0.86</td>\n",
       "      <td>3.45</td>\n",
       "      <td>1480.0</td>\n",
       "    </tr>\n",
       "    <tr>\n",
       "      <th>4</th>\n",
       "      <td>13.24</td>\n",
       "      <td>2.59</td>\n",
       "      <td>2.87</td>\n",
       "      <td>21.0</td>\n",
       "      <td>118.0</td>\n",
       "      <td>2.80</td>\n",
       "      <td>2.69</td>\n",
       "      <td>0.39</td>\n",
       "      <td>1.82</td>\n",
       "      <td>4.32</td>\n",
       "      <td>1.04</td>\n",
       "      <td>2.93</td>\n",
       "      <td>735.0</td>\n",
       "    </tr>\n",
       "  </tbody>\n",
       "</table>\n",
       "</div>"
      ],
      "text/plain": [
       "   alcohol  malic_acid   ash  alcalinity_of_ash  magnesium  total_phenols  \\\n",
       "0    14.23        1.71  2.43               15.6      127.0           2.80   \n",
       "1    13.20        1.78  2.14               11.2      100.0           2.65   \n",
       "2    13.16        2.36  2.67               18.6      101.0           2.80   \n",
       "3    14.37        1.95  2.50               16.8      113.0           3.85   \n",
       "4    13.24        2.59  2.87               21.0      118.0           2.80   \n",
       "\n",
       "   flavanoids  nonflavanoid_phenols  proanthocyanins  color_intensity   hue  \\\n",
       "0        3.06                  0.28             2.29             5.64  1.04   \n",
       "1        2.76                  0.26             1.28             4.38  1.05   \n",
       "2        3.24                  0.30             2.81             5.68  1.03   \n",
       "3        3.49                  0.24             2.18             7.80  0.86   \n",
       "4        2.69                  0.39             1.82             4.32  1.04   \n",
       "\n",
       "   od280/od315_of_diluted_wines  proline  \n",
       "0                          3.92   1065.0  \n",
       "1                          3.40   1050.0  \n",
       "2                          3.17   1185.0  \n",
       "3                          3.45   1480.0  \n",
       "4                          2.93    735.0  "
      ]
     },
     "metadata": {}
    },
    {
     "output_type": "stream",
     "name": "stdout",
     "text": [
      "(178, 13)\n"
     ]
    },
    {
     "output_type": "display_data",
     "data": {
      "text/html": [
       "<div>\n",
       "<style scoped>\n",
       "    .dataframe tbody tr th:only-of-type {\n",
       "        vertical-align: middle;\n",
       "    }\n",
       "\n",
       "    .dataframe tbody tr th {\n",
       "        vertical-align: top;\n",
       "    }\n",
       "\n",
       "    .dataframe thead th {\n",
       "        text-align: right;\n",
       "    }\n",
       "</style>\n",
       "<table border=\"1\" class=\"dataframe\">\n",
       "  <thead>\n",
       "    <tr style=\"text-align: right;\">\n",
       "      <th></th>\n",
       "      <th>alcohol</th>\n",
       "      <th>malic_acid</th>\n",
       "      <th>ash</th>\n",
       "      <th>alcalinity_of_ash</th>\n",
       "      <th>magnesium</th>\n",
       "      <th>total_phenols</th>\n",
       "      <th>flavanoids</th>\n",
       "      <th>nonflavanoid_phenols</th>\n",
       "      <th>proanthocyanins</th>\n",
       "      <th>color_intensity</th>\n",
       "      <th>hue</th>\n",
       "      <th>od280/od315_of_diluted_wines</th>\n",
       "      <th>proline</th>\n",
       "    </tr>\n",
       "  </thead>\n",
       "  <tbody>\n",
       "    <tr>\n",
       "      <th>0</th>\n",
       "      <td>1.518613</td>\n",
       "      <td>-0.562250</td>\n",
       "      <td>0.232053</td>\n",
       "      <td>-1.169593</td>\n",
       "      <td>1.913905</td>\n",
       "      <td>0.808997</td>\n",
       "      <td>1.034819</td>\n",
       "      <td>-0.659563</td>\n",
       "      <td>1.224884</td>\n",
       "      <td>0.251717</td>\n",
       "      <td>0.362177</td>\n",
       "      <td>1.847920</td>\n",
       "      <td>1.013009</td>\n",
       "    </tr>\n",
       "    <tr>\n",
       "      <th>1</th>\n",
       "      <td>0.246290</td>\n",
       "      <td>-0.499413</td>\n",
       "      <td>-0.827996</td>\n",
       "      <td>-2.490847</td>\n",
       "      <td>0.018145</td>\n",
       "      <td>0.568648</td>\n",
       "      <td>0.733629</td>\n",
       "      <td>-0.820719</td>\n",
       "      <td>-0.544721</td>\n",
       "      <td>-0.293321</td>\n",
       "      <td>0.406051</td>\n",
       "      <td>1.113449</td>\n",
       "      <td>0.965242</td>\n",
       "    </tr>\n",
       "    <tr>\n",
       "      <th>2</th>\n",
       "      <td>0.196879</td>\n",
       "      <td>0.021231</td>\n",
       "      <td>1.109334</td>\n",
       "      <td>-0.268738</td>\n",
       "      <td>0.088358</td>\n",
       "      <td>0.808997</td>\n",
       "      <td>1.215533</td>\n",
       "      <td>-0.498407</td>\n",
       "      <td>2.135968</td>\n",
       "      <td>0.269020</td>\n",
       "      <td>0.318304</td>\n",
       "      <td>0.788587</td>\n",
       "      <td>1.395148</td>\n",
       "    </tr>\n",
       "    <tr>\n",
       "      <th>3</th>\n",
       "      <td>1.691550</td>\n",
       "      <td>-0.346811</td>\n",
       "      <td>0.487926</td>\n",
       "      <td>-0.809251</td>\n",
       "      <td>0.930918</td>\n",
       "      <td>2.491446</td>\n",
       "      <td>1.466525</td>\n",
       "      <td>-0.981875</td>\n",
       "      <td>1.032155</td>\n",
       "      <td>1.186068</td>\n",
       "      <td>-0.427544</td>\n",
       "      <td>1.184071</td>\n",
       "      <td>2.334574</td>\n",
       "    </tr>\n",
       "    <tr>\n",
       "      <th>4</th>\n",
       "      <td>0.295700</td>\n",
       "      <td>0.227694</td>\n",
       "      <td>1.840403</td>\n",
       "      <td>0.451946</td>\n",
       "      <td>1.281985</td>\n",
       "      <td>0.808997</td>\n",
       "      <td>0.663351</td>\n",
       "      <td>0.226796</td>\n",
       "      <td>0.401404</td>\n",
       "      <td>-0.319276</td>\n",
       "      <td>0.362177</td>\n",
       "      <td>0.449601</td>\n",
       "      <td>-0.037874</td>\n",
       "    </tr>\n",
       "  </tbody>\n",
       "</table>\n",
       "</div>"
      ],
      "text/plain": [
       "    alcohol  malic_acid       ash  alcalinity_of_ash  magnesium  \\\n",
       "0  1.518613   -0.562250  0.232053          -1.169593   1.913905   \n",
       "1  0.246290   -0.499413 -0.827996          -2.490847   0.018145   \n",
       "2  0.196879    0.021231  1.109334          -0.268738   0.088358   \n",
       "3  1.691550   -0.346811  0.487926          -0.809251   0.930918   \n",
       "4  0.295700    0.227694  1.840403           0.451946   1.281985   \n",
       "\n",
       "   total_phenols  flavanoids  nonflavanoid_phenols  proanthocyanins  \\\n",
       "0       0.808997    1.034819             -0.659563         1.224884   \n",
       "1       0.568648    0.733629             -0.820719        -0.544721   \n",
       "2       0.808997    1.215533             -0.498407         2.135968   \n",
       "3       2.491446    1.466525             -0.981875         1.032155   \n",
       "4       0.808997    0.663351              0.226796         0.401404   \n",
       "\n",
       "   color_intensity       hue  od280/od315_of_diluted_wines   proline  \n",
       "0         0.251717  0.362177                      1.847920  1.013009  \n",
       "1        -0.293321  0.406051                      1.113449  0.965242  \n",
       "2         0.269020  0.318304                      0.788587  1.395148  \n",
       "3         1.186068 -0.427544                      1.184071  2.334574  \n",
       "4        -0.319276  0.362177                      0.449601 -0.037874  "
      ]
     },
     "metadata": {}
    }
   ],
   "metadata": {}
  },
  {
   "cell_type": "markdown",
   "source": [
    "## Exploring LDA"
   ],
   "metadata": {}
  },
  {
   "cell_type": "markdown",
   "source": [
    "### Choose number of components\r\n",
    "- Cannot be larger than `n_class - 1`\r\n",
    "- Here, `max = 2`"
   ],
   "metadata": {}
  },
  {
   "cell_type": "code",
   "execution_count": 71,
   "source": [
    "n_components = 2"
   ],
   "outputs": [],
   "metadata": {}
  },
  {
   "cell_type": "markdown",
   "source": [
    "### Setting up"
   ],
   "metadata": {}
  },
  {
   "cell_type": "code",
   "execution_count": 72,
   "source": [
    "from sklearn.discriminant_analysis import LinearDiscriminantAnalysis as LDA\r\n",
    "\r\n",
    "lda = LDA(n_components=n_components)\r\n",
    "\r\n",
    "lda.fit(X_std, y)"
   ],
   "outputs": [
    {
     "output_type": "execute_result",
     "data": {
      "text/plain": [
       "LinearDiscriminantAnalysis(n_components=2)"
      ]
     },
     "metadata": {},
     "execution_count": 72
    }
   ],
   "metadata": {}
  },
  {
   "cell_type": "markdown",
   "source": [
    "### Transformation matrix"
   ],
   "metadata": {}
  },
  {
   "cell_type": "code",
   "execution_count": 73,
   "source": [
    "# Name of the column\r\n",
    "cols = [f'nu_{i}' for i in range(1,n_components+1) ]\r\n",
    "\r\n",
    "W = lda.scalings_\r\n",
    "\r\n",
    "dfW = pd.DataFrame(data=W, index=dfX.columns, columns=cols)\r\n",
    "\r\n",
    "display(dfW)"
   ],
   "outputs": [
    {
     "output_type": "display_data",
     "data": {
      "text/html": [
       "<div>\n",
       "<style scoped>\n",
       "    .dataframe tbody tr th:only-of-type {\n",
       "        vertical-align: middle;\n",
       "    }\n",
       "\n",
       "    .dataframe tbody tr th {\n",
       "        vertical-align: top;\n",
       "    }\n",
       "\n",
       "    .dataframe thead th {\n",
       "        text-align: right;\n",
       "    }\n",
       "</style>\n",
       "<table border=\"1\" class=\"dataframe\">\n",
       "  <thead>\n",
       "    <tr style=\"text-align: right;\">\n",
       "      <th></th>\n",
       "      <th>nu_1</th>\n",
       "      <th>nu_2</th>\n",
       "    </tr>\n",
       "  </thead>\n",
       "  <tbody>\n",
       "    <tr>\n",
       "      <th>alcohol</th>\n",
       "      <td>0.326569</td>\n",
       "      <td>0.705754</td>\n",
       "    </tr>\n",
       "    <tr>\n",
       "      <th>malic_acid</th>\n",
       "      <td>-0.184094</td>\n",
       "      <td>0.340194</td>\n",
       "    </tr>\n",
       "    <tr>\n",
       "      <th>ash</th>\n",
       "      <td>0.100969</td>\n",
       "      <td>0.641759</td>\n",
       "    </tr>\n",
       "    <tr>\n",
       "      <th>alcalinity_of_ash</th>\n",
       "      <td>-0.515503</td>\n",
       "      <td>-0.487473</td>\n",
       "    </tr>\n",
       "    <tr>\n",
       "      <th>magnesium</th>\n",
       "      <td>0.030813</td>\n",
       "      <td>-0.006591</td>\n",
       "    </tr>\n",
       "    <tr>\n",
       "      <th>total_phenols</th>\n",
       "      <td>-0.385720</td>\n",
       "      <td>-0.020104</td>\n",
       "    </tr>\n",
       "    <tr>\n",
       "      <th>flavanoids</th>\n",
       "      <td>1.654628</td>\n",
       "      <td>-0.490054</td>\n",
       "    </tr>\n",
       "    <tr>\n",
       "      <th>nonflavanoid_phenols</th>\n",
       "      <td>0.185636</td>\n",
       "      <td>-0.202407</td>\n",
       "    </tr>\n",
       "    <tr>\n",
       "      <th>proanthocyanins</th>\n",
       "      <td>-0.076533</td>\n",
       "      <td>-0.175270</td>\n",
       "    </tr>\n",
       "    <tr>\n",
       "      <th>color_intensity</th>\n",
       "      <td>-0.820805</td>\n",
       "      <td>0.585410</td>\n",
       "    </tr>\n",
       "    <tr>\n",
       "      <th>hue</th>\n",
       "      <td>0.186454</td>\n",
       "      <td>-0.345456</td>\n",
       "    </tr>\n",
       "    <tr>\n",
       "      <th>od280/od315_of_diluted_wines</th>\n",
       "      <td>0.819544</td>\n",
       "      <td>0.036238</td>\n",
       "    </tr>\n",
       "    <tr>\n",
       "      <th>proline</th>\n",
       "      <td>0.845097</td>\n",
       "      <td>0.895899</td>\n",
       "    </tr>\n",
       "  </tbody>\n",
       "</table>\n",
       "</div>"
      ],
      "text/plain": [
       "                                  nu_1      nu_2\n",
       "alcohol                       0.326569  0.705754\n",
       "malic_acid                   -0.184094  0.340194\n",
       "ash                           0.100969  0.641759\n",
       "alcalinity_of_ash            -0.515503 -0.487473\n",
       "magnesium                     0.030813 -0.006591\n",
       "total_phenols                -0.385720 -0.020104\n",
       "flavanoids                    1.654628 -0.490054\n",
       "nonflavanoid_phenols          0.185636 -0.202407\n",
       "proanthocyanins              -0.076533 -0.175270\n",
       "color_intensity              -0.820805  0.585410\n",
       "hue                           0.186454 -0.345456\n",
       "od280/od315_of_diluted_wines  0.819544  0.036238\n",
       "proline                       0.845097  0.895899"
      ]
     },
     "metadata": {}
    }
   ],
   "metadata": {}
  },
  {
   "cell_type": "markdown",
   "source": [
    "### Explained variance ratio"
   ],
   "metadata": {}
  },
  {
   "cell_type": "code",
   "execution_count": 74,
   "source": [
    "lda.explained_variance_ratio_"
   ],
   "outputs": [
    {
     "output_type": "execute_result",
     "data": {
      "text/plain": [
       "array([0.68747889, 0.31252111])"
      ]
     },
     "metadata": {},
     "execution_count": 74
    }
   ],
   "metadata": {}
  },
  {
   "cell_type": "markdown",
   "source": [
    "### Visualize explained variance ratio"
   ],
   "metadata": {}
  },
  {
   "cell_type": "code",
   "execution_count": 75,
   "source": [
    "plt.bar(range(1, 3), lda.explained_variance_ratio_, alpha=0.5, align='center')\r\n",
    "plt.step(range(1, 3), np.cumsum(lda.explained_variance_ratio_), where='mid')\r\n",
    "plt.ylabel('\"discriminability\" ratio')\r\n",
    "plt.xlabel('Linear Discriminants')\r\n",
    "plt.show()"
   ],
   "outputs": [
    {
     "output_type": "display_data",
     "data": {
      "image/png": "[encoded data removed]",
      "image/svg+xml": "<?xml version=\"1.0\" encoding=\"utf-8\" standalone=\"no\"?>\r\n<!DOCTYPE svg PUBLIC \"-//W3C//DTD SVG 1.1//EN\"\r\n  \"http://www.w3.org/Graphics/SVG/1.1/DTD/svg11.dtd\">\r\n<!-- Created with matplotlib (https://matplotlib.org/) -->\r\n<svg height=\"262.19625pt\" version=\"1.1\" viewBox=\"0 0 385.78125 262.19625\" width=\"385.78125pt\" xmlns=\"http://www.w3.org/2000/svg\" xmlns:xlink=\"http://www.w3.org/1999/xlink\">\r\n <metadata>\r\n  <rdf:RDF xmlns:cc=\"http://creativecommons.org/ns#\" xmlns:dc=\"http://purl.org/dc/elements/1.1/\" xmlns:rdf=\"http://www.w3.org/1999/02/22-rdf-syntax-ns#\">\r\n   <cc:Work>\r\n    <dc:type rdf:resource=\"http://purl.org/dc/dcmitype/StillImage\"/>\r\n    <dc:date>2021-09-04T19:38:06.287907</dc:date>\r\n    <dc:format>image/svg+xml</dc:format>\r\n    <dc:creator>\r\n     <cc:Agent>\r\n      <dc:title>Matplotlib v3.3.4, https://matplotlib.org/</dc:title>\r\n     </cc:Agent>\r\n    </dc:creator>\r\n   </cc:Work>\r\n  </rdf:RDF>\r\n </metadata>\r\n <defs>\r\n  <style type=\"text/css\">*{stroke-linecap:butt;stroke-linejoin:round;}</style>\r\n </defs>\r\n <g id=\"figure_1\">\r\n  <g id=\"patch_1\">\r\n   <path d=\"M 0 262.19625 \r\nL 385.78125 262.19625 \r\nL 385.78125 0 \r\nL 0 0 \r\nz\r\n\" style=\"fill:none;\"/>\r\n  </g>\r\n  <g id=\"axes_1\">\r\n   <g id=\"patch_2\">\r\n    <path d=\"M 43.78125 224.64 \r\nL 378.58125 224.64 \r\nL 378.58125 7.2 \r\nL 43.78125 7.2 \r\nz\r\n\" style=\"fill:#ffffff;\"/>\r\n   </g>\r\n   <g id=\"patch_3\">\r\n    <path clip-path=\"url(#p76a8c7a7a4)\" d=\"M 58.999432 224.64 \r\nL 194.272159 224.64 \r\nL 194.272159 82.272943 \r\nL 58.999432 82.272943 \r\nz\r\n\" style=\"fill:#1f77b4;opacity:0.5;\"/>\r\n   </g>\r\n   <g id=\"patch_4\">\r\n    <path clip-path=\"url(#p76a8c7a7a4)\" d=\"M 228.090341 224.64 \r\nL 363.363068 224.64 \r\nL 363.363068 159.921342 \r\nL 228.090341 159.921342 \r\nz\r\n\" style=\"fill:#1f77b4;opacity:0.5;\"/>\r\n   </g>\r\n   <g id=\"matplotlib.axis_1\">\r\n    <g id=\"xtick_1\">\r\n     <g id=\"line2d_1\">\r\n      <defs>\r\n       <path d=\"M 0 0 \r\nL 0 3.5 \r\n\" id=\"mb5962c37e9\" style=\"stroke:#000000;stroke-width:0.8;\"/>\r\n      </defs>\r\n      <g>\r\n       <use style=\"stroke:#000000;stroke-width:0.8;\" x=\"84.363068\" xlink:href=\"#mb5962c37e9\" y=\"224.64\"/>\r\n      </g>\r\n     </g>\r\n     <g id=\"text_1\">\r\n      <!-- 0.75 -->\r\n      <g transform=\"translate(73.230256 239.238437)scale(0.1 -0.1)\">\r\n       <defs>\r\n        <path d=\"M 31.78125 66.40625 \r\nQ 24.171875 66.40625 20.328125 58.90625 \r\nQ 16.5 51.421875 16.5 36.375 \r\nQ 16.5 21.390625 20.328125 13.890625 \r\nQ 24.171875 6.390625 31.78125 6.390625 \r\nQ 39.453125 6.390625 43.28125 13.890625 \r\nQ 47.125 21.390625 47.125 36.375 \r\nQ 47.125 51.421875 43.28125 58.90625 \r\nQ 39.453125 66.40625 31.78125 66.40625 \r\nz\r\nM 31.78125 74.21875 \r\nQ 44.046875 74.21875 50.515625 64.515625 \r\nQ 56.984375 54.828125 56.984375 36.375 \r\nQ 56.984375 17.96875 50.515625 8.265625 \r\nQ 44.046875 -1.421875 31.78125 -1.421875 \r\nQ 19.53125 -1.421875 13.0625 8.265625 \r\nQ 6.59375 17.96875 6.59375 36.375 \r\nQ 6.59375 54.828125 13.0625 64.515625 \r\nQ 19.53125 74.21875 31.78125 74.21875 \r\nz\r\n\" id=\"DejaVuSans-48\"/>\r\n        <path d=\"M 10.6875 12.40625 \r\nL 21 12.40625 \r\nL 21 0 \r\nL 10.6875 0 \r\nz\r\n\" id=\"DejaVuSans-46\"/>\r\n        <path d=\"M 8.203125 72.90625 \r\nL 55.078125 72.90625 \r\nL 55.078125 68.703125 \r\nL 28.609375 0 \r\nL 18.3125 0 \r\nL 43.21875 64.59375 \r\nL 8.203125 64.59375 \r\nz\r\n\" id=\"DejaVuSans-55\"/>\r\n        <path d=\"M 10.796875 72.90625 \r\nL 49.515625 72.90625 \r\nL 49.515625 64.59375 \r\nL 19.828125 64.59375 \r\nL 19.828125 46.734375 \r\nQ 21.96875 47.46875 24.109375 47.828125 \r\nQ 26.265625 48.1875 28.421875 48.1875 \r\nQ 40.625 48.1875 47.75 41.5 \r\nQ 54.890625 34.8125 54.890625 23.390625 \r\nQ 54.890625 11.625 47.5625 5.09375 \r\nQ 40.234375 -1.421875 26.90625 -1.421875 \r\nQ 22.3125 -1.421875 17.546875 -0.640625 \r\nQ 12.796875 0.140625 7.71875 1.703125 \r\nL 7.71875 11.625 \r\nQ 12.109375 9.234375 16.796875 8.0625 \r\nQ 21.484375 6.890625 26.703125 6.890625 \r\nQ 35.15625 6.890625 40.078125 11.328125 \r\nQ 45.015625 15.765625 45.015625 23.390625 \r\nQ 45.015625 31 40.078125 35.4375 \r\nQ 35.15625 39.890625 26.703125 39.890625 \r\nQ 22.75 39.890625 18.8125 39.015625 \r\nQ 14.890625 38.140625 10.796875 36.28125 \r\nz\r\n\" id=\"DejaVuSans-53\"/>\r\n       </defs>\r\n       <use xlink:href=\"#DejaVuSans-48\"/>\r\n       <use x=\"63.623047\" xlink:href=\"#DejaVuSans-46\"/>\r\n       <use x=\"95.410156\" xlink:href=\"#DejaVuSans-55\"/>\r\n       <use x=\"159.033203\" xlink:href=\"#DejaVuSans-53\"/>\r\n      </g>\r\n     </g>\r\n    </g>\r\n    <g id=\"xtick_2\">\r\n     <g id=\"line2d_2\">\r\n      <g>\r\n       <use style=\"stroke:#000000;stroke-width:0.8;\" x=\"126.635795\" xlink:href=\"#mb5962c37e9\" y=\"224.64\"/>\r\n      </g>\r\n     </g>\r\n     <g id=\"text_2\">\r\n      <!-- 1.00 -->\r\n      <g transform=\"translate(115.502983 239.238437)scale(0.1 -0.1)\">\r\n       <defs>\r\n        <path d=\"M 12.40625 8.296875 \r\nL 28.515625 8.296875 \r\nL 28.515625 63.921875 \r\nL 10.984375 60.40625 \r\nL 10.984375 69.390625 \r\nL 28.421875 72.90625 \r\nL 38.28125 72.90625 \r\nL 38.28125 8.296875 \r\nL 54.390625 8.296875 \r\nL 54.390625 0 \r\nL 12.40625 0 \r\nz\r\n\" id=\"DejaVuSans-49\"/>\r\n       </defs>\r\n       <use xlink:href=\"#DejaVuSans-49\"/>\r\n       <use x=\"63.623047\" xlink:href=\"#DejaVuSans-46\"/>\r\n       <use x=\"95.410156\" xlink:href=\"#DejaVuSans-48\"/>\r\n       <use x=\"159.033203\" xlink:href=\"#DejaVuSans-48\"/>\r\n      </g>\r\n     </g>\r\n    </g>\r\n    <g id=\"xtick_3\">\r\n     <g id=\"line2d_3\">\r\n      <g>\r\n       <use style=\"stroke:#000000;stroke-width:0.8;\" x=\"168.908523\" xlink:href=\"#mb5962c37e9\" y=\"224.64\"/>\r\n      </g>\r\n     </g>\r\n     <g id=\"text_3\">\r\n      <!-- 1.25 -->\r\n      <g transform=\"translate(157.77571 239.238437)scale(0.1 -0.1)\">\r\n       <defs>\r\n        <path d=\"M 19.1875 8.296875 \r\nL 53.609375 8.296875 \r\nL 53.609375 0 \r\nL 7.328125 0 \r\nL 7.328125 8.296875 \r\nQ 12.9375 14.109375 22.625 23.890625 \r\nQ 32.328125 33.6875 34.8125 36.53125 \r\nQ 39.546875 41.84375 41.421875 45.53125 \r\nQ 43.3125 49.21875 43.3125 52.78125 \r\nQ 43.3125 58.59375 39.234375 62.25 \r\nQ 35.15625 65.921875 28.609375 65.921875 \r\nQ 23.96875 65.921875 18.8125 64.3125 \r\nQ 13.671875 62.703125 7.8125 59.421875 \r\nL 7.8125 69.390625 \r\nQ 13.765625 71.78125 18.9375 73 \r\nQ 24.125 74.21875 28.421875 74.21875 \r\nQ 39.75 74.21875 46.484375 68.546875 \r\nQ 53.21875 62.890625 53.21875 53.421875 \r\nQ 53.21875 48.921875 51.53125 44.890625 \r\nQ 49.859375 40.875 45.40625 35.40625 \r\nQ 44.1875 33.984375 37.640625 27.21875 \r\nQ 31.109375 20.453125 19.1875 8.296875 \r\nz\r\n\" id=\"DejaVuSans-50\"/>\r\n       </defs>\r\n       <use xlink:href=\"#DejaVuSans-49\"/>\r\n       <use x=\"63.623047\" xlink:href=\"#DejaVuSans-46\"/>\r\n       <use x=\"95.410156\" xlink:href=\"#DejaVuSans-50\"/>\r\n       <use x=\"159.033203\" xlink:href=\"#DejaVuSans-53\"/>\r\n      </g>\r\n     </g>\r\n    </g>\r\n    <g id=\"xtick_4\">\r\n     <g id=\"line2d_4\">\r\n      <g>\r\n       <use style=\"stroke:#000000;stroke-width:0.8;\" x=\"211.18125\" xlink:href=\"#mb5962c37e9\" y=\"224.64\"/>\r\n      </g>\r\n     </g>\r\n     <g id=\"text_4\">\r\n      <!-- 1.50 -->\r\n      <g transform=\"translate(200.048437 239.238437)scale(0.1 -0.1)\">\r\n       <use xlink:href=\"#DejaVuSans-49\"/>\r\n       <use x=\"63.623047\" xlink:href=\"#DejaVuSans-46\"/>\r\n       <use x=\"95.410156\" xlink:href=\"#DejaVuSans-53\"/>\r\n       <use x=\"159.033203\" xlink:href=\"#DejaVuSans-48\"/>\r\n      </g>\r\n     </g>\r\n    </g>\r\n    <g id=\"xtick_5\">\r\n     <g id=\"line2d_5\">\r\n      <g>\r\n       <use style=\"stroke:#000000;stroke-width:0.8;\" x=\"253.453977\" xlink:href=\"#mb5962c37e9\" y=\"224.64\"/>\r\n      </g>\r\n     </g>\r\n     <g id=\"text_5\">\r\n      <!-- 1.75 -->\r\n      <g transform=\"translate(242.321165 239.238437)scale(0.1 -0.1)\">\r\n       <use xlink:href=\"#DejaVuSans-49\"/>\r\n       <use x=\"63.623047\" xlink:href=\"#DejaVuSans-46\"/>\r\n       <use x=\"95.410156\" xlink:href=\"#DejaVuSans-55\"/>\r\n       <use x=\"159.033203\" xlink:href=\"#DejaVuSans-53\"/>\r\n      </g>\r\n     </g>\r\n    </g>\r\n    <g id=\"xtick_6\">\r\n     <g id=\"line2d_6\">\r\n      <g>\r\n       <use style=\"stroke:#000000;stroke-width:0.8;\" x=\"295.726705\" xlink:href=\"#mb5962c37e9\" y=\"224.64\"/>\r\n      </g>\r\n     </g>\r\n     <g id=\"text_6\">\r\n      <!-- 2.00 -->\r\n      <g transform=\"translate(284.593892 239.238437)scale(0.1 -0.1)\">\r\n       <use xlink:href=\"#DejaVuSans-50\"/>\r\n       <use x=\"63.623047\" xlink:href=\"#DejaVuSans-46\"/>\r\n       <use x=\"95.410156\" xlink:href=\"#DejaVuSans-48\"/>\r\n       <use x=\"159.033203\" xlink:href=\"#DejaVuSans-48\"/>\r\n      </g>\r\n     </g>\r\n    </g>\r\n    <g id=\"xtick_7\">\r\n     <g id=\"line2d_7\">\r\n      <g>\r\n       <use style=\"stroke:#000000;stroke-width:0.8;\" x=\"337.999432\" xlink:href=\"#mb5962c37e9\" y=\"224.64\"/>\r\n      </g>\r\n     </g>\r\n     <g id=\"text_7\">\r\n      <!-- 2.25 -->\r\n      <g transform=\"translate(326.866619 239.238437)scale(0.1 -0.1)\">\r\n       <use xlink:href=\"#DejaVuSans-50\"/>\r\n       <use x=\"63.623047\" xlink:href=\"#DejaVuSans-46\"/>\r\n       <use x=\"95.410156\" xlink:href=\"#DejaVuSans-50\"/>\r\n       <use x=\"159.033203\" xlink:href=\"#DejaVuSans-53\"/>\r\n      </g>\r\n     </g>\r\n    </g>\r\n    <g id=\"text_8\">\r\n     <!-- Linear Discriminants -->\r\n     <g transform=\"translate(159.789062 252.916562)scale(0.1 -0.1)\">\r\n      <defs>\r\n       <path d=\"M 9.8125 72.90625 \r\nL 19.671875 72.90625 \r\nL 19.671875 8.296875 \r\nL 55.171875 8.296875 \r\nL 55.171875 0 \r\nL 9.8125 0 \r\nz\r\n\" id=\"DejaVuSans-76\"/>\r\n       <path d=\"M 9.421875 54.6875 \r\nL 18.40625 54.6875 \r\nL 18.40625 0 \r\nL 9.421875 0 \r\nz\r\nM 9.421875 75.984375 \r\nL 18.40625 75.984375 \r\nL 18.40625 64.59375 \r\nL 9.421875 64.59375 \r\nz\r\n\" id=\"DejaVuSans-105\"/>\r\n       <path d=\"M 54.890625 33.015625 \r\nL 54.890625 0 \r\nL 45.90625 0 \r\nL 45.90625 32.71875 \r\nQ 45.90625 40.484375 42.875 44.328125 \r\nQ 39.84375 48.1875 33.796875 48.1875 \r\nQ 26.515625 48.1875 22.3125 43.546875 \r\nQ 18.109375 38.921875 18.109375 30.90625 \r\nL 18.109375 0 \r\nL 9.078125 0 \r\nL 9.078125 54.6875 \r\nL 18.109375 54.6875 \r\nL 18.109375 46.1875 \r\nQ 21.34375 51.125 25.703125 53.5625 \r\nQ 30.078125 56 35.796875 56 \r\nQ 45.21875 56 50.046875 50.171875 \r\nQ 54.890625 44.34375 54.890625 33.015625 \r\nz\r\n\" id=\"DejaVuSans-110\"/>\r\n       <path d=\"M 56.203125 29.59375 \r\nL 56.203125 25.203125 \r\nL 14.890625 25.203125 \r\nQ 15.484375 15.921875 20.484375 11.0625 \r\nQ 25.484375 6.203125 34.421875 6.203125 \r\nQ 39.59375 6.203125 44.453125 7.46875 \r\nQ 49.3125 8.734375 54.109375 11.28125 \r\nL 54.109375 2.78125 \r\nQ 49.265625 0.734375 44.1875 -0.34375 \r\nQ 39.109375 -1.421875 33.890625 -1.421875 \r\nQ 20.796875 -1.421875 13.15625 6.1875 \r\nQ 5.515625 13.8125 5.515625 26.8125 \r\nQ 5.515625 40.234375 12.765625 48.109375 \r\nQ 20.015625 56 32.328125 56 \r\nQ 43.359375 56 49.78125 48.890625 \r\nQ 56.203125 41.796875 56.203125 29.59375 \r\nz\r\nM 47.21875 32.234375 \r\nQ 47.125 39.59375 43.09375 43.984375 \r\nQ 39.0625 48.390625 32.421875 48.390625 \r\nQ 24.90625 48.390625 20.390625 44.140625 \r\nQ 15.875 39.890625 15.1875 32.171875 \r\nz\r\n\" id=\"DejaVuSans-101\"/>\r\n       <path d=\"M 34.28125 27.484375 \r\nQ 23.390625 27.484375 19.1875 25 \r\nQ 14.984375 22.515625 14.984375 16.5 \r\nQ 14.984375 11.71875 18.140625 8.90625 \r\nQ 21.296875 6.109375 26.703125 6.109375 \r\nQ 34.1875 6.109375 38.703125 11.40625 \r\nQ 43.21875 16.703125 43.21875 25.484375 \r\nL 43.21875 27.484375 \r\nz\r\nM 52.203125 31.203125 \r\nL 52.203125 0 \r\nL 43.21875 0 \r\nL 43.21875 8.296875 \r\nQ 40.140625 3.328125 35.546875 0.953125 \r\nQ 30.953125 -1.421875 24.3125 -1.421875 \r\nQ 15.921875 -1.421875 10.953125 3.296875 \r\nQ 6 8.015625 6 15.921875 \r\nQ 6 25.140625 12.171875 29.828125 \r\nQ 18.359375 34.515625 30.609375 34.515625 \r\nL 43.21875 34.515625 \r\nL 43.21875 35.40625 \r\nQ 43.21875 41.609375 39.140625 45 \r\nQ 35.0625 48.390625 27.6875 48.390625 \r\nQ 23 48.390625 18.546875 47.265625 \r\nQ 14.109375 46.140625 10.015625 43.890625 \r\nL 10.015625 52.203125 \r\nQ 14.9375 54.109375 19.578125 55.046875 \r\nQ 24.21875 56 28.609375 56 \r\nQ 40.484375 56 46.34375 49.84375 \r\nQ 52.203125 43.703125 52.203125 31.203125 \r\nz\r\n\" id=\"DejaVuSans-97\"/>\r\n       <path d=\"M 41.109375 46.296875 \r\nQ 39.59375 47.171875 37.8125 47.578125 \r\nQ 36.03125 48 33.890625 48 \r\nQ 26.265625 48 22.1875 43.046875 \r\nQ 18.109375 38.09375 18.109375 28.8125 \r\nL 18.109375 0 \r\nL 9.078125 0 \r\nL 9.078125 54.6875 \r\nL 18.109375 54.6875 \r\nL 18.109375 46.1875 \r\nQ 20.953125 51.171875 25.484375 53.578125 \r\nQ 30.03125 56 36.53125 56 \r\nQ 37.453125 56 38.578125 55.875 \r\nQ 39.703125 55.765625 41.0625 55.515625 \r\nz\r\n\" id=\"DejaVuSans-114\"/>\r\n       <path id=\"DejaVuSans-32\"/>\r\n       <path d=\"M 19.671875 64.796875 \r\nL 19.671875 8.109375 \r\nL 31.59375 8.109375 \r\nQ 46.6875 8.109375 53.6875 14.9375 \r\nQ 60.6875 21.78125 60.6875 36.53125 \r\nQ 60.6875 51.171875 53.6875 57.984375 \r\nQ 46.6875 64.796875 31.59375 64.796875 \r\nz\r\nM 9.8125 72.90625 \r\nL 30.078125 72.90625 \r\nQ 51.265625 72.90625 61.171875 64.09375 \r\nQ 71.09375 55.28125 71.09375 36.53125 \r\nQ 71.09375 17.671875 61.125 8.828125 \r\nQ 51.171875 0 30.078125 0 \r\nL 9.8125 0 \r\nz\r\n\" id=\"DejaVuSans-68\"/>\r\n       <path d=\"M 44.28125 53.078125 \r\nL 44.28125 44.578125 \r\nQ 40.484375 46.53125 36.375 47.5 \r\nQ 32.28125 48.484375 27.875 48.484375 \r\nQ 21.1875 48.484375 17.84375 46.4375 \r\nQ 14.5 44.390625 14.5 40.28125 \r\nQ 14.5 37.15625 16.890625 35.375 \r\nQ 19.28125 33.59375 26.515625 31.984375 \r\nL 29.59375 31.296875 \r\nQ 39.15625 29.25 43.1875 25.515625 \r\nQ 47.21875 21.78125 47.21875 15.09375 \r\nQ 47.21875 7.46875 41.1875 3.015625 \r\nQ 35.15625 -1.421875 24.609375 -1.421875 \r\nQ 20.21875 -1.421875 15.453125 -0.5625 \r\nQ 10.6875 0.296875 5.421875 2 \r\nL 5.421875 11.28125 \r\nQ 10.40625 8.6875 15.234375 7.390625 \r\nQ 20.0625 6.109375 24.8125 6.109375 \r\nQ 31.15625 6.109375 34.5625 8.28125 \r\nQ 37.984375 10.453125 37.984375 14.40625 \r\nQ 37.984375 18.0625 35.515625 20.015625 \r\nQ 33.0625 21.96875 24.703125 23.78125 \r\nL 21.578125 24.515625 \r\nQ 13.234375 26.265625 9.515625 29.90625 \r\nQ 5.8125 33.546875 5.8125 39.890625 \r\nQ 5.8125 47.609375 11.28125 51.796875 \r\nQ 16.75 56 26.8125 56 \r\nQ 31.78125 56 36.171875 55.265625 \r\nQ 40.578125 54.546875 44.28125 53.078125 \r\nz\r\n\" id=\"DejaVuSans-115\"/>\r\n       <path d=\"M 48.78125 52.59375 \r\nL 48.78125 44.1875 \r\nQ 44.96875 46.296875 41.140625 47.34375 \r\nQ 37.3125 48.390625 33.40625 48.390625 \r\nQ 24.65625 48.390625 19.8125 42.84375 \r\nQ 14.984375 37.3125 14.984375 27.296875 \r\nQ 14.984375 17.28125 19.8125 11.734375 \r\nQ 24.65625 6.203125 33.40625 6.203125 \r\nQ 37.3125 6.203125 41.140625 7.25 \r\nQ 44.96875 8.296875 48.78125 10.40625 \r\nL 48.78125 2.09375 \r\nQ 45.015625 0.34375 40.984375 -0.53125 \r\nQ 36.96875 -1.421875 32.421875 -1.421875 \r\nQ 20.0625 -1.421875 12.78125 6.34375 \r\nQ 5.515625 14.109375 5.515625 27.296875 \r\nQ 5.515625 40.671875 12.859375 48.328125 \r\nQ 20.21875 56 33.015625 56 \r\nQ 37.15625 56 41.109375 55.140625 \r\nQ 45.0625 54.296875 48.78125 52.59375 \r\nz\r\n\" id=\"DejaVuSans-99\"/>\r\n       <path d=\"M 52 44.1875 \r\nQ 55.375 50.25 60.0625 53.125 \r\nQ 64.75 56 71.09375 56 \r\nQ 79.640625 56 84.28125 50.015625 \r\nQ 88.921875 44.046875 88.921875 33.015625 \r\nL 88.921875 0 \r\nL 79.890625 0 \r\nL 79.890625 32.71875 \r\nQ 79.890625 40.578125 77.09375 44.375 \r\nQ 74.3125 48.1875 68.609375 48.1875 \r\nQ 61.625 48.1875 57.5625 43.546875 \r\nQ 53.515625 38.921875 53.515625 30.90625 \r\nL 53.515625 0 \r\nL 44.484375 0 \r\nL 44.484375 32.71875 \r\nQ 44.484375 40.625 41.703125 44.40625 \r\nQ 38.921875 48.1875 33.109375 48.1875 \r\nQ 26.21875 48.1875 22.15625 43.53125 \r\nQ 18.109375 38.875 18.109375 30.90625 \r\nL 18.109375 0 \r\nL 9.078125 0 \r\nL 9.078125 54.6875 \r\nL 18.109375 54.6875 \r\nL 18.109375 46.1875 \r\nQ 21.1875 51.21875 25.484375 53.609375 \r\nQ 29.78125 56 35.6875 56 \r\nQ 41.65625 56 45.828125 52.96875 \r\nQ 50 49.953125 52 44.1875 \r\nz\r\n\" id=\"DejaVuSans-109\"/>\r\n       <path d=\"M 18.3125 70.21875 \r\nL 18.3125 54.6875 \r\nL 36.8125 54.6875 \r\nL 36.8125 47.703125 \r\nL 18.3125 47.703125 \r\nL 18.3125 18.015625 \r\nQ 18.3125 11.328125 20.140625 9.421875 \r\nQ 21.96875 7.515625 27.59375 7.515625 \r\nL 36.8125 7.515625 \r\nL 36.8125 0 \r\nL 27.59375 0 \r\nQ 17.1875 0 13.234375 3.875 \r\nQ 9.28125 7.765625 9.28125 18.015625 \r\nL 9.28125 47.703125 \r\nL 2.6875 47.703125 \r\nL 2.6875 54.6875 \r\nL 9.28125 54.6875 \r\nL 9.28125 70.21875 \r\nz\r\n\" id=\"DejaVuSans-116\"/>\r\n      </defs>\r\n      <use xlink:href=\"#DejaVuSans-76\"/>\r\n      <use x=\"55.712891\" xlink:href=\"#DejaVuSans-105\"/>\r\n      <use x=\"83.496094\" xlink:href=\"#DejaVuSans-110\"/>\r\n      <use x=\"146.875\" xlink:href=\"#DejaVuSans-101\"/>\r\n      <use x=\"208.398438\" xlink:href=\"#DejaVuSans-97\"/>\r\n      <use x=\"269.677734\" xlink:href=\"#DejaVuSans-114\"/>\r\n      <use x=\"310.791016\" xlink:href=\"#DejaVuSans-32\"/>\r\n      <use x=\"342.578125\" xlink:href=\"#DejaVuSans-68\"/>\r\n      <use x=\"419.580078\" xlink:href=\"#DejaVuSans-105\"/>\r\n      <use x=\"447.363281\" xlink:href=\"#DejaVuSans-115\"/>\r\n      <use x=\"499.462891\" xlink:href=\"#DejaVuSans-99\"/>\r\n      <use x=\"554.443359\" xlink:href=\"#DejaVuSans-114\"/>\r\n      <use x=\"595.556641\" xlink:href=\"#DejaVuSans-105\"/>\r\n      <use x=\"623.339844\" xlink:href=\"#DejaVuSans-109\"/>\r\n      <use x=\"720.751953\" xlink:href=\"#DejaVuSans-105\"/>\r\n      <use x=\"748.535156\" xlink:href=\"#DejaVuSans-110\"/>\r\n      <use x=\"811.914062\" xlink:href=\"#DejaVuSans-97\"/>\r\n      <use x=\"873.193359\" xlink:href=\"#DejaVuSans-110\"/>\r\n      <use x=\"936.572266\" xlink:href=\"#DejaVuSans-116\"/>\r\n      <use x=\"975.78125\" xlink:href=\"#DejaVuSans-115\"/>\r\n     </g>\r\n    </g>\r\n   </g>\r\n   <g id=\"matplotlib.axis_2\">\r\n    <g id=\"ytick_1\">\r\n     <g id=\"line2d_8\">\r\n      <defs>\r\n       <path d=\"M 0 0 \r\nL -3.5 0 \r\n\" id=\"mf4f9dc6e05\" style=\"stroke:#000000;stroke-width:0.8;\"/>\r\n      </defs>\r\n      <g>\r\n       <use style=\"stroke:#000000;stroke-width:0.8;\" x=\"43.78125\" xlink:href=\"#mf4f9dc6e05\" y=\"224.64\"/>\r\n      </g>\r\n     </g>\r\n     <g id=\"text_9\">\r\n      <!-- 0.0 -->\r\n      <g transform=\"translate(20.878125 228.439219)scale(0.1 -0.1)\">\r\n       <use xlink:href=\"#DejaVuSans-48\"/>\r\n       <use x=\"63.623047\" xlink:href=\"#DejaVuSans-46\"/>\r\n       <use x=\"95.410156\" xlink:href=\"#DejaVuSans-48\"/>\r\n      </g>\r\n     </g>\r\n    </g>\r\n    <g id=\"ytick_2\">\r\n     <g id=\"line2d_9\">\r\n      <g>\r\n       <use style=\"stroke:#000000;stroke-width:0.8;\" x=\"43.78125\" xlink:href=\"#mf4f9dc6e05\" y=\"183.222857\"/>\r\n      </g>\r\n     </g>\r\n     <g id=\"text_10\">\r\n      <!-- 0.2 -->\r\n      <g transform=\"translate(20.878125 187.022076)scale(0.1 -0.1)\">\r\n       <use xlink:href=\"#DejaVuSans-48\"/>\r\n       <use x=\"63.623047\" xlink:href=\"#DejaVuSans-46\"/>\r\n       <use x=\"95.410156\" xlink:href=\"#DejaVuSans-50\"/>\r\n      </g>\r\n     </g>\r\n    </g>\r\n    <g id=\"ytick_3\">\r\n     <g id=\"line2d_10\">\r\n      <g>\r\n       <use style=\"stroke:#000000;stroke-width:0.8;\" x=\"43.78125\" xlink:href=\"#mf4f9dc6e05\" y=\"141.805714\"/>\r\n      </g>\r\n     </g>\r\n     <g id=\"text_11\">\r\n      <!-- 0.4 -->\r\n      <g transform=\"translate(20.878125 145.604933)scale(0.1 -0.1)\">\r\n       <defs>\r\n        <path d=\"M 37.796875 64.3125 \r\nL 12.890625 25.390625 \r\nL 37.796875 25.390625 \r\nz\r\nM 35.203125 72.90625 \r\nL 47.609375 72.90625 \r\nL 47.609375 25.390625 \r\nL 58.015625 25.390625 \r\nL 58.015625 17.1875 \r\nL 47.609375 17.1875 \r\nL 47.609375 0 \r\nL 37.796875 0 \r\nL 37.796875 17.1875 \r\nL 4.890625 17.1875 \r\nL 4.890625 26.703125 \r\nz\r\n\" id=\"DejaVuSans-52\"/>\r\n       </defs>\r\n       <use xlink:href=\"#DejaVuSans-48\"/>\r\n       <use x=\"63.623047\" xlink:href=\"#DejaVuSans-46\"/>\r\n       <use x=\"95.410156\" xlink:href=\"#DejaVuSans-52\"/>\r\n      </g>\r\n     </g>\r\n    </g>\r\n    <g id=\"ytick_4\">\r\n     <g id=\"line2d_11\">\r\n      <g>\r\n       <use style=\"stroke:#000000;stroke-width:0.8;\" x=\"43.78125\" xlink:href=\"#mf4f9dc6e05\" y=\"100.388571\"/>\r\n      </g>\r\n     </g>\r\n     <g id=\"text_12\">\r\n      <!-- 0.6 -->\r\n      <g transform=\"translate(20.878125 104.18779)scale(0.1 -0.1)\">\r\n       <defs>\r\n        <path d=\"M 33.015625 40.375 \r\nQ 26.375 40.375 22.484375 35.828125 \r\nQ 18.609375 31.296875 18.609375 23.390625 \r\nQ 18.609375 15.53125 22.484375 10.953125 \r\nQ 26.375 6.390625 33.015625 6.390625 \r\nQ 39.65625 6.390625 43.53125 10.953125 \r\nQ 47.40625 15.53125 47.40625 23.390625 \r\nQ 47.40625 31.296875 43.53125 35.828125 \r\nQ 39.65625 40.375 33.015625 40.375 \r\nz\r\nM 52.59375 71.296875 \r\nL 52.59375 62.3125 \r\nQ 48.875 64.0625 45.09375 64.984375 \r\nQ 41.3125 65.921875 37.59375 65.921875 \r\nQ 27.828125 65.921875 22.671875 59.328125 \r\nQ 17.53125 52.734375 16.796875 39.40625 \r\nQ 19.671875 43.65625 24.015625 45.921875 \r\nQ 28.375 48.1875 33.59375 48.1875 \r\nQ 44.578125 48.1875 50.953125 41.515625 \r\nQ 57.328125 34.859375 57.328125 23.390625 \r\nQ 57.328125 12.15625 50.6875 5.359375 \r\nQ 44.046875 -1.421875 33.015625 -1.421875 \r\nQ 20.359375 -1.421875 13.671875 8.265625 \r\nQ 6.984375 17.96875 6.984375 36.375 \r\nQ 6.984375 53.65625 15.1875 63.9375 \r\nQ 23.390625 74.21875 37.203125 74.21875 \r\nQ 40.921875 74.21875 44.703125 73.484375 \r\nQ 48.484375 72.75 52.59375 71.296875 \r\nz\r\n\" id=\"DejaVuSans-54\"/>\r\n       </defs>\r\n       <use xlink:href=\"#DejaVuSans-48\"/>\r\n       <use x=\"63.623047\" xlink:href=\"#DejaVuSans-46\"/>\r\n       <use x=\"95.410156\" xlink:href=\"#DejaVuSans-54\"/>\r\n      </g>\r\n     </g>\r\n    </g>\r\n    <g id=\"ytick_5\">\r\n     <g id=\"line2d_12\">\r\n      <g>\r\n       <use style=\"stroke:#000000;stroke-width:0.8;\" x=\"43.78125\" xlink:href=\"#mf4f9dc6e05\" y=\"58.971429\"/>\r\n      </g>\r\n     </g>\r\n     <g id=\"text_13\">\r\n      <!-- 0.8 -->\r\n      <g transform=\"translate(20.878125 62.770647)scale(0.1 -0.1)\">\r\n       <defs>\r\n        <path d=\"M 31.78125 34.625 \r\nQ 24.75 34.625 20.71875 30.859375 \r\nQ 16.703125 27.09375 16.703125 20.515625 \r\nQ 16.703125 13.921875 20.71875 10.15625 \r\nQ 24.75 6.390625 31.78125 6.390625 \r\nQ 38.8125 6.390625 42.859375 10.171875 \r\nQ 46.921875 13.96875 46.921875 20.515625 \r\nQ 46.921875 27.09375 42.890625 30.859375 \r\nQ 38.875 34.625 31.78125 34.625 \r\nz\r\nM 21.921875 38.8125 \r\nQ 15.578125 40.375 12.03125 44.71875 \r\nQ 8.5 49.078125 8.5 55.328125 \r\nQ 8.5 64.0625 14.71875 69.140625 \r\nQ 20.953125 74.21875 31.78125 74.21875 \r\nQ 42.671875 74.21875 48.875 69.140625 \r\nQ 55.078125 64.0625 55.078125 55.328125 \r\nQ 55.078125 49.078125 51.53125 44.71875 \r\nQ 48 40.375 41.703125 38.8125 \r\nQ 48.828125 37.15625 52.796875 32.3125 \r\nQ 56.78125 27.484375 56.78125 20.515625 \r\nQ 56.78125 9.90625 50.3125 4.234375 \r\nQ 43.84375 -1.421875 31.78125 -1.421875 \r\nQ 19.734375 -1.421875 13.25 4.234375 \r\nQ 6.78125 9.90625 6.78125 20.515625 \r\nQ 6.78125 27.484375 10.78125 32.3125 \r\nQ 14.796875 37.15625 21.921875 38.8125 \r\nz\r\nM 18.3125 54.390625 \r\nQ 18.3125 48.734375 21.84375 45.5625 \r\nQ 25.390625 42.390625 31.78125 42.390625 \r\nQ 38.140625 42.390625 41.71875 45.5625 \r\nQ 45.3125 48.734375 45.3125 54.390625 \r\nQ 45.3125 60.0625 41.71875 63.234375 \r\nQ 38.140625 66.40625 31.78125 66.40625 \r\nQ 25.390625 66.40625 21.84375 63.234375 \r\nQ 18.3125 60.0625 18.3125 54.390625 \r\nz\r\n\" id=\"DejaVuSans-56\"/>\r\n       </defs>\r\n       <use xlink:href=\"#DejaVuSans-48\"/>\r\n       <use x=\"63.623047\" xlink:href=\"#DejaVuSans-46\"/>\r\n       <use x=\"95.410156\" xlink:href=\"#DejaVuSans-56\"/>\r\n      </g>\r\n     </g>\r\n    </g>\r\n    <g id=\"ytick_6\">\r\n     <g id=\"line2d_13\">\r\n      <g>\r\n       <use style=\"stroke:#000000;stroke-width:0.8;\" x=\"43.78125\" xlink:href=\"#mf4f9dc6e05\" y=\"17.554286\"/>\r\n      </g>\r\n     </g>\r\n     <g id=\"text_14\">\r\n      <!-- 1.0 -->\r\n      <g transform=\"translate(20.878125 21.353504)scale(0.1 -0.1)\">\r\n       <use xlink:href=\"#DejaVuSans-49\"/>\r\n       <use x=\"63.623047\" xlink:href=\"#DejaVuSans-46\"/>\r\n       <use x=\"95.410156\" xlink:href=\"#DejaVuSans-48\"/>\r\n      </g>\r\n     </g>\r\n    </g>\r\n    <g id=\"text_15\">\r\n     <!-- \"discriminability\" ratio -->\r\n     <g transform=\"translate(14.798438 171.752031)rotate(-90)scale(0.1 -0.1)\">\r\n      <defs>\r\n       <path d=\"M 17.921875 72.90625 \r\nL 17.921875 45.796875 \r\nL 9.625 45.796875 \r\nL 9.625 72.90625 \r\nz\r\nM 36.375 72.90625 \r\nL 36.375 45.796875 \r\nL 28.078125 45.796875 \r\nL 28.078125 72.90625 \r\nz\r\n\" id=\"DejaVuSans-34\"/>\r\n       <path d=\"M 45.40625 46.390625 \r\nL 45.40625 75.984375 \r\nL 54.390625 75.984375 \r\nL 54.390625 0 \r\nL 45.40625 0 \r\nL 45.40625 8.203125 \r\nQ 42.578125 3.328125 38.25 0.953125 \r\nQ 33.9375 -1.421875 27.875 -1.421875 \r\nQ 17.96875 -1.421875 11.734375 6.484375 \r\nQ 5.515625 14.40625 5.515625 27.296875 \r\nQ 5.515625 40.1875 11.734375 48.09375 \r\nQ 17.96875 56 27.875 56 \r\nQ 33.9375 56 38.25 53.625 \r\nQ 42.578125 51.265625 45.40625 46.390625 \r\nz\r\nM 14.796875 27.296875 \r\nQ 14.796875 17.390625 18.875 11.75 \r\nQ 22.953125 6.109375 30.078125 6.109375 \r\nQ 37.203125 6.109375 41.296875 11.75 \r\nQ 45.40625 17.390625 45.40625 27.296875 \r\nQ 45.40625 37.203125 41.296875 42.84375 \r\nQ 37.203125 48.484375 30.078125 48.484375 \r\nQ 22.953125 48.484375 18.875 42.84375 \r\nQ 14.796875 37.203125 14.796875 27.296875 \r\nz\r\n\" id=\"DejaVuSans-100\"/>\r\n       <path d=\"M 48.6875 27.296875 \r\nQ 48.6875 37.203125 44.609375 42.84375 \r\nQ 40.53125 48.484375 33.40625 48.484375 \r\nQ 26.265625 48.484375 22.1875 42.84375 \r\nQ 18.109375 37.203125 18.109375 27.296875 \r\nQ 18.109375 17.390625 22.1875 11.75 \r\nQ 26.265625 6.109375 33.40625 6.109375 \r\nQ 40.53125 6.109375 44.609375 11.75 \r\nQ 48.6875 17.390625 48.6875 27.296875 \r\nz\r\nM 18.109375 46.390625 \r\nQ 20.953125 51.265625 25.265625 53.625 \r\nQ 29.59375 56 35.59375 56 \r\nQ 45.5625 56 51.78125 48.09375 \r\nQ 58.015625 40.1875 58.015625 27.296875 \r\nQ 58.015625 14.40625 51.78125 6.484375 \r\nQ 45.5625 -1.421875 35.59375 -1.421875 \r\nQ 29.59375 -1.421875 25.265625 0.953125 \r\nQ 20.953125 3.328125 18.109375 8.203125 \r\nL 18.109375 0 \r\nL 9.078125 0 \r\nL 9.078125 75.984375 \r\nL 18.109375 75.984375 \r\nz\r\n\" id=\"DejaVuSans-98\"/>\r\n       <path d=\"M 9.421875 75.984375 \r\nL 18.40625 75.984375 \r\nL 18.40625 0 \r\nL 9.421875 0 \r\nz\r\n\" id=\"DejaVuSans-108\"/>\r\n       <path d=\"M 32.171875 -5.078125 \r\nQ 28.375 -14.84375 24.75 -17.8125 \r\nQ 21.140625 -20.796875 15.09375 -20.796875 \r\nL 7.90625 -20.796875 \r\nL 7.90625 -13.28125 \r\nL 13.1875 -13.28125 \r\nQ 16.890625 -13.28125 18.9375 -11.515625 \r\nQ 21 -9.765625 23.484375 -3.21875 \r\nL 25.09375 0.875 \r\nL 2.984375 54.6875 \r\nL 12.5 54.6875 \r\nL 29.59375 11.921875 \r\nL 46.6875 54.6875 \r\nL 56.203125 54.6875 \r\nz\r\n\" id=\"DejaVuSans-121\"/>\r\n       <path d=\"M 30.609375 48.390625 \r\nQ 23.390625 48.390625 19.1875 42.75 \r\nQ 14.984375 37.109375 14.984375 27.296875 \r\nQ 14.984375 17.484375 19.15625 11.84375 \r\nQ 23.34375 6.203125 30.609375 6.203125 \r\nQ 37.796875 6.203125 41.984375 11.859375 \r\nQ 46.1875 17.53125 46.1875 27.296875 \r\nQ 46.1875 37.015625 41.984375 42.703125 \r\nQ 37.796875 48.390625 30.609375 48.390625 \r\nz\r\nM 30.609375 56 \r\nQ 42.328125 56 49.015625 48.375 \r\nQ 55.71875 40.765625 55.71875 27.296875 \r\nQ 55.71875 13.875 49.015625 6.21875 \r\nQ 42.328125 -1.421875 30.609375 -1.421875 \r\nQ 18.84375 -1.421875 12.171875 6.21875 \r\nQ 5.515625 13.875 5.515625 27.296875 \r\nQ 5.515625 40.765625 12.171875 48.375 \r\nQ 18.84375 56 30.609375 56 \r\nz\r\n\" id=\"DejaVuSans-111\"/>\r\n      </defs>\r\n      <use xlink:href=\"#DejaVuSans-34\"/>\r\n      <use x=\"45.996094\" xlink:href=\"#DejaVuSans-100\"/>\r\n      <use x=\"109.472656\" xlink:href=\"#DejaVuSans-105\"/>\r\n      <use x=\"137.255859\" xlink:href=\"#DejaVuSans-115\"/>\r\n      <use x=\"189.355469\" xlink:href=\"#DejaVuSans-99\"/>\r\n      <use x=\"244.335938\" xlink:href=\"#DejaVuSans-114\"/>\r\n      <use x=\"285.449219\" xlink:href=\"#DejaVuSans-105\"/>\r\n      <use x=\"313.232422\" xlink:href=\"#DejaVuSans-109\"/>\r\n      <use x=\"410.644531\" xlink:href=\"#DejaVuSans-105\"/>\r\n      <use x=\"438.427734\" xlink:href=\"#DejaVuSans-110\"/>\r\n      <use x=\"501.806641\" xlink:href=\"#DejaVuSans-97\"/>\r\n      <use x=\"563.085938\" xlink:href=\"#DejaVuSans-98\"/>\r\n      <use x=\"626.5625\" xlink:href=\"#DejaVuSans-105\"/>\r\n      <use x=\"654.345703\" xlink:href=\"#DejaVuSans-108\"/>\r\n      <use x=\"682.128906\" xlink:href=\"#DejaVuSans-105\"/>\r\n      <use x=\"709.912109\" xlink:href=\"#DejaVuSans-116\"/>\r\n      <use x=\"749.121094\" xlink:href=\"#DejaVuSans-121\"/>\r\n      <use x=\"808.300781\" xlink:href=\"#DejaVuSans-34\"/>\r\n      <use x=\"854.296875\" xlink:href=\"#DejaVuSans-32\"/>\r\n      <use x=\"886.083984\" xlink:href=\"#DejaVuSans-114\"/>\r\n      <use x=\"927.197266\" xlink:href=\"#DejaVuSans-97\"/>\r\n      <use x=\"988.476562\" xlink:href=\"#DejaVuSans-116\"/>\r\n      <use x=\"1027.685547\" xlink:href=\"#DejaVuSans-105\"/>\r\n      <use x=\"1055.46875\" xlink:href=\"#DejaVuSans-111\"/>\r\n     </g>\r\n    </g>\r\n   </g>\r\n   <g id=\"line2d_14\">\r\n    <path clip-path=\"url(#p76a8c7a7a4)\" d=\"M 126.635795 82.272943 \r\nL 211.18125 82.272943 \r\nL 211.18125 17.554286 \r\nL 295.726705 17.554286 \r\n\" style=\"fill:none;stroke:#1f77b4;stroke-linecap:square;stroke-width:1.5;\"/>\r\n   </g>\r\n   <g id=\"patch_5\">\r\n    <path d=\"M 43.78125 224.64 \r\nL 43.78125 7.2 \r\n\" style=\"fill:none;stroke:#000000;stroke-linecap:square;stroke-linejoin:miter;stroke-width:0.8;\"/>\r\n   </g>\r\n   <g id=\"patch_6\">\r\n    <path d=\"M 378.58125 224.64 \r\nL 378.58125 7.2 \r\n\" style=\"fill:none;stroke:#000000;stroke-linecap:square;stroke-linejoin:miter;stroke-width:0.8;\"/>\r\n   </g>\r\n   <g id=\"patch_7\">\r\n    <path d=\"M 43.78125 224.64 \r\nL 378.58125 224.64 \r\n\" style=\"fill:none;stroke:#000000;stroke-linecap:square;stroke-linejoin:miter;stroke-width:0.8;\"/>\r\n   </g>\r\n   <g id=\"patch_8\">\r\n    <path d=\"M 43.78125 7.2 \r\nL 378.58125 7.2 \r\n\" style=\"fill:none;stroke:#000000;stroke-linecap:square;stroke-linejoin:miter;stroke-width:0.8;\"/>\r\n   </g>\r\n  </g>\r\n </g>\r\n <defs>\r\n  <clipPath id=\"p76a8c7a7a4\">\r\n   <rect height=\"217.44\" width=\"334.8\" x=\"43.78125\" y=\"7.2\"/>\r\n  </clipPath>\r\n </defs>\r\n</svg>\r\n",
      "text/plain": [
       "<Figure size 432x288 with 1 Axes>"
      ]
     },
     "metadata": {
      "needs_background": "light"
     }
    }
   ],
   "metadata": {}
  },
  {
   "cell_type": "markdown",
   "source": [
    "### Transformation"
   ],
   "metadata": {}
  },
  {
   "cell_type": "code",
   "execution_count": 76,
   "source": [
    "# Columns names\r\n",
    "cols = [f'pca_{i}' for i in range(1,n_components+1) ]\r\n",
    "\r\n",
    "# Transformation from SKL\r\n",
    "X_std_pca = lda.transform(X_std)\r\n",
    "print('From SKL')\r\n",
    "display(pd.DataFrame(data=X_std_pca, columns=cols).head())\r\n",
    "\r\n",
    "# Verification\r\n",
    "Z = X_std.dot(W)\r\n",
    "print('Verification')\r\n",
    "display(pd.DataFrame(data=Z, columns=cols).head())"
   ],
   "outputs": [
    {
     "output_type": "stream",
     "name": "stdout",
     "text": [
      "From SKL\n"
     ]
    },
    {
     "output_type": "display_data",
     "data": {
      "text/html": [
       "<div>\n",
       "<style scoped>\n",
       "    .dataframe tbody tr th:only-of-type {\n",
       "        vertical-align: middle;\n",
       "    }\n",
       "\n",
       "    .dataframe tbody tr th {\n",
       "        vertical-align: top;\n",
       "    }\n",
       "\n",
       "    .dataframe thead th {\n",
       "        text-align: right;\n",
       "    }\n",
       "</style>\n",
       "<table border=\"1\" class=\"dataframe\">\n",
       "  <thead>\n",
       "    <tr style=\"text-align: right;\">\n",
       "      <th></th>\n",
       "      <th>pca_1</th>\n",
       "      <th>pca_2</th>\n",
       "    </tr>\n",
       "  </thead>\n",
       "  <tbody>\n",
       "    <tr>\n",
       "      <th>0</th>\n",
       "      <td>4.700244</td>\n",
       "      <td>1.979138</td>\n",
       "    </tr>\n",
       "    <tr>\n",
       "      <th>1</th>\n",
       "      <td>4.301958</td>\n",
       "      <td>1.170413</td>\n",
       "    </tr>\n",
       "    <tr>\n",
       "      <th>2</th>\n",
       "      <td>3.420720</td>\n",
       "      <td>1.429101</td>\n",
       "    </tr>\n",
       "    <tr>\n",
       "      <th>3</th>\n",
       "      <td>4.205754</td>\n",
       "      <td>4.002871</td>\n",
       "    </tr>\n",
       "    <tr>\n",
       "      <th>4</th>\n",
       "      <td>1.509982</td>\n",
       "      <td>0.451224</td>\n",
       "    </tr>\n",
       "  </tbody>\n",
       "</table>\n",
       "</div>"
      ],
      "text/plain": [
       "      pca_1     pca_2\n",
       "0  4.700244  1.979138\n",
       "1  4.301958  1.170413\n",
       "2  3.420720  1.429101\n",
       "3  4.205754  4.002871\n",
       "4  1.509982  0.451224"
      ]
     },
     "metadata": {}
    },
    {
     "output_type": "stream",
     "name": "stdout",
     "text": [
      "Verification\n"
     ]
    },
    {
     "output_type": "display_data",
     "data": {
      "text/html": [
       "<div>\n",
       "<style scoped>\n",
       "    .dataframe tbody tr th:only-of-type {\n",
       "        vertical-align: middle;\n",
       "    }\n",
       "\n",
       "    .dataframe tbody tr th {\n",
       "        vertical-align: top;\n",
       "    }\n",
       "\n",
       "    .dataframe thead th {\n",
       "        text-align: right;\n",
       "    }\n",
       "</style>\n",
       "<table border=\"1\" class=\"dataframe\">\n",
       "  <thead>\n",
       "    <tr style=\"text-align: right;\">\n",
       "      <th></th>\n",
       "      <th>pca_1</th>\n",
       "      <th>pca_2</th>\n",
       "    </tr>\n",
       "  </thead>\n",
       "  <tbody>\n",
       "    <tr>\n",
       "      <th>0</th>\n",
       "      <td>4.700244</td>\n",
       "      <td>1.979138</td>\n",
       "    </tr>\n",
       "    <tr>\n",
       "      <th>1</th>\n",
       "      <td>4.301958</td>\n",
       "      <td>1.170413</td>\n",
       "    </tr>\n",
       "    <tr>\n",
       "      <th>2</th>\n",
       "      <td>3.420720</td>\n",
       "      <td>1.429101</td>\n",
       "    </tr>\n",
       "    <tr>\n",
       "      <th>3</th>\n",
       "      <td>4.205754</td>\n",
       "      <td>4.002871</td>\n",
       "    </tr>\n",
       "    <tr>\n",
       "      <th>4</th>\n",
       "      <td>1.509982</td>\n",
       "      <td>0.451224</td>\n",
       "    </tr>\n",
       "  </tbody>\n",
       "</table>\n",
       "</div>"
      ],
      "text/plain": [
       "      pca_1     pca_2\n",
       "0  4.700244  1.979138\n",
       "1  4.301958  1.170413\n",
       "2  3.420720  1.429101\n",
       "3  4.205754  4.002871\n",
       "4  1.509982  0.451224"
      ]
     },
     "metadata": {}
    }
   ],
   "metadata": {}
  },
  {
   "cell_type": "markdown",
   "source": [
    "## Using LDA as visualization tool"
   ],
   "metadata": {}
  },
  {
   "cell_type": "markdown",
   "source": [
    "### Without LDA"
   ],
   "metadata": {}
  },
  {
   "cell_type": "code",
   "execution_count": 77,
   "source": [
    "colors = [\"r\", \"b\", \"g\"]\r\n",
    "markers = [\"s\", \"x\", \"o\"]\r\n",
    "fig, ax = plt.subplots()\r\n",
    "for l, c, m in zip(np.unique(y), colors, markers):\r\n",
    "    ax.scatter(X_std[y == l, 0], X_std[y == l, 1], c=c, label=l, marker=m)\r\n",
    "ax.set_xlabel(dfX.columns[0])\r\n",
    "ax.set_ylabel(dfX.columns[1])\r\n",
    "ax.legend(loc=\"lower left\")\r\n",
    "plt.tight_layout()\r\n",
    "plt.show()"
   ],
   "outputs": [
    {
     "output_type": "display_data",
     "data": {
      "image/png": "[encoded data removed]",
      "image/svg+xml": "<?xml version=\"1.0\" encoding=\"utf-8\" standalone=\"no\"?>\r\n<!DOCTYPE svg PUBLIC \"-//W3C//DTD SVG 1.1//EN\"\r\n  \"http://www.w3.org/Graphics/SVG/1.1/DTD/svg11.dtd\">\r\n<!-- Created with matplotlib (https://matplotlib.org/) -->\r\n<svg height=\"280.15625pt\" version=\"1.1\" viewBox=\"0 0 423.842187 280.15625\" width=\"423.842187pt\" xmlns=\"http://www.w3.org/2000/svg\" xmlns:xlink=\"http://www.w3.org/1999/xlink\">\r\n <metadata>\r\n  <rdf:RDF xmlns:cc=\"http://creativecommons.org/ns#\" xmlns:dc=\"http://purl.org/dc/elements/1.1/\" xmlns:rdf=\"http://www.w3.org/1999/02/22-rdf-syntax-ns#\">\r\n   <cc:Work>\r\n    <dc:type rdf:resource=\"http://purl.org/dc/dcmitype/StillImage\"/>\r\n    <dc:date>2021-09-04T19:38:06.764769</dc:date>\r\n    <dc:format>image/svg+xml</dc:format>\r\n    <dc:creator>\r\n     <cc:Agent>\r\n      <dc:title>Matplotlib v3.3.4, https://matplotlib.org/</dc:title>\r\n     </cc:Agent>\r\n    </dc:creator>\r\n   </cc:Work>\r\n  </rdf:RDF>\r\n </metadata>\r\n <defs>\r\n  <style type=\"text/css\">*{stroke-linecap:butt;stroke-linejoin:round;}</style>\r\n </defs>\r\n <g id=\"figure_1\">\r\n  <g id=\"patch_1\">\r\n   <path d=\"M 0 280.15625 \r\nL 423.842187 280.15625 \r\nL 423.842187 0 \r\nL 0 0 \r\nz\r\n\" style=\"fill:none;\"/>\r\n  </g>\r\n  <g id=\"axes_1\">\r\n   <g id=\"patch_2\">\r\n    <path d=\"M 42.898438 242.6 \r\nL 416.642187 242.6 \r\nL 416.642187 7.2 \r\nL 42.898438 7.2 \r\nz\r\n\" style=\"fill:#ffffff;\"/>\r\n   </g>\r\n   <g id=\"PathCollection_1\">\r\n    <defs>\r\n     <path d=\"M -3 3 \r\nL 3 3 \r\nL 3 -3 \r\nL -3 -3 \r\nz\r\n\" id=\"m48abb73ef7\" style=\"stroke:#ff0000;\"/>\r\n    </defs>\r\n    <g clip-path=\"url(#p36c0b1dac0)\">\r\n     <use style=\"fill:#ff0000;stroke:#ff0000;\" x=\"346.006407\" xlink:href=\"#m48abb73ef7\" y=\"190.876285\"/>\r\n     <use style=\"fill:#ff0000;stroke:#ff0000;\" x=\"253.911655\" xlink:href=\"#m48abb73ef7\" y=\"187.91581\"/>\r\n     <use style=\"fill:#ff0000;stroke:#ff0000;\" x=\"250.33516\" xlink:href=\"#m48abb73ef7\" y=\"163.386166\"/>\r\n     <use style=\"fill:#ff0000;stroke:#ff0000;\" x=\"358.52414\" xlink:href=\"#m48abb73ef7\" y=\"180.726087\"/>\r\n     <use style=\"fill:#ff0000;stroke:#ff0000;\" x=\"257.48815\" xlink:href=\"#m48abb73ef7\" y=\"153.658893\"/>\r\n     <use style=\"fill:#ff0000;stroke:#ff0000;\" x=\"343.324036\" xlink:href=\"#m48abb73ef7\" y=\"188.76166\"/>\r\n     <use style=\"fill:#ff0000;stroke:#ff0000;\" x=\"360.312388\" xlink:href=\"#m48abb73ef7\" y=\"184.109486\"/>\r\n     <use style=\"fill:#ff0000;stroke:#ff0000;\" x=\"330.806302\" xlink:href=\"#m48abb73ef7\" y=\"172.267589\"/>\r\n     <use style=\"fill:#ff0000;stroke:#ff0000;\" x=\"399.653835\" xlink:href=\"#m48abb73ef7\" y=\"193.836759\"/>\r\n     <use style=\"fill:#ff0000;stroke:#ff0000;\" x=\"312.923826\" xlink:href=\"#m48abb73ef7\" y=\"206.101581\"/>\r\n     <use style=\"fill:#ff0000;stroke:#ff0000;\" x=\"334.382798\" xlink:href=\"#m48abb73ef7\" y=\"171.844664\"/>\r\n     <use style=\"fill:#ff0000;stroke:#ff0000;\" x=\"336.171045\" xlink:href=\"#m48abb73ef7\" y=\"200.603557\"/>\r\n     <use style=\"fill:#ff0000;stroke:#ff0000;\" x=\"303.088464\" xlink:href=\"#m48abb73ef7\" y=\"190.030435\"/>\r\n     <use style=\"fill:#ff0000;stroke:#ff0000;\" x=\"392.500845\" xlink:href=\"#m48abb73ef7\" y=\"190.030435\"/>\r\n     <use style=\"fill:#ff0000;stroke:#ff0000;\" x=\"359.418264\" xlink:href=\"#m48abb73ef7\" y=\"184.109486\"/>\r\n     <use style=\"fill:#ff0000;stroke:#ff0000;\" x=\"292.358979\" xlink:href=\"#m48abb73ef7\" y=\"186.647036\"/>\r\n     <use style=\"fill:#ff0000;stroke:#ff0000;\" x=\"352.265274\" xlink:href=\"#m48abb73ef7\" y=\"181.994862\"/>\r\n     <use style=\"fill:#ff0000;stroke:#ff0000;\" x=\"310.241455\" xlink:href=\"#m48abb73ef7\" y=\"196.797233\"/>\r\n     <use style=\"fill:#ff0000;stroke:#ff0000;\" x=\"342.429912\" xlink:href=\"#m48abb73ef7\" y=\"195.951383\"/>\r\n     <use style=\"fill:#ff0000;stroke:#ff0000;\" x=\"293.253103\" xlink:href=\"#m48abb73ef7\" y=\"132.089723\"/>\r\n     <use style=\"fill:#ff0000;stroke:#ff0000;\" x=\"330.806302\" xlink:href=\"#m48abb73ef7\" y=\"194.259684\"/>\r\n     <use style=\"fill:#ff0000;stroke:#ff0000;\" x=\"229.770312\" xlink:href=\"#m48abb73ef7\" y=\"102.48498\"/>\r\n     <use style=\"fill:#ff0000;stroke:#ff0000;\" x=\"299.511969\" xlink:href=\"#m48abb73ef7\" y=\"184.532411\"/>\r\n     <use style=\"fill:#ff0000;stroke:#ff0000;\" x=\"222.617322\" xlink:href=\"#m48abb73ef7\" y=\"195.528458\"/>\r\n     <use style=\"fill:#ff0000;stroke:#ff0000;\" x=\"280.735369\" xlink:href=\"#m48abb73ef7\" y=\"186.647036\"/>\r\n     <use style=\"fill:#ff0000;stroke:#ff0000;\" x=\"240.499798\" xlink:href=\"#m48abb73ef7\" y=\"176.496838\"/>\r\n     <use style=\"fill:#ff0000;stroke:#ff0000;\" x=\"270.900007\" xlink:href=\"#m48abb73ef7\" y=\"188.338735\"/>\r\n     <use style=\"fill:#ff0000;stroke:#ff0000;\" x=\"262.852893\" xlink:href=\"#m48abb73ef7\" y=\"190.45336\"/>\r\n     <use style=\"fill:#ff0000;stroke:#ff0000;\" x=\"313.81795\" xlink:href=\"#m48abb73ef7\" y=\"182.840711\"/>\r\n     <use style=\"fill:#ff0000;stroke:#ff0000;\" x=\"327.229807\" xlink:href=\"#m48abb73ef7\" y=\"192.145059\"/>\r\n     <use style=\"fill:#ff0000;stroke:#ff0000;\" x=\"301.300217\" xlink:href=\"#m48abb73ef7\" y=\"199.757708\"/>\r\n     <use style=\"fill:#ff0000;stroke:#ff0000;\" x=\"287.88836\" xlink:href=\"#m48abb73ef7\" y=\"192.990909\"/>\r\n     <use style=\"fill:#ff0000;stroke:#ff0000;\" x=\"296.829598\" xlink:href=\"#m48abb73ef7\" y=\"185.801186\"/>\r\n     <use style=\"fill:#ff0000;stroke:#ff0000;\" x=\"303.982588\" xlink:href=\"#m48abb73ef7\" y=\"198.488933\"/>\r\n     <use style=\"fill:#ff0000;stroke:#ff0000;\" x=\"281.629493\" xlink:href=\"#m48abb73ef7\" y=\"187.06996\"/>\r\n     <use style=\"fill:#ff0000;stroke:#ff0000;\" x=\"278.947122\" xlink:href=\"#m48abb73ef7\" y=\"186.647036\"/>\r\n     <use style=\"fill:#ff0000;stroke:#ff0000;\" x=\"261.064646\" xlink:href=\"#m48abb73ef7\" y=\"193.836759\"/>\r\n     <use style=\"fill:#ff0000;stroke:#ff0000;\" x=\"240.499798\" xlink:href=\"#m48abb73ef7\" y=\"193.413834\"/>\r\n     <use style=\"fill:#ff0000;stroke:#ff0000;\" x=\"242.288046\" xlink:href=\"#m48abb73ef7\" y=\"199.757708\"/>\r\n     <use style=\"fill:#ff0000;stroke:#ff0000;\" x=\"345.112283\" xlink:href=\"#m48abb73ef7\" y=\"94.449407\"/>\r\n     <use style=\"fill:#ff0000;stroke:#ff0000;\" x=\"286.100112\" xlink:href=\"#m48abb73ef7\" y=\"190.876285\"/>\r\n     <use style=\"fill:#ff0000;stroke:#ff0000;\" x=\"272.688255\" xlink:href=\"#m48abb73ef7\" y=\"100.793281\"/>\r\n     <use style=\"fill:#ff0000;stroke:#ff0000;\" x=\"314.712074\" xlink:href=\"#m48abb73ef7\" y=\"183.263636\"/>\r\n     <use style=\"fill:#ff0000;stroke:#ff0000;\" x=\"257.48815\" xlink:href=\"#m48abb73ef7\" y=\"94.872332\"/>\r\n     <use style=\"fill:#ff0000;stroke:#ff0000;\" x=\"240.499798\" xlink:href=\"#m48abb73ef7\" y=\"188.338735\"/>\r\n     <use style=\"fill:#ff0000;stroke:#ff0000;\" x=\"344.218159\" xlink:href=\"#m48abb73ef7\" y=\"92.334783\"/>\r\n     <use style=\"fill:#ff0000;stroke:#ff0000;\" x=\"359.418264\" xlink:href=\"#m48abb73ef7\" y=\"111.366403\"/>\r\n     <use style=\"fill:#ff0000;stroke:#ff0000;\" x=\"316.500321\" xlink:href=\"#m48abb73ef7\" y=\"192.145059\"/>\r\n     <use style=\"fill:#ff0000;stroke:#ff0000;\" x=\"334.382798\" xlink:href=\"#m48abb73ef7\" y=\"177.765613\"/>\r\n     <use style=\"fill:#ff0000;stroke:#ff0000;\" x=\"320.076817\" xlink:href=\"#m48abb73ef7\" y=\"190.030435\"/>\r\n     <use style=\"fill:#ff0000;stroke:#ff0000;\" x=\"240.499798\" xlink:href=\"#m48abb73ef7\" y=\"190.030435\"/>\r\n     <use style=\"fill:#ff0000;stroke:#ff0000;\" x=\"310.241455\" xlink:href=\"#m48abb73ef7\" y=\"193.413834\"/>\r\n     <use style=\"fill:#ff0000;stroke:#ff0000;\" x=\"309.347331\" xlink:href=\"#m48abb73ef7\" y=\"189.184585\"/>\r\n     <use style=\"fill:#ff0000;stroke:#ff0000;\" x=\"304.876712\" xlink:href=\"#m48abb73ef7\" y=\"182.840711\"/>\r\n     <use style=\"fill:#ff0000;stroke:#ff0000;\" x=\"302.194341\" xlink:href=\"#m48abb73ef7\" y=\"192.567984\"/>\r\n     <use style=\"fill:#ff0000;stroke:#ff0000;\" x=\"286.100112\" xlink:href=\"#m48abb73ef7\" y=\"190.030435\"/>\r\n     <use style=\"fill:#ff0000;stroke:#ff0000;\" x=\"345.112283\" xlink:href=\"#m48abb73ef7\" y=\"191.299209\"/>\r\n     <use style=\"fill:#ff0000;stroke:#ff0000;\" x=\"261.958769\" xlink:href=\"#m48abb73ef7\" y=\"179.880237\"/>\r\n     <use style=\"fill:#ff0000;stroke:#ff0000;\" x=\"300.406093\" xlink:href=\"#m48abb73ef7\" y=\"202.718182\"/>\r\n    </g>\r\n   </g>\r\n   <g id=\"PathCollection_2\">\r\n    <defs>\r\n     <path d=\"M -3 3 \r\nL 3 -3 \r\nM -3 -3 \r\nL 3 3 \r\n\" id=\"me2a3b3e59c\" style=\"stroke:#0000ff;stroke-width:1.5;\"/>\r\n    </defs>\r\n    <g clip-path=\"url(#p36c0b1dac0)\">\r\n     <use style=\"fill:#0000ff;stroke:#0000ff;stroke-width:1.5;\" x=\"179.699379\" xlink:href=\"#me2a3b3e59c\" y=\"223.441502\"/>\r\n     <use style=\"fill:#0000ff;stroke:#0000ff;stroke-width:1.5;\" x=\"176.122884\" xlink:href=\"#me2a3b3e59c\" y=\"216.674704\"/>\r\n     <use style=\"fill:#0000ff;stroke:#0000ff;stroke-width:1.5;\" x=\"203.840722\" xlink:href=\"#me2a3b3e59c\" y=\"205.678656\"/>\r\n     <use style=\"fill:#0000ff;stroke:#0000ff;stroke-width:1.5;\" x=\"295.935474\" xlink:href=\"#me2a3b3e59c\" y=\"210.33083\"/>\r\n     <use style=\"fill:#0000ff;stroke:#0000ff;stroke-width:1.5;\" x=\"179.699379\" xlink:href=\"#me2a3b3e59c\" y=\"215.405929\"/>\r\n     <use style=\"fill:#0000ff;stroke:#0000ff;stroke-width:1.5;\" x=\"161.816903\" xlink:href=\"#me2a3b3e59c\" y=\"201.872332\"/>\r\n     <use style=\"fill:#0000ff;stroke:#0000ff;stroke-width:1.5;\" x=\"179.699379\" xlink:href=\"#me2a3b3e59c\" y=\"212.02253\"/>\r\n     <use style=\"fill:#0000ff;stroke:#0000ff;stroke-width:1.5;\" x=\"245.864541\" xlink:href=\"#me2a3b3e59c\" y=\"220.481028\"/>\r\n     <use style=\"fill:#0000ff;stroke:#0000ff;stroke-width:1.5;\" x=\"179.699379\" xlink:href=\"#me2a3b3e59c\" y=\"213.714229\"/>\r\n     <use style=\"fill:#0000ff;stroke:#0000ff;stroke-width:1.5;\" x=\"266.429388\" xlink:href=\"#me2a3b3e59c\" y=\"223.441502\"/>\r\n     <use style=\"fill:#0000ff;stroke:#0000ff;stroke-width:1.5;\" x=\"165.393399\" xlink:href=\"#me2a3b3e59c\" y=\"212.868379\"/>\r\n     <use style=\"fill:#0000ff;stroke:#0000ff;stroke-width:1.5;\" x=\"172.546389\" xlink:href=\"#me2a3b3e59c\" y=\"195.105534\"/>\r\n     <use style=\"fill:#0000ff;stroke:#0000ff;stroke-width:1.5;\" x=\"312.923826\" xlink:href=\"#me2a3b3e59c\" y=\"199.334783\"/>\r\n     <use style=\"fill:#0000ff;stroke:#0000ff;stroke-width:1.5;\" x=\"279.841246\" xlink:href=\"#me2a3b3e59c\" y=\"192.990909\"/>\r\n     <use style=\"fill:#0000ff;stroke:#0000ff;stroke-width:1.5;\" x=\"235.135055\" xlink:href=\"#me2a3b3e59c\" y=\"192.567984\"/>\r\n     <use style=\"fill:#0000ff;stroke:#0000ff;stroke-width:1.5;\" x=\"143.040304\" xlink:href=\"#me2a3b3e59c\" y=\"217.097628\"/>\r\n     <use style=\"fill:#0000ff;stroke:#0000ff;stroke-width:1.5;\" x=\"116.216589\" xlink:href=\"#me2a3b3e59c\" y=\"183.686561\"/>\r\n     <use style=\"fill:#0000ff;stroke:#0000ff;stroke-width:1.5;\" x=\"238.711551\" xlink:href=\"#me2a3b3e59c\" y=\"225.133202\"/>\r\n     <use style=\"fill:#0000ff;stroke:#0000ff;stroke-width:1.5;\" x=\"132.310818\" xlink:href=\"#me2a3b3e59c\" y=\"140.971146\"/>\r\n     <use style=\"fill:#0000ff;stroke:#0000ff;stroke-width:1.5;\" x=\"176.122884\" xlink:href=\"#me2a3b3e59c\" y=\"221.326877\"/>\r\n     <use style=\"fill:#0000ff;stroke:#0000ff;stroke-width:1.5;\" x=\"209.205465\" xlink:href=\"#me2a3b3e59c\" y=\"99.524506\"/>\r\n     <use style=\"fill:#0000ff;stroke:#0000ff;stroke-width:1.5;\" x=\"146.616799\" xlink:href=\"#me2a3b3e59c\" y=\"224.287352\"/>\r\n     <use style=\"fill:#0000ff;stroke:#0000ff;stroke-width:1.5;\" x=\"210.993713\" xlink:href=\"#me2a3b3e59c\" y=\"186.647036\"/>\r\n     <use style=\"fill:#0000ff;stroke:#0000ff;stroke-width:1.5;\" x=\"153.769789\" xlink:href=\"#me2a3b3e59c\" y=\"215.405929\"/>\r\n     <use style=\"fill:#0000ff;stroke:#0000ff;stroke-width:1.5;\" x=\"240.499798\" xlink:href=\"#me2a3b3e59c\" y=\"99.947431\"/>\r\n     <use style=\"fill:#0000ff;stroke:#0000ff;stroke-width:1.5;\" x=\"132.310818\" xlink:href=\"#me2a3b3e59c\" y=\"225.556126\"/>\r\n     <use style=\"fill:#0000ff;stroke:#0000ff;stroke-width:1.5;\" x=\"206.523094\" xlink:href=\"#me2a3b3e59c\" y=\"221.749802\"/>\r\n     <use style=\"fill:#0000ff;stroke:#0000ff;stroke-width:1.5;\" x=\"160.92278\" xlink:href=\"#me2a3b3e59c\" y=\"195.105534\"/>\r\n     <use style=\"fill:#0000ff;stroke:#0000ff;stroke-width:1.5;\" x=\"115.322466\" xlink:href=\"#me2a3b3e59c\" y=\"192.567984\"/>\r\n     <use style=\"fill:#0000ff;stroke:#0000ff;stroke-width:1.5;\" x=\"114.428342\" xlink:href=\"#me2a3b3e59c\" y=\"176.073913\"/>\r\n     <use style=\"fill:#0000ff;stroke:#0000ff;stroke-width:1.5;\" x=\"153.769789\" xlink:href=\"#me2a3b3e59c\" y=\"206.947431\"/>\r\n     <use style=\"fill:#0000ff;stroke:#0000ff;stroke-width:1.5;\" x=\"153.769789\" xlink:href=\"#me2a3b3e59c\" y=\"185.801186\"/>\r\n     <use style=\"fill:#0000ff;stroke:#0000ff;stroke-width:1.5;\" x=\"146.616799\" xlink:href=\"#me2a3b3e59c\" y=\"199.334783\"/>\r\n     <use style=\"fill:#0000ff;stroke:#0000ff;stroke-width:1.5;\" x=\"208.311341\" xlink:href=\"#me2a3b3e59c\" y=\"198.488933\"/>\r\n     <use style=\"fill:#0000ff;stroke:#0000ff;stroke-width:1.5;\" x=\"172.546389\" xlink:href=\"#me2a3b3e59c\" y=\"143.508696\"/>\r\n     <use style=\"fill:#0000ff;stroke:#0000ff;stroke-width:1.5;\" x=\"112.640094\" xlink:href=\"#me2a3b3e59c\" y=\"179.034387\"/>\r\n     <use style=\"fill:#0000ff;stroke:#0000ff;stroke-width:1.5;\" x=\"188.640618\" xlink:href=\"#me2a3b3e59c\" y=\"198.911858\"/>\r\n     <use style=\"fill:#0000ff;stroke:#0000ff;stroke-width:1.5;\" x=\"129.628446\" xlink:href=\"#me2a3b3e59c\" y=\"173.536364\"/>\r\n     <use style=\"fill:#0000ff;stroke:#0000ff;stroke-width:1.5;\" x=\"172.546389\" xlink:href=\"#me2a3b3e59c\" y=\"203.564032\"/>\r\n     <use style=\"fill:#0000ff;stroke:#0000ff;stroke-width:1.5;\" x=\"179.699379\" xlink:href=\"#me2a3b3e59c\" y=\"217.943478\"/>\r\n     <use style=\"fill:#0000ff;stroke:#0000ff;stroke-width:1.5;\" x=\"172.546389\" xlink:href=\"#me2a3b3e59c\" y=\"129.129249\"/>\r\n     <use style=\"fill:#0000ff;stroke:#0000ff;stroke-width:1.5;\" x=\"153.769789\" xlink:href=\"#me2a3b3e59c\" y=\"175.228063\"/>\r\n     <use style=\"fill:#0000ff;stroke:#0000ff;stroke-width:1.5;\" x=\"200.264227\" xlink:href=\"#me2a3b3e59c\" y=\"206.524506\"/>\r\n     <use style=\"fill:#0000ff;stroke:#0000ff;stroke-width:1.5;\" x=\"177.017008\" xlink:href=\"#me2a3b3e59c\" y=\"159.579842\"/>\r\n     <use style=\"fill:#0000ff;stroke:#0000ff;stroke-width:1.5;\" x=\"130.52257\" xlink:href=\"#me2a3b3e59c\" y=\"190.45336\"/>\r\n     <use style=\"fill:#0000ff;stroke:#0000ff;stroke-width:1.5;\" x=\"192.217113\" xlink:href=\"#me2a3b3e59c\" y=\"190.030435\"/>\r\n     <use style=\"fill:#0000ff;stroke:#0000ff;stroke-width:1.5;\" x=\"184.169999\" xlink:href=\"#me2a3b3e59c\" y=\"155.350593\"/>\r\n     <use style=\"fill:#0000ff;stroke:#0000ff;stroke-width:1.5;\" x=\"168.969894\" xlink:href=\"#me2a3b3e59c\" y=\"190.030435\"/>\r\n     <use style=\"fill:#0000ff;stroke:#0000ff;stroke-width:1.5;\" x=\"210.993713\" xlink:href=\"#me2a3b3e59c\" y=\"189.184585\"/>\r\n     <use style=\"fill:#0000ff;stroke:#0000ff;stroke-width:1.5;\" x=\"166.287522\" xlink:href=\"#me2a3b3e59c\" y=\"208.63913\"/>\r\n     <use style=\"fill:#0000ff;stroke:#0000ff;stroke-width:1.5;\" x=\"111.74597\" xlink:href=\"#me2a3b3e59c\" y=\"206.101581\"/>\r\n     <use style=\"fill:#0000ff;stroke:#0000ff;stroke-width:1.5;\" x=\"98.334113\" xlink:href=\"#me2a3b3e59c\" y=\"105.02253\"/>\r\n     <use style=\"fill:#0000ff;stroke:#0000ff;stroke-width:1.5;\" x=\"193.111237\" xlink:href=\"#me2a3b3e59c\" y=\"160.425692\"/>\r\n     <use style=\"fill:#0000ff;stroke:#0000ff;stroke-width:1.5;\" x=\"125.157827\" xlink:href=\"#me2a3b3e59c\" y=\"149.852569\"/>\r\n     <use style=\"fill:#0000ff;stroke:#0000ff;stroke-width:1.5;\" x=\"93.863494\" xlink:href=\"#me2a3b3e59c\" y=\"231.9\"/>\r\n     <use style=\"fill:#0000ff;stroke:#0000ff;stroke-width:1.5;\" x=\"153.769789\" xlink:href=\"#me2a3b3e59c\" y=\"204.409881\"/>\r\n     <use style=\"fill:#0000ff;stroke:#0000ff;stroke-width:1.5;\" x=\"59.88679\" xlink:href=\"#me2a3b3e59c\" y=\"199.334783\"/>\r\n     <use style=\"fill:#0000ff;stroke:#0000ff;stroke-width:1.5;\" x=\"130.52257\" xlink:href=\"#me2a3b3e59c\" y=\"201.026482\"/>\r\n     <use style=\"fill:#0000ff;stroke:#0000ff;stroke-width:1.5;\" x=\"184.169999\" xlink:href=\"#me2a3b3e59c\" y=\"195.105534\"/>\r\n     <use style=\"fill:#0000ff;stroke:#0000ff;stroke-width:1.5;\" x=\"215.464332\" xlink:href=\"#me2a3b3e59c\" y=\"118.133202\"/>\r\n     <use style=\"fill:#0000ff;stroke:#0000ff;stroke-width:1.5;\" x=\"146.616799\" xlink:href=\"#me2a3b3e59c\" y=\"118.133202\"/>\r\n     <use style=\"fill:#0000ff;stroke:#0000ff;stroke-width:1.5;\" x=\"97.43999\" xlink:href=\"#me2a3b3e59c\" y=\"161.694466\"/>\r\n     <use style=\"fill:#0000ff;stroke:#0000ff;stroke-width:1.5;\" x=\"107.275351\" xlink:href=\"#me2a3b3e59c\" y=\"176.496838\"/>\r\n     <use style=\"fill:#0000ff;stroke:#0000ff;stroke-width:1.5;\" x=\"184.169999\" xlink:href=\"#me2a3b3e59c\" y=\"75.840711\"/>\r\n     <use style=\"fill:#0000ff;stroke:#0000ff;stroke-width:1.5;\" x=\"240.499798\" xlink:href=\"#me2a3b3e59c\" y=\"17.9\"/>\r\n     <use style=\"fill:#0000ff;stroke:#0000ff;stroke-width:1.5;\" x=\"134.993189\" xlink:href=\"#me2a3b3e59c\" y=\"80.91581\"/>\r\n     <use style=\"fill:#0000ff;stroke:#0000ff;stroke-width:1.5;\" x=\"152.875665\" xlink:href=\"#me2a3b3e59c\" y=\"171.844664\"/>\r\n     <use style=\"fill:#0000ff;stroke:#0000ff;stroke-width:1.5;\" x=\"185.064122\" xlink:href=\"#me2a3b3e59c\" y=\"198.488933\"/>\r\n     <use style=\"fill:#0000ff;stroke:#0000ff;stroke-width:1.5;\" x=\"127.840199\" xlink:href=\"#me2a3b3e59c\" y=\"173.113439\"/>\r\n     <use style=\"fill:#0000ff;stroke:#0000ff;stroke-width:1.5;\" x=\"179.699379\" xlink:href=\"#me2a3b3e59c\" y=\"194.259684\"/>\r\n     <use style=\"fill:#0000ff;stroke:#0000ff;stroke-width:1.5;\" x=\"150.193294\" xlink:href=\"#me2a3b3e59c\" y=\"81.338735\"/>\r\n    </g>\r\n   </g>\r\n   <g id=\"PathCollection_3\">\r\n    <defs>\r\n     <path d=\"M 0 3 \r\nC 0.795609 3 1.55874 2.683901 2.12132 2.12132 \r\nC 2.683901 1.55874 3 0.795609 3 0 \r\nC 3 -0.795609 2.683901 -1.55874 2.12132 -2.12132 \r\nC 1.55874 -2.683901 0.795609 -3 0 -3 \r\nC -0.795609 -3 -1.55874 -2.683901 -2.12132 -2.12132 \r\nC -2.683901 -1.55874 -3 -0.795609 -3 0 \r\nC -3 0.795609 -2.683901 1.55874 -2.12132 2.12132 \r\nC -1.55874 2.683901 -0.795609 3 0 3 \r\nz\r\n\" id=\"m70aea74dd0\" style=\"stroke:#008000;\"/>\r\n    </defs>\r\n    <g clip-path=\"url(#p36c0b1dac0)\">\r\n     <use style=\"fill:#008000;stroke:#008000;\" x=\"223.511446\" xlink:href=\"#m70aea74dd0\" y=\"206.101581\"/>\r\n     <use style=\"fill:#008000;stroke:#008000;\" x=\"225.299693\" xlink:href=\"#m70aea74dd0\" y=\"136.741897\"/>\r\n     <use style=\"fill:#008000;stroke:#008000;\" x=\"219.040827\" xlink:href=\"#m70aea74dd0\" y=\"165.500791\"/>\r\n     <use style=\"fill:#008000;stroke:#008000;\" x=\"209.205465\" xlink:href=\"#m70aea74dd0\" y=\"113.058103\"/>\r\n     <use style=\"fill:#008000;stroke:#008000;\" x=\"192.217113\" xlink:href=\"#m70aea74dd0\" y=\"210.753755\"/>\r\n     <use style=\"fill:#008000;stroke:#008000;\" x=\"200.264227\" xlink:href=\"#m70aea74dd0\" y=\"159.156917\"/>\r\n     <use style=\"fill:#008000;stroke:#008000;\" x=\"168.969894\" xlink:href=\"#m70aea74dd0\" y=\"63.575889\"/>\r\n     <use style=\"fill:#008000;stroke:#008000;\" x=\"194.00536\" xlink:href=\"#m70aea74dd0\" y=\"30.164822\"/>\r\n     <use style=\"fill:#008000;stroke:#008000;\" x=\"279.841246\" xlink:href=\"#m70aea74dd0\" y=\"111.366403\"/>\r\n     <use style=\"fill:#008000;stroke:#008000;\" x=\"221.723198\" xlink:href=\"#m70aea74dd0\" y=\"138.010672\"/>\r\n     <use style=\"fill:#008000;stroke:#008000;\" x=\"229.770312\" xlink:href=\"#m70aea74dd0\" y=\"144.354545\"/>\r\n     <use style=\"fill:#008000;stroke:#008000;\" x=\"268.217636\" xlink:href=\"#m70aea74dd0\" y=\"154.927668\"/>\r\n     <use style=\"fill:#008000;stroke:#008000;\" x=\"282.523617\" xlink:href=\"#m70aea74dd0\" y=\"129.129249\"/>\r\n     <use style=\"fill:#008000;stroke:#008000;\" x=\"291.464855\" xlink:href=\"#m70aea74dd0\" y=\"53.848617\"/>\r\n     <use style=\"fill:#008000;stroke:#008000;\" x=\"168.969894\" xlink:href=\"#m70aea74dd0\" y=\"99.101581\"/>\r\n     <use style=\"fill:#008000;stroke:#008000;\" x=\"250.33516\" xlink:href=\"#m70aea74dd0\" y=\"112.212253\"/>\r\n     <use style=\"fill:#008000;stroke:#008000;\" x=\"314.712074\" xlink:href=\"#m70aea74dd0\" y=\"50.042292\"/>\r\n     <use style=\"fill:#008000;stroke:#008000;\" x=\"224.40557\" xlink:href=\"#m70aea74dd0\" y=\"68.228063\"/>\r\n     <use style=\"fill:#008000;stroke:#008000;\" x=\"264.641141\" xlink:href=\"#m70aea74dd0\" y=\"126.168775\"/>\r\n     <use style=\"fill:#008000;stroke:#008000;\" x=\"243.18217\" xlink:href=\"#m70aea74dd0\" y=\"98.255731\"/>\r\n     <use style=\"fill:#008000;stroke:#008000;\" x=\"280.735369\" xlink:href=\"#m70aea74dd0\" y=\"131.243874\"/>\r\n     <use style=\"fill:#008000;stroke:#008000;\" x=\"217.252579\" xlink:href=\"#m70aea74dd0\" y=\"150.275494\"/>\r\n     <use style=\"fill:#008000;stroke:#008000;\" x=\"245.864541\" xlink:href=\"#m70aea74dd0\" y=\"182.840711\"/>\r\n     <use style=\"fill:#008000;stroke:#008000;\" x=\"256.594027\" xlink:href=\"#m70aea74dd0\" y=\"123.631225\"/>\r\n     <use style=\"fill:#008000;stroke:#008000;\" x=\"198.475979\" xlink:href=\"#m70aea74dd0\" y=\"208.63913\"/>\r\n     <use style=\"fill:#008000;stroke:#008000;\" x=\"251.229284\" xlink:href=\"#m70aea74dd0\" y=\"43.698419\"/>\r\n     <use style=\"fill:#008000;stroke:#008000;\" x=\"311.135579\" xlink:href=\"#m70aea74dd0\" y=\"88.951383\"/>\r\n     <use style=\"fill:#008000;stroke:#008000;\" x=\"186.85237\" xlink:href=\"#m70aea74dd0\" y=\"135.050198\"/>\r\n     <use style=\"fill:#008000;stroke:#008000;\" x=\"355.841769\" xlink:href=\"#m70aea74dd0\" y=\"192.145059\"/>\r\n     <use style=\"fill:#008000;stroke:#008000;\" x=\"278.947122\" xlink:href=\"#m70aea74dd0\" y=\"192.567984\"/>\r\n     <use style=\"fill:#008000;stroke:#008000;\" x=\"178.805256\" xlink:href=\"#m70aea74dd0\" y=\"101.216206\"/>\r\n     <use style=\"fill:#008000;stroke:#008000;\" x=\"297.723722\" xlink:href=\"#m70aea74dd0\" y=\"125.322925\"/>\r\n     <use style=\"fill:#008000;stroke:#008000;\" x=\"222.617322\" xlink:href=\"#m70aea74dd0\" y=\"124.9\"/>\r\n     <use style=\"fill:#008000;stroke:#008000;\" x=\"232.452684\" xlink:href=\"#m70aea74dd0\" y=\"117.287352\"/>\r\n     <use style=\"fill:#008000;stroke:#008000;\" x=\"305.770836\" xlink:href=\"#m70aea74dd0\" y=\"146.46917\"/>\r\n     <use style=\"fill:#008000;stroke:#008000;\" x=\"301.300217\" xlink:href=\"#m70aea74dd0\" y=\"78.801186\"/>\r\n     <use style=\"fill:#008000;stroke:#008000;\" x=\"276.26475\" xlink:href=\"#m70aea74dd0\" y=\"106.714229\"/>\r\n     <use style=\"fill:#008000;stroke:#008000;\" x=\"219.934951\" xlink:href=\"#m70aea74dd0\" y=\"120.670751\"/>\r\n     <use style=\"fill:#008000;stroke:#008000;\" x=\"287.88836\" xlink:href=\"#m70aea74dd0\" y=\"154.081818\"/>\r\n     <use style=\"fill:#008000;stroke:#008000;\" x=\"271.794131\" xlink:href=\"#m70aea74dd0\" y=\"68.650988\"/>\r\n     <use style=\"fill:#008000;stroke:#008000;\" x=\"164.499275\" xlink:href=\"#m70aea74dd0\" y=\"135.050198\"/>\r\n     <use style=\"fill:#008000;stroke:#008000;\" x=\"215.464332\" xlink:href=\"#m70aea74dd0\" y=\"162.117391\"/>\r\n     <use style=\"fill:#008000;stroke:#008000;\" x=\"339.74754\" xlink:href=\"#m70aea74dd0\" y=\"157.042292\"/>\r\n     <use style=\"fill:#008000;stroke:#008000;\" x=\"299.511969\" xlink:href=\"#m70aea74dd0\" y=\"24.243874\"/>\r\n     <use style=\"fill:#008000;stroke:#008000;\" x=\"271.794131\" xlink:href=\"#m70aea74dd0\" y=\"97.832806\"/>\r\n     <use style=\"fill:#008000;stroke:#008000;\" x=\"260.170522\" xlink:href=\"#m70aea74dd0\" y=\"82.184585\"/>\r\n     <use style=\"fill:#008000;stroke:#008000;\" x=\"251.229284\" xlink:href=\"#m70aea74dd0\" y=\"153.658893\"/>\r\n     <use style=\"fill:#008000;stroke:#008000;\" x=\"337.065169\" xlink:href=\"#m70aea74dd0\" y=\"89.797233\"/>\r\n    </g>\r\n   </g>\r\n   <g id=\"matplotlib.axis_1\">\r\n    <g id=\"xtick_1\">\r\n     <g id=\"line2d_1\">\r\n      <defs>\r\n       <path d=\"M 0 0 \r\nL 0 3.5 \r\n\" id=\"me439b053ff\" style=\"stroke:#000000;stroke-width:0.8;\"/>\r\n      </defs>\r\n      <g>\r\n       <use style=\"stroke:#000000;stroke-width:0.8;\" x=\"91.318116\" xlink:href=\"#me439b053ff\" y=\"242.6\"/>\r\n      </g>\r\n     </g>\r\n     <g id=\"text_1\">\r\n      <!-- −2 -->\r\n      <g transform=\"translate(83.947022 257.198437)scale(0.1 -0.1)\">\r\n       <defs>\r\n        <path d=\"M 10.59375 35.5 \r\nL 73.1875 35.5 \r\nL 73.1875 27.203125 \r\nL 10.59375 27.203125 \r\nz\r\n\" id=\"DejaVuSans-8722\"/>\r\n        <path d=\"M 19.1875 8.296875 \r\nL 53.609375 8.296875 \r\nL 53.609375 0 \r\nL 7.328125 0 \r\nL 7.328125 8.296875 \r\nQ 12.9375 14.109375 22.625 23.890625 \r\nQ 32.328125 33.6875 34.8125 36.53125 \r\nQ 39.546875 41.84375 41.421875 45.53125 \r\nQ 43.3125 49.21875 43.3125 52.78125 \r\nQ 43.3125 58.59375 39.234375 62.25 \r\nQ 35.15625 65.921875 28.609375 65.921875 \r\nQ 23.96875 65.921875 18.8125 64.3125 \r\nQ 13.671875 62.703125 7.8125 59.421875 \r\nL 7.8125 69.390625 \r\nQ 13.765625 71.78125 18.9375 73 \r\nQ 24.125 74.21875 28.421875 74.21875 \r\nQ 39.75 74.21875 46.484375 68.546875 \r\nQ 53.21875 62.890625 53.21875 53.421875 \r\nQ 53.21875 48.921875 51.53125 44.890625 \r\nQ 49.859375 40.875 45.40625 35.40625 \r\nQ 44.1875 33.984375 37.640625 27.21875 \r\nQ 31.109375 20.453125 19.1875 8.296875 \r\nz\r\n\" id=\"DejaVuSans-50\"/>\r\n       </defs>\r\n       <use xlink:href=\"#DejaVuSans-8722\"/>\r\n       <use x=\"83.789062\" xlink:href=\"#DejaVuSans-50\"/>\r\n      </g>\r\n     </g>\r\n    </g>\r\n    <g id=\"xtick_2\">\r\n     <g id=\"line2d_2\">\r\n      <g>\r\n       <use style=\"stroke:#000000;stroke-width:0.8;\" x=\"163.701275\" xlink:href=\"#me439b053ff\" y=\"242.6\"/>\r\n      </g>\r\n     </g>\r\n     <g id=\"text_2\">\r\n      <!-- −1 -->\r\n      <g transform=\"translate(156.330181 257.198437)scale(0.1 -0.1)\">\r\n       <defs>\r\n        <path d=\"M 12.40625 8.296875 \r\nL 28.515625 8.296875 \r\nL 28.515625 63.921875 \r\nL 10.984375 60.40625 \r\nL 10.984375 69.390625 \r\nL 28.421875 72.90625 \r\nL 38.28125 72.90625 \r\nL 38.28125 8.296875 \r\nL 54.390625 8.296875 \r\nL 54.390625 0 \r\nL 12.40625 0 \r\nz\r\n\" id=\"DejaVuSans-49\"/>\r\n       </defs>\r\n       <use xlink:href=\"#DejaVuSans-8722\"/>\r\n       <use x=\"83.789062\" xlink:href=\"#DejaVuSans-49\"/>\r\n      </g>\r\n     </g>\r\n    </g>\r\n    <g id=\"xtick_3\">\r\n     <g id=\"line2d_3\">\r\n      <g>\r\n       <use style=\"stroke:#000000;stroke-width:0.8;\" x=\"236.084434\" xlink:href=\"#me439b053ff\" y=\"242.6\"/>\r\n      </g>\r\n     </g>\r\n     <g id=\"text_3\">\r\n      <!-- 0 -->\r\n      <g transform=\"translate(232.903184 257.198437)scale(0.1 -0.1)\">\r\n       <defs>\r\n        <path d=\"M 31.78125 66.40625 \r\nQ 24.171875 66.40625 20.328125 58.90625 \r\nQ 16.5 51.421875 16.5 36.375 \r\nQ 16.5 21.390625 20.328125 13.890625 \r\nQ 24.171875 6.390625 31.78125 6.390625 \r\nQ 39.453125 6.390625 43.28125 13.890625 \r\nQ 47.125 21.390625 47.125 36.375 \r\nQ 47.125 51.421875 43.28125 58.90625 \r\nQ 39.453125 66.40625 31.78125 66.40625 \r\nz\r\nM 31.78125 74.21875 \r\nQ 44.046875 74.21875 50.515625 64.515625 \r\nQ 56.984375 54.828125 56.984375 36.375 \r\nQ 56.984375 17.96875 50.515625 8.265625 \r\nQ 44.046875 -1.421875 31.78125 -1.421875 \r\nQ 19.53125 -1.421875 13.0625 8.265625 \r\nQ 6.59375 17.96875 6.59375 36.375 \r\nQ 6.59375 54.828125 13.0625 64.515625 \r\nQ 19.53125 74.21875 31.78125 74.21875 \r\nz\r\n\" id=\"DejaVuSans-48\"/>\r\n       </defs>\r\n       <use xlink:href=\"#DejaVuSans-48\"/>\r\n      </g>\r\n     </g>\r\n    </g>\r\n    <g id=\"xtick_4\">\r\n     <g id=\"line2d_4\">\r\n      <g>\r\n       <use style=\"stroke:#000000;stroke-width:0.8;\" x=\"308.467593\" xlink:href=\"#me439b053ff\" y=\"242.6\"/>\r\n      </g>\r\n     </g>\r\n     <g id=\"text_4\">\r\n      <!-- 1 -->\r\n      <g transform=\"translate(305.286343 257.198437)scale(0.1 -0.1)\">\r\n       <use xlink:href=\"#DejaVuSans-49\"/>\r\n      </g>\r\n     </g>\r\n    </g>\r\n    <g id=\"xtick_5\">\r\n     <g id=\"line2d_5\">\r\n      <g>\r\n       <use style=\"stroke:#000000;stroke-width:0.8;\" x=\"380.850752\" xlink:href=\"#me439b053ff\" y=\"242.6\"/>\r\n      </g>\r\n     </g>\r\n     <g id=\"text_5\">\r\n      <!-- 2 -->\r\n      <g transform=\"translate(377.669502 257.198437)scale(0.1 -0.1)\">\r\n       <use xlink:href=\"#DejaVuSans-50\"/>\r\n      </g>\r\n     </g>\r\n    </g>\r\n    <g id=\"text_6\">\r\n     <!-- alcohol -->\r\n     <g transform=\"translate(211.891406 270.876562)scale(0.1 -0.1)\">\r\n      <defs>\r\n       <path d=\"M 34.28125 27.484375 \r\nQ 23.390625 27.484375 19.1875 25 \r\nQ 14.984375 22.515625 14.984375 16.5 \r\nQ 14.984375 11.71875 18.140625 8.90625 \r\nQ 21.296875 6.109375 26.703125 6.109375 \r\nQ 34.1875 6.109375 38.703125 11.40625 \r\nQ 43.21875 16.703125 43.21875 25.484375 \r\nL 43.21875 27.484375 \r\nz\r\nM 52.203125 31.203125 \r\nL 52.203125 0 \r\nL 43.21875 0 \r\nL 43.21875 8.296875 \r\nQ 40.140625 3.328125 35.546875 0.953125 \r\nQ 30.953125 -1.421875 24.3125 -1.421875 \r\nQ 15.921875 -1.421875 10.953125 3.296875 \r\nQ 6 8.015625 6 15.921875 \r\nQ 6 25.140625 12.171875 29.828125 \r\nQ 18.359375 34.515625 30.609375 34.515625 \r\nL 43.21875 34.515625 \r\nL 43.21875 35.40625 \r\nQ 43.21875 41.609375 39.140625 45 \r\nQ 35.0625 48.390625 27.6875 48.390625 \r\nQ 23 48.390625 18.546875 47.265625 \r\nQ 14.109375 46.140625 10.015625 43.890625 \r\nL 10.015625 52.203125 \r\nQ 14.9375 54.109375 19.578125 55.046875 \r\nQ 24.21875 56 28.609375 56 \r\nQ 40.484375 56 46.34375 49.84375 \r\nQ 52.203125 43.703125 52.203125 31.203125 \r\nz\r\n\" id=\"DejaVuSans-97\"/>\r\n       <path d=\"M 9.421875 75.984375 \r\nL 18.40625 75.984375 \r\nL 18.40625 0 \r\nL 9.421875 0 \r\nz\r\n\" id=\"DejaVuSans-108\"/>\r\n       <path d=\"M 48.78125 52.59375 \r\nL 48.78125 44.1875 \r\nQ 44.96875 46.296875 41.140625 47.34375 \r\nQ 37.3125 48.390625 33.40625 48.390625 \r\nQ 24.65625 48.390625 19.8125 42.84375 \r\nQ 14.984375 37.3125 14.984375 27.296875 \r\nQ 14.984375 17.28125 19.8125 11.734375 \r\nQ 24.65625 6.203125 33.40625 6.203125 \r\nQ 37.3125 6.203125 41.140625 7.25 \r\nQ 44.96875 8.296875 48.78125 10.40625 \r\nL 48.78125 2.09375 \r\nQ 45.015625 0.34375 40.984375 -0.53125 \r\nQ 36.96875 -1.421875 32.421875 -1.421875 \r\nQ 20.0625 -1.421875 12.78125 6.34375 \r\nQ 5.515625 14.109375 5.515625 27.296875 \r\nQ 5.515625 40.671875 12.859375 48.328125 \r\nQ 20.21875 56 33.015625 56 \r\nQ 37.15625 56 41.109375 55.140625 \r\nQ 45.0625 54.296875 48.78125 52.59375 \r\nz\r\n\" id=\"DejaVuSans-99\"/>\r\n       <path d=\"M 30.609375 48.390625 \r\nQ 23.390625 48.390625 19.1875 42.75 \r\nQ 14.984375 37.109375 14.984375 27.296875 \r\nQ 14.984375 17.484375 19.15625 11.84375 \r\nQ 23.34375 6.203125 30.609375 6.203125 \r\nQ 37.796875 6.203125 41.984375 11.859375 \r\nQ 46.1875 17.53125 46.1875 27.296875 \r\nQ 46.1875 37.015625 41.984375 42.703125 \r\nQ 37.796875 48.390625 30.609375 48.390625 \r\nz\r\nM 30.609375 56 \r\nQ 42.328125 56 49.015625 48.375 \r\nQ 55.71875 40.765625 55.71875 27.296875 \r\nQ 55.71875 13.875 49.015625 6.21875 \r\nQ 42.328125 -1.421875 30.609375 -1.421875 \r\nQ 18.84375 -1.421875 12.171875 6.21875 \r\nQ 5.515625 13.875 5.515625 27.296875 \r\nQ 5.515625 40.765625 12.171875 48.375 \r\nQ 18.84375 56 30.609375 56 \r\nz\r\n\" id=\"DejaVuSans-111\"/>\r\n       <path d=\"M 54.890625 33.015625 \r\nL 54.890625 0 \r\nL 45.90625 0 \r\nL 45.90625 32.71875 \r\nQ 45.90625 40.484375 42.875 44.328125 \r\nQ 39.84375 48.1875 33.796875 48.1875 \r\nQ 26.515625 48.1875 22.3125 43.546875 \r\nQ 18.109375 38.921875 18.109375 30.90625 \r\nL 18.109375 0 \r\nL 9.078125 0 \r\nL 9.078125 75.984375 \r\nL 18.109375 75.984375 \r\nL 18.109375 46.1875 \r\nQ 21.34375 51.125 25.703125 53.5625 \r\nQ 30.078125 56 35.796875 56 \r\nQ 45.21875 56 50.046875 50.171875 \r\nQ 54.890625 44.34375 54.890625 33.015625 \r\nz\r\n\" id=\"DejaVuSans-104\"/>\r\n      </defs>\r\n      <use xlink:href=\"#DejaVuSans-97\"/>\r\n      <use x=\"61.279297\" xlink:href=\"#DejaVuSans-108\"/>\r\n      <use x=\"89.0625\" xlink:href=\"#DejaVuSans-99\"/>\r\n      <use x=\"144.042969\" xlink:href=\"#DejaVuSans-111\"/>\r\n      <use x=\"205.224609\" xlink:href=\"#DejaVuSans-104\"/>\r\n      <use x=\"268.603516\" xlink:href=\"#DejaVuSans-111\"/>\r\n      <use x=\"329.785156\" xlink:href=\"#DejaVuSans-108\"/>\r\n     </g>\r\n    </g>\r\n   </g>\r\n   <g id=\"matplotlib.axis_2\">\r\n    <g id=\"ytick_1\">\r\n     <g id=\"line2d_6\">\r\n      <defs>\r\n       <path d=\"M 0 0 \r\nL -3.5 0 \r\n\" id=\"m67efbff6ef\" style=\"stroke:#000000;stroke-width:0.8;\"/>\r\n      </defs>\r\n      <g>\r\n       <use style=\"stroke:#000000;stroke-width:0.8;\" x=\"42.898438\" xlink:href=\"#m67efbff6ef\" y=\"211.500442\"/>\r\n      </g>\r\n     </g>\r\n     <g id=\"text_7\">\r\n      <!-- −1 -->\r\n      <g transform=\"translate(21.15625 215.299661)scale(0.1 -0.1)\">\r\n       <use xlink:href=\"#DejaVuSans-8722\"/>\r\n       <use x=\"83.789062\" xlink:href=\"#DejaVuSans-49\"/>\r\n      </g>\r\n     </g>\r\n    </g>\r\n    <g id=\"ytick_2\">\r\n     <g id=\"line2d_7\">\r\n      <g>\r\n       <use style=\"stroke:#000000;stroke-width:0.8;\" x=\"42.898438\" xlink:href=\"#m67efbff6ef\" y=\"164.386455\"/>\r\n      </g>\r\n     </g>\r\n     <g id=\"text_8\">\r\n      <!-- 0 -->\r\n      <g transform=\"translate(29.535938 168.185673)scale(0.1 -0.1)\">\r\n       <use xlink:href=\"#DejaVuSans-48\"/>\r\n      </g>\r\n     </g>\r\n    </g>\r\n    <g id=\"ytick_3\">\r\n     <g id=\"line2d_8\">\r\n      <g>\r\n       <use style=\"stroke:#000000;stroke-width:0.8;\" x=\"42.898438\" xlink:href=\"#m67efbff6ef\" y=\"117.272467\"/>\r\n      </g>\r\n     </g>\r\n     <g id=\"text_9\">\r\n      <!-- 1 -->\r\n      <g transform=\"translate(29.535938 121.071686)scale(0.1 -0.1)\">\r\n       <use xlink:href=\"#DejaVuSans-49\"/>\r\n      </g>\r\n     </g>\r\n    </g>\r\n    <g id=\"ytick_4\">\r\n     <g id=\"line2d_9\">\r\n      <g>\r\n       <use style=\"stroke:#000000;stroke-width:0.8;\" x=\"42.898438\" xlink:href=\"#m67efbff6ef\" y=\"70.15848\"/>\r\n      </g>\r\n     </g>\r\n     <g id=\"text_10\">\r\n      <!-- 2 -->\r\n      <g transform=\"translate(29.535938 73.957699)scale(0.1 -0.1)\">\r\n       <use xlink:href=\"#DejaVuSans-50\"/>\r\n      </g>\r\n     </g>\r\n    </g>\r\n    <g id=\"ytick_5\">\r\n     <g id=\"line2d_10\">\r\n      <g>\r\n       <use style=\"stroke:#000000;stroke-width:0.8;\" x=\"42.898438\" xlink:href=\"#m67efbff6ef\" y=\"23.044493\"/>\r\n      </g>\r\n     </g>\r\n     <g id=\"text_11\">\r\n      <!-- 3 -->\r\n      <g transform=\"translate(29.535938 26.843711)scale(0.1 -0.1)\">\r\n       <defs>\r\n        <path d=\"M 40.578125 39.3125 \r\nQ 47.65625 37.796875 51.625 33 \r\nQ 55.609375 28.21875 55.609375 21.1875 \r\nQ 55.609375 10.40625 48.1875 4.484375 \r\nQ 40.765625 -1.421875 27.09375 -1.421875 \r\nQ 22.515625 -1.421875 17.65625 -0.515625 \r\nQ 12.796875 0.390625 7.625 2.203125 \r\nL 7.625 11.71875 \r\nQ 11.71875 9.328125 16.59375 8.109375 \r\nQ 21.484375 6.890625 26.8125 6.890625 \r\nQ 36.078125 6.890625 40.9375 10.546875 \r\nQ 45.796875 14.203125 45.796875 21.1875 \r\nQ 45.796875 27.640625 41.28125 31.265625 \r\nQ 36.765625 34.90625 28.71875 34.90625 \r\nL 20.21875 34.90625 \r\nL 20.21875 43.015625 \r\nL 29.109375 43.015625 \r\nQ 36.375 43.015625 40.234375 45.921875 \r\nQ 44.09375 48.828125 44.09375 54.296875 \r\nQ 44.09375 59.90625 40.109375 62.90625 \r\nQ 36.140625 65.921875 28.71875 65.921875 \r\nQ 24.65625 65.921875 20.015625 65.03125 \r\nQ 15.375 64.15625 9.8125 62.3125 \r\nL 9.8125 71.09375 \r\nQ 15.4375 72.65625 20.34375 73.4375 \r\nQ 25.25 74.21875 29.59375 74.21875 \r\nQ 40.828125 74.21875 47.359375 69.109375 \r\nQ 53.90625 64.015625 53.90625 55.328125 \r\nQ 53.90625 49.265625 50.4375 45.09375 \r\nQ 46.96875 40.921875 40.578125 39.3125 \r\nz\r\n\" id=\"DejaVuSans-51\"/>\r\n       </defs>\r\n       <use xlink:href=\"#DejaVuSans-51\"/>\r\n      </g>\r\n     </g>\r\n    </g>\r\n    <g id=\"text_12\">\r\n     <!-- malic_acid -->\r\n     <g transform=\"translate(14.798438 151.238281)rotate(-90)scale(0.1 -0.1)\">\r\n      <defs>\r\n       <path d=\"M 52 44.1875 \r\nQ 55.375 50.25 60.0625 53.125 \r\nQ 64.75 56 71.09375 56 \r\nQ 79.640625 56 84.28125 50.015625 \r\nQ 88.921875 44.046875 88.921875 33.015625 \r\nL 88.921875 0 \r\nL 79.890625 0 \r\nL 79.890625 32.71875 \r\nQ 79.890625 40.578125 77.09375 44.375 \r\nQ 74.3125 48.1875 68.609375 48.1875 \r\nQ 61.625 48.1875 57.5625 43.546875 \r\nQ 53.515625 38.921875 53.515625 30.90625 \r\nL 53.515625 0 \r\nL 44.484375 0 \r\nL 44.484375 32.71875 \r\nQ 44.484375 40.625 41.703125 44.40625 \r\nQ 38.921875 48.1875 33.109375 48.1875 \r\nQ 26.21875 48.1875 22.15625 43.53125 \r\nQ 18.109375 38.875 18.109375 30.90625 \r\nL 18.109375 0 \r\nL 9.078125 0 \r\nL 9.078125 54.6875 \r\nL 18.109375 54.6875 \r\nL 18.109375 46.1875 \r\nQ 21.1875 51.21875 25.484375 53.609375 \r\nQ 29.78125 56 35.6875 56 \r\nQ 41.65625 56 45.828125 52.96875 \r\nQ 50 49.953125 52 44.1875 \r\nz\r\n\" id=\"DejaVuSans-109\"/>\r\n       <path d=\"M 9.421875 54.6875 \r\nL 18.40625 54.6875 \r\nL 18.40625 0 \r\nL 9.421875 0 \r\nz\r\nM 9.421875 75.984375 \r\nL 18.40625 75.984375 \r\nL 18.40625 64.59375 \r\nL 9.421875 64.59375 \r\nz\r\n\" id=\"DejaVuSans-105\"/>\r\n       <path d=\"M 50.984375 -16.609375 \r\nL 50.984375 -23.578125 \r\nL -0.984375 -23.578125 \r\nL -0.984375 -16.609375 \r\nz\r\n\" id=\"DejaVuSans-95\"/>\r\n       <path d=\"M 45.40625 46.390625 \r\nL 45.40625 75.984375 \r\nL 54.390625 75.984375 \r\nL 54.390625 0 \r\nL 45.40625 0 \r\nL 45.40625 8.203125 \r\nQ 42.578125 3.328125 38.25 0.953125 \r\nQ 33.9375 -1.421875 27.875 -1.421875 \r\nQ 17.96875 -1.421875 11.734375 6.484375 \r\nQ 5.515625 14.40625 5.515625 27.296875 \r\nQ 5.515625 40.1875 11.734375 48.09375 \r\nQ 17.96875 56 27.875 56 \r\nQ 33.9375 56 38.25 53.625 \r\nQ 42.578125 51.265625 45.40625 46.390625 \r\nz\r\nM 14.796875 27.296875 \r\nQ 14.796875 17.390625 18.875 11.75 \r\nQ 22.953125 6.109375 30.078125 6.109375 \r\nQ 37.203125 6.109375 41.296875 11.75 \r\nQ 45.40625 17.390625 45.40625 27.296875 \r\nQ 45.40625 37.203125 41.296875 42.84375 \r\nQ 37.203125 48.484375 30.078125 48.484375 \r\nQ 22.953125 48.484375 18.875 42.84375 \r\nQ 14.796875 37.203125 14.796875 27.296875 \r\nz\r\n\" id=\"DejaVuSans-100\"/>\r\n      </defs>\r\n      <use xlink:href=\"#DejaVuSans-109\"/>\r\n      <use x=\"97.412109\" xlink:href=\"#DejaVuSans-97\"/>\r\n      <use x=\"158.691406\" xlink:href=\"#DejaVuSans-108\"/>\r\n      <use x=\"186.474609\" xlink:href=\"#DejaVuSans-105\"/>\r\n      <use x=\"214.257812\" xlink:href=\"#DejaVuSans-99\"/>\r\n      <use x=\"269.238281\" xlink:href=\"#DejaVuSans-95\"/>\r\n      <use x=\"319.238281\" xlink:href=\"#DejaVuSans-97\"/>\r\n      <use x=\"380.517578\" xlink:href=\"#DejaVuSans-99\"/>\r\n      <use x=\"435.498047\" xlink:href=\"#DejaVuSans-105\"/>\r\n      <use x=\"463.28125\" xlink:href=\"#DejaVuSans-100\"/>\r\n     </g>\r\n    </g>\r\n   </g>\r\n   <g id=\"patch_3\">\r\n    <path d=\"M 42.898438 242.6 \r\nL 42.898438 7.2 \r\n\" style=\"fill:none;stroke:#000000;stroke-linecap:square;stroke-linejoin:miter;stroke-width:0.8;\"/>\r\n   </g>\r\n   <g id=\"patch_4\">\r\n    <path d=\"M 416.642187 242.6 \r\nL 416.642187 7.2 \r\n\" style=\"fill:none;stroke:#000000;stroke-linecap:square;stroke-linejoin:miter;stroke-width:0.8;\"/>\r\n   </g>\r\n   <g id=\"patch_5\">\r\n    <path d=\"M 42.898437 242.6 \r\nL 416.642187 242.6 \r\n\" style=\"fill:none;stroke:#000000;stroke-linecap:square;stroke-linejoin:miter;stroke-width:0.8;\"/>\r\n   </g>\r\n   <g id=\"patch_6\">\r\n    <path d=\"M 42.898437 7.2 \r\nL 416.642187 7.2 \r\n\" style=\"fill:none;stroke:#000000;stroke-linecap:square;stroke-linejoin:miter;stroke-width:0.8;\"/>\r\n   </g>\r\n   <g id=\"legend_1\">\r\n    <g id=\"patch_7\">\r\n     <path d=\"M 49.898438 237.6 \r\nL 88.260938 237.6 \r\nQ 90.260938 237.6 90.260938 235.6 \r\nL 90.260938 192.565625 \r\nQ 90.260938 190.565625 88.260938 190.565625 \r\nL 49.898438 190.565625 \r\nQ 47.898438 190.565625 47.898438 192.565625 \r\nL 47.898438 235.6 \r\nQ 47.898438 237.6 49.898438 237.6 \r\nz\r\n\" style=\"fill:#ffffff;opacity:0.8;stroke:#cccccc;stroke-linejoin:miter;\"/>\r\n    </g>\r\n    <g id=\"PathCollection_4\">\r\n     <g>\r\n      <use style=\"fill:#ff0000;stroke:#ff0000;\" x=\"61.898438\" xlink:href=\"#m48abb73ef7\" y=\"199.539062\"/>\r\n     </g>\r\n    </g>\r\n    <g id=\"text_13\">\r\n     <!-- 0 -->\r\n     <g transform=\"translate(79.898438 202.164062)scale(0.1 -0.1)\">\r\n      <use xlink:href=\"#DejaVuSans-48\"/>\r\n     </g>\r\n    </g>\r\n    <g id=\"PathCollection_5\">\r\n     <g>\r\n      <use style=\"fill:#0000ff;stroke:#0000ff;stroke-width:1.5;\" x=\"61.898438\" xlink:href=\"#me2a3b3e59c\" y=\"214.217187\"/>\r\n     </g>\r\n    </g>\r\n    <g id=\"text_14\">\r\n     <!-- 1 -->\r\n     <g transform=\"translate(79.898438 216.842187)scale(0.1 -0.1)\">\r\n      <use xlink:href=\"#DejaVuSans-49\"/>\r\n     </g>\r\n    </g>\r\n    <g id=\"PathCollection_6\">\r\n     <g>\r\n      <use style=\"fill:#008000;stroke:#008000;\" x=\"61.898438\" xlink:href=\"#m70aea74dd0\" y=\"228.895312\"/>\r\n     </g>\r\n    </g>\r\n    <g id=\"text_15\">\r\n     <!-- 2 -->\r\n     <g transform=\"translate(79.898438 231.520312)scale(0.1 -0.1)\">\r\n      <use xlink:href=\"#DejaVuSans-50\"/>\r\n     </g>\r\n    </g>\r\n   </g>\r\n  </g>\r\n </g>\r\n <defs>\r\n  <clipPath id=\"p36c0b1dac0\">\r\n   <rect height=\"235.4\" width=\"373.74375\" x=\"42.898438\" y=\"7.2\"/>\r\n  </clipPath>\r\n </defs>\r\n</svg>\r\n",
      "text/plain": [
       "<Figure size 432x288 with 1 Axes>"
      ]
     },
     "metadata": {
      "needs_background": "light"
     }
    }
   ],
   "metadata": {}
  },
  {
   "cell_type": "markdown",
   "source": [
    "### With LDA"
   ],
   "metadata": {}
  },
  {
   "cell_type": "code",
   "execution_count": 78,
   "source": [
    "X_std_lda = LDA(n_components=2).fit_transform(X_std, y)"
   ],
   "outputs": [],
   "metadata": {}
  },
  {
   "cell_type": "code",
   "execution_count": 79,
   "source": [
    "colors = [\"r\", \"b\", \"g\"]\r\n",
    "markers = [\"s\", \"x\", \"o\"]\r\n",
    "fig, ax = plt.subplots()\r\n",
    "for l, c, m in zip(np.unique(y), colors, markers):\r\n",
    "    ax.scatter(X_std_lda[y == l, 0], X_std_lda[y == l, 1], c=c, label=l, marker=m)\r\n",
    "ax.set_xlabel(\"Component 1\")\r\n",
    "ax.set_ylabel(\"Component 2\")\r\n",
    "ax.legend(loc=\"lower left\")\r\n",
    "plt.tight_layout()\r\n",
    "plt.show()"
   ],
   "outputs": [
    {
     "output_type": "display_data",
     "data": {
      "image/png": "[encoded data removed]",
      "image/svg+xml": "<?xml version=\"1.0\" encoding=\"utf-8\" standalone=\"no\"?>\r\n<!DOCTYPE svg PUBLIC \"-//W3C//DTD SVG 1.1//EN\"\r\n  \"http://www.w3.org/Graphics/SVG/1.1/DTD/svg11.dtd\">\r\n<!-- Created with matplotlib (https://matplotlib.org/) -->\r\n<svg height=\"280.15625pt\" version=\"1.1\" viewBox=\"0 0 424.470312 280.15625\" width=\"424.470312pt\" xmlns=\"http://www.w3.org/2000/svg\" xmlns:xlink=\"http://www.w3.org/1999/xlink\">\r\n <metadata>\r\n  <rdf:RDF xmlns:cc=\"http://creativecommons.org/ns#\" xmlns:dc=\"http://purl.org/dc/elements/1.1/\" xmlns:rdf=\"http://www.w3.org/1999/02/22-rdf-syntax-ns#\">\r\n   <cc:Work>\r\n    <dc:type rdf:resource=\"http://purl.org/dc/dcmitype/StillImage\"/>\r\n    <dc:date>2021-09-04T19:38:07.175009</dc:date>\r\n    <dc:format>image/svg+xml</dc:format>\r\n    <dc:creator>\r\n     <cc:Agent>\r\n      <dc:title>Matplotlib v3.3.4, https://matplotlib.org/</dc:title>\r\n     </cc:Agent>\r\n    </dc:creator>\r\n   </cc:Work>\r\n  </rdf:RDF>\r\n </metadata>\r\n <defs>\r\n  <style type=\"text/css\">*{stroke-linecap:butt;stroke-linejoin:round;}</style>\r\n </defs>\r\n <g id=\"figure_1\">\r\n  <g id=\"patch_1\">\r\n   <path d=\"M 0 280.15625 \r\nL 424.470312 280.15625 \r\nL 424.470312 0 \r\nL 0 0 \r\nz\r\n\" style=\"fill:none;\"/>\r\n  </g>\r\n  <g id=\"axes_1\">\r\n   <g id=\"patch_2\">\r\n    <path d=\"M 42.620313 242.6 \r\nL 417.270312 242.6 \r\nL 417.270312 7.2 \r\nL 42.620313 7.2 \r\nz\r\n\" style=\"fill:#ffffff;\"/>\r\n   </g>\r\n   <g id=\"PathCollection_1\">\r\n    <defs>\r\n     <path d=\"M -3 3 \r\nL 3 3 \r\nL 3 -3 \r\nL -3 -3 \r\nz\r\n\" id=\"m3213745444\" style=\"stroke:#ff0000;\"/>\r\n    </defs>\r\n    <g clip-path=\"url(#pec7ae55c94)\">\r\n     <use style=\"fill:#ff0000;stroke:#ff0000;\" x=\"373.547432\" xlink:href=\"#m3213745444\" y=\"61.171187\"/>\r\n     <use style=\"fill:#ff0000;stroke:#ff0000;\" x=\"361.574964\" xlink:href=\"#m3213745444\" y=\"78.463246\"/>\r\n     <use style=\"fill:#ff0000;stroke:#ff0000;\" x=\"335.084947\" xlink:href=\"#m3213745444\" y=\"72.932003\"/>\r\n     <use style=\"fill:#ff0000;stroke:#ff0000;\" x=\"358.68306\" xlink:href=\"#m3213745444\" y=\"17.9\"/>\r\n     <use style=\"fill:#ff0000;stroke:#ff0000;\" x=\"277.6482\" xlink:href=\"#m3213745444\" y=\"93.840847\"/>\r\n     <use style=\"fill:#ff0000;stroke:#ff0000;\" x=\"368.089902\" xlink:href=\"#m3213745444\" y=\"34.785984\"/>\r\n     <use style=\"fill:#ff0000;stroke:#ff0000;\" x=\"368.351081\" xlink:href=\"#m3213745444\" y=\"33.588936\"/>\r\n     <use style=\"fill:#ff0000;stroke:#ff0000;\" x=\"356.957441\" xlink:href=\"#m3213745444\" y=\"37.117032\"/>\r\n     <use style=\"fill:#ff0000;stroke:#ff0000;\" x=\"348.314624\" xlink:href=\"#m3213745444\" y=\"61.721893\"/>\r\n     <use style=\"fill:#ff0000;stroke:#ff0000;\" x=\"333.45885\" xlink:href=\"#m3213745444\" y=\"67.596332\"/>\r\n     <use style=\"fill:#ff0000;stroke:#ff0000;\" x=\"376.72282\" xlink:href=\"#m3213745444\" y=\"55.692633\"/>\r\n     <use style=\"fill:#ff0000;stroke:#ff0000;\" x=\"335.306097\" xlink:href=\"#m3213745444\" y=\"56.980961\"/>\r\n     <use style=\"fill:#ff0000;stroke:#ff0000;\" x=\"342.461154\" xlink:href=\"#m3213745444\" y=\"55.112609\"/>\r\n     <use style=\"fill:#ff0000;stroke:#ff0000;\" x=\"400.240767\" xlink:href=\"#m3213745444\" y=\"59.553663\"/>\r\n     <use style=\"fill:#ff0000;stroke:#ff0000;\" x=\"397.627597\" xlink:href=\"#m3213745444\" y=\"26.235139\"/>\r\n     <use style=\"fill:#ff0000;stroke:#ff0000;\" x=\"327.991764\" xlink:href=\"#m3213745444\" y=\"41.705417\"/>\r\n     <use style=\"fill:#ff0000;stroke:#ff0000;\" x=\"331.136579\" xlink:href=\"#m3213745444\" y=\"44.349983\"/>\r\n     <use style=\"fill:#ff0000;stroke:#ff0000;\" x=\"322.38079\" xlink:href=\"#m3213745444\" y=\"73.017318\"/>\r\n     <use style=\"fill:#ff0000;stroke:#ff0000;\" x=\"389.964983\" xlink:href=\"#m3213745444\" y=\"24.165847\"/>\r\n     <use style=\"fill:#ff0000;stroke:#ff0000;\" x=\"326.542247\" xlink:href=\"#m3213745444\" y=\"61.219064\"/>\r\n     <use style=\"fill:#ff0000;stroke:#ff0000;\" x=\"339.797102\" xlink:href=\"#m3213745444\" y=\"91.462414\"/>\r\n     <use style=\"fill:#ff0000;stroke:#ff0000;\" x=\"283.082735\" xlink:href=\"#m3213745444\" y=\"83.958203\"/>\r\n     <use style=\"fill:#ff0000;stroke:#ff0000;\" x=\"377.602713\" xlink:href=\"#m3213745444\" y=\"83.929521\"/>\r\n     <use style=\"fill:#ff0000;stroke:#ff0000;\" x=\"325.320566\" xlink:href=\"#m3213745444\" y=\"90.288571\"/>\r\n     <use style=\"fill:#ff0000;stroke:#ff0000;\" x=\"332.106834\" xlink:href=\"#m3213745444\" y=\"97.106853\"/>\r\n     <use style=\"fill:#ff0000;stroke:#ff0000;\" x=\"296.731496\" xlink:href=\"#m3213745444\" y=\"99.988805\"/>\r\n     <use style=\"fill:#ff0000;stroke:#ff0000;\" x=\"351.96991\" xlink:href=\"#m3213745444\" y=\"56.979948\"/>\r\n     <use style=\"fill:#ff0000;stroke:#ff0000;\" x=\"312.996715\" xlink:href=\"#m3213745444\" y=\"77.434856\"/>\r\n     <use style=\"fill:#ff0000;stroke:#ff0000;\" x=\"339.364741\" xlink:href=\"#m3213745444\" y=\"81.290706\"/>\r\n     <use style=\"fill:#ff0000;stroke:#ff0000;\" x=\"327.638976\" xlink:href=\"#m3213745444\" y=\"74.026864\"/>\r\n     <use style=\"fill:#ff0000;stroke:#ff0000;\" x=\"322.325941\" xlink:href=\"#m3213745444\" y=\"75.175013\"/>\r\n     <use style=\"fill:#ff0000;stroke:#ff0000;\" x=\"339.532109\" xlink:href=\"#m3213745444\" y=\"53.441292\"/>\r\n     <use style=\"fill:#ff0000;stroke:#ff0000;\" x=\"334.013138\" xlink:href=\"#m3213745444\" y=\"99.186091\"/>\r\n     <use style=\"fill:#ff0000;stroke:#ff0000;\" x=\"338.295894\" xlink:href=\"#m3213745444\" y=\"66.799128\"/>\r\n     <use style=\"fill:#ff0000;stroke:#ff0000;\" x=\"317.986498\" xlink:href=\"#m3213745444\" y=\"72.042382\"/>\r\n     <use style=\"fill:#ff0000;stroke:#ff0000;\" x=\"316.249375\" xlink:href=\"#m3213745444\" y=\"98.401448\"/>\r\n     <use style=\"fill:#ff0000;stroke:#ff0000;\" x=\"315.166168\" xlink:href=\"#m3213745444\" y=\"69.925653\"/>\r\n     <use style=\"fill:#ff0000;stroke:#ff0000;\" x=\"297.709124\" xlink:href=\"#m3213745444\" y=\"81.885377\"/>\r\n     <use style=\"fill:#ff0000;stroke:#ff0000;\" x=\"323.317796\" xlink:href=\"#m3213745444\" y=\"108.515642\"/>\r\n     <use style=\"fill:#ff0000;stroke:#ff0000;\" x=\"330.585953\" xlink:href=\"#m3213745444\" y=\"47.809499\"/>\r\n     <use style=\"fill:#ff0000;stroke:#ff0000;\" x=\"320.053026\" xlink:href=\"#m3213745444\" y=\"98.031489\"/>\r\n     <use style=\"fill:#ff0000;stroke:#ff0000;\" x=\"299.50869\" xlink:href=\"#m3213745444\" y=\"83.829061\"/>\r\n     <use style=\"fill:#ff0000;stroke:#ff0000;\" x=\"373.531851\" xlink:href=\"#m3213745444\" y=\"48.735173\"/>\r\n     <use style=\"fill:#ff0000;stroke:#ff0000;\" x=\"269.242817\" xlink:href=\"#m3213745444\" y=\"94.452983\"/>\r\n     <use style=\"fill:#ff0000;stroke:#ff0000;\" x=\"309.874226\" xlink:href=\"#m3213745444\" y=\"110.97875\"/>\r\n     <use style=\"fill:#ff0000;stroke:#ff0000;\" x=\"309.906735\" xlink:href=\"#m3213745444\" y=\"41.976102\"/>\r\n     <use style=\"fill:#ff0000;stroke:#ff0000;\" x=\"349.15781\" xlink:href=\"#m3213745444\" y=\"59.621735\"/>\r\n     <use style=\"fill:#ff0000;stroke:#ff0000;\" x=\"335.95771\" xlink:href=\"#m3213745444\" y=\"83.136759\"/>\r\n     <use style=\"fill:#ff0000;stroke:#ff0000;\" x=\"302.66567\" xlink:href=\"#m3213745444\" y=\"72.857421\"/>\r\n     <use style=\"fill:#ff0000;stroke:#ff0000;\" x=\"338.088133\" xlink:href=\"#m3213745444\" y=\"58.981359\"/>\r\n     <use style=\"fill:#ff0000;stroke:#ff0000;\" x=\"329.0035\" xlink:href=\"#m3213745444\" y=\"84.691445\"/>\r\n     <use style=\"fill:#ff0000;stroke:#ff0000;\" x=\"363.9855\" xlink:href=\"#m3213745444\" y=\"57.203197\"/>\r\n     <use style=\"fill:#ff0000;stroke:#ff0000;\" x=\"363.413408\" xlink:href=\"#m3213745444\" y=\"54.912909\"/>\r\n     <use style=\"fill:#ff0000;stroke:#ff0000;\" x=\"338.044455\" xlink:href=\"#m3213745444\" y=\"39.185598\"/>\r\n     <use style=\"fill:#ff0000;stroke:#ff0000;\" x=\"326.128733\" xlink:href=\"#m3213745444\" y=\"69.415428\"/>\r\n     <use style=\"fill:#ff0000;stroke:#ff0000;\" x=\"286.438452\" xlink:href=\"#m3213745444\" y=\"75.049659\"/>\r\n     <use style=\"fill:#ff0000;stroke:#ff0000;\" x=\"318.644181\" xlink:href=\"#m3213745444\" y=\"66.50038\"/>\r\n     <use style=\"fill:#ff0000;stroke:#ff0000;\" x=\"340.982285\" xlink:href=\"#m3213745444\" y=\"54.499636\"/>\r\n     <use style=\"fill:#ff0000;stroke:#ff0000;\" x=\"344.643\" xlink:href=\"#m3213745444\" y=\"50.886945\"/>\r\n    </g>\r\n   </g>\r\n   <g id=\"PathCollection_2\">\r\n    <defs>\r\n     <path d=\"M -3 3 \r\nL 3 -3 \r\nM -3 -3 \r\nL 3 3 \r\n\" id=\"m2056557476\" style=\"stroke:#0000ff;stroke-width:1.5;\"/>\r\n    </defs>\r\n    <g clip-path=\"url(#pec7ae55c94)\">\r\n     <use style=\"fill:#0000ff;stroke:#0000ff;stroke-width:1.5;\" x=\"184.577407\" xlink:href=\"#m2056557476\" y=\"155.315162\"/>\r\n     <use style=\"fill:#0000ff;stroke:#0000ff;stroke-width:1.5;\" x=\"208.220045\" xlink:href=\"#m2056557476\" y=\"133.296555\"/>\r\n     <use style=\"fill:#0000ff;stroke:#0000ff;stroke-width:1.5;\" x=\"160.710774\" xlink:href=\"#m2056557476\" y=\"134.532897\"/>\r\n     <use style=\"fill:#0000ff;stroke:#0000ff;stroke-width:1.5;\" x=\"246.061037\" xlink:href=\"#m2056557476\" y=\"128.942973\"/>\r\n     <use style=\"fill:#0000ff;stroke:#0000ff;stroke-width:1.5;\" x=\"247.50667\" xlink:href=\"#m2056557476\" y=\"171.197181\"/>\r\n     <use style=\"fill:#0000ff;stroke:#0000ff;stroke-width:1.5;\" x=\"220.415037\" xlink:href=\"#m2056557476\" y=\"162.927053\"/>\r\n     <use style=\"fill:#0000ff;stroke:#0000ff;stroke-width:1.5;\" x=\"259.9905\" xlink:href=\"#m2056557476\" y=\"133.182356\"/>\r\n     <use style=\"fill:#0000ff;stroke:#0000ff;stroke-width:1.5;\" x=\"291.040286\" xlink:href=\"#m2056557476\" y=\"161.083179\"/>\r\n     <use style=\"fill:#0000ff;stroke:#0000ff;stroke-width:1.5;\" x=\"242.698855\" xlink:href=\"#m2056557476\" y=\"158.92987\"/>\r\n     <use style=\"fill:#0000ff;stroke:#0000ff;stroke-width:1.5;\" x=\"226.134594\" xlink:href=\"#m2056557476\" y=\"103.069314\"/>\r\n     <use style=\"fill:#0000ff;stroke:#0000ff;stroke-width:1.5;\" x=\"239.722646\" xlink:href=\"#m2056557476\" y=\"162.421039\"/>\r\n     <use style=\"fill:#0000ff;stroke:#0000ff;stroke-width:1.5;\" x=\"196.791004\" xlink:href=\"#m2056557476\" y=\"122.739862\"/>\r\n     <use style=\"fill:#0000ff;stroke:#0000ff;stroke-width:1.5;\" x=\"264.638467\" xlink:href=\"#m2056557476\" y=\"142.547132\"/>\r\n     <use style=\"fill:#0000ff;stroke:#0000ff;stroke-width:1.5;\" x=\"212.989674\" xlink:href=\"#m2056557476\" y=\"134.392356\"/>\r\n     <use style=\"fill:#0000ff;stroke:#0000ff;stroke-width:1.5;\" x=\"284.768284\" xlink:href=\"#m2056557476\" y=\"141.646045\"/>\r\n     <use style=\"fill:#0000ff;stroke:#0000ff;stroke-width:1.5;\" x=\"242.695338\" xlink:href=\"#m2056557476\" y=\"135.307353\"/>\r\n     <use style=\"fill:#0000ff;stroke:#0000ff;stroke-width:1.5;\" x=\"197.907365\" xlink:href=\"#m2056557476\" y=\"169.542758\"/>\r\n     <use style=\"fill:#0000ff;stroke:#0000ff;stroke-width:1.5;\" x=\"226.647216\" xlink:href=\"#m2056557476\" y=\"160.646234\"/>\r\n     <use style=\"fill:#0000ff;stroke:#0000ff;stroke-width:1.5;\" x=\"205.18841\" xlink:href=\"#m2056557476\" y=\"142.391523\"/>\r\n     <use style=\"fill:#0000ff;stroke:#0000ff;stroke-width:1.5;\" x=\"253.513456\" xlink:href=\"#m2056557476\" y=\"148.883504\"/>\r\n     <use style=\"fill:#0000ff;stroke:#0000ff;stroke-width:1.5;\" x=\"250.162754\" xlink:href=\"#m2056557476\" y=\"156.721625\"/>\r\n     <use style=\"fill:#0000ff;stroke:#0000ff;stroke-width:1.5;\" x=\"249.02017\" xlink:href=\"#m2056557476\" y=\"202.979478\"/>\r\n     <use style=\"fill:#0000ff;stroke:#0000ff;stroke-width:1.5;\" x=\"286.495529\" xlink:href=\"#m2056557476\" y=\"135.286883\"/>\r\n     <use style=\"fill:#0000ff;stroke:#0000ff;stroke-width:1.5;\" x=\"225.32121\" xlink:href=\"#m2056557476\" y=\"164.274833\"/>\r\n     <use style=\"fill:#0000ff;stroke:#0000ff;stroke-width:1.5;\" x=\"171.091308\" xlink:href=\"#m2056557476\" y=\"120.387371\"/>\r\n     <use style=\"fill:#0000ff;stroke:#0000ff;stroke-width:1.5;\" x=\"250.92934\" xlink:href=\"#m2056557476\" y=\"139.771653\"/>\r\n     <use style=\"fill:#0000ff;stroke:#0000ff;stroke-width:1.5;\" x=\"263.332005\" xlink:href=\"#m2056557476\" y=\"155.691343\"/>\r\n     <use style=\"fill:#0000ff;stroke:#0000ff;stroke-width:1.5;\" x=\"209.232596\" xlink:href=\"#m2056557476\" y=\"177.179612\"/>\r\n     <use style=\"fill:#0000ff;stroke:#0000ff;stroke-width:1.5;\" x=\"221.724387\" xlink:href=\"#m2056557476\" y=\"172.538528\"/>\r\n     <use style=\"fill:#0000ff;stroke:#0000ff;stroke-width:1.5;\" x=\"227.651632\" xlink:href=\"#m2056557476\" y=\"148.666119\"/>\r\n     <use style=\"fill:#0000ff;stroke:#0000ff;stroke-width:1.5;\" x=\"236.756004\" xlink:href=\"#m2056557476\" y=\"167.461941\"/>\r\n     <use style=\"fill:#0000ff;stroke:#0000ff;stroke-width:1.5;\" x=\"217.805486\" xlink:href=\"#m2056557476\" y=\"157.799305\"/>\r\n     <use style=\"fill:#0000ff;stroke:#0000ff;stroke-width:1.5;\" x=\"190.267682\" xlink:href=\"#m2056557476\" y=\"157.816386\"/>\r\n     <use style=\"fill:#0000ff;stroke:#0000ff;stroke-width:1.5;\" x=\"204.61131\" xlink:href=\"#m2056557476\" y=\"151.568044\"/>\r\n     <use style=\"fill:#0000ff;stroke:#0000ff;stroke-width:1.5;\" x=\"250.02451\" xlink:href=\"#m2056557476\" y=\"166.318478\"/>\r\n     <use style=\"fill:#0000ff;stroke:#0000ff;stroke-width:1.5;\" x=\"217.405122\" xlink:href=\"#m2056557476\" y=\"166.272653\"/>\r\n     <use style=\"fill:#0000ff;stroke:#0000ff;stroke-width:1.5;\" x=\"281.140045\" xlink:href=\"#m2056557476\" y=\"146.690815\"/>\r\n     <use style=\"fill:#0000ff;stroke:#0000ff;stroke-width:1.5;\" x=\"172.124815\" xlink:href=\"#m2056557476\" y=\"117.05532\"/>\r\n     <use style=\"fill:#0000ff;stroke:#0000ff;stroke-width:1.5;\" x=\"262.478926\" xlink:href=\"#m2056557476\" y=\"174.714536\"/>\r\n     <use style=\"fill:#0000ff;stroke:#0000ff;stroke-width:1.5;\" x=\"294.518809\" xlink:href=\"#m2056557476\" y=\"161.528947\"/>\r\n     <use style=\"fill:#0000ff;stroke:#0000ff;stroke-width:1.5;\" x=\"281.501205\" xlink:href=\"#m2056557476\" y=\"186.394822\"/>\r\n     <use style=\"fill:#0000ff;stroke:#0000ff;stroke-width:1.5;\" x=\"264.089997\" xlink:href=\"#m2056557476\" y=\"167.631725\"/>\r\n     <use style=\"fill:#0000ff;stroke:#0000ff;stroke-width:1.5;\" x=\"231.478256\" xlink:href=\"#m2056557476\" y=\"153.824199\"/>\r\n     <use style=\"fill:#0000ff;stroke:#0000ff;stroke-width:1.5;\" x=\"238.837528\" xlink:href=\"#m2056557476\" y=\"138.617035\"/>\r\n     <use style=\"fill:#0000ff;stroke:#0000ff;stroke-width:1.5;\" x=\"191.245045\" xlink:href=\"#m2056557476\" y=\"185.113518\"/>\r\n     <use style=\"fill:#0000ff;stroke:#0000ff;stroke-width:1.5;\" x=\"266.196272\" xlink:href=\"#m2056557476\" y=\"153.241298\"/>\r\n     <use style=\"fill:#0000ff;stroke:#0000ff;stroke-width:1.5;\" x=\"238.649859\" xlink:href=\"#m2056557476\" y=\"167.565509\"/>\r\n     <use style=\"fill:#0000ff;stroke:#0000ff;stroke-width:1.5;\" x=\"255.688997\" xlink:href=\"#m2056557476\" y=\"156.361372\"/>\r\n     <use style=\"fill:#0000ff;stroke:#0000ff;stroke-width:1.5;\" x=\"213.757239\" xlink:href=\"#m2056557476\" y=\"150.063685\"/>\r\n     <use style=\"fill:#0000ff;stroke:#0000ff;stroke-width:1.5;\" x=\"225.479593\" xlink:href=\"#m2056557476\" y=\"184.683098\"/>\r\n     <use style=\"fill:#0000ff;stroke:#0000ff;stroke-width:1.5;\" x=\"293.541419\" xlink:href=\"#m2056557476\" y=\"150.215183\"/>\r\n     <use style=\"fill:#0000ff;stroke:#0000ff;stroke-width:1.5;\" x=\"208.42821\" xlink:href=\"#m2056557476\" y=\"181.780176\"/>\r\n     <use style=\"fill:#0000ff;stroke:#0000ff;stroke-width:1.5;\" x=\"223.17118\" xlink:href=\"#m2056557476\" y=\"163.257126\"/>\r\n     <use style=\"fill:#0000ff;stroke:#0000ff;stroke-width:1.5;\" x=\"247.488032\" xlink:href=\"#m2056557476\" y=\"126.907842\"/>\r\n     <use style=\"fill:#0000ff;stroke:#0000ff;stroke-width:1.5;\" x=\"202.247072\" xlink:href=\"#m2056557476\" y=\"177.170476\"/>\r\n     <use style=\"fill:#0000ff;stroke:#0000ff;stroke-width:1.5;\" x=\"238.857822\" xlink:href=\"#m2056557476\" y=\"163.306709\"/>\r\n     <use style=\"fill:#0000ff;stroke:#0000ff;stroke-width:1.5;\" x=\"243.419904\" xlink:href=\"#m2056557476\" y=\"231.9\"/>\r\n     <use style=\"fill:#0000ff;stroke:#0000ff;stroke-width:1.5;\" x=\"230.591082\" xlink:href=\"#m2056557476\" y=\"177.865022\"/>\r\n     <use style=\"fill:#0000ff;stroke:#0000ff;stroke-width:1.5;\" x=\"235.00502\" xlink:href=\"#m2056557476\" y=\"180.886443\"/>\r\n     <use style=\"fill:#0000ff;stroke:#0000ff;stroke-width:1.5;\" x=\"178.223778\" xlink:href=\"#m2056557476\" y=\"121.666043\"/>\r\n     <use style=\"fill:#0000ff;stroke:#0000ff;stroke-width:1.5;\" x=\"237.490119\" xlink:href=\"#m2056557476\" y=\"159.771261\"/>\r\n     <use style=\"fill:#0000ff;stroke:#0000ff;stroke-width:1.5;\" x=\"267.689963\" xlink:href=\"#m2056557476\" y=\"150.639977\"/>\r\n     <use style=\"fill:#0000ff;stroke:#0000ff;stroke-width:1.5;\" x=\"328.767072\" xlink:href=\"#m2056557476\" y=\"165.609836\"/>\r\n     <use style=\"fill:#0000ff;stroke:#0000ff;stroke-width:1.5;\" x=\"213.439064\" xlink:href=\"#m2056557476\" y=\"146.160827\"/>\r\n     <use style=\"fill:#0000ff;stroke:#0000ff;stroke-width:1.5;\" x=\"231.246173\" xlink:href=\"#m2056557476\" y=\"133.089048\"/>\r\n     <use style=\"fill:#0000ff;stroke:#0000ff;stroke-width:1.5;\" x=\"253.279147\" xlink:href=\"#m2056557476\" y=\"156.076258\"/>\r\n     <use style=\"fill:#0000ff;stroke:#0000ff;stroke-width:1.5;\" x=\"253.919725\" xlink:href=\"#m2056557476\" y=\"172.90861\"/>\r\n     <use style=\"fill:#0000ff;stroke:#0000ff;stroke-width:1.5;\" x=\"247.869382\" xlink:href=\"#m2056557476\" y=\"164.848247\"/>\r\n     <use style=\"fill:#0000ff;stroke:#0000ff;stroke-width:1.5;\" x=\"197.078965\" xlink:href=\"#m2056557476\" y=\"174.465497\"/>\r\n     <use style=\"fill:#0000ff;stroke:#0000ff;stroke-width:1.5;\" x=\"229.004246\" xlink:href=\"#m2056557476\" y=\"184.713457\"/>\r\n     <use style=\"fill:#0000ff;stroke:#0000ff;stroke-width:1.5;\" x=\"198.494869\" xlink:href=\"#m2056557476\" y=\"131.02545\"/>\r\n    </g>\r\n   </g>\r\n   <g id=\"PathCollection_3\">\r\n    <defs>\r\n     <path d=\"M 0 3 \r\nC 0.795609 3 1.55874 2.683901 2.12132 2.12132 \r\nC 2.683901 1.55874 3 0.795609 3 0 \r\nC 3 -0.795609 2.683901 -1.55874 2.12132 -2.12132 \r\nC 1.55874 -2.683901 0.795609 -3 0 -3 \r\nC -0.795609 -3 -1.55874 -2.683901 -2.12132 -2.12132 \r\nC -2.683901 -1.55874 -3 -0.795609 -3 0 \r\nC -3 0.795609 -2.683901 1.55874 -2.12132 2.12132 \r\nC -1.55874 2.683901 -0.795609 3 0 3 \r\nz\r\n\" id=\"m58c3096ebb\" style=\"stroke:#008000;\"/>\r\n    </defs>\r\n    <g clip-path=\"url(#pec7ae55c94)\">\r\n     <use style=\"fill:#008000;stroke:#008000;\" x=\"164.73371\" xlink:href=\"#m58c3096ebb\" y=\"99.483008\"/>\r\n     <use style=\"fill:#008000;stroke:#008000;\" x=\"133.502789\" xlink:href=\"#m58c3096ebb\" y=\"88.605233\"/>\r\n     <use style=\"fill:#008000;stroke:#008000;\" x=\"109.842972\" xlink:href=\"#m58c3096ebb\" y=\"100.40436\"/>\r\n     <use style=\"fill:#008000;stroke:#008000;\" x=\"116.018857\" xlink:href=\"#m58c3096ebb\" y=\"92.04884\"/>\r\n     <use style=\"fill:#008000;stroke:#008000;\" x=\"128.524682\" xlink:href=\"#m58c3096ebb\" y=\"108.136104\"/>\r\n     <use style=\"fill:#008000;stroke:#008000;\" x=\"120.56012\" xlink:href=\"#m58c3096ebb\" y=\"91.405936\"/>\r\n     <use style=\"fill:#008000;stroke:#008000;\" x=\"114.356758\" xlink:href=\"#m58c3096ebb\" y=\"84.383599\"/>\r\n     <use style=\"fill:#008000;stroke:#008000;\" x=\"86.418856\" xlink:href=\"#m58c3096ebb\" y=\"96.773485\"/>\r\n     <use style=\"fill:#008000;stroke:#008000;\" x=\"125.547224\" xlink:href=\"#m58c3096ebb\" y=\"83.903852\"/>\r\n     <use style=\"fill:#008000;stroke:#008000;\" x=\"118.965355\" xlink:href=\"#m58c3096ebb\" y=\"98.666365\"/>\r\n     <use style=\"fill:#008000;stroke:#008000;\" x=\"152.015382\" xlink:href=\"#m58c3096ebb\" y=\"79.090207\"/>\r\n     <use style=\"fill:#008000;stroke:#008000;\" x=\"162.371273\" xlink:href=\"#m58c3096ebb\" y=\"61.826649\"/>\r\n     <use style=\"fill:#008000;stroke:#008000;\" x=\"136.753738\" xlink:href=\"#m58c3096ebb\" y=\"80.827218\"/>\r\n     <use style=\"fill:#008000;stroke:#008000;\" x=\"145.395521\" xlink:href=\"#m58c3096ebb\" y=\"78.748772\"/>\r\n     <use style=\"fill:#008000;stroke:#008000;\" x=\"118.533577\" xlink:href=\"#m58c3096ebb\" y=\"60.567049\"/>\r\n     <use style=\"fill:#008000;stroke:#008000;\" x=\"140.752184\" xlink:href=\"#m58c3096ebb\" y=\"82.508035\"/>\r\n     <use style=\"fill:#008000;stroke:#008000;\" x=\"90.766733\" xlink:href=\"#m58c3096ebb\" y=\"64.62127\"/>\r\n     <use style=\"fill:#008000;stroke:#008000;\" x=\"86.460828\" xlink:href=\"#m58c3096ebb\" y=\"56.273804\"/>\r\n     <use style=\"fill:#008000;stroke:#008000;\" x=\"82.45149\" xlink:href=\"#m58c3096ebb\" y=\"59.977719\"/>\r\n     <use style=\"fill:#008000;stroke:#008000;\" x=\"85.87559\" xlink:href=\"#m58c3096ebb\" y=\"64.823418\"/>\r\n     <use style=\"fill:#008000;stroke:#008000;\" x=\"94.021576\" xlink:href=\"#m58c3096ebb\" y=\"63.456825\"/>\r\n     <use style=\"fill:#008000;stroke:#008000;\" x=\"61.683439\" xlink:href=\"#m58c3096ebb\" y=\"64.449789\"/>\r\n     <use style=\"fill:#008000;stroke:#008000;\" x=\"72.042638\" xlink:href=\"#m58c3096ebb\" y=\"91.040651\"/>\r\n     <use style=\"fill:#008000;stroke:#008000;\" x=\"80.935912\" xlink:href=\"#m58c3096ebb\" y=\"54.795492\"/>\r\n     <use style=\"fill:#008000;stroke:#008000;\" x=\"96.362979\" xlink:href=\"#m58c3096ebb\" y=\"103.632845\"/>\r\n     <use style=\"fill:#008000;stroke:#008000;\" x=\"79.01728\" xlink:href=\"#m58c3096ebb\" y=\"60.690481\"/>\r\n     <use style=\"fill:#008000;stroke:#008000;\" x=\"80.645158\" xlink:href=\"#m58c3096ebb\" y=\"49.779679\"/>\r\n     <use style=\"fill:#008000;stroke:#008000;\" x=\"85.871822\" xlink:href=\"#m58c3096ebb\" y=\"80.148824\"/>\r\n     <use style=\"fill:#008000;stroke:#008000;\" x=\"63.526514\" xlink:href=\"#m58c3096ebb\" y=\"39.676962\"/>\r\n     <use style=\"fill:#008000;stroke:#008000;\" x=\"61.804024\" xlink:href=\"#m58c3096ebb\" y=\"54.886381\"/>\r\n     <use style=\"fill:#008000;stroke:#008000;\" x=\"70.711766\" xlink:href=\"#m58c3096ebb\" y=\"87.185777\"/>\r\n     <use style=\"fill:#008000;stroke:#008000;\" x=\"139.079631\" xlink:href=\"#m58c3096ebb\" y=\"61.98527\"/>\r\n     <use style=\"fill:#008000;stroke:#008000;\" x=\"131.29026\" xlink:href=\"#m58c3096ebb\" y=\"91.756848\"/>\r\n     <use style=\"fill:#008000;stroke:#008000;\" x=\"140.873666\" xlink:href=\"#m58c3096ebb\" y=\"72.335714\"/>\r\n     <use style=\"fill:#008000;stroke:#008000;\" x=\"83.502953\" xlink:href=\"#m58c3096ebb\" y=\"56.664185\"/>\r\n     <use style=\"fill:#008000;stroke:#008000;\" x=\"95.634213\" xlink:href=\"#m58c3096ebb\" y=\"77.405152\"/>\r\n     <use style=\"fill:#008000;stroke:#008000;\" x=\"73.765159\" xlink:href=\"#m58c3096ebb\" y=\"45.410781\"/>\r\n     <use style=\"fill:#008000;stroke:#008000;\" x=\"78.045619\" xlink:href=\"#m58c3096ebb\" y=\"54.487494\"/>\r\n     <use style=\"fill:#008000;stroke:#008000;\" x=\"102.859544\" xlink:href=\"#m58c3096ebb\" y=\"52.362138\"/>\r\n     <use style=\"fill:#008000;stroke:#008000;\" x=\"79.452226\" xlink:href=\"#m58c3096ebb\" y=\"35.972055\"/>\r\n     <use style=\"fill:#008000;stroke:#008000;\" x=\"109.991128\" xlink:href=\"#m58c3096ebb\" y=\"96.66971\"/>\r\n     <use style=\"fill:#008000;stroke:#008000;\" x=\"59.649858\" xlink:href=\"#m58c3096ebb\" y=\"72.119914\"/>\r\n     <use style=\"fill:#008000;stroke:#008000;\" x=\"97.527788\" xlink:href=\"#m58c3096ebb\" y=\"32.777237\"/>\r\n     <use style=\"fill:#008000;stroke:#008000;\" x=\"103.255532\" xlink:href=\"#m58c3096ebb\" y=\"30.997238\"/>\r\n     <use style=\"fill:#008000;stroke:#008000;\" x=\"96.889168\" xlink:href=\"#m58c3096ebb\" y=\"58.938759\"/>\r\n     <use style=\"fill:#008000;stroke:#008000;\" x=\"80.531304\" xlink:href=\"#m58c3096ebb\" y=\"35.14747\"/>\r\n     <use style=\"fill:#008000;stroke:#008000;\" x=\"103.717028\" xlink:href=\"#m58c3096ebb\" y=\"51.501247\"/>\r\n     <use style=\"fill:#008000;stroke:#008000;\" x=\"65.783402\" xlink:href=\"#m58c3096ebb\" y=\"38.444003\"/>\r\n    </g>\r\n   </g>\r\n   <g id=\"matplotlib.axis_1\">\r\n    <g id=\"xtick_1\">\r\n     <g id=\"line2d_1\">\r\n      <defs>\r\n       <path d=\"M 0 0 \r\nL 0 3.5 \r\n\" id=\"ma65cc55982\" style=\"stroke:#000000;stroke-width:0.8;\"/>\r\n      </defs>\r\n      <g>\r\n       <use style=\"stroke:#000000;stroke-width:0.8;\" x=\"51.898278\" xlink:href=\"#ma65cc55982\" y=\"242.6\"/>\r\n      </g>\r\n     </g>\r\n     <g id=\"text_1\">\r\n      <!-- −6 -->\r\n      <g transform=\"translate(44.527185 257.198437)scale(0.1 -0.1)\">\r\n       <defs>\r\n        <path d=\"M 10.59375 35.5 \r\nL 73.1875 35.5 \r\nL 73.1875 27.203125 \r\nL 10.59375 27.203125 \r\nz\r\n\" id=\"DejaVuSans-8722\"/>\r\n        <path d=\"M 33.015625 40.375 \r\nQ 26.375 40.375 22.484375 35.828125 \r\nQ 18.609375 31.296875 18.609375 23.390625 \r\nQ 18.609375 15.53125 22.484375 10.953125 \r\nQ 26.375 6.390625 33.015625 6.390625 \r\nQ 39.65625 6.390625 43.53125 10.953125 \r\nQ 47.40625 15.53125 47.40625 23.390625 \r\nQ 47.40625 31.296875 43.53125 35.828125 \r\nQ 39.65625 40.375 33.015625 40.375 \r\nz\r\nM 52.59375 71.296875 \r\nL 52.59375 62.3125 \r\nQ 48.875 64.0625 45.09375 64.984375 \r\nQ 41.3125 65.921875 37.59375 65.921875 \r\nQ 27.828125 65.921875 22.671875 59.328125 \r\nQ 17.53125 52.734375 16.796875 39.40625 \r\nQ 19.671875 43.65625 24.015625 45.921875 \r\nQ 28.375 48.1875 33.59375 48.1875 \r\nQ 44.578125 48.1875 50.953125 41.515625 \r\nQ 57.328125 34.859375 57.328125 23.390625 \r\nQ 57.328125 12.15625 50.6875 5.359375 \r\nQ 44.046875 -1.421875 33.015625 -1.421875 \r\nQ 20.359375 -1.421875 13.671875 8.265625 \r\nQ 6.984375 17.96875 6.984375 36.375 \r\nQ 6.984375 53.65625 15.1875 63.9375 \r\nQ 23.390625 74.21875 37.203125 74.21875 \r\nQ 40.921875 74.21875 44.703125 73.484375 \r\nQ 48.484375 72.75 52.59375 71.296875 \r\nz\r\n\" id=\"DejaVuSans-54\"/>\r\n       </defs>\r\n       <use xlink:href=\"#DejaVuSans-8722\"/>\r\n       <use x=\"83.789062\" xlink:href=\"#DejaVuSans-54\"/>\r\n      </g>\r\n     </g>\r\n    </g>\r\n    <g id=\"xtick_2\">\r\n     <g id=\"line2d_2\">\r\n      <g>\r\n       <use style=\"stroke:#000000;stroke-width:0.8;\" x=\"112.018244\" xlink:href=\"#ma65cc55982\" y=\"242.6\"/>\r\n      </g>\r\n     </g>\r\n     <g id=\"text_2\">\r\n      <!-- −4 -->\r\n      <g transform=\"translate(104.647151 257.198437)scale(0.1 -0.1)\">\r\n       <defs>\r\n        <path d=\"M 37.796875 64.3125 \r\nL 12.890625 25.390625 \r\nL 37.796875 25.390625 \r\nz\r\nM 35.203125 72.90625 \r\nL 47.609375 72.90625 \r\nL 47.609375 25.390625 \r\nL 58.015625 25.390625 \r\nL 58.015625 17.1875 \r\nL 47.609375 17.1875 \r\nL 47.609375 0 \r\nL 37.796875 0 \r\nL 37.796875 17.1875 \r\nL 4.890625 17.1875 \r\nL 4.890625 26.703125 \r\nz\r\n\" id=\"DejaVuSans-52\"/>\r\n       </defs>\r\n       <use xlink:href=\"#DejaVuSans-8722\"/>\r\n       <use x=\"83.789062\" xlink:href=\"#DejaVuSans-52\"/>\r\n      </g>\r\n     </g>\r\n    </g>\r\n    <g id=\"xtick_3\">\r\n     <g id=\"line2d_3\">\r\n      <g>\r\n       <use style=\"stroke:#000000;stroke-width:0.8;\" x=\"172.138211\" xlink:href=\"#ma65cc55982\" y=\"242.6\"/>\r\n      </g>\r\n     </g>\r\n     <g id=\"text_3\">\r\n      <!-- −2 -->\r\n      <g transform=\"translate(164.767117 257.198437)scale(0.1 -0.1)\">\r\n       <defs>\r\n        <path d=\"M 19.1875 8.296875 \r\nL 53.609375 8.296875 \r\nL 53.609375 0 \r\nL 7.328125 0 \r\nL 7.328125 8.296875 \r\nQ 12.9375 14.109375 22.625 23.890625 \r\nQ 32.328125 33.6875 34.8125 36.53125 \r\nQ 39.546875 41.84375 41.421875 45.53125 \r\nQ 43.3125 49.21875 43.3125 52.78125 \r\nQ 43.3125 58.59375 39.234375 62.25 \r\nQ 35.15625 65.921875 28.609375 65.921875 \r\nQ 23.96875 65.921875 18.8125 64.3125 \r\nQ 13.671875 62.703125 7.8125 59.421875 \r\nL 7.8125 69.390625 \r\nQ 13.765625 71.78125 18.9375 73 \r\nQ 24.125 74.21875 28.421875 74.21875 \r\nQ 39.75 74.21875 46.484375 68.546875 \r\nQ 53.21875 62.890625 53.21875 53.421875 \r\nQ 53.21875 48.921875 51.53125 44.890625 \r\nQ 49.859375 40.875 45.40625 35.40625 \r\nQ 44.1875 33.984375 37.640625 27.21875 \r\nQ 31.109375 20.453125 19.1875 8.296875 \r\nz\r\n\" id=\"DejaVuSans-50\"/>\r\n       </defs>\r\n       <use xlink:href=\"#DejaVuSans-8722\"/>\r\n       <use x=\"83.789062\" xlink:href=\"#DejaVuSans-50\"/>\r\n      </g>\r\n     </g>\r\n    </g>\r\n    <g id=\"xtick_4\">\r\n     <g id=\"line2d_4\">\r\n      <g>\r\n       <use style=\"stroke:#000000;stroke-width:0.8;\" x=\"232.258177\" xlink:href=\"#ma65cc55982\" y=\"242.6\"/>\r\n      </g>\r\n     </g>\r\n     <g id=\"text_4\">\r\n      <!-- 0 -->\r\n      <g transform=\"translate(229.076927 257.198437)scale(0.1 -0.1)\">\r\n       <defs>\r\n        <path d=\"M 31.78125 66.40625 \r\nQ 24.171875 66.40625 20.328125 58.90625 \r\nQ 16.5 51.421875 16.5 36.375 \r\nQ 16.5 21.390625 20.328125 13.890625 \r\nQ 24.171875 6.390625 31.78125 6.390625 \r\nQ 39.453125 6.390625 43.28125 13.890625 \r\nQ 47.125 21.390625 47.125 36.375 \r\nQ 47.125 51.421875 43.28125 58.90625 \r\nQ 39.453125 66.40625 31.78125 66.40625 \r\nz\r\nM 31.78125 74.21875 \r\nQ 44.046875 74.21875 50.515625 64.515625 \r\nQ 56.984375 54.828125 56.984375 36.375 \r\nQ 56.984375 17.96875 50.515625 8.265625 \r\nQ 44.046875 -1.421875 31.78125 -1.421875 \r\nQ 19.53125 -1.421875 13.0625 8.265625 \r\nQ 6.59375 17.96875 6.59375 36.375 \r\nQ 6.59375 54.828125 13.0625 64.515625 \r\nQ 19.53125 74.21875 31.78125 74.21875 \r\nz\r\n\" id=\"DejaVuSans-48\"/>\r\n       </defs>\r\n       <use xlink:href=\"#DejaVuSans-48\"/>\r\n      </g>\r\n     </g>\r\n    </g>\r\n    <g id=\"xtick_5\">\r\n     <g id=\"line2d_5\">\r\n      <g>\r\n       <use style=\"stroke:#000000;stroke-width:0.8;\" x=\"292.378143\" xlink:href=\"#ma65cc55982\" y=\"242.6\"/>\r\n      </g>\r\n     </g>\r\n     <g id=\"text_5\">\r\n      <!-- 2 -->\r\n      <g transform=\"translate(289.196893 257.198437)scale(0.1 -0.1)\">\r\n       <use xlink:href=\"#DejaVuSans-50\"/>\r\n      </g>\r\n     </g>\r\n    </g>\r\n    <g id=\"xtick_6\">\r\n     <g id=\"line2d_6\">\r\n      <g>\r\n       <use style=\"stroke:#000000;stroke-width:0.8;\" x=\"352.498109\" xlink:href=\"#ma65cc55982\" y=\"242.6\"/>\r\n      </g>\r\n     </g>\r\n     <g id=\"text_6\">\r\n      <!-- 4 -->\r\n      <g transform=\"translate(349.316859 257.198437)scale(0.1 -0.1)\">\r\n       <use xlink:href=\"#DejaVuSans-52\"/>\r\n      </g>\r\n     </g>\r\n    </g>\r\n    <g id=\"xtick_7\">\r\n     <g id=\"line2d_7\">\r\n      <g>\r\n       <use style=\"stroke:#000000;stroke-width:0.8;\" x=\"412.618075\" xlink:href=\"#ma65cc55982\" y=\"242.6\"/>\r\n      </g>\r\n     </g>\r\n     <g id=\"text_7\">\r\n      <!-- 6 -->\r\n      <g transform=\"translate(409.436825 257.198437)scale(0.1 -0.1)\">\r\n       <use xlink:href=\"#DejaVuSans-54\"/>\r\n      </g>\r\n     </g>\r\n    </g>\r\n    <g id=\"text_8\">\r\n     <!-- Component 1 -->\r\n     <g transform=\"translate(196.146094 270.876562)scale(0.1 -0.1)\">\r\n      <defs>\r\n       <path d=\"M 64.40625 67.28125 \r\nL 64.40625 56.890625 \r\nQ 59.421875 61.53125 53.78125 63.8125 \r\nQ 48.140625 66.109375 41.796875 66.109375 \r\nQ 29.296875 66.109375 22.65625 58.46875 \r\nQ 16.015625 50.828125 16.015625 36.375 \r\nQ 16.015625 21.96875 22.65625 14.328125 \r\nQ 29.296875 6.6875 41.796875 6.6875 \r\nQ 48.140625 6.6875 53.78125 8.984375 \r\nQ 59.421875 11.28125 64.40625 15.921875 \r\nL 64.40625 5.609375 \r\nQ 59.234375 2.09375 53.4375 0.328125 \r\nQ 47.65625 -1.421875 41.21875 -1.421875 \r\nQ 24.65625 -1.421875 15.125 8.703125 \r\nQ 5.609375 18.84375 5.609375 36.375 \r\nQ 5.609375 53.953125 15.125 64.078125 \r\nQ 24.65625 74.21875 41.21875 74.21875 \r\nQ 47.75 74.21875 53.53125 72.484375 \r\nQ 59.328125 70.75 64.40625 67.28125 \r\nz\r\n\" id=\"DejaVuSans-67\"/>\r\n       <path d=\"M 30.609375 48.390625 \r\nQ 23.390625 48.390625 19.1875 42.75 \r\nQ 14.984375 37.109375 14.984375 27.296875 \r\nQ 14.984375 17.484375 19.15625 11.84375 \r\nQ 23.34375 6.203125 30.609375 6.203125 \r\nQ 37.796875 6.203125 41.984375 11.859375 \r\nQ 46.1875 17.53125 46.1875 27.296875 \r\nQ 46.1875 37.015625 41.984375 42.703125 \r\nQ 37.796875 48.390625 30.609375 48.390625 \r\nz\r\nM 30.609375 56 \r\nQ 42.328125 56 49.015625 48.375 \r\nQ 55.71875 40.765625 55.71875 27.296875 \r\nQ 55.71875 13.875 49.015625 6.21875 \r\nQ 42.328125 -1.421875 30.609375 -1.421875 \r\nQ 18.84375 -1.421875 12.171875 6.21875 \r\nQ 5.515625 13.875 5.515625 27.296875 \r\nQ 5.515625 40.765625 12.171875 48.375 \r\nQ 18.84375 56 30.609375 56 \r\nz\r\n\" id=\"DejaVuSans-111\"/>\r\n       <path d=\"M 52 44.1875 \r\nQ 55.375 50.25 60.0625 53.125 \r\nQ 64.75 56 71.09375 56 \r\nQ 79.640625 56 84.28125 50.015625 \r\nQ 88.921875 44.046875 88.921875 33.015625 \r\nL 88.921875 0 \r\nL 79.890625 0 \r\nL 79.890625 32.71875 \r\nQ 79.890625 40.578125 77.09375 44.375 \r\nQ 74.3125 48.1875 68.609375 48.1875 \r\nQ 61.625 48.1875 57.5625 43.546875 \r\nQ 53.515625 38.921875 53.515625 30.90625 \r\nL 53.515625 0 \r\nL 44.484375 0 \r\nL 44.484375 32.71875 \r\nQ 44.484375 40.625 41.703125 44.40625 \r\nQ 38.921875 48.1875 33.109375 48.1875 \r\nQ 26.21875 48.1875 22.15625 43.53125 \r\nQ 18.109375 38.875 18.109375 30.90625 \r\nL 18.109375 0 \r\nL 9.078125 0 \r\nL 9.078125 54.6875 \r\nL 18.109375 54.6875 \r\nL 18.109375 46.1875 \r\nQ 21.1875 51.21875 25.484375 53.609375 \r\nQ 29.78125 56 35.6875 56 \r\nQ 41.65625 56 45.828125 52.96875 \r\nQ 50 49.953125 52 44.1875 \r\nz\r\n\" id=\"DejaVuSans-109\"/>\r\n       <path d=\"M 18.109375 8.203125 \r\nL 18.109375 -20.796875 \r\nL 9.078125 -20.796875 \r\nL 9.078125 54.6875 \r\nL 18.109375 54.6875 \r\nL 18.109375 46.390625 \r\nQ 20.953125 51.265625 25.265625 53.625 \r\nQ 29.59375 56 35.59375 56 \r\nQ 45.5625 56 51.78125 48.09375 \r\nQ 58.015625 40.1875 58.015625 27.296875 \r\nQ 58.015625 14.40625 51.78125 6.484375 \r\nQ 45.5625 -1.421875 35.59375 -1.421875 \r\nQ 29.59375 -1.421875 25.265625 0.953125 \r\nQ 20.953125 3.328125 18.109375 8.203125 \r\nz\r\nM 48.6875 27.296875 \r\nQ 48.6875 37.203125 44.609375 42.84375 \r\nQ 40.53125 48.484375 33.40625 48.484375 \r\nQ 26.265625 48.484375 22.1875 42.84375 \r\nQ 18.109375 37.203125 18.109375 27.296875 \r\nQ 18.109375 17.390625 22.1875 11.75 \r\nQ 26.265625 6.109375 33.40625 6.109375 \r\nQ 40.53125 6.109375 44.609375 11.75 \r\nQ 48.6875 17.390625 48.6875 27.296875 \r\nz\r\n\" id=\"DejaVuSans-112\"/>\r\n       <path d=\"M 54.890625 33.015625 \r\nL 54.890625 0 \r\nL 45.90625 0 \r\nL 45.90625 32.71875 \r\nQ 45.90625 40.484375 42.875 44.328125 \r\nQ 39.84375 48.1875 33.796875 48.1875 \r\nQ 26.515625 48.1875 22.3125 43.546875 \r\nQ 18.109375 38.921875 18.109375 30.90625 \r\nL 18.109375 0 \r\nL 9.078125 0 \r\nL 9.078125 54.6875 \r\nL 18.109375 54.6875 \r\nL 18.109375 46.1875 \r\nQ 21.34375 51.125 25.703125 53.5625 \r\nQ 30.078125 56 35.796875 56 \r\nQ 45.21875 56 50.046875 50.171875 \r\nQ 54.890625 44.34375 54.890625 33.015625 \r\nz\r\n\" id=\"DejaVuSans-110\"/>\r\n       <path d=\"M 56.203125 29.59375 \r\nL 56.203125 25.203125 \r\nL 14.890625 25.203125 \r\nQ 15.484375 15.921875 20.484375 11.0625 \r\nQ 25.484375 6.203125 34.421875 6.203125 \r\nQ 39.59375 6.203125 44.453125 7.46875 \r\nQ 49.3125 8.734375 54.109375 11.28125 \r\nL 54.109375 2.78125 \r\nQ 49.265625 0.734375 44.1875 -0.34375 \r\nQ 39.109375 -1.421875 33.890625 -1.421875 \r\nQ 20.796875 -1.421875 13.15625 6.1875 \r\nQ 5.515625 13.8125 5.515625 26.8125 \r\nQ 5.515625 40.234375 12.765625 48.109375 \r\nQ 20.015625 56 32.328125 56 \r\nQ 43.359375 56 49.78125 48.890625 \r\nQ 56.203125 41.796875 56.203125 29.59375 \r\nz\r\nM 47.21875 32.234375 \r\nQ 47.125 39.59375 43.09375 43.984375 \r\nQ 39.0625 48.390625 32.421875 48.390625 \r\nQ 24.90625 48.390625 20.390625 44.140625 \r\nQ 15.875 39.890625 15.1875 32.171875 \r\nz\r\n\" id=\"DejaVuSans-101\"/>\r\n       <path d=\"M 18.3125 70.21875 \r\nL 18.3125 54.6875 \r\nL 36.8125 54.6875 \r\nL 36.8125 47.703125 \r\nL 18.3125 47.703125 \r\nL 18.3125 18.015625 \r\nQ 18.3125 11.328125 20.140625 9.421875 \r\nQ 21.96875 7.515625 27.59375 7.515625 \r\nL 36.8125 7.515625 \r\nL 36.8125 0 \r\nL 27.59375 0 \r\nQ 17.1875 0 13.234375 3.875 \r\nQ 9.28125 7.765625 9.28125 18.015625 \r\nL 9.28125 47.703125 \r\nL 2.6875 47.703125 \r\nL 2.6875 54.6875 \r\nL 9.28125 54.6875 \r\nL 9.28125 70.21875 \r\nz\r\n\" id=\"DejaVuSans-116\"/>\r\n       <path id=\"DejaVuSans-32\"/>\r\n       <path d=\"M 12.40625 8.296875 \r\nL 28.515625 8.296875 \r\nL 28.515625 63.921875 \r\nL 10.984375 60.40625 \r\nL 10.984375 69.390625 \r\nL 28.421875 72.90625 \r\nL 38.28125 72.90625 \r\nL 38.28125 8.296875 \r\nL 54.390625 8.296875 \r\nL 54.390625 0 \r\nL 12.40625 0 \r\nz\r\n\" id=\"DejaVuSans-49\"/>\r\n      </defs>\r\n      <use xlink:href=\"#DejaVuSans-67\"/>\r\n      <use x=\"69.824219\" xlink:href=\"#DejaVuSans-111\"/>\r\n      <use x=\"131.005859\" xlink:href=\"#DejaVuSans-109\"/>\r\n      <use x=\"228.417969\" xlink:href=\"#DejaVuSans-112\"/>\r\n      <use x=\"291.894531\" xlink:href=\"#DejaVuSans-111\"/>\r\n      <use x=\"353.076172\" xlink:href=\"#DejaVuSans-110\"/>\r\n      <use x=\"416.455078\" xlink:href=\"#DejaVuSans-101\"/>\r\n      <use x=\"477.978516\" xlink:href=\"#DejaVuSans-110\"/>\r\n      <use x=\"541.357422\" xlink:href=\"#DejaVuSans-116\"/>\r\n      <use x=\"580.566406\" xlink:href=\"#DejaVuSans-32\"/>\r\n      <use x=\"612.353516\" xlink:href=\"#DejaVuSans-49\"/>\r\n     </g>\r\n    </g>\r\n   </g>\r\n   <g id=\"matplotlib.axis_2\">\r\n    <g id=\"ytick_1\">\r\n     <g id=\"line2d_8\">\r\n      <defs>\r\n       <path d=\"M 0 0 \r\nL -3.5 0 \r\n\" id=\"m4f7ee8481b\" style=\"stroke:#000000;stroke-width:0.8;\"/>\r\n      </defs>\r\n      <g>\r\n       <use style=\"stroke:#000000;stroke-width:0.8;\" x=\"42.620313\" xlink:href=\"#m4f7ee8481b\" y=\"231.780041\"/>\r\n      </g>\r\n     </g>\r\n     <g id=\"text_9\">\r\n      <!-- −6 -->\r\n      <g transform=\"translate(20.878125 235.57926)scale(0.1 -0.1)\">\r\n       <use xlink:href=\"#DejaVuSans-8722\"/>\r\n       <use x=\"83.789062\" xlink:href=\"#DejaVuSans-54\"/>\r\n      </g>\r\n     </g>\r\n    </g>\r\n    <g id=\"ytick_2\">\r\n     <g id=\"line2d_9\">\r\n      <g>\r\n       <use style=\"stroke:#000000;stroke-width:0.8;\" x=\"42.620313\" xlink:href=\"#m4f7ee8481b\" y=\"189.016312\"/>\r\n      </g>\r\n     </g>\r\n     <g id=\"text_10\">\r\n      <!-- −4 -->\r\n      <g transform=\"translate(20.878125 192.815531)scale(0.1 -0.1)\">\r\n       <use xlink:href=\"#DejaVuSans-8722\"/>\r\n       <use x=\"83.789062\" xlink:href=\"#DejaVuSans-52\"/>\r\n      </g>\r\n     </g>\r\n    </g>\r\n    <g id=\"ytick_3\">\r\n     <g id=\"line2d_10\">\r\n      <g>\r\n       <use style=\"stroke:#000000;stroke-width:0.8;\" x=\"42.620313\" xlink:href=\"#m4f7ee8481b\" y=\"146.252584\"/>\r\n      </g>\r\n     </g>\r\n     <g id=\"text_11\">\r\n      <!-- −2 -->\r\n      <g transform=\"translate(20.878125 150.051803)scale(0.1 -0.1)\">\r\n       <use xlink:href=\"#DejaVuSans-8722\"/>\r\n       <use x=\"83.789062\" xlink:href=\"#DejaVuSans-50\"/>\r\n      </g>\r\n     </g>\r\n    </g>\r\n    <g id=\"ytick_4\">\r\n     <g id=\"line2d_11\">\r\n      <g>\r\n       <use style=\"stroke:#000000;stroke-width:0.8;\" x=\"42.620313\" xlink:href=\"#m4f7ee8481b\" y=\"103.488855\"/>\r\n      </g>\r\n     </g>\r\n     <g id=\"text_12\">\r\n      <!-- 0 -->\r\n      <g transform=\"translate(29.257813 107.288074)scale(0.1 -0.1)\">\r\n       <use xlink:href=\"#DejaVuSans-48\"/>\r\n      </g>\r\n     </g>\r\n    </g>\r\n    <g id=\"ytick_5\">\r\n     <g id=\"line2d_12\">\r\n      <g>\r\n       <use style=\"stroke:#000000;stroke-width:0.8;\" x=\"42.620313\" xlink:href=\"#m4f7ee8481b\" y=\"60.725126\"/>\r\n      </g>\r\n     </g>\r\n     <g id=\"text_13\">\r\n      <!-- 2 -->\r\n      <g transform=\"translate(29.257813 64.524345)scale(0.1 -0.1)\">\r\n       <use xlink:href=\"#DejaVuSans-50\"/>\r\n      </g>\r\n     </g>\r\n    </g>\r\n    <g id=\"ytick_6\">\r\n     <g id=\"line2d_13\">\r\n      <g>\r\n       <use style=\"stroke:#000000;stroke-width:0.8;\" x=\"42.620313\" xlink:href=\"#m4f7ee8481b\" y=\"17.961398\"/>\r\n      </g>\r\n     </g>\r\n     <g id=\"text_14\">\r\n      <!-- 4 -->\r\n      <g transform=\"translate(29.257813 21.760616)scale(0.1 -0.1)\">\r\n       <use xlink:href=\"#DejaVuSans-52\"/>\r\n      </g>\r\n     </g>\r\n    </g>\r\n    <g id=\"text_15\">\r\n     <!-- Component 2 -->\r\n     <g transform=\"translate(14.798438 158.699219)rotate(-90)scale(0.1 -0.1)\">\r\n      <use xlink:href=\"#DejaVuSans-67\"/>\r\n      <use x=\"69.824219\" xlink:href=\"#DejaVuSans-111\"/>\r\n      <use x=\"131.005859\" xlink:href=\"#DejaVuSans-109\"/>\r\n      <use x=\"228.417969\" xlink:href=\"#DejaVuSans-112\"/>\r\n      <use x=\"291.894531\" xlink:href=\"#DejaVuSans-111\"/>\r\n      <use x=\"353.076172\" xlink:href=\"#DejaVuSans-110\"/>\r\n      <use x=\"416.455078\" xlink:href=\"#DejaVuSans-101\"/>\r\n      <use x=\"477.978516\" xlink:href=\"#DejaVuSans-110\"/>\r\n      <use x=\"541.357422\" xlink:href=\"#DejaVuSans-116\"/>\r\n      <use x=\"580.566406\" xlink:href=\"#DejaVuSans-32\"/>\r\n      <use x=\"612.353516\" xlink:href=\"#DejaVuSans-50\"/>\r\n     </g>\r\n    </g>\r\n   </g>\r\n   <g id=\"patch_3\">\r\n    <path d=\"M 42.620313 242.6 \r\nL 42.620313 7.2 \r\n\" style=\"fill:none;stroke:#000000;stroke-linecap:square;stroke-linejoin:miter;stroke-width:0.8;\"/>\r\n   </g>\r\n   <g id=\"patch_4\">\r\n    <path d=\"M 417.270312 242.6 \r\nL 417.270312 7.2 \r\n\" style=\"fill:none;stroke:#000000;stroke-linecap:square;stroke-linejoin:miter;stroke-width:0.8;\"/>\r\n   </g>\r\n   <g id=\"patch_5\">\r\n    <path d=\"M 42.620312 242.6 \r\nL 417.270312 242.6 \r\n\" style=\"fill:none;stroke:#000000;stroke-linecap:square;stroke-linejoin:miter;stroke-width:0.8;\"/>\r\n   </g>\r\n   <g id=\"patch_6\">\r\n    <path d=\"M 42.620312 7.2 \r\nL 417.270312 7.2 \r\n\" style=\"fill:none;stroke:#000000;stroke-linecap:square;stroke-linejoin:miter;stroke-width:0.8;\"/>\r\n   </g>\r\n   <g id=\"legend_1\">\r\n    <g id=\"patch_7\">\r\n     <path d=\"M 49.620313 237.6 \r\nL 87.982812 237.6 \r\nQ 89.982812 237.6 89.982812 235.6 \r\nL 89.982812 192.565625 \r\nQ 89.982812 190.565625 87.982812 190.565625 \r\nL 49.620313 190.565625 \r\nQ 47.620313 190.565625 47.620313 192.565625 \r\nL 47.620313 235.6 \r\nQ 47.620313 237.6 49.620313 237.6 \r\nz\r\n\" style=\"fill:#ffffff;opacity:0.8;stroke:#cccccc;stroke-linejoin:miter;\"/>\r\n    </g>\r\n    <g id=\"PathCollection_4\">\r\n     <g>\r\n      <use style=\"fill:#ff0000;stroke:#ff0000;\" x=\"61.620313\" xlink:href=\"#m3213745444\" y=\"199.539062\"/>\r\n     </g>\r\n    </g>\r\n    <g id=\"text_16\">\r\n     <!-- 0 -->\r\n     <g transform=\"translate(79.620313 202.164062)scale(0.1 -0.1)\">\r\n      <use xlink:href=\"#DejaVuSans-48\"/>\r\n     </g>\r\n    </g>\r\n    <g id=\"PathCollection_5\">\r\n     <g>\r\n      <use style=\"fill:#0000ff;stroke:#0000ff;stroke-width:1.5;\" x=\"61.620313\" xlink:href=\"#m2056557476\" y=\"214.217187\"/>\r\n     </g>\r\n    </g>\r\n    <g id=\"text_17\">\r\n     <!-- 1 -->\r\n     <g transform=\"translate(79.620313 216.842187)scale(0.1 -0.1)\">\r\n      <use xlink:href=\"#DejaVuSans-49\"/>\r\n     </g>\r\n    </g>\r\n    <g id=\"PathCollection_6\">\r\n     <g>\r\n      <use style=\"fill:#008000;stroke:#008000;\" x=\"61.620313\" xlink:href=\"#m58c3096ebb\" y=\"228.895312\"/>\r\n     </g>\r\n    </g>\r\n    <g id=\"text_18\">\r\n     <!-- 2 -->\r\n     <g transform=\"translate(79.620313 231.520312)scale(0.1 -0.1)\">\r\n      <use xlink:href=\"#DejaVuSans-50\"/>\r\n     </g>\r\n    </g>\r\n   </g>\r\n  </g>\r\n </g>\r\n <defs>\r\n  <clipPath id=\"pec7ae55c94\">\r\n   <rect height=\"235.4\" width=\"374.65\" x=\"42.620313\" y=\"7.2\"/>\r\n  </clipPath>\r\n </defs>\r\n</svg>\r\n",
      "text/plain": [
       "<Figure size 432x288 with 1 Axes>"
      ]
     },
     "metadata": {
      "needs_background": "light"
     }
    }
   ],
   "metadata": {}
  },
  {
   "cell_type": "markdown",
   "source": [],
   "metadata": {}
  },
  {
   "cell_type": "markdown",
   "source": [
    "## Experiment with classifier"
   ],
   "metadata": {}
  },
  {
   "cell_type": "markdown",
   "source": [
    "### Setting up"
   ],
   "metadata": {}
  },
  {
   "cell_type": "code",
   "execution_count": 86,
   "source": [
    "from sklearn.linear_model import LogisticRegression\r\n",
    "\r\n",
    "def training(X_train, y_train, X_test, y_test):\r\n",
    "\r\n",
    "    clf = LogisticRegression()\r\n",
    "\r\n",
    "    # Training\r\n",
    "    clf.fit(X_train, y_train)\r\n",
    "\r\n",
    "    # Prediction\r\n",
    "    y_pred = clf.predict(X_test)\r\n",
    "\r\n",
    "    # Misclassification from the test samples\r\n",
    "    sumMiss = (y_test != y_pred).sum()\r\n",
    "\r\n",
    "    # Accuracy score from the test samples\r\n",
    "    accuracyScore = accuracy_score(y_test, y_pred)\r\n",
    "\r\n",
    "    print(f\"Misclassified examples: {sumMiss}\")\r\n",
    "    print(f\"Accuracy score: {accuracyScore}\")\r\n",
    "    print(f\"--------------------------------------------------\")"
   ],
   "outputs": [],
   "metadata": {}
  },
  {
   "cell_type": "code",
   "execution_count": 87,
   "source": [
    "# Split\r\n",
    "X_train, X_test, y_train, y_test = train_test_split(X, y, test_size=0.3, random_state=0, stratify=y)\r\n",
    "\r\n",
    "# Standardize\r\n",
    "stdsc = StandardScaler()\r\n",
    "X_train_std = stdsc.fit_transform(X_train)\r\n",
    "X_test_std = stdsc.transform(X_test)\r\n",
    "print(X_train_std.shape)"
   ],
   "outputs": [
    {
     "output_type": "stream",
     "name": "stdout",
     "text": [
      "(124, 13)\n"
     ]
    }
   ],
   "metadata": {}
  },
  {
   "cell_type": "markdown",
   "source": [
    "### No transformation"
   ],
   "metadata": {}
  },
  {
   "cell_type": "code",
   "execution_count": 88,
   "source": [
    "training(X_train_std, y_train, X_test_std, y_test)"
   ],
   "outputs": [
    {
     "output_type": "stream",
     "name": "stdout",
     "text": [
      "Misclassified examples: 0\n",
      "Accuracy score: 1.0\n",
      "--------------------------------------------------\n"
     ]
    }
   ],
   "metadata": {}
  },
  {
   "cell_type": "markdown",
   "source": [
    "### With LDA"
   ],
   "metadata": {}
  },
  {
   "cell_type": "code",
   "execution_count": 89,
   "source": [
    "lda = LDA(n_components=2)\r\n",
    "\r\n",
    "# Notice that we only use X_train to fit\r\n",
    "X_train_std_lda = lda.fit_transform(X_train_std, y_train)\r\n",
    "X_test_std_lda = lda.transform(X_test_std)\r\n",
    "\r\n",
    "training(X_train_std_lda, y_train, X_test_std_lda, y_test)"
   ],
   "outputs": [
    {
     "output_type": "stream",
     "name": "stdout",
     "text": [
      "Misclassified examples: 0\n",
      "Accuracy score: 1.0\n",
      "--------------------------------------------------\n"
     ]
    }
   ],
   "metadata": {}
  }
 ]
}