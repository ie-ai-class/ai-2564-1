{
 "metadata": {
  "language_info": {
   "codemirror_mode": {
    "name": "ipython",
    "version": 3
   },
   "file_extension": ".py",
   "mimetype": "text/x-python",
   "name": "python",
   "nbconvert_exporter": "python",
   "pygments_lexer": "ipython3",
   "version": "3.7.9-final"
  },
  "orig_nbformat": 2,
  "kernelspec": {
   "name": "python3",
   "display_name": "Python 3",
   "language": "python"
  }
 },
 "nbformat": 4,
 "nbformat_minor": 2,
 "cells": [
  {
   "cell_type": "markdown",
   "source": [
    "# Linear discriminant analysis\n",
    "Supervised data compression"
   ],
   "metadata": {}
  },
  {
   "cell_type": "code",
   "execution_count": null,
   "source": [
    "import pandas as pd\n",
    "import numpy as np\n",
    "from sklearn.model_selection import train_test_split\n",
    "from sklearn.preprocessing import StandardScaler\n",
    "from sklearn.datasets import load_wine\n",
    "import matplotlib.pyplot as plt\n",
    "import pandas as pd\n",
    "\n",
    "#Load data\n",
    "dataObj = load_wine()\n",
    "X = dataObj.data\n",
    "y = dataObj.target\n",
    "\n",
    "# Create DataFrame with features\n",
    "df = pd.DataFrame(X)\n",
    "df.columns = dataObj.feature_names\n",
    "\n",
    "# Add class column\n",
    "df.insert(loc=0, column=\"Class\", value=y)\n",
    "\n",
    "# Split data\n",
    "X_train, X_test, y_train, y_test = train_test_split(X, y, test_size=0.3, random_state=0)\n",
    "\n",
    "# Standardize\n",
    "sc = StandardScaler()\n",
    "X_train_std = sc.fit_transform(X_train)\n",
    "X_test_std = sc.transform(X_test)"
   ],
   "outputs": [],
   "metadata": {}
  },
  {
   "cell_type": "markdown",
   "source": [
    "## Method 1: Using NumPy"
   ],
   "metadata": {}
  },
  {
   "cell_type": "markdown",
   "source": [
    "### Compute the \"scaled\" within-class scatter matrix\n",
    "This is essentially covariance matrix\n"
   ],
   "metadata": {}
  },
  {
   "cell_type": "code",
   "execution_count": null,
   "source": [
    "# Number of features\n",
    "d = X_train_std.shape[1]\n",
    "\n",
    "# Scaled within-class scatter matrix\n",
    "S_W = np.zeros((d, d))\n",
    "\n",
    "for label in np.unique(y):\n",
    "    S_i = np.cov(X_train_std[y_train == label], rowvar=False)\n",
    "    S_W += S_i\n",
    "\n",
    "df = pd.DataFrame(S_W)\n",
    "display(df)"
   ],
   "outputs": [],
   "metadata": {}
  },
  {
   "cell_type": "markdown",
   "source": [
    "### Calculate the mean vectors $\\mu_i$ calculated from sample from class $i$"
   ],
   "metadata": {}
  },
  {
   "cell_type": "code",
   "execution_count": null,
   "source": [
    "mvs = []\n",
    "\n",
    "for label in np.unique(y):\n",
    "    mv = np.mean(X_train_std[y_train == label, :], axis=0)\n",
    "    mvs.append(mv)\n",
    "    #mv_print = \", \".join(f\"{i:5.2f}\" for i in mv)\n",
    "    #print(f\"Label={label}, MV:{mv_print}\")\n",
    "\n",
    "df = pd.DataFrame(mvs)\n",
    "df.index.name = 'Label'\n",
    "display(df)"
   ],
   "outputs": [],
   "metadata": {}
  },
  {
   "cell_type": "markdown",
   "source": [
    "### Calculate the mean vector $\\mu$ computed all from observations\n",
    "(Actually this will give all zeros becuase data is already standardized.)"
   ],
   "metadata": {}
  },
  {
   "cell_type": "code",
   "execution_count": null,
   "source": [
    "mva = np.mean(X_train_std, axis=0).reshape(d,1) # make column vector"
   ],
   "outputs": [],
   "metadata": {}
  },
  {
   "cell_type": "markdown",
   "source": [
    "### Compute the between-class scatter matrix"
   ],
   "metadata": {}
  },
  {
   "cell_type": "code",
   "execution_count": null,
   "source": [
    "S_B = np.zeros((d, d))\n",
    "for label, mv in zip(np.unique(y), mvs):\n",
    "    # Count number of obervation in each class\n",
    "    n = X_train[y_train == label, :].shape[0]\n",
    "    # Mean values for each class\n",
    "    mv = mv.reshape(d, 1)  # make column vector\n",
    "    mmm = mv - mva\n",
    "    # Outer product\n",
    "    S_B += n * mmm @ mmm.T\n",
    "\n",
    "df = pd.DataFrame(S_B)\n",
    "display(df)\n"
   ],
   "outputs": [],
   "metadata": {}
  },
  {
   "cell_type": "markdown",
   "source": [
    "### Computer eigenvalues and eigenvectors\n",
    "Solve the generalized eigenvalue problem for the matrix $S_W^{-1}S_B$:"
   ],
   "metadata": {}
  },
  {
   "cell_type": "code",
   "execution_count": null,
   "source": [
    "eigen_vals, eigen_vecs = np.linalg.eig(np.linalg.inv(S_W).dot(S_B))\n",
    "\n",
    "# Print\n",
    "display(pd.DataFrame(eigen_vals.real.reshape(1,-1)))\n",
    "display(pd.DataFrame(eigen_vecs.real))\n"
   ],
   "outputs": [],
   "metadata": {}
  },
  {
   "cell_type": "markdown",
   "source": [
    "### Sort eigenvectors in decreasing order of the eigenvalues"
   ],
   "metadata": {}
  },
  {
   "cell_type": "code",
   "execution_count": null,
   "source": [
    "#Sort eigenvalues\n",
    "idx = np.argsort(eigen_vals)\n",
    "idx = idx[::-1] #Sort from max to min\n",
    "eigen_vals = eigen_vals[idx]\n",
    "eigen_vecs = eigen_vecs[:,idx]\n",
    "\n",
    "# Print\n",
    "display(pd.DataFrame(eigen_vals.real.reshape(1,-1)))\n",
    "display(pd.DataFrame(eigen_vecs.real))"
   ],
   "outputs": [],
   "metadata": {}
  },
  {
   "cell_type": "markdown",
   "source": [
    "### Visualizing \"discriminability\""
   ],
   "metadata": {}
  },
  {
   "cell_type": "code",
   "execution_count": null,
   "source": [
    "tot = sum(eigen_vals.real)\n",
    "discr = eigen_vals.real/tot\n",
    "cum_discr = np.cumsum(discr)\n",
    "\n",
    "plt.bar(range(1, 14), discr, alpha=0.5, align='center', label='individual \"discriminability\"')\n",
    "plt.step(range(1, 14), cum_discr, where='mid', label='cumulative \"discriminability\"')\n",
    "plt.ylabel('\"discriminability\" ratio')\n",
    "plt.xlabel('Linear Discriminants')\n",
    "plt.ylim([-0.1, 1.1])\n",
    "plt.legend(loc='best')\n",
    "plt.tight_layout()\n",
    "# plt.savefig('./figures/lda1.png', dpi=300)\n",
    "plt.show()"
   ],
   "outputs": [],
   "metadata": {}
  },
  {
   "cell_type": "markdown",
   "source": [
    "### Transformation matrix, W"
   ],
   "metadata": {}
  },
  {
   "cell_type": "code",
   "execution_count": null,
   "source": [
    "w = eigen_vecs[:,[0,1]].real\n",
    "display(pd.DataFrame(w))"
   ],
   "outputs": [],
   "metadata": {}
  },
  {
   "cell_type": "markdown",
   "source": [
    "### Projecting samples onto the new feature space"
   ],
   "metadata": {}
  },
  {
   "cell_type": "code",
   "execution_count": null,
   "source": [
    "X_train_lda = X_train_std.dot(w)\n",
    "\n",
    "display(pd.DataFrame(X_train_lda))"
   ],
   "outputs": [],
   "metadata": {}
  },
  {
   "cell_type": "markdown",
   "source": [
    "### Visualizing training data"
   ],
   "metadata": {}
  },
  {
   "cell_type": "code",
   "execution_count": null,
   "source": [
    "from PlotFunction3 import plot_reduced_dim\n",
    "plot_reduced_dim(X_train_lda, y_train, \"LDA\")"
   ],
   "outputs": [],
   "metadata": {}
  },
  {
   "cell_type": "markdown",
   "source": [
    "## Method 2: SKL"
   ],
   "metadata": {}
  },
  {
   "cell_type": "code",
   "execution_count": null,
   "source": [
    "from sklearn.discriminant_analysis import LinearDiscriminantAnalysis as LDA\n",
    "\n",
    "lda = LDA()\n",
    "X_train_lda = lda.fit_transform(X_train_std, y_train)\n",
    "lda.explained_variance_ratio_"
   ],
   "outputs": [],
   "metadata": {}
  },
  {
   "cell_type": "code",
   "execution_count": null,
   "source": [
    "plt.bar(range(1, 3), lda.explained_variance_ratio_, alpha=0.5, align='center')\n",
    "plt.step(range(1, 3), np.cumsum(lda.explained_variance_ratio_), where='mid')\n",
    "plt.ylabel('\"discriminability\" ratio')\n",
    "plt.xlabel('Linear Discriminants')\n",
    "plt.show()"
   ],
   "outputs": [],
   "metadata": {}
  },
  {
   "cell_type": "code",
   "execution_count": null,
   "source": [
    "lda = LDA(n_components=2)\n",
    "X_train_lda = lda.fit_transform(X_train_std, y_train)\n",
    "X_test_lda = lda.transform(X_test_std)\n",
    "\n",
    "plot_reduced_dim(X_train_lda, y_train, \"LDA\")"
   ],
   "outputs": [],
   "metadata": {}
  },
  {
   "cell_type": "markdown",
   "source": [
    "## Training with logistic regression"
   ],
   "metadata": {}
  },
  {
   "cell_type": "code",
   "execution_count": null,
   "source": [
    "from sklearn.linear_model import LogisticRegression\n",
    "lr = LogisticRegression()\n",
    "lr = lr.fit(X_train_lda, y_train)"
   ],
   "outputs": [],
   "metadata": {}
  },
  {
   "cell_type": "code",
   "execution_count": null,
   "source": [
    "from PlotFunction2 import plot_decision_surface2\n",
    "\n",
    "plot_decision_surface2(X_train_lda, X_test_lda, y_train, y_test, lr)"
   ],
   "outputs": [],
   "metadata": {}
  }
 ]
}