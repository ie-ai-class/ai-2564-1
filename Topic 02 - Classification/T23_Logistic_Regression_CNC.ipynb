{
 "metadata": {
  "language_info": {
   "codemirror_mode": {
    "name": "ipython",
    "version": 3
   },
   "file_extension": ".py",
   "mimetype": "text/x-python",
   "name": "python",
   "nbconvert_exporter": "python",
   "pygments_lexer": "ipython3",
   "version": "3.8.8"
  },
  "orig_nbformat": 4,
  "kernelspec": {
   "name": "python3",
   "display_name": "Python 3.8.8 64-bit ('base': conda)"
  },
  "interpreter": {
   "hash": "be725e0de8fb3f5fda9b0118bdf797fa9814e28e467c1cce77c5b9910d8a1786"
  }
 },
 "nbformat": 4,
 "nbformat_minor": 2,
 "cells": [
  {
   "source": [
    "# CNC Mill Tool Wear\n",
    "- https://www.kaggle.com/shasun/tool-wear-detection-in-cnc-mill\n",
    "- Predict \"Machining_Process\""
   ],
   "cell_type": "markdown",
   "metadata": {}
  },
  {
   "cell_type": "code",
   "execution_count": 9,
   "metadata": {},
   "outputs": [],
   "source": [
    "import numpy as np\n",
    "import matplotlib.pyplot as plt\n",
    "import pandas as pd\n",
    "from sklearn.model_selection import train_test_split\n",
    "from sklearn.preprocessing import StandardScaler\n",
    "from sklearn.linear_model import LogisticRegression\n",
    "from sklearn.metrics import accuracy_score\n",
    "from sklearn.preprocessing import LabelEncoder"
   ]
  },
  {
   "cell_type": "code",
   "execution_count": 10,
   "metadata": {},
   "outputs": [
    {
     "output_type": "execute_result",
     "data": {
      "text/plain": [
       "   X1_ActualPosition  X1_ActualVelocity  X1_ActualAcceleration  \\\n",
       "0              198.0                0.0                   0.00   \n",
       "1              198.0              -10.8                -350.00   \n",
       "2              196.0              -17.8                  -6.25   \n",
       "\n",
       "   X1_CommandPosition  X1_CommandVelocity  X1_CommandAcceleration  \\\n",
       "0               198.0                 0.0                0.000000   \n",
       "1               198.0               -13.6             -358.000000   \n",
       "2               196.0               -17.9               -0.000095   \n",
       "\n",
       "   X1_CurrentFeedback  X1_DCBusVoltage  X1_OutputCurrent  X1_OutputVoltage  \\\n",
       "0                0.18           0.0207             329.0              2.77   \n",
       "1              -10.90           0.1860             328.0             23.30   \n",
       "2               -8.59           0.1400             328.0             30.60   \n",
       "\n",
       "   ...  S1_OutputCurrent  S1_OutputVoltage  S1_OutputPower  S1_SystemInertia  \\\n",
       "0  ...             329.0               0.0    6.960000e-07              12.0   \n",
       "1  ...             328.0               0.0   -5.270000e-07              12.0   \n",
       "2  ...             328.0               0.0    9.100000e-07              12.0   \n",
       "\n",
       "   M1_CURRENT_PROGRAM_NUMBER  M1_sequence_number  M1_CURRENT_FEEDRATE  \\\n",
       "0                        1.0                 0.0                 50.0   \n",
       "1                        1.0                 4.0                 50.0   \n",
       "2                        1.0                 7.0                 50.0   \n",
       "\n",
       "   Machining_Process  feedrate  clamp_pressure  \n",
       "0                  7         6             4.0  \n",
       "1                  7         6             4.0  \n",
       "2                  7         6             4.0  \n",
       "\n",
       "[3 rows x 50 columns]"
      ],
      "text/html": "<div>\n<style scoped>\n    .dataframe tbody tr th:only-of-type {\n        vertical-align: middle;\n    }\n\n    .dataframe tbody tr th {\n        vertical-align: top;\n    }\n\n    .dataframe thead th {\n        text-align: right;\n    }\n</style>\n<table border=\"1\" class=\"dataframe\">\n  <thead>\n    <tr style=\"text-align: right;\">\n      <th></th>\n      <th>X1_ActualPosition</th>\n      <th>X1_ActualVelocity</th>\n      <th>X1_ActualAcceleration</th>\n      <th>X1_CommandPosition</th>\n      <th>X1_CommandVelocity</th>\n      <th>X1_CommandAcceleration</th>\n      <th>X1_CurrentFeedback</th>\n      <th>X1_DCBusVoltage</th>\n      <th>X1_OutputCurrent</th>\n      <th>X1_OutputVoltage</th>\n      <th>...</th>\n      <th>S1_OutputCurrent</th>\n      <th>S1_OutputVoltage</th>\n      <th>S1_OutputPower</th>\n      <th>S1_SystemInertia</th>\n      <th>M1_CURRENT_PROGRAM_NUMBER</th>\n      <th>M1_sequence_number</th>\n      <th>M1_CURRENT_FEEDRATE</th>\n      <th>Machining_Process</th>\n      <th>feedrate</th>\n      <th>clamp_pressure</th>\n    </tr>\n  </thead>\n  <tbody>\n    <tr>\n      <th>0</th>\n      <td>198.0</td>\n      <td>0.0</td>\n      <td>0.00</td>\n      <td>198.0</td>\n      <td>0.0</td>\n      <td>0.000000</td>\n      <td>0.18</td>\n      <td>0.0207</td>\n      <td>329.0</td>\n      <td>2.77</td>\n      <td>...</td>\n      <td>329.0</td>\n      <td>0.0</td>\n      <td>6.960000e-07</td>\n      <td>12.0</td>\n      <td>1.0</td>\n      <td>0.0</td>\n      <td>50.0</td>\n      <td>7</td>\n      <td>6</td>\n      <td>4.0</td>\n    </tr>\n    <tr>\n      <th>1</th>\n      <td>198.0</td>\n      <td>-10.8</td>\n      <td>-350.00</td>\n      <td>198.0</td>\n      <td>-13.6</td>\n      <td>-358.000000</td>\n      <td>-10.90</td>\n      <td>0.1860</td>\n      <td>328.0</td>\n      <td>23.30</td>\n      <td>...</td>\n      <td>328.0</td>\n      <td>0.0</td>\n      <td>-5.270000e-07</td>\n      <td>12.0</td>\n      <td>1.0</td>\n      <td>4.0</td>\n      <td>50.0</td>\n      <td>7</td>\n      <td>6</td>\n      <td>4.0</td>\n    </tr>\n    <tr>\n      <th>2</th>\n      <td>196.0</td>\n      <td>-17.8</td>\n      <td>-6.25</td>\n      <td>196.0</td>\n      <td>-17.9</td>\n      <td>-0.000095</td>\n      <td>-8.59</td>\n      <td>0.1400</td>\n      <td>328.0</td>\n      <td>30.60</td>\n      <td>...</td>\n      <td>328.0</td>\n      <td>0.0</td>\n      <td>9.100000e-07</td>\n      <td>12.0</td>\n      <td>1.0</td>\n      <td>7.0</td>\n      <td>50.0</td>\n      <td>7</td>\n      <td>6</td>\n      <td>4.0</td>\n    </tr>\n  </tbody>\n</table>\n<p>3 rows × 50 columns</p>\n</div>"
     },
     "metadata": {},
     "execution_count": 10
    }
   ],
   "source": [
    "saveFolder = 'Data_CNC_processed'\n",
    "filename = 'pred_machining_process'\n",
    "compression = 'gzip'\n",
    "df = pd.read_pickle(f'{saveFolder}/{filename}.pkl',compression=compression)\n",
    "df.head(3)"
   ]
  },
  {
   "cell_type": "code",
   "execution_count": 11,
   "metadata": {},
   "outputs": [],
   "source": [
    "colsX = [item for item in df.columns if item not in 'Machining_Process'] \n",
    "X = df[colsX].values\n",
    "y = df['Machining_Process'].values"
   ]
  },
  {
   "cell_type": "code",
   "execution_count": 28,
   "metadata": {},
   "outputs": [],
   "source": [
    "paramSet = {\n",
    "    \"ex1\": {\"solver\": \"lbfgs\", \"C\": 0.0001, \"max_iter\": 100},\n",
    "    \"ex2\": {\"solver\": \"lbfgs\", \"C\": 0.01, \"max_iter\": 100},\n",
    "    \"ex3\": {\"solver\": \"lbfgs\", \"C\": 1, \"max_iter\": 100},\n",
    "    \"ex4\": {\"solver\": \"lbfgs\", \"C\": 100, \"max_iter\": 100},\n",
    "    \"ex5\": {\"solver\": \"lbfgs\", \"C\": 10000, \"max_iter\": 100}}"
   ]
  },
  {
   "cell_type": "code",
   "execution_count": 29,
   "metadata": {},
   "outputs": [],
   "source": [
    "X_train, X_test, y_train, y_test = train_test_split(\n",
    "    X, y, test_size=0.3, random_state=1, stratify=y\n",
    ")"
   ]
  },
  {
   "cell_type": "code",
   "execution_count": 30,
   "metadata": {},
   "outputs": [],
   "source": [
    "sc = StandardScaler()\n",
    "sc.fit(X_train)\n",
    "X_train_std = sc.transform(X_train)\n",
    "X_test_std = sc.transform(X_test)"
   ]
  },
  {
   "cell_type": "code",
   "execution_count": 33,
   "metadata": {},
   "outputs": [],
   "source": [
    "#paramSubSet = {k:v for k,v in paramSet.items() if k in ['ex5']}\n",
    "paramSubSet = paramSet"
   ]
  },
  {
   "cell_type": "code",
   "execution_count": 34,
   "metadata": {},
   "outputs": [
    {
     "output_type": "stream",
     "name": "stdout",
     "text": [
      "Parameters: {'solver': 'lbfgs', 'C': 0.0001, 'max_iter': 100}\n",
      "Misclassified examples: 6277\n",
      "Accuracy score: 0.1725547060374374\n",
      "Norm of W: 0.1892975535286359\n",
      "--------------------------------------------------\n",
      "Parameters: {'solver': 'lbfgs', 'C': 0.01, 'max_iter': 100}\n",
      "Misclassified examples: 6135\n",
      "Accuracy score: 0.19127339836540996\n",
      "Norm of W: 1.6030561083983\n",
      "--------------------------------------------------\n",
      "C:\\Users\\nnnpo\\anaconda3\\lib\\site-packages\\sklearn\\linear_model\\_logistic.py:763: ConvergenceWarning: lbfgs failed to converge (status=1):\n",
      "STOP: TOTAL NO. of ITERATIONS REACHED LIMIT.\n",
      "\n",
      "Increase the number of iterations (max_iter) or scale the data as shown in:\n",
      "    https://scikit-learn.org/stable/modules/preprocessing.html\n",
      "Please also refer to the documentation for alternative solver options:\n",
      "    https://scikit-learn.org/stable/modules/linear_model.html#logistic-regression\n",
      "  n_iter_i = _check_optimize_result(\n",
      "Parameters: {'solver': 'lbfgs', 'C': 1, 'max_iter': 100}\n",
      "Misclassified examples: 6136\n",
      "Accuracy score: 0.1911415765884524\n",
      "Norm of W: 3.392935219703626\n",
      "--------------------------------------------------\n",
      "C:\\Users\\nnnpo\\anaconda3\\lib\\site-packages\\sklearn\\linear_model\\_logistic.py:763: ConvergenceWarning: lbfgs failed to converge (status=1):\n",
      "STOP: TOTAL NO. of ITERATIONS REACHED LIMIT.\n",
      "\n",
      "Increase the number of iterations (max_iter) or scale the data as shown in:\n",
      "    https://scikit-learn.org/stable/modules/preprocessing.html\n",
      "Please also refer to the documentation for alternative solver options:\n",
      "    https://scikit-learn.org/stable/modules/linear_model.html#logistic-regression\n",
      "  n_iter_i = _check_optimize_result(\n",
      "Parameters: {'solver': 'lbfgs', 'C': 100, 'max_iter': 100}\n",
      "Misclassified examples: 6129\n",
      "Accuracy score: 0.19206432902715528\n",
      "Norm of W: 3.725998211411197\n",
      "--------------------------------------------------\n",
      "Parameters: {'solver': 'lbfgs', 'C': 10000, 'max_iter': 1000}\n",
      "Misclassified examples: 6115\n",
      "Accuracy score: 0.19390983390456104\n",
      "Norm of W: 15.474381466558418\n",
      "--------------------------------------------------\n",
      "C:\\Users\\nnnpo\\anaconda3\\lib\\site-packages\\sklearn\\linear_model\\_logistic.py:763: ConvergenceWarning: lbfgs failed to converge (status=1):\n",
      "STOP: TOTAL NO. of ITERATIONS REACHED LIMIT.\n",
      "\n",
      "Increase the number of iterations (max_iter) or scale the data as shown in:\n",
      "    https://scikit-learn.org/stable/modules/preprocessing.html\n",
      "Please also refer to the documentation for alternative solver options:\n",
      "    https://scikit-learn.org/stable/modules/linear_model.html#logistic-regression\n",
      "  n_iter_i = _check_optimize_result(\n"
     ]
    }
   ],
   "source": [
    "for paramName, paramValue in paramSubSet.items():\n",
    "    lr = LogisticRegression(\n",
    "        random_state=1,\n",
    "        verbose=0,\n",
    "        solver=paramValue[\"solver\"],\n",
    "        C=paramValue[\"C\"],\n",
    "        max_iter=paramValue[\"max_iter\"],\n",
    "    )\n",
    "\n",
    "    # Training\n",
    "    lr.fit(X_train_std, y_train)\n",
    "\n",
    "    # Prediction\n",
    "    y_pred = lr.predict(X_test_std)\n",
    "\n",
    "    # Misclassification from the test samples\n",
    "    sumMiss = (y_test != y_pred).sum()\n",
    "\n",
    "    # Accuracy score from the test samples\n",
    "    accuracyScore = accuracy_score(y_test, y_pred)\n",
    "\n",
    "    print(f\"Parameters: {paramValue}\")\n",
    "    print(f\"Misclassified examples: {sumMiss}\")\n",
    "    print(f\"Accuracy score: {accuracyScore}\")\n",
    "    print(f\"Norm of W: {np.linalg.norm(lr.coef_)}\")\n",
    "    print(f\"--------------------------------------------------\")"
   ]
  },
  {
   "cell_type": "code",
   "execution_count": null,
   "metadata": {},
   "outputs": [],
   "source": []
  }
 ]
}