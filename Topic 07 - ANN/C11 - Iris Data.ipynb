{
 "cells": [
  {
   "cell_type": "markdown",
   "source": [
    "# Iris dataset"
   ],
   "metadata": {}
  },
  {
   "cell_type": "code",
   "execution_count": 70,
   "source": [
    "import tensorflow as tf\r\n",
    "from sklearn import datasets\r\n",
    "from sklearn.model_selection import train_test_split\r\n",
    "from sklearn.preprocessing import StandardScaler\r\n",
    "import matplotlib.pyplot as plt"
   ],
   "outputs": [],
   "metadata": {}
  },
  {
   "cell_type": "code",
   "execution_count": 71,
   "source": [
    "# Read data\r\n",
    "iris = datasets.load_iris()\r\n",
    "# Extract the last 2 columns\r\n",
    "X = iris.data\r\n",
    "y = iris.target\r\n",
    "# Split data into training and testing data\r\n",
    "X_train, X_test, y_train, y_test = train_test_split(\r\n",
    "    X, y, test_size=0.3, random_state=1, stratify=y\r\n",
    ")\r\n",
    "# Standardization\r\n",
    "sc = StandardScaler()\r\n",
    "sc.fit(X_train)\r\n",
    "#X_train_std = sc.transform(X_train)\r\n",
    "#X_test_std = sc.transform(X_test)\r\n",
    "\r\n",
    "X_train_std = X_train\r\n",
    "X_test_std = X_test"
   ],
   "outputs": [],
   "metadata": {}
  },
  {
   "cell_type": "code",
   "execution_count": 72,
   "source": [
    "tf.keras.backend.clear_session()\r\n",
    "\r\n",
    "model = tf.keras.Sequential([\r\n",
    "    tf.keras.Input(shape=(4,)),\r\n",
    "    tf.keras.layers.Dense(units=16, activation='sigmoid', name='hidden1'),\r\n",
    "    tf.keras.layers.Dense(units=3, name='output', activation='softmax')\r\n",
    "    ])\r\n",
    "\r\n",
    "model.summary()\r\n",
    "\r\n",
    "model.compile(\r\n",
    "    optimizer='adam',\r\n",
    "    loss='sparse_categorical_crossentropy',\r\n",
    "    metrics=['accuracy'])"
   ],
   "outputs": [
    {
     "output_type": "stream",
     "name": "stdout",
     "text": [
      "Model: \"sequential\"\n",
      "_________________________________________________________________\n",
      "Layer (type)                 Output Shape              Param #   \n",
      "=================================================================\n",
      "hidden1 (Dense)              (None, 16)                80        \n",
      "_________________________________________________________________\n",
      "output (Dense)               (None, 3)                 51        \n",
      "=================================================================\n",
      "Total params: 131\n",
      "Trainable params: 131\n",
      "Non-trainable params: 0\n",
      "_________________________________________________________________\n"
     ]
    }
   ],
   "metadata": {}
  },
  {
   "cell_type": "code",
   "execution_count": 73,
   "source": [
    "tf_fit = model.fit(x=X_train, y=y_train,\r\n",
    "        batch_size=16,\r\n",
    "        validation_split=0.1,\r\n",
    "        epochs=100, \r\n",
    "        verbose=1)"
   ],
   "outputs": [
    {
     "output_type": "stream",
     "name": "stdout",
     "text": [
      "Epoch 1/100\n",
      "6/6 [==============================] - 0s 14ms/step - loss: 1.1422 - accuracy: 0.3404 - val_loss: 0.9692 - val_accuracy: 0.2727\n",
      "Epoch 2/100\n",
      "6/6 [==============================] - 0s 2ms/step - loss: 1.1188 - accuracy: 0.3404 - val_loss: 0.9694 - val_accuracy: 0.2727\n",
      "Epoch 3/100\n",
      "6/6 [==============================] - 0s 2ms/step - loss: 1.0990 - accuracy: 0.3404 - val_loss: 0.9732 - val_accuracy: 0.2727\n",
      "Epoch 4/100\n",
      "6/6 [==============================] - 0s 2ms/step - loss: 1.0834 - accuracy: 0.3617 - val_loss: 0.9748 - val_accuracy: 0.3636\n",
      "Epoch 5/100\n",
      "6/6 [==============================] - 0s 2ms/step - loss: 1.0644 - accuracy: 0.3936 - val_loss: 0.9766 - val_accuracy: 0.3636\n",
      "Epoch 6/100\n",
      "6/6 [==============================] - 0s 2ms/step - loss: 1.0513 - accuracy: 0.4574 - val_loss: 0.9776 - val_accuracy: 0.6364\n",
      "Epoch 7/100\n",
      "6/6 [==============================] - 0s 2ms/step - loss: 1.0383 - accuracy: 0.5426 - val_loss: 0.9773 - val_accuracy: 0.8182\n",
      "Epoch 8/100\n",
      "6/6 [==============================] - 0s 2ms/step - loss: 1.0268 - accuracy: 0.5851 - val_loss: 0.9786 - val_accuracy: 0.9091\n",
      "Epoch 9/100\n",
      "6/6 [==============================] - 0s 2ms/step - loss: 1.0151 - accuracy: 0.5957 - val_loss: 0.9749 - val_accuracy: 0.9091\n",
      "Epoch 10/100\n",
      "6/6 [==============================] - 0s 2ms/step - loss: 1.0062 - accuracy: 0.6170 - val_loss: 0.9722 - val_accuracy: 0.9091\n",
      "Epoch 11/100\n",
      "6/6 [==============================] - 0s 2ms/step - loss: 0.9949 - accuracy: 0.6277 - val_loss: 0.9651 - val_accuracy: 0.9091\n",
      "Epoch 12/100\n",
      "6/6 [==============================] - 0s 2ms/step - loss: 0.9862 - accuracy: 0.7128 - val_loss: 0.9625 - val_accuracy: 0.9091\n",
      "Epoch 13/100\n",
      "6/6 [==============================] - 0s 2ms/step - loss: 0.9759 - accuracy: 0.8830 - val_loss: 0.9559 - val_accuracy: 1.0000\n",
      "Epoch 14/100\n",
      "6/6 [==============================] - 0s 2ms/step - loss: 0.9669 - accuracy: 0.9681 - val_loss: 0.9467 - val_accuracy: 0.9091\n",
      "Epoch 15/100\n",
      "6/6 [==============================] - 0s 2ms/step - loss: 0.9574 - accuracy: 0.9149 - val_loss: 0.9372 - val_accuracy: 0.8182\n",
      "Epoch 16/100\n",
      "6/6 [==============================] - 0s 2ms/step - loss: 0.9479 - accuracy: 0.8617 - val_loss: 0.9286 - val_accuracy: 0.8182\n",
      "Epoch 17/100\n",
      "6/6 [==============================] - 0s 2ms/step - loss: 0.9385 - accuracy: 0.7872 - val_loss: 0.9215 - val_accuracy: 0.8182\n",
      "Epoch 18/100\n",
      "6/6 [==============================] - 0s 2ms/step - loss: 0.9291 - accuracy: 0.7660 - val_loss: 0.9102 - val_accuracy: 0.8182\n",
      "Epoch 19/100\n",
      "6/6 [==============================] - 0s 2ms/step - loss: 0.9196 - accuracy: 0.7553 - val_loss: 0.8975 - val_accuracy: 0.8182\n",
      "Epoch 20/100\n",
      "6/6 [==============================] - 0s 2ms/step - loss: 0.9097 - accuracy: 0.7447 - val_loss: 0.8868 - val_accuracy: 0.7273\n",
      "Epoch 21/100\n",
      "6/6 [==============================] - 0s 2ms/step - loss: 0.9004 - accuracy: 0.7128 - val_loss: 0.8734 - val_accuracy: 0.7273\n",
      "Epoch 22/100\n",
      "6/6 [==============================] - 0s 2ms/step - loss: 0.8910 - accuracy: 0.6915 - val_loss: 0.8620 - val_accuracy: 0.7273\n",
      "Epoch 23/100\n",
      "6/6 [==============================] - 0s 2ms/step - loss: 0.8808 - accuracy: 0.6809 - val_loss: 0.8550 - val_accuracy: 0.7273\n",
      "Epoch 24/100\n",
      "6/6 [==============================] - 0s 2ms/step - loss: 0.8712 - accuracy: 0.6809 - val_loss: 0.8429 - val_accuracy: 0.7273\n",
      "Epoch 25/100\n",
      "6/6 [==============================] - 0s 2ms/step - loss: 0.8611 - accuracy: 0.6809 - val_loss: 0.8319 - val_accuracy: 0.7273\n",
      "Epoch 26/100\n",
      "6/6 [==============================] - 0s 2ms/step - loss: 0.8515 - accuracy: 0.6915 - val_loss: 0.8169 - val_accuracy: 0.7273\n",
      "Epoch 27/100\n",
      "6/6 [==============================] - 0s 2ms/step - loss: 0.8415 - accuracy: 0.7128 - val_loss: 0.8031 - val_accuracy: 0.7273\n",
      "Epoch 28/100\n",
      "6/6 [==============================] - 0s 2ms/step - loss: 0.8313 - accuracy: 0.7128 - val_loss: 0.7896 - val_accuracy: 0.7273\n",
      "Epoch 29/100\n",
      "6/6 [==============================] - 0s 2ms/step - loss: 0.8220 - accuracy: 0.7128 - val_loss: 0.7760 - val_accuracy: 0.7273\n",
      "Epoch 30/100\n",
      "6/6 [==============================] - 0s 2ms/step - loss: 0.8123 - accuracy: 0.7128 - val_loss: 0.7596 - val_accuracy: 0.7273\n",
      "Epoch 31/100\n",
      "6/6 [==============================] - 0s 2ms/step - loss: 0.8015 - accuracy: 0.7340 - val_loss: 0.7463 - val_accuracy: 0.7273\n",
      "Epoch 32/100\n",
      "6/6 [==============================] - 0s 2ms/step - loss: 0.7918 - accuracy: 0.7447 - val_loss: 0.7320 - val_accuracy: 0.7273\n",
      "Epoch 33/100\n",
      "6/6 [==============================] - 0s 2ms/step - loss: 0.7817 - accuracy: 0.7447 - val_loss: 0.7186 - val_accuracy: 0.7273\n",
      "Epoch 34/100\n",
      "6/6 [==============================] - 0s 2ms/step - loss: 0.7720 - accuracy: 0.7447 - val_loss: 0.7045 - val_accuracy: 0.7273\n",
      "Epoch 35/100\n",
      "6/6 [==============================] - 0s 2ms/step - loss: 0.7633 - accuracy: 0.7234 - val_loss: 0.6917 - val_accuracy: 0.7273\n",
      "Epoch 36/100\n",
      "6/6 [==============================] - 0s 2ms/step - loss: 0.7530 - accuracy: 0.7447 - val_loss: 0.6798 - val_accuracy: 0.7273\n",
      "Epoch 37/100\n",
      "6/6 [==============================] - 0s 2ms/step - loss: 0.7437 - accuracy: 0.7553 - val_loss: 0.6649 - val_accuracy: 0.7273\n",
      "Epoch 38/100\n",
      "6/6 [==============================] - 0s 2ms/step - loss: 0.7345 - accuracy: 0.7766 - val_loss: 0.6502 - val_accuracy: 0.8182\n",
      "Epoch 39/100\n",
      "6/6 [==============================] - 0s 2ms/step - loss: 0.7254 - accuracy: 0.8191 - val_loss: 0.6369 - val_accuracy: 0.8182\n",
      "Epoch 40/100\n",
      "6/6 [==============================] - 0s 2ms/step - loss: 0.7166 - accuracy: 0.8298 - val_loss: 0.6250 - val_accuracy: 0.8182\n",
      "Epoch 41/100\n",
      "6/6 [==============================] - 0s 2ms/step - loss: 0.7082 - accuracy: 0.8085 - val_loss: 0.6155 - val_accuracy: 0.8182\n",
      "Epoch 42/100\n",
      "6/6 [==============================] - 0s 2ms/step - loss: 0.6995 - accuracy: 0.7766 - val_loss: 0.6047 - val_accuracy: 0.8182\n",
      "Epoch 43/100\n",
      "6/6 [==============================] - 0s 2ms/step - loss: 0.6914 - accuracy: 0.8191 - val_loss: 0.5903 - val_accuracy: 0.8182\n",
      "Epoch 44/100\n",
      "6/6 [==============================] - 0s 2ms/step - loss: 0.6833 - accuracy: 0.8191 - val_loss: 0.5791 - val_accuracy: 0.8182\n",
      "Epoch 45/100\n",
      "6/6 [==============================] - 0s 2ms/step - loss: 0.6755 - accuracy: 0.8191 - val_loss: 0.5677 - val_accuracy: 0.8182\n",
      "Epoch 46/100\n",
      "6/6 [==============================] - 0s 2ms/step - loss: 0.6684 - accuracy: 0.7766 - val_loss: 0.5573 - val_accuracy: 0.8182\n",
      "Epoch 47/100\n",
      "6/6 [==============================] - 0s 2ms/step - loss: 0.6604 - accuracy: 0.7766 - val_loss: 0.5477 - val_accuracy: 0.8182\n",
      "Epoch 48/100\n",
      "6/6 [==============================] - 0s 2ms/step - loss: 0.6535 - accuracy: 0.8191 - val_loss: 0.5354 - val_accuracy: 0.8182\n",
      "Epoch 49/100\n",
      "6/6 [==============================] - 0s 2ms/step - loss: 0.6463 - accuracy: 0.8298 - val_loss: 0.5267 - val_accuracy: 0.8182\n",
      "Epoch 50/100\n",
      "6/6 [==============================] - 0s 2ms/step - loss: 0.6396 - accuracy: 0.8191 - val_loss: 0.5198 - val_accuracy: 0.8182\n",
      "Epoch 51/100\n",
      "6/6 [==============================] - 0s 2ms/step - loss: 0.6336 - accuracy: 0.8191 - val_loss: 0.5097 - val_accuracy: 0.8182\n",
      "Epoch 52/100\n",
      "6/6 [==============================] - 0s 2ms/step - loss: 0.6266 - accuracy: 0.8404 - val_loss: 0.5039 - val_accuracy: 0.8182\n",
      "Epoch 53/100\n",
      "6/6 [==============================] - 0s 2ms/step - loss: 0.6207 - accuracy: 0.8298 - val_loss: 0.4945 - val_accuracy: 0.8182\n",
      "Epoch 54/100\n",
      "6/6 [==============================] - 0s 2ms/step - loss: 0.6145 - accuracy: 0.8404 - val_loss: 0.4890 - val_accuracy: 0.8182\n",
      "Epoch 55/100\n",
      "6/6 [==============================] - 0s 2ms/step - loss: 0.6090 - accuracy: 0.8298 - val_loss: 0.4817 - val_accuracy: 0.8182\n",
      "Epoch 56/100\n",
      "6/6 [==============================] - 0s 2ms/step - loss: 0.6032 - accuracy: 0.8191 - val_loss: 0.4752 - val_accuracy: 0.8182\n",
      "Epoch 57/100\n",
      "6/6 [==============================] - 0s 2ms/step - loss: 0.5980 - accuracy: 0.8298 - val_loss: 0.4675 - val_accuracy: 0.8182\n",
      "Epoch 58/100\n",
      "6/6 [==============================] - 0s 2ms/step - loss: 0.5926 - accuracy: 0.8298 - val_loss: 0.4602 - val_accuracy: 0.8182\n",
      "Epoch 59/100\n",
      "6/6 [==============================] - 0s 2ms/step - loss: 0.5874 - accuracy: 0.8298 - val_loss: 0.4547 - val_accuracy: 0.8182\n",
      "Epoch 60/100\n",
      "6/6 [==============================] - 0s 2ms/step - loss: 0.5824 - accuracy: 0.8404 - val_loss: 0.4484 - val_accuracy: 0.8182\n",
      "Epoch 61/100\n",
      "6/6 [==============================] - 0s 2ms/step - loss: 0.5775 - accuracy: 0.8404 - val_loss: 0.4442 - val_accuracy: 0.8182\n",
      "Epoch 62/100\n",
      "6/6 [==============================] - 0s 2ms/step - loss: 0.5730 - accuracy: 0.8511 - val_loss: 0.4382 - val_accuracy: 0.9091\n",
      "Epoch 63/100\n",
      "6/6 [==============================] - 0s 2ms/step - loss: 0.5681 - accuracy: 0.8723 - val_loss: 0.4325 - val_accuracy: 0.9091\n",
      "Epoch 64/100\n",
      "6/6 [==============================] - 0s 2ms/step - loss: 0.5641 - accuracy: 0.8723 - val_loss: 0.4256 - val_accuracy: 0.9091\n",
      "Epoch 65/100\n",
      "6/6 [==============================] - 0s 2ms/step - loss: 0.5598 - accuracy: 0.8830 - val_loss: 0.4201 - val_accuracy: 0.9091\n",
      "Epoch 66/100\n",
      "6/6 [==============================] - 0s 2ms/step - loss: 0.5552 - accuracy: 0.9043 - val_loss: 0.4172 - val_accuracy: 0.8182\n",
      "Epoch 67/100\n",
      "6/6 [==============================] - 0s 2ms/step - loss: 0.5510 - accuracy: 0.8723 - val_loss: 0.4130 - val_accuracy: 0.8182\n",
      "Epoch 68/100\n",
      "6/6 [==============================] - 0s 2ms/step - loss: 0.5470 - accuracy: 0.8723 - val_loss: 0.4083 - val_accuracy: 0.8182\n",
      "Epoch 69/100\n",
      "6/6 [==============================] - 0s 2ms/step - loss: 0.5431 - accuracy: 0.8723 - val_loss: 0.4046 - val_accuracy: 0.8182\n",
      "Epoch 70/100\n",
      "6/6 [==============================] - 0s 2ms/step - loss: 0.5397 - accuracy: 0.8723 - val_loss: 0.4001 - val_accuracy: 0.9091\n",
      "Epoch 71/100\n",
      "6/6 [==============================] - 0s 2ms/step - loss: 0.5358 - accuracy: 0.8723 - val_loss: 0.3975 - val_accuracy: 0.8182\n",
      "Epoch 72/100\n",
      "6/6 [==============================] - 0s 2ms/step - loss: 0.5326 - accuracy: 0.9043 - val_loss: 0.3923 - val_accuracy: 0.9091\n",
      "Epoch 73/100\n",
      "6/6 [==============================] - 0s 2ms/step - loss: 0.5285 - accuracy: 0.8723 - val_loss: 0.3889 - val_accuracy: 0.9091\n",
      "Epoch 74/100\n",
      "6/6 [==============================] - 0s 2ms/step - loss: 0.5252 - accuracy: 0.9043 - val_loss: 0.3847 - val_accuracy: 0.9091\n",
      "Epoch 75/100\n",
      "6/6 [==============================] - 0s 2ms/step - loss: 0.5227 - accuracy: 0.9362 - val_loss: 0.3788 - val_accuracy: 0.9091\n",
      "Epoch 76/100\n",
      "6/6 [==============================] - 0s 2ms/step - loss: 0.5182 - accuracy: 0.9362 - val_loss: 0.3762 - val_accuracy: 0.9091\n",
      "Epoch 77/100\n",
      "6/6 [==============================] - 0s 2ms/step - loss: 0.5149 - accuracy: 0.9255 - val_loss: 0.3740 - val_accuracy: 0.9091\n",
      "Epoch 78/100\n",
      "6/6 [==============================] - 0s 2ms/step - loss: 0.5117 - accuracy: 0.9255 - val_loss: 0.3716 - val_accuracy: 0.9091\n",
      "Epoch 79/100\n",
      "6/6 [==============================] - 0s 2ms/step - loss: 0.5086 - accuracy: 0.9255 - val_loss: 0.3690 - val_accuracy: 0.9091\n",
      "Epoch 80/100\n",
      "6/6 [==============================] - 0s 2ms/step - loss: 0.5056 - accuracy: 0.9255 - val_loss: 0.3655 - val_accuracy: 0.9091\n",
      "Epoch 81/100\n",
      "6/6 [==============================] - 0s 2ms/step - loss: 0.5026 - accuracy: 0.9255 - val_loss: 0.3618 - val_accuracy: 0.9091\n",
      "Epoch 82/100\n",
      "6/6 [==============================] - 0s 2ms/step - loss: 0.4997 - accuracy: 0.9468 - val_loss: 0.3582 - val_accuracy: 0.9091\n",
      "Epoch 83/100\n",
      "6/6 [==============================] - 0s 2ms/step - loss: 0.4970 - accuracy: 0.9468 - val_loss: 0.3567 - val_accuracy: 0.9091\n",
      "Epoch 84/100\n",
      "6/6 [==============================] - 0s 2ms/step - loss: 0.4939 - accuracy: 0.9362 - val_loss: 0.3534 - val_accuracy: 0.9091\n",
      "Epoch 85/100\n",
      "6/6 [==============================] - 0s 2ms/step - loss: 0.4918 - accuracy: 0.9574 - val_loss: 0.3491 - val_accuracy: 0.9091\n",
      "Epoch 86/100\n",
      "6/6 [==============================] - 0s 2ms/step - loss: 0.4881 - accuracy: 0.9681 - val_loss: 0.3474 - val_accuracy: 0.9091\n",
      "Epoch 87/100\n",
      "6/6 [==============================] - 0s 2ms/step - loss: 0.4855 - accuracy: 0.9681 - val_loss: 0.3461 - val_accuracy: 0.9091\n",
      "Epoch 88/100\n",
      "6/6 [==============================] - 0s 2ms/step - loss: 0.4827 - accuracy: 0.9574 - val_loss: 0.3435 - val_accuracy: 0.9091\n",
      "Epoch 89/100\n",
      "6/6 [==============================] - 0s 2ms/step - loss: 0.4803 - accuracy: 0.9574 - val_loss: 0.3429 - val_accuracy: 0.9091\n",
      "Epoch 90/100\n",
      "6/6 [==============================] - 0s 2ms/step - loss: 0.4775 - accuracy: 0.9468 - val_loss: 0.3402 - val_accuracy: 0.9091\n",
      "Epoch 91/100\n",
      "6/6 [==============================] - 0s 2ms/step - loss: 0.4754 - accuracy: 0.9468 - val_loss: 0.3385 - val_accuracy: 0.9091\n",
      "Epoch 92/100\n",
      "6/6 [==============================] - 0s 2ms/step - loss: 0.4730 - accuracy: 0.9468 - val_loss: 0.3358 - val_accuracy: 0.9091\n",
      "Epoch 93/100\n",
      "6/6 [==============================] - 0s 2ms/step - loss: 0.4702 - accuracy: 0.9574 - val_loss: 0.3320 - val_accuracy: 0.9091\n",
      "Epoch 94/100\n",
      "6/6 [==============================] - 0s 2ms/step - loss: 0.4674 - accuracy: 0.9681 - val_loss: 0.3300 - val_accuracy: 0.9091\n",
      "Epoch 95/100\n",
      "6/6 [==============================] - 0s 2ms/step - loss: 0.4652 - accuracy: 0.9681 - val_loss: 0.3274 - val_accuracy: 0.9091\n",
      "Epoch 96/100\n",
      "6/6 [==============================] - 0s 2ms/step - loss: 0.4627 - accuracy: 0.9681 - val_loss: 0.3262 - val_accuracy: 0.9091\n",
      "Epoch 97/100\n",
      "6/6 [==============================] - 0s 2ms/step - loss: 0.4603 - accuracy: 0.9681 - val_loss: 0.3249 - val_accuracy: 0.9091\n",
      "Epoch 98/100\n",
      "6/6 [==============================] - 0s 2ms/step - loss: 0.4586 - accuracy: 0.9681 - val_loss: 0.3214 - val_accuracy: 0.9091\n",
      "Epoch 99/100\n",
      "6/6 [==============================] - 0s 2ms/step - loss: 0.4561 - accuracy: 0.9681 - val_loss: 0.3209 - val_accuracy: 0.9091\n",
      "Epoch 100/100\n",
      "6/6 [==============================] - 0s 2ms/step - loss: 0.4538 - accuracy: 0.9681 - val_loss: 0.3207 - val_accuracy: 0.9091\n"
     ]
    }
   ],
   "metadata": {}
  },
  {
   "cell_type": "code",
   "execution_count": 74,
   "source": [
    "for key, val in tf_fit.history.items():\r\n",
    "    print( f'{key:20s}: {[ f\"{i:3.2f}\" for i in val[:5]]}')"
   ],
   "outputs": [
    {
     "output_type": "stream",
     "name": "stdout",
     "text": [
      "loss                : ['1.14', '1.12', '1.10', '1.08', '1.06']\n",
      "accuracy            : ['0.34', '0.34', '0.34', '0.36', '0.39']\n",
      "val_loss            : ['0.97', '0.97', '0.97', '0.97', '0.98']\n",
      "val_accuracy        : ['0.27', '0.27', '0.27', '0.36', '0.36']\n"
     ]
    }
   ],
   "metadata": {}
  },
  {
   "cell_type": "code",
   "execution_count": 75,
   "source": [
    "hist = tf_fit.history\r\n",
    "\r\n",
    "fig = plt.figure(figsize=(12, 5))\r\n",
    "ax = fig.add_subplot(1, 2, 1)\r\n",
    "ax.plot(hist['loss'], lw=3)\r\n",
    "ax.plot(hist['val_loss'], lw=3)\r\n",
    "ax.set_title('Training loss', size=15)\r\n",
    "ax.set_xlabel('Epoch', size=15)\r\n",
    "ax.tick_params(axis='both', which='major', labelsize=15)\r\n",
    "ax.legend(['train','val'])\r\n",
    "\r\n",
    "ax = fig.add_subplot(1, 2, 2)\r\n",
    "ax.plot(hist['accuracy'], lw=3)\r\n",
    "ax.plot(hist['val_accuracy'], lw=3)\r\n",
    "ax.set_title('Training accuracy', size=15)\r\n",
    "ax.set_xlabel('Epoch', size=15)\r\n",
    "ax.tick_params(axis='both', which='major', labelsize=15)\r\n",
    "plt.tight_layout()\r\n",
    "ax.legend(['train','val'])"
   ],
   "outputs": [
    {
     "output_type": "execute_result",
     "data": {
      "text/plain": [
       "<matplotlib.legend.Legend at 0x216ad3989a0>"
      ]
     },
     "metadata": {},
     "execution_count": 75
    },
    {
     "output_type": "display_data",
     "data": {
      "image/png": "[encoded data removed]",
      "text/plain": [
       "<Figure size 864x360 with 2 Axes>"
      ]
     },
     "metadata": {
      "needs_background": "light"
     }
    }
   ],
   "metadata": {}
  },
  {
   "cell_type": "code",
   "execution_count": 76,
   "source": [
    "results = model.evaluate(X_test, y_test, verbose=0)\r\n",
    "print(f'Test loss: {results[0]:.4f}   Test Acc.: {results[1]:.4f}')"
   ],
   "outputs": [
    {
     "output_type": "stream",
     "name": "stdout",
     "text": [
      "Test loss: 0.4426   Test Acc.: 0.9778\n"
     ]
    }
   ],
   "metadata": {}
  },
  {
   "cell_type": "code",
   "execution_count": 77,
   "source": [
    "y_hat = model(X_test[:3])\r\n",
    "print(y_hat.numpy())"
   ],
   "outputs": [
    {
     "output_type": "stream",
     "name": "stdout",
     "text": [
      "[[0.01729835 0.38744858 0.59525305]\n",
      " [0.9072625  0.07944561 0.01329188]\n",
      " [0.89485395 0.08978037 0.01536569]]\n"
     ]
    }
   ],
   "metadata": {}
  },
  {
   "cell_type": "code",
   "execution_count": 78,
   "source": [
    "yp = y_hat.numpy()[0]\r\n",
    "xp = list(range(yp.shape[0]))\r\n",
    "plt.bar(xp, yp)\r\n",
    "plt.title('Softmax Values')\r\n",
    "plt.show()"
   ],
   "outputs": [
    {
     "output_type": "display_data",
     "data": {
      "image/png": "[encoded data removed]",
      "text/plain": [
       "<Figure size 432x288 with 1 Axes>"
      ]
     },
     "metadata": {
      "needs_background": "light"
     }
    }
   ],
   "metadata": {}
  }
 ],
 "metadata": {
  "orig_nbformat": 4,
  "language_info": {
   "name": "python",
   "version": "3.8.0",
   "mimetype": "text/x-python",
   "codemirror_mode": {
    "name": "ipython",
    "version": 3
   },
   "pygments_lexer": "ipython3",
   "nbconvert_exporter": "python",
   "file_extension": ".py"
  },
  "kernelspec": {
   "name": "python3",
   "display_name": "Python 3.8.0 64-bit ('tf': conda)"
  },
  "interpreter": {
   "hash": "b4a387497f54fd22d04ab06f3cac2b317ccdf5aa3fbc31422dd91bb954740c85"
  }
 },
 "nbformat": 4,
 "nbformat_minor": 2
}