{
 "cells": [
  {
   "cell_type": "code",
   "execution_count": 1,
   "source": [
    "import pandas as pd\n",
    "import numpy as np\n",
    "from sklearn.model_selection import train_test_split\n",
    "from sklearn.preprocessing import StandardScaler\n",
    "from sklearn.datasets import load_wine\n",
    "import matplotlib.pyplot as plt\n",
    "\n",
    "#Load data\n",
    "dataObj = load_wine()\n",
    "X = dataObj.data\n",
    "y = dataObj.target\n",
    "\n",
    "# Create DataFrame with features\n",
    "dfori = pd.DataFrame(X)\n",
    "dfori.columns = dataObj.feature_names\n",
    "\n",
    "# Add class column\n",
    "dfori.insert(loc=0, column=\"Class\", value=y)\n",
    "\n",
    "#Filter class 0 and 1\n",
    "filt = (dfori['Class'] == 0) | (dfori['Class'] == 1)\n",
    "df = dfori.loc[filt]\n",
    "\n",
    "# Extract two features \n",
    "X = df[['alcohol','malic_acid']].values\n",
    "y = df['Class'].values\n",
    "\n",
    "# Split data\n",
    "X_train, X_test, y_train, y_test = train_test_split(X, y, test_size=0.4, random_state=1, stratify=y)"
   ],
   "outputs": [],
   "metadata": {}
  },
  {
   "cell_type": "code",
   "execution_count": 6,
   "source": [
    "from sklearn.metrics import accuracy_score, precision_score ,recall_score, f1_score\n",
    "\n",
    "def calc_score(y_true, y_pred):\n",
    "    ACC = accuracy_score(y_true=y_true, y_pred=y_pred)\n",
    "    PRE = precision_score(y_true=y_true, y_pred=y_pred, zero_division=1)\n",
    "    REC = recall_score(y_true=y_true, y_pred=y_pred, zero_division=1)\n",
    "    F1 = f1_score(y_true=y_true, y_pred=y_pred, zero_division=1)\n",
    "    # print(f\"ACC:{ACC:6.3f} PRE:{PRE:6.3f} REC:{REC:6.3f} F1:{REC:6.3f}\")\n",
    "    return (ACC, PRE, REC, F1)"
   ],
   "outputs": [],
   "metadata": {}
  },
  {
   "cell_type": "code",
   "execution_count": 7,
   "source": [
    "# gradient boosting for classification in scikit-learn\n",
    "from numpy import mean\n",
    "from numpy import std\n",
    "from sklearn.datasets import make_classification\n",
    "from sklearn.ensemble import GradientBoostingClassifier\n",
    "from sklearn.tree import DecisionTreeClassifier\n",
    "from sklearn.model_selection import cross_val_score\n",
    "from sklearn.model_selection import RepeatedStratifiedKFold"
   ],
   "outputs": [],
   "metadata": {}
  },
  {
   "cell_type": "code",
   "execution_count": 20,
   "source": [
    "from sklearn.ensemble import GradientBoostingClassifier\n",
    "from xgboost import XGBClassifier\n",
    "\n",
    "base = DecisionTreeClassifier(criterion='entropy', \n",
    "                              max_depth=1,\n",
    "                              random_state=1)\n",
    "\n",
    "#clf = GradientBoostingClassifier()\n",
    "clf = XGBClassifier(use_label_encoder=False)\n",
    "\n",
    "clf.fit(X_train, y_train)\n",
    "\n",
    "y_train_pred = clf.predict(X_train)\n",
    "\n",
    "y_test_pred = clf.predict(X_test)\n",
    "\n"
   ],
   "outputs": [
    {
     "output_type": "stream",
     "name": "stdout",
     "text": [
      "[11:01:20] WARNING: /tmp/build/80754af9/xgboost-split_1619724447847/work/src/learner.cc:1061: Starting in XGBoost 1.3.0, the default evaluation metric used with the objective 'binary:logistic' was changed from 'error' to 'logloss'. Explicitly set eval_metric if you'd like to restore the old behavior.\n"
     ]
    }
   ],
   "metadata": {}
  },
  {
   "cell_type": "code",
   "execution_count": 19,
   "source": [
    "df2 = pd.DataFrame()\n",
    "\n",
    "names = ['ada (train)', 'ada (test)']\n",
    "y_trues = [y_train, y_test]\n",
    "y_preds = [y_train_pred, y_test_pred]\n",
    "\n",
    "for y_true, y_pred, name in zip(y_trues, y_preds, names):\n",
    "\n",
    "    ACC, PRE, REC, F1 = calc_score(y_true, y_pred)\n",
    "    data = {'clf': name,\n",
    "            'ACC': f\"{ACC:6.3f}\" ,\n",
    "            'PRE': f\"{PRE:6.3f}\" ,\n",
    "            'REC': f\"{REC:6.3f}\" ,\n",
    "            'F1': f\"{F1:6.3f}\"}\n",
    "    df2 = df2.append(data, ignore_index=True)\n",
    "    \n",
    "df2 = df2.set_index([\"clf\"])\n",
    "display(df2)"
   ],
   "outputs": [
    {
     "output_type": "display_data",
     "data": {
      "text/html": [
       "<div>\n",
       "<style scoped>\n",
       "    .dataframe tbody tr th:only-of-type {\n",
       "        vertical-align: middle;\n",
       "    }\n",
       "\n",
       "    .dataframe tbody tr th {\n",
       "        vertical-align: top;\n",
       "    }\n",
       "\n",
       "    .dataframe thead th {\n",
       "        text-align: right;\n",
       "    }\n",
       "</style>\n",
       "<table border=\"1\" class=\"dataframe\">\n",
       "  <thead>\n",
       "    <tr style=\"text-align: right;\">\n",
       "      <th></th>\n",
       "      <th>ACC</th>\n",
       "      <th>F1</th>\n",
       "      <th>PRE</th>\n",
       "      <th>REC</th>\n",
       "    </tr>\n",
       "    <tr>\n",
       "      <th>clf</th>\n",
       "      <th></th>\n",
       "      <th></th>\n",
       "      <th></th>\n",
       "      <th></th>\n",
       "    </tr>\n",
       "  </thead>\n",
       "  <tbody>\n",
       "    <tr>\n",
       "      <th>ada (train)</th>\n",
       "      <td>0.974</td>\n",
       "      <td>0.976</td>\n",
       "      <td>1.000</td>\n",
       "      <td>0.953</td>\n",
       "    </tr>\n",
       "    <tr>\n",
       "      <th>ada (test)</th>\n",
       "      <td>0.904</td>\n",
       "      <td>0.906</td>\n",
       "      <td>0.960</td>\n",
       "      <td>0.857</td>\n",
       "    </tr>\n",
       "  </tbody>\n",
       "</table>\n",
       "</div>"
      ],
      "text/plain": [
       "                ACC      F1     PRE     REC\n",
       "clf                                        \n",
       "ada (train)   0.974   0.976   1.000   0.953\n",
       "ada (test)    0.904   0.906   0.960   0.857"
      ]
     },
     "metadata": {}
    }
   ],
   "metadata": {}
  },
  {
   "cell_type": "code",
   "execution_count": null,
   "source": [],
   "outputs": [],
   "metadata": {}
  }
 ],
 "metadata": {
  "orig_nbformat": 4,
  "language_info": {
   "name": "python",
   "version": "3.8.8",
   "mimetype": "text/x-python",
   "codemirror_mode": {
    "name": "ipython",
    "version": 3
   },
   "pygments_lexer": "ipython3",
   "nbconvert_exporter": "python",
   "file_extension": ".py"
  },
  "kernelspec": {
   "name": "python3",
   "display_name": "Python 3.8.8 64-bit ('base': conda)"
  },
  "interpreter": {
   "hash": "44cfd549216d83088fe60783a751b73ec1b18bc6a03494afd4c2d311310c0619"
  }
 },
 "nbformat": 4,
 "nbformat_minor": 2
}