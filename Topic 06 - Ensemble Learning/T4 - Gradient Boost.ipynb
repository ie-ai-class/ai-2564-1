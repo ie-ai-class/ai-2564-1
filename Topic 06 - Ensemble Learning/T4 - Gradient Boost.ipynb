{
 "cells": [
  {
   "cell_type": "markdown",
   "source": [
    "- conda install -c conda-forge lightgbm xgboost catboost"
   ],
   "metadata": {}
  },
  {
   "cell_type": "code",
   "execution_count": 1,
   "source": [
    "import pandas as pd\n",
    "import numpy as np\n",
    "from sklearn.model_selection import train_test_split\n",
    "from sklearn.datasets import load_wine\n",
    "from sklearn.model_selection import cross_validate\n",
    "import matplotlib.pyplot as plt\n",
    "\n",
    "#Load data\n",
    "dataObj = load_wine()\n",
    "X = dataObj.data\n",
    "y = dataObj.target\n",
    "\n",
    "# Create DataFrame with features\n",
    "dfori = pd.DataFrame(X)\n",
    "dfori.columns = dataObj.feature_names\n",
    "\n",
    "# Add class column\n",
    "dfori.insert(loc=0, column=\"Class\", value=y)\n",
    "\n",
    "#Filter class 0 and 1\n",
    "filt = (dfori['Class'] == 0) | (dfori['Class'] == 1)\n",
    "df = dfori.loc[filt]\n",
    "\n",
    "# Extract two features \n",
    "X = df[['alcohol','malic_acid']].values\n",
    "y = df['Class'].values\n",
    "\n",
    "# Split data\n",
    "X_train, X_test, y_train, y_test = train_test_split(X, y, test_size=0.4, random_state=1, stratify=y)"
   ],
   "outputs": [],
   "metadata": {}
  },
  {
   "cell_type": "code",
   "execution_count": 2,
   "source": [
    "from sklearn.metrics import accuracy_score, precision_score ,recall_score, f1_score\n",
    "\n",
    "def calc_score(y_true, y_pred):\n",
    "    ACC = accuracy_score(y_true=y_true, y_pred=y_pred)\n",
    "    PRE = precision_score(y_true=y_true, y_pred=y_pred, zero_division=1)\n",
    "    REC = recall_score(y_true=y_true, y_pred=y_pred, zero_division=1)\n",
    "    F1 = f1_score(y_true=y_true, y_pred=y_pred, zero_division=1)\n",
    "    # print(f\"ACC:{ACC:6.3f} PRE:{PRE:6.3f} REC:{REC:6.3f} F1:{REC:6.3f}\")\n",
    "    return (ACC, PRE, REC, F1)"
   ],
   "outputs": [],
   "metadata": {}
  },
  {
   "cell_type": "code",
   "execution_count": 5,
   "source": [
    "from sklearn.tree import DecisionTreeClassifier\n",
    "from sklearn.ensemble import AdaBoostClassifier\n",
    "from sklearn.ensemble import GradientBoostingClassifier\n",
    "from xgboost import XGBClassifier\n",
    "from lightgbm import LGBMClassifier\n",
    "from catboost import CatBoostClassifier\n"
   ],
   "outputs": [],
   "metadata": {}
  },
  {
   "cell_type": "code",
   "execution_count": 9,
   "source": [
    "base = DecisionTreeClassifier(criterion='entropy', \n",
    "                              max_depth=1,\n",
    "                              random_state=1)\n",
    "ada = AdaBoostClassifier(base_estimator=base,\n",
    "                         n_estimators=100, \n",
    "                         learning_rate=0.1,\n",
    "                         random_state=1)\n",
    "\n",
    "gbm = GradientBoostingClassifier()\n",
    "xgb = XGBClassifier(eval_metric=\"logloss\", use_label_encoder=False)\n",
    "lgb = LGBMClassifier()\n",
    "cat = CatBoostClassifier(verbose=0, n_estimators=100)\n",
    "\n",
    "classifiers = [\n",
    "    {'name':'Adaboost','clf':ada},\n",
    "    {'name':'Gradient Boost','clf':gbm},\n",
    "    {'name':'XGBoost','clf':xgb},\n",
    "    {'name':'Light GBM','clf':lgb},\n",
    "    {'name':'CatBoost','clf':cat}\n",
    "    ]"
   ],
   "outputs": [],
   "metadata": {}
  },
  {
   "cell_type": "code",
   "execution_count": 17,
   "source": [
    "dfTemp = pd.DataFrame()\n",
    "\n",
    "for classifier in classifiers:\n",
    "    name = classifier['name']\n",
    "    clf = classifier['clf']\n",
    "\n",
    "    scores = cross_validate(estimator=clf,\n",
    "                            X=X_train,\n",
    "                            y=y_train,\n",
    "                            cv=10,\n",
    "                            scoring=['accuracy','precision','recall','f1'],\n",
    "                            n_jobs=-1)\n",
    "\n",
    "    scoreTypes = ['test_accuracy','test_precision','test_recall','test_f1']    \n",
    "    data = {}\n",
    "    for scoreType in scoreTypes:\n",
    "        scoreArray = scores[scoreType]\n",
    "        scoreMean = np.mean(scoreArray)\n",
    "        data['clf'] = name\n",
    "        data[scoreType] = f\"{scoreMean:6.3f}\"\n",
    "    dfTemp = dfTemp.append(data, ignore_index=True)\n",
    "\n",
    "display(dfTemp)"
   ],
   "outputs": [
    {
     "output_type": "display_data",
     "data": {
      "text/html": [
       "<div>\n",
       "<style scoped>\n",
       "    .dataframe tbody tr th:only-of-type {\n",
       "        vertical-align: middle;\n",
       "    }\n",
       "\n",
       "    .dataframe tbody tr th {\n",
       "        vertical-align: top;\n",
       "    }\n",
       "\n",
       "    .dataframe thead th {\n",
       "        text-align: right;\n",
       "    }\n",
       "</style>\n",
       "<table border=\"1\" class=\"dataframe\">\n",
       "  <thead>\n",
       "    <tr style=\"text-align: right;\">\n",
       "      <th></th>\n",
       "      <th>clf</th>\n",
       "      <th>test_accuracy</th>\n",
       "      <th>test_f1</th>\n",
       "      <th>test_precision</th>\n",
       "      <th>test_recall</th>\n",
       "    </tr>\n",
       "  </thead>\n",
       "  <tbody>\n",
       "    <tr>\n",
       "      <th>0</th>\n",
       "      <td>Adaboost</td>\n",
       "      <td>0.861</td>\n",
       "      <td>0.873</td>\n",
       "      <td>0.882</td>\n",
       "      <td>0.885</td>\n",
       "    </tr>\n",
       "    <tr>\n",
       "      <th>1</th>\n",
       "      <td>Gradient Boost</td>\n",
       "      <td>0.861</td>\n",
       "      <td>0.873</td>\n",
       "      <td>0.877</td>\n",
       "      <td>0.885</td>\n",
       "    </tr>\n",
       "    <tr>\n",
       "      <th>2</th>\n",
       "      <td>XGBoost</td>\n",
       "      <td>0.911</td>\n",
       "      <td>0.913</td>\n",
       "      <td>0.930</td>\n",
       "      <td>0.905</td>\n",
       "    </tr>\n",
       "    <tr>\n",
       "      <th>3</th>\n",
       "      <td>Light GBM</td>\n",
       "      <td>0.898</td>\n",
       "      <td>0.904</td>\n",
       "      <td>0.922</td>\n",
       "      <td>0.905</td>\n",
       "    </tr>\n",
       "    <tr>\n",
       "      <th>4</th>\n",
       "      <td>CatBoost</td>\n",
       "      <td>0.911</td>\n",
       "      <td>0.913</td>\n",
       "      <td>0.950</td>\n",
       "      <td>0.885</td>\n",
       "    </tr>\n",
       "  </tbody>\n",
       "</table>\n",
       "</div>"
      ],
      "text/plain": [
       "              clf test_accuracy test_f1 test_precision test_recall\n",
       "0        Adaboost         0.861   0.873          0.882       0.885\n",
       "1  Gradient Boost         0.861   0.873          0.877       0.885\n",
       "2         XGBoost         0.911   0.913          0.930       0.905\n",
       "3       Light GBM         0.898   0.904          0.922       0.905\n",
       "4        CatBoost         0.911   0.913          0.950       0.885"
      ]
     },
     "metadata": {}
    }
   ],
   "metadata": {}
  },
  {
   "cell_type": "code",
   "execution_count": null,
   "source": [
    "clf.fit(X_train, y_train)\n",
    "y_train_pred = clf.predict(X_train)\n",
    "y_test_pred = clf.predict(X_test)"
   ],
   "outputs": [],
   "metadata": {}
  },
  {
   "cell_type": "code",
   "execution_count": null,
   "source": [
    "df2 = pd.DataFrame()\n",
    "\n",
    "names = ['ada (train)', 'ada (test)']\n",
    "y_trues = [y_train, y_test]\n",
    "y_preds = [y_train_pred, y_test_pred]\n",
    "\n",
    "for y_true, y_pred, name in zip(y_trues, y_preds, names):\n",
    "\n",
    "    ACC, PRE, REC, F1 = calc_score(y_true, y_pred)\n",
    "    data = {'clf': name,\n",
    "            'ACC': f\"{ACC:6.3f}\" ,\n",
    "            'PRE': f\"{PRE:6.3f}\" ,\n",
    "            'REC': f\"{REC:6.3f}\" ,\n",
    "            'F1': f\"{F1:6.3f}\"}\n",
    "    df2 = df2.append(data, ignore_index=True)\n",
    "    \n",
    "df2 = df2.set_index([\"clf\"])\n",
    "display(df2)"
   ],
   "outputs": [],
   "metadata": {}
  },
  {
   "cell_type": "code",
   "execution_count": null,
   "source": [],
   "outputs": [],
   "metadata": {}
  }
 ],
 "metadata": {
  "orig_nbformat": 4,
  "language_info": {
   "name": "python",
   "version": "3.8.8",
   "mimetype": "text/x-python",
   "codemirror_mode": {
    "name": "ipython",
    "version": 3
   },
   "pygments_lexer": "ipython3",
   "nbconvert_exporter": "python",
   "file_extension": ".py"
  },
  "kernelspec": {
   "name": "python3",
   "display_name": "Python 3.8.8 64-bit ('base': conda)"
  },
  "interpreter": {
   "hash": "44cfd549216d83088fe60783a751b73ec1b18bc6a03494afd4c2d311310c0619"
  }
 },
 "nbformat": 4,
 "nbformat_minor": 2
}